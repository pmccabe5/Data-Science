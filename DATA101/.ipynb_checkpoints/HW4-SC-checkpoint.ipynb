{
 "cells": [
  {
   "cell_type": "markdown",
   "metadata": {
    "nbgrader": {
     "grade": false,
     "grade_id": "q3_prompt",
     "locked": true,
     "schema_version": 1,
     "solution": false
    },
    "state": "normal"
   },
   "source": [
    "# Question 1\n",
    "\n",
    "In this question, we'll explore the basics of using NumPy arrays. We'll also start using functions as they were intended: incremental building blocks to simplify a larger task. This means the solution to each part may be used in future parts.\n",
    "\n",
    "Remember: when using a solution you wrote from a previous part, you **DO NOT** need to copy it from its original cell into the cell you're currently working on! By having clicked the \"Play\" (Run) button on the cell with the code you want to use, you've essentially \"saved\" it into Python, so all you have to do is call it like you would any other function; no need to copy/paste it!"
   ]
  },
  {
   "cell_type": "markdown",
   "metadata": {
    "nbgrader": {
     "grade": false,
     "grade_id": "q3a_prompt",
     "locked": true,
     "schema_version": 1,
     "solution": false
    },
    "state": "normal"
   },
   "source": [
    "### Part A\n",
    "\n",
    "NumPy arrays are wonderful improvements over native Python lists for many reasons, the biggest of which is its ability to perform \"vectorized\" operations over entire arrays without having to write loops.\n",
    "\n",
    "Write a function which takes two NumPy arrays as arguments and returns their difference (in order of the arguments themselves; if you're getting an `AssertionError`, try flipping the ordering of the arguments in your function).\n",
    "\n",
    "Your function should:\n",
    "\n",
    " - be named `difference`\n",
    " - take two arguments: both NumPy arrays of floats\n",
    " - return 1 NumPy array, containing the element-wise difference of the two vectors (second array from first array).\n",
    " \n",
    "You will need to check if the arrays are the same length; if not, raise a `ValueError`.\n",
    "\n",
    "You cannot use any loops, built-in functions, or NumPy functions."
   ]
  },
  {
   "cell_type": "code",
   "execution_count": null,
   "metadata": {
    "deletable": false,
    "id": "1_0_1_G",
    "nbgrader": {
     "grade": false,
     "grade_id": "q3a",
     "locked": false,
     "schema_version": 1,
     "solution": true
    },
    "starter_code": "",
    "state": "graded"
   },
   "outputs": [],
   "source": []
  },
  {
   "cell_type": "code",
   "execution_count": 2,
   "metadata": {
    "deletable": false,
    "editable": false,
    "id": "sharp_ran",
    "nbgrader": {
     "grade": true,
     "grade_id": "q3a_test1",
     "locked": true,
     "points": 5,
     "schema_version": 1,
     "solution": false
    },
    "state": "read_only"
   },
   "outputs": [],
   "source": [
    "import numpy as np\n",
    "\n",
    "np.random.seed(578435)\n",
    "x11 = np.random.random(10)\n",
    "x12 = np.random.random(10)\n",
    "d1 = np.array([ 0.24542374,  0.19098998,  0.20645088,  0.49097139, -0.56594091,\n",
    "       -0.13363814,  0.46859546, -0.32476466, -0.35938731,  0.17459786])\n",
    "difference(x11, x12)\n",
    "np.testing.assert_allclose(d1, difference(x11, x12))"
   ]
  },
  {
   "cell_type": "code",
   "execution_count": 3,
   "metadata": {
    "deletable": false,
    "editable": false,
    "id": "aged_ullr",
    "nbgrader": {
     "grade": true,
     "grade_id": "q3a_test2",
     "locked": true,
     "points": 5,
     "schema_version": 1,
     "solution": false
    },
    "state": "read_only"
   },
   "outputs": [],
   "source": [
    "np.random.seed(85743)\n",
    "x21 = np.random.random(20)\n",
    "x22 = np.random.random(20)\n",
    "d2 = np.array([-0.17964925, -0.57573602,  0.00109792, -0.06535934,  0.51321497,\n",
    "        0.63854404, -0.17318834,  0.05553455,  0.08780665, -0.12503945,\n",
    "        0.08794238, -0.53157235, -0.1133253 ,  0.34861933,  0.67987286,\n",
    "        0.01188672,  0.2099561 , -0.40800005, -0.28166673, -0.35814679])\n",
    "np.testing.assert_allclose(d2, difference(x21, x22), rtol = 1e-05)"
   ]
  },
  {
   "cell_type": "code",
   "execution_count": null,
   "metadata": {
    "deletable": false,
    "editable": false,
    "id": "apt_oor",
    "nbgrader": {
     "grade": true,
     "grade_id": "q3a_test3",
     "locked": true,
     "points": 5,
     "schema_version": 1,
     "solution": false
    },
    "state": "read_only"
   },
   "outputs": [],
   "source": [
    "try:\n",
    "    difference(np.array([1, 2, 3]), np.array([4, 5, 6, 7]))\n",
    "except ValueError:\n",
    "    assert True\n",
    "else:\n",
    "    assert False"
   ]
  },
  {
   "cell_type": "markdown",
   "metadata": {
    "nbgrader": {
     "grade": false,
     "grade_id": "q3b_prompt",
     "locked": true,
     "schema_version": 1,
     "solution": false
    },
    "state": "normal"
   },
   "source": [
    "### Part B\n",
    "\n",
    "Write a function which takes a NumPy array and returns another NumPy array with all its elements squared.\n",
    "\n",
    "Your function should:\n",
    "\n",
    " - be named `squares`\n",
    " - take 1 argument: a NumPy array\n",
    " - return 1 value: a NumPy array where each element is the squared version of the input array\n",
    " \n",
    "You cannot use any loops, built-in functions, or NumPy functions."
   ]
  },
  {
   "cell_type": "code",
   "execution_count": null,
   "metadata": {
    "deletable": false,
    "id": "1_0_2_G",
    "nbgrader": {
     "grade": false,
     "grade_id": "q3b",
     "locked": false,
     "schema_version": 1,
     "solution": true
    },
    "starter_code": "",
    "state": "graded"
   },
   "outputs": [],
   "source": []
  },
  {
   "cell_type": "code",
   "execution_count": 5,
   "metadata": {
    "deletable": false,
    "editable": false,
    "id": "green_mimir",
    "nbgrader": {
     "grade": true,
     "grade_id": "q3b_test1",
     "locked": true,
     "points": 5,
     "schema_version": 1,
     "solution": false
    },
    "state": "read_only"
   },
   "outputs": [],
   "source": [
    "import numpy as np\n",
    "\n",
    "np.random.seed(13735)\n",
    "x1 = np.random.random(10)\n",
    "y1 = np.array([ 0.10729775,  0.01234453,  0.37878359,  0.12131263,  0.89916465,\n",
    "        0.50676134,  0.9927178 ,  0.20673811,  0.88873398,  0.09033156])\n",
    "np.testing.assert_allclose(y1, squares(x1), rtol = 1e-06)"
   ]
  },
  {
   "cell_type": "code",
   "execution_count": 6,
   "metadata": {
    "deletable": false,
    "editable": false,
    "id": "gray_vali",
    "nbgrader": {
     "grade": true,
     "grade_id": "q3b_test2",
     "locked": true,
     "points": 5,
     "schema_version": 1,
     "solution": false
    },
    "state": "read_only"
   },
   "outputs": [],
   "source": [
    "np.random.seed(7853)\n",
    "x2 = np.random.random(35)\n",
    "y2 = np.array([  7.70558043e-02,   1.85146792e-01,   6.98666869e-01,\n",
    "         9.93510847e-02,   1.94026134e-01,   8.43335268e-02,\n",
    "         1.84097846e-04,   3.74604155e-03,   7.52840504e-03,\n",
    "         9.34739871e-01,   3.15736597e-01,   6.73512540e-02,\n",
    "         9.61011706e-02,   7.99394100e-01,   2.18175433e-01,\n",
    "         4.87808337e-01,   5.36032332e-01,   3.26047002e-01,\n",
    "         8.86429452e-02,   5.66360150e-01,   9.06164054e-01,\n",
    "         1.73105310e-01,   5.02681242e-01,   3.07929118e-01,\n",
    "         7.08507520e-01,   4.95455022e-02,   9.89891434e-02,\n",
    "         8.94874125e-02,   4.56261817e-01,   9.46454001e-01,\n",
    "         2.62274636e-01,   1.79655411e-01,   3.81695141e-01,\n",
    "         5.66890651e-01,   8.03936029e-01])\n",
    "np.testing.assert_allclose(y2, squares(x2))"
   ]
  },
  {
   "cell_type": "markdown",
   "metadata": {
    "nbgrader": {
     "grade": false,
     "grade_id": "q3c_prompt",
     "locked": true,
     "schema_version": 1,
     "solution": false
    },
    "state": "normal"
   },
   "source": [
    "### Part C\n",
    "\n",
    "Write a function which computes the sum of the elements of a NumPy array.\n",
    "\n",
    "Your function should:\n",
    "\n",
    " - be named `sum_of_elements`\n",
    " - take 1 argument: a NumPy array\n",
    " - return 1 floating-point value: the sum of the elements in the NumPy array\n",
    " \n",
    "You cannot use any loops, but you **can** use the `numpy.sum` function. Do not forget that you need to `import numpy` before using its methods."
   ]
  },
  {
   "cell_type": "code",
   "execution_count": null,
   "metadata": {
    "deletable": false,
    "id": "1_0_3_G",
    "nbgrader": {
     "grade": false,
     "grade_id": "q3c",
     "locked": false,
     "schema_version": 1,
     "solution": true
    },
    "starter_code": "import numpy as np",
    "state": "graded"
   },
   "outputs": [],
   "source": [
    "import numpy as np"
   ]
  },
  {
   "cell_type": "code",
   "execution_count": null,
   "metadata": {
    "deletable": false,
    "editable": false,
    "id": "able_saga",
    "nbgrader": {
     "grade": true,
     "grade_id": "q3c_test1",
     "locked": true,
     "points": 5,
     "schema_version": 1,
     "solution": false
    },
    "state": "read_only"
   },
   "outputs": [],
   "source": [
    "import numpy as np\n",
    "\n",
    "np.random.seed(7631)\n",
    "x1 = np.random.random(483)\n",
    "s1 = 233.48919473752667\n",
    "np.testing.assert_allclose(s1, sum_of_elements(x1))"
   ]
  },
  {
   "cell_type": "code",
   "execution_count": null,
   "metadata": {
    "deletable": false,
    "editable": false,
    "id": "apt_var",
    "nbgrader": {
     "grade": true,
     "grade_id": "q3c_test2",
     "locked": true,
     "points": 5,
     "schema_version": 1,
     "solution": false
    },
    "state": "read_only"
   },
   "outputs": [],
   "source": [
    "np.random.seed(13275)\n",
    "x2 = np.random.random(23)\n",
    "s2 = 12.146235770777777\n",
    "np.testing.assert_allclose(s2, sum_of_elements(x2))"
   ]
  },
  {
   "cell_type": "markdown",
   "metadata": {
    "nbgrader": {
     "grade": false,
     "grade_id": "q3d_prompt",
     "locked": true,
     "schema_version": 1,
     "solution": false
    },
    "state": "normal"
   },
   "source": [
    "### Part D\n",
    "\n",
    "You may not have realized it yet, but in the previous three parts, you've implemented almost all of what's needed to compute the Euclidean distance between two vectors, as represented with NumPy arrays. All you have to do now is link the code you wrote in the previous three parts together in the right order.\n",
    "\n",
    "Write a function which takes two NumPy arrays and computes their distance. Your function should:\n",
    "\n",
    " - be named `distance`\n",
    " - take 2 arguments: both NumPy arrays of the same length\n",
    " - return 1 number: a non-zero floating point value that is the distance between the two arrays\n",
    " \n",
    "Remember how Euclidean distance $d$ between two vectors $\\vec{a}$ and $\\vec{b}$ is calculated:\n",
    "\n",
    "$$\n",
    "d(\\vec{a}, \\vec{b}) = \\sqrt{(a_1 - b_1)^2 + (a_2 - b_2)^2 + ... + (a_n - b_n) ^2}\n",
    "$$\n",
    "\n",
    "where $a_1$ and $b_1$ are the first elements of the arrays $\\vec{a}$ and $\\vec{b}$; $a_2$ and $b_2$ are the second elements, and so on.\n",
    "\n",
    "You've already implemented everything except the square root; in addition to that, you just need to arrange the functions you've written in the correct order inside your `distance` function. **Aside from calling your functions from Parts A-C, there is VERY LITTLE ORIGINAL CODE you'll need to write here!** The tricky part is understanding how to make all these parts work together.\n",
    "\n",
    "You cannot use any functions aside from those you've already written."
   ]
  },
  {
   "cell_type": "code",
   "execution_count": null,
   "metadata": {
    "deletable": false,
    "id": "1_0_4_G",
    "nbgrader": {
     "grade": false,
     "grade_id": "q3d",
     "locked": false,
     "schema_version": 1,
     "solution": true
    },
    "starter_code": "",
    "state": "graded"
   },
   "outputs": [],
   "source": []
  },
  {
   "cell_type": "code",
   "execution_count": null,
   "metadata": {
    "deletable": false,
    "editable": false,
    "id": "green_tyr",
    "nbgrader": {
     "grade": true,
     "grade_id": "q3d_test1",
     "locked": true,
     "points": 5,
     "schema_version": 1,
     "solution": false
    },
    "state": "read_only"
   },
   "outputs": [],
   "source": [
    "import numpy as np\n",
    "import numpy.linalg as nla\n",
    "\n",
    "np.random.seed(477582)\n",
    "x11 = np.random.random(10)\n",
    "x12 = np.random.random(10)\n",
    "np.testing.assert_allclose(nla.norm(x11 - x12), distance(x11, x12))"
   ]
  },
  {
   "cell_type": "code",
   "execution_count": null,
   "metadata": {
    "deletable": false,
    "editable": false,
    "id": "sharp_sif",
    "nbgrader": {
     "grade": true,
     "grade_id": "q3d_test2",
     "locked": true,
     "points": 5,
     "schema_version": 1,
     "solution": false
    },
    "state": "read_only"
   },
   "outputs": [],
   "source": [
    "np.random.seed(54782)\n",
    "x21 = np.random.random(584)\n",
    "x22 = np.random.random(584)\n",
    "np.testing.assert_allclose(nla.norm(x21 - x22), distance(x21, x22))"
   ]
  },
  {
   "cell_type": "markdown",
   "metadata": {
    "nbgrader": {
     "grade": false,
     "grade_id": "q3e_prompt",
     "locked": true,
     "schema_version": 1,
     "solution": false
    },
    "state": "normal"
   },
   "source": [
    "### Part E\n",
    "\n",
    "Now, you'll use your distance function to find the pair of vectors that are *closest* to each other. This is a very, very common problem in data science: finding a data point that is most similar to another data point.\n",
    "\n",
    "In this problem, you'll write a function that takes two arguments: the data point you have (we'll call this the \"reference data point\"), and a *list* of data points you want to search. You'll loop through this list and, using your `distance()` function defined in Part D, compute the distance between the reference data point and each data point in the list, hunting for the one that gives you the *smallest distance* (meaning here that it is *most similar* to your reference data point).\n",
    "\n",
    "Your function should:\n",
    "\n",
    " - be named `similarity_search`\n",
    " - take 2 arguments: a reference point (NumPy array), and a list of data points (list of NumPy arrays)\n",
    " - return 1 value: the smallest distance you could find between your reference data point and one of the data points in the list\n",
    "\n",
    "For example, `similarity_search([1, 1], [ [1, 1], [2, 2], [3, 3] ])` should return `0`, since the smallest distance that can be found between the reference data point `[1, 1]` and an data point in the list is the list's first element: an exact copy of the reference data point. The distance between a 2D point and itself will always be 0, so this is pretty much as small as you can get.\n",
    "\n",
    "*HINT:* This really isn't much code at all! Conceptually it's nothing you haven't done before, either--it's very much like the question in Homework 3 that asked you to write code to find the minimum value in a list. This just *looks* intimidating, because now you're dealing with NumPy arrays. If your solution goes beyond 10-15 lines of code, consider re-thinking the problem."
   ]
  },
  {
   "cell_type": "code",
   "execution_count": null,
   "metadata": {
    "deletable": false,
    "id": "1_0_5_G",
    "nbgrader": {
     "grade": false,
     "grade_id": "q3e",
     "locked": false,
     "schema_version": 1,
     "solution": true
    },
    "starter_code": "",
    "state": "graded"
   },
   "outputs": [],
   "source": []
  },
  {
   "cell_type": "code",
   "execution_count": null,
   "metadata": {
    "deletable": false,
    "editable": false,
    "id": "eager_mani",
    "nbgrader": {
     "grade": true,
     "grade_id": "q3e_test1",
     "locked": true,
     "points": 5,
     "schema_version": 1,
     "solution": false
    },
    "state": "read_only"
   },
   "outputs": [],
   "source": [
    "import numpy as np\n",
    "\n",
    "r1 = np.array([1, 1])\n",
    "l1 = [np.array([1, 1]), np.array([2, 2]), np.array([3, 3])]\n",
    "a1 = 0.0\n",
    "np.testing.assert_allclose(a1, similarity_search(r1, l1))"
   ]
  },
  {
   "cell_type": "code",
   "execution_count": null,
   "metadata": {
    "deletable": false,
    "editable": false,
    "id": "tiny_mimir",
    "nbgrader": {
     "grade": true,
     "grade_id": "q3e_test2",
     "locked": true,
     "points": 5,
     "schema_version": 1,
     "solution": false
    },
    "state": "read_only"
   },
   "outputs": [],
   "source": [
    "np.random.seed(7643)\n",
    "\n",
    "r2 = np.random.random(2) * 100\n",
    "l2 = [np.random.random(2) * 100 for i in range(100)]\n",
    "a2 = 1.6077074397123927\n",
    "np.testing.assert_allclose(a2, similarity_search(r2, l2))"
   ]
  },
  {
   "cell_type": "markdown",
   "metadata": {
    "state": "normal"
   },
   "source": [
    "# BONUS\n",
    "Always a bundle of fun.\n",
    "\n",
    "Write a function that counts the number of occurrences of a substring within a longer string.\n",
    "\n",
    "Your function should:\n",
    "\n",
    " - be named `count_substring`\n",
    " - take 3 arguments: a base string, a substring to search for in the base string, and an optional boolean argument to denote case-insensitive search (default, True) or case-sensitive search (False).\n",
    " - return 1 integer: the number of times the substring was found uniquely in the search string\n",
    " \n",
    "If the optional argument is set to `False`, your function should perform a case-sensitive search for all matching substrings. Otherwise, do the search in a case-insensitive way (e.g \"Python\" and \"python\" are a match when doing case-insensitive search, but not when doing a case-sensitive search).\n",
    "\n",
    "For example, `count_substring(\"THIS is the search string\", \"is\")` should return 2 (\"is\" occurs by itself, and also at the end of the word \"This\"). On the other hand, `count_substring(\"THIS is the search string\", \"is\", False)` should only return 1, since now the search is case-sensitive and ignores \"THIS\".\n",
    "\n",
    "You cannot use additional imports, but you may use the `upper()` and/or `lower()` string functions to help with case-insensitive searches. No other `string` functions (like `count`) are allowed!"
   ]
  },
  {
   "cell_type": "code",
   "execution_count": null,
   "metadata": {
    "deletable": false,
    "id": "B_0_1_G",
    "state": "graded"
   },
   "outputs": [],
   "source": []
  },
  {
   "cell_type": "code",
   "execution_count": 8,
   "metadata": {
    "deletable": false,
    "editable": false,
    "id": "eager_mimir",
    "state": "read_only"
   },
   "outputs": [],
   "source": [
    "i1 = \"THIS is the search string\"\n",
    "s1 = \"is\"\n",
    "a1 = 2\n",
    "assert a1 == count_substring(i1, s1)"
   ]
  },
  {
   "cell_type": "code",
   "execution_count": 9,
   "metadata": {
    "deletable": false,
    "editable": false,
    "id": "green_magni",
    "state": "read_only"
   },
   "outputs": [],
   "source": [
    "i2 = \"Lorem ipsum dolor sit amet, consectetur adipiscing elit. Donec molestie facilisis nulla. Pellentesque at enim libero. Phasellus condimentum quis nunc non tristique. Aliquam a est molestie, convallis mauris sed, consequat nisl. Donec leo mauris, consequat sed convallis a, dapibus non ante. Cras vel sem vitae sem feugiat rhoncus. Nam dictum augue in turpis varius porttitor. Duis pellentesque odio in condimentum elementum. In condimentum eleifend rutrum. Suspendisse tincidunt, turpis sed pulvinar fermentum, orci elit finibus urna, et hendrerit mi ligula quis felis. Donec eleifend malesuada ex non sagittis. Mauris elementum, elit id euismod tempor, neque mi consectetur ex, in pellentesque nulla ex in augue. Donec felis quam, ultrices quis sodales sed, aliquam ac nisi. Integer eu mattis dui. Pellentesque habitant morbi tristique senectus et netus et malesuada fames ac turpis egestas. Cras sagittis mattis sem eu malesuada. Integer turpis eros, dapibus in luctus a, vestibulum a quam. Suspendisse pulvinar augue id facilisis porta. Integer tincidunt venenatis porttitor. In pellentesque metus nunc, ut pharetra odio aliquet sit amet. Aliquam erat volutpat. Phasellus non luctus tellus. Vivamus vitae consequat dui. Proin rutrum ac magna a porttitor. Vivamus sagittis nisl vel arcu molestie, eu sagittis nunc dapibus. Nulla facilisi. Pellentesque scelerisque neque a malesuada dapibus. Aenean id ipsum diam. Aliquam nisl sem, imperdiet sed rutrum sit amet, fringilla vel metus. Aliquam nec commodo velit. Cras aliquet sed risus id iaculis. Maecenas mattis tellus ligula, vitae ultricies ligula luctus ultricies. Ut fermentum dui et turpis tempor lobortis. Proin non lacus ac odio fermentum sagittis ac quis ante. Aenean rhoncus turpis eu gravida finibus. Sed pretium nibh eu nibh convallis, ac lobortis turpis vestibulum. Cum sociis natoque penatibus et magnis dis parturient montes, nascetur ridiculus mus. Vestibulum egestas interdum pharetra. In quis tristique lorem. Etiam orci ante, lobortis a dapibus eleifend, hendrerit congue lorem. Sed efficitur, lectus vitae pharetra interdum, arcu est ullamcorper mi, a maximus urna ligula vel mi. Curabitur ut fringilla magna, vel mattis nunc. Suspendisse tristique in lectus sit amet fermentum. Pellentesque mattis vehicula diam, id finibus ipsum. Maecenas in velit ligula. Ut porttitor fringilla ex sed finibus. Class aptent taciti sociosqu ad litora torquent per conubia nostra, per inceptos himenaeos. Vestibulum sed malesuada turpis. Cras a arcu ac orci consectetur pretium. Quisque maximus quis nisi eu vulputate. Aliquam cursus pharetra tellus eget lacinia. Sed efficitur lectus non nisl eleifend, ut accumsan orci venenatis. Mauris in nunc justo. Donec ut malesuada felis. Proin pulvinar vel orci eget aliquet. Aliquam molestie viverra bibendum. Nullam volutpat accumsan fermentum. Vivamus vel aliquet neque, eu molestie arcu. Cras vulputate dui non ligula placerat, non viverra nunc interdum. Nulla eu egestas ipsum. In et tincidunt justo, ac suscipit turpis. Donec at rutrum felis. Maecenas accumsan nibh sit amet lectus dapibus dignissim. Mauris egestas consectetur faucibus. Praesent finibus ex eu leo congue, ac dignissim purus finibus. In nec nisl scelerisque, aliquam dui vitae, lobortis sapien. Sed ultricies porta enim, at gravida lacus cursus vel. Mauris feugiat dictum libero, et imperdiet ipsum interdum vitae.\"\n",
    "s2 = \"vitae\"\n",
    "a2 = 6\n",
    "assert a2 == count_substring(i2, s2, False)"
   ]
  },
  {
   "cell_type": "code",
   "execution_count": null,
   "metadata": {
    "state": "normal"
   },
   "outputs": [],
   "source": []
  }
 ],
 "metadata": {
  "anaconda-cloud": {},
  "celltoolbar": "Create Assignment",
  "kernelspec": {
   "display_name": "Python 3",
   "language": "python",
   "name": "python3"
  },
  "language_info": {
   "codemirror_mode": {
    "name": "ipython",
    "version": 3
   },
   "file_extension": ".py",
   "mimetype": "text/x-python",
   "name": "python",
   "nbconvert_exporter": "python",
   "pygments_lexer": "ipython3",
   "version": "3.7.3"
  },
  "mimir": {
   "data": {},
   "last_submission_id": "",
   "project_id": "4e7936e0-3c1c-45c0-9e66-4c51e632517f"
  },
  "toc": {
   "base_numbering": 1,
   "nav_menu": {},
   "number_sections": true,
   "sideBar": true,
   "skip_h1_title": false,
   "title_cell": "Table of Contents",
   "title_sidebar": "Contents",
   "toc_cell": false,
   "toc_position": {},
   "toc_section_display": true,
   "toc_window_display": false
  },
  "varInspector": {
   "cols": {
    "lenName": 16,
    "lenType": 16,
    "lenVar": 40
   },
   "kernels_config": {
    "python": {
     "delete_cmd_postfix": "",
     "delete_cmd_prefix": "del ",
     "library": "var_list.py",
     "varRefreshCmd": "print(var_dic_list())"
    },
    "r": {
     "delete_cmd_postfix": ") ",
     "delete_cmd_prefix": "rm(",
     "library": "var_list.r",
     "varRefreshCmd": "cat(var_dic_list()) "
    }
   },
   "types_to_exclude": [
    "module",
    "function",
    "builtin_function_or_method",
    "instance",
    "_Feature"
   ],
   "window_display": false
  }
 },
 "nbformat": 4,
 "nbformat_minor": 1
}
