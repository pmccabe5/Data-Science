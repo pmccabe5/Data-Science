{
 "cells": [
  {
   "cell_type": "markdown",
   "metadata": {
    "nbgrader": {
     "grade": false,
     "grade_id": "q1_prompt",
     "locked": true,
     "schema_version": 1,
     "solution": false
    },
    "state": "normal"
   },
   "source": [
    "# Question 1\n",
    "\n",
    "Loops, loops, and more loops. And writing basic functions."
   ]
  },
  {
   "cell_type": "markdown",
   "metadata": {
    "nbgrader": {
     "grade": false,
     "grade_id": "q1a_prompt",
     "locked": true,
     "schema_version": 1,
     "solution": false
    },
    "state": "normal"
   },
   "source": [
    "### Part A\n",
    "\n",
    "Write a function:\n",
    "\n",
    " - named `add_one`\n",
    " - takes 1 argument, a list\n",
    " - returns 1 value, a list\n",
    " \n",
    "In this function, you should loop through each element of the argument list, add 1 to it, and then return the new list.\n",
    "\n",
    "For example, `add_one([1, 2, 3])` should return `[2, 3, 4]`. No imports!\n",
    "\n",
    "*HINT*: I would highly recommend constructing a *new* list, rather than updating the *old* one."
   ]
  },
  {
   "cell_type": "code",
   "execution_count": null,
   "metadata": {
    "deletable": false,
    "id": "1_0_1_G",
    "nbgrader": {
     "grade": false,
     "grade_id": "q1a",
     "locked": false,
     "schema_version": 1,
     "solution": true
    },
    "state": "graded"
   },
   "outputs": [],
   "source": []
  },
  {
   "cell_type": "code",
   "execution_count": 8,
   "metadata": {
    "deletable": false,
    "editable": false,
    "id": "red_mani",
    "nbgrader": {
     "grade": true,
     "grade_id": "q1a_test1",
     "locked": true,
     "points": 5,
     "schema_version": 1,
     "solution": false
    },
    "state": "read_only"
   },
   "outputs": [],
   "source": [
    "import numpy as np\n",
    "np.random.seed(7584)\n",
    "\n",
    "list1 = np.random.randint(-100, 100, 10)\n",
    "actual1 = list1 + 1\n",
    "pred1 = add_one(list1.tolist())\n",
    "assert set(pred1) == set(actual1.tolist())"
   ]
  },
  {
   "cell_type": "code",
   "execution_count": 9,
   "metadata": {
    "deletable": false,
    "editable": false,
    "id": "calm_oor",
    "nbgrader": {
     "grade": true,
     "grade_id": "q1a_test2",
     "locked": true,
     "points": 5,
     "schema_version": 1,
     "solution": false
    },
    "state": "read_only"
   },
   "outputs": [],
   "source": [
    "np.random.seed(68527)\n",
    "\n",
    "list2 = np.random.randint(-100, 100, 100)\n",
    "actual2 = list2 + 1\n",
    "pred2 = add_one(list2.tolist())\n",
    "assert set(pred2) == set(actual2.tolist())"
   ]
  },
  {
   "cell_type": "markdown",
   "metadata": {
    "nbgrader": {
     "grade": false,
     "grade_id": "q1b_prompt",
     "locked": true,
     "schema_version": 1,
     "solution": false
    },
    "state": "normal"
   },
   "source": [
    "### Part B\n",
    "\n",
    "Write a function that adds an arbitrary integer quantity to every element in a list. This is just like Part A, except instead of adding 1 to each element, you add some positive integer x to each one.\n",
    "\n",
    "This function should:\n",
    "\n",
    " - be named `add_to_list`\n",
    " - take 2 arguments: the list, and the number\n",
    " - return a list: the new list that contains the added elements\n",
    " \n",
    "In this function, you should loop through each element of the argument list, add the second argument to it, and then return the new list.\n",
    "\n",
    "For example, `add_to_list([1, 2, 3], 1)` should return `[2, 3, 4]`, just like in Part A. `add_to_list([1, 2, 3], 5)` should return `[6, 7, 8]`. No imports!\n",
    "\n",
    "*HINT*: I would highly recommend constructing a *new* list, rather than updating the *old* one."
   ]
  },
  {
   "cell_type": "code",
   "execution_count": null,
   "metadata": {
    "deletable": false,
    "id": "1_0_2_G",
    "nbgrader": {
     "grade": false,
     "grade_id": "q1b",
     "locked": false,
     "schema_version": 1,
     "solution": true
    },
    "starter_code": "",
    "state": "graded"
   },
   "outputs": [],
   "source": []
  },
  {
   "cell_type": "code",
   "execution_count": 11,
   "metadata": {
    "deletable": false,
    "editable": false,
    "id": "high_vali",
    "nbgrader": {
     "grade": true,
     "grade_id": "q1b_test1",
     "locked": true,
     "points": 5,
     "schema_version": 1,
     "solution": false
    },
    "state": "read_only"
   },
   "outputs": [],
   "source": [
    "import numpy as np\n",
    "np.random.seed(2846)\n",
    "\n",
    "list1 = np.random.randint(-100, 100, 10)\n",
    "num1 = 15\n",
    "actual1 = list1 + num1\n",
    "pred1 = add_to_list(list1.tolist(), num1)\n",
    "assert set(pred1) == set(actual1.tolist())"
   ]
  },
  {
   "cell_type": "code",
   "execution_count": 12,
   "metadata": {
    "deletable": false,
    "editable": false,
    "id": "big_var",
    "nbgrader": {
     "grade": true,
     "grade_id": "q1b_test2",
     "locked": true,
     "points": 5,
     "schema_version": 1,
     "solution": false
    },
    "state": "read_only"
   },
   "outputs": [],
   "source": [
    "np.random.seed(68527)\n",
    "\n",
    "list2 = np.random.randint(-100, 100, 100)\n",
    "num2 = np.random.randint(0, 100)\n",
    "actual2 = list2 + num2\n",
    "pred2 = add_to_list(list2.tolist(), num2)\n",
    "assert set(pred2) == set(actual2.tolist())"
   ]
  },
  {
   "cell_type": "markdown",
   "metadata": {
    "nbgrader": {
     "grade": false,
     "grade_id": "q1c_prompt",
     "locked": true,
     "schema_version": 1,
     "solution": false
    },
    "state": "normal"
   },
   "source": [
    "### Part C\n",
    "\n",
    "Write a function:\n",
    "\n",
    " - named `list_of_positive_indices`\n",
    " - takes 1 arguments, a list\n",
    " - returns 1 value, a list\n",
    " \n",
    "In this function, you should loop through each element of the argument list. If the element is *positive*, then you should append the *index number of the positive element* to a new list. If not, skip that index (i.e. do nothing). Once the loop is finished, return the new list.\n",
    "\n",
    "For example, `list_of_positive_indices([1, -1, 0, 3])` should return `[0, 3]`. No imports!\n",
    "\n",
    "*HINT*: Instead of doing a simple `for element in list:` loop, try using the `range()` function in the loop header."
   ]
  },
  {
   "cell_type": "code",
   "execution_count": null,
   "metadata": {
    "deletable": false,
    "id": "1_0_3_G",
    "nbgrader": {
     "grade": false,
     "grade_id": "q1c",
     "locked": false,
     "schema_version": 1,
     "solution": true
    },
    "state": "graded"
   },
   "outputs": [],
   "source": []
  },
  {
   "cell_type": "code",
   "execution_count": 16,
   "metadata": {
    "deletable": false,
    "editable": false,
    "id": "blue_mani",
    "nbgrader": {
     "grade": true,
     "grade_id": "q1c_test1",
     "locked": true,
     "points": 5,
     "schema_version": 1,
     "solution": false
    },
    "state": "read_only"
   },
   "outputs": [],
   "source": [
    "import numpy as np\n",
    "np.random.seed(986)\n",
    "\n",
    "list1 = np.random.randint(-100, 100, 10)\n",
    "indices1 = np.arange(list1.shape[0])[list1 > 0].tolist()\n",
    "pred1 = list_of_positive_indices(list1.tolist())\n",
    "assert set(pred1) == set(indices1)"
   ]
  },
  {
   "cell_type": "code",
   "execution_count": 17,
   "metadata": {
    "deletable": false,
    "editable": false,
    "id": "high_thor",
    "nbgrader": {
     "grade": true,
     "grade_id": "q1c_test2",
     "locked": true,
     "points": 5,
     "schema_version": 1,
     "solution": false
    },
    "state": "read_only"
   },
   "outputs": [],
   "source": [
    "np.random.seed(578752)\n",
    "\n",
    "list2 = np.random.randint(-100, 100, 100)\n",
    "indices2 = np.arange(list2.shape[0])[list2 > 0].tolist()\n",
    "pred2 = list_of_positive_indices(list2.tolist())\n",
    "assert set(pred2) == set(indices2)"
   ]
  },
  {
   "cell_type": "markdown",
   "metadata": {
    "nbgrader": {
     "grade": false,
     "grade_id": "q2_prompt",
     "locked": true,
     "schema_version": 1,
     "solution": false
    },
    "state": "normal"
   },
   "source": [
    "# Question 2\n",
    "\n",
    "More loops, more functions, and this time with conditionals!"
   ]
  },
  {
   "cell_type": "markdown",
   "metadata": {
    "nbgrader": {
     "grade": false,
     "grade_id": "q2a_prompt",
     "locked": true,
     "schema_version": 1,
     "solution": false
    },
    "state": "normal"
   },
   "source": [
    "### Part A\n",
    "\n",
    "Write a function that tests if a number is even.\n",
    "\n",
    "*HINT*: Recall the modulo operator `%`. This performs division on two numbers, but instead of returning their quotient, it returns the *remainder* of the division. For example, `7 % 3` returns 1, since the quotient is 2 with a remainder of 1.\n",
    "\n",
    "Your function should:\n",
    "\n",
    " - be named `is_even`\n",
    " - take 1 argument, a number\n",
    " - return `True` if the argument is even, `False` otherwise\n",
    " \n",
    "Make sure you're returning a *boolean*!"
   ]
  },
  {
   "cell_type": "code",
   "execution_count": null,
   "metadata": {
    "deletable": false,
    "id": "2_0_1_G",
    "nbgrader": {
     "grade": false,
     "grade_id": "q2a",
     "locked": false,
     "schema_version": 1,
     "solution": true
    },
    "state": "graded"
   },
   "outputs": [],
   "source": []
  },
  {
   "cell_type": "code",
   "execution_count": 19,
   "metadata": {
    "deletable": false,
    "editable": false,
    "id": "fit_thor",
    "nbgrader": {
     "grade": true,
     "grade_id": "q2a_test1",
     "locked": true,
     "points": 2.5,
     "schema_version": 1,
     "solution": false
    },
    "state": "read_only"
   },
   "outputs": [],
   "source": [
    "assert is_even(3) == False"
   ]
  },
  {
   "cell_type": "code",
   "execution_count": 20,
   "metadata": {
    "deletable": false,
    "editable": false,
    "id": "aged_ullr",
    "nbgrader": {
     "grade": true,
     "grade_id": "q2a_test2",
     "locked": true,
     "points": 2.5,
     "schema_version": 1,
     "solution": false
    },
    "state": "read_only"
   },
   "outputs": [],
   "source": [
    "assert is_even(123456789) == False"
   ]
  },
  {
   "cell_type": "code",
   "execution_count": 21,
   "metadata": {
    "deletable": false,
    "editable": false,
    "id": "sly_ullr",
    "nbgrader": {
     "grade": true,
     "grade_id": "q2a_test3",
     "locked": true,
     "points": 2.5,
     "schema_version": 1,
     "solution": false
    },
    "state": "read_only"
   },
   "outputs": [],
   "source": [
    "assert is_even(42) == True"
   ]
  },
  {
   "cell_type": "code",
   "execution_count": null,
   "metadata": {
    "collapsed": true,
    "deletable": false,
    "editable": false,
    "id": "sharp_saga",
    "nbgrader": {
     "grade": true,
     "grade_id": "q2a_test4",
     "locked": true,
     "points": 2.5,
     "schema_version": 1,
     "solution": false
    },
    "state": "read_only"
   },
   "outputs": [],
   "source": [
    "assert is_even(42.1) == False"
   ]
  },
  {
   "cell_type": "markdown",
   "metadata": {
    "nbgrader": {
     "grade": false,
     "grade_id": "q2c_prompt",
     "locked": true,
     "schema_version": 1,
     "solution": false
    },
    "state": "normal"
   },
   "source": [
    "### Part B\n",
    "\n",
    "Write a function that finds the *second-smallest* number in a list of numbers. Your function should:\n",
    "\n",
    " - be named `second_smallest`\n",
    " - take 1 argument, a list of numbers\n",
    " - return 1 number, the second-smallest number in the list\n",
    " - throw an `Exception` if there are not enough elements in the list\n",
    " \n",
    "Take note of that last point. There's a possibility, after all, that the list your function receives as input will have 1 or even 0 elements in it. How, then, do you return the second-smallest element of a 0-element list? Well, simply, you can't. So instead, you'll raise an error.\n",
    "\n",
    "Also note: you're the one *raising* the error, so it's *not* your job to catch it! It's the job of the person *using* your function to note the possibility that it will throw an error, and to take appropriate action to handle it gracefully. So if your code includes any `try` or `except` statements, you're doing it wrong!\n",
    "\n",
    "For example, `second_smallest([1, 2, 3])` should return `2`. Another example `second_smallest([10, 100, 1000, 10000])` should return 100. And `second_smallest([1])` should raise an `Exception`.\n",
    "\n",
    "You cannot use any built-in sorting functions! Only `range()` and `len()`."
   ]
  },
  {
   "cell_type": "code",
   "execution_count": null,
   "metadata": {
    "deletable": false,
    "id": "2_0_3_G",
    "nbgrader": {
     "grade": false,
     "grade_id": "q2c",
     "locked": false,
     "schema_version": 1,
     "solution": true
    },
    "state": "graded"
   },
   "outputs": [],
   "source": []
  },
  {
   "cell_type": "code",
   "execution_count": 40,
   "metadata": {
    "deletable": false,
    "editable": false,
    "id": "apt_thor",
    "nbgrader": {
     "grade": true,
     "grade_id": "q2c_test1",
     "locked": true,
     "points": 5,
     "schema_version": 1,
     "solution": false
    },
    "state": "read_only"
   },
   "outputs": [],
   "source": [
    "import numpy as np\n",
    "np.random.seed(89547)\n",
    "\n",
    "l1 = np.random.randint(-100, 100, 100)\n",
    "a1 = np.sort(l1)[1]\n",
    "np.testing.assert_allclose(a1, second_smallest(l1.tolist()))"
   ]
  },
  {
   "cell_type": "code",
   "execution_count": 41,
   "metadata": {
    "deletable": false,
    "editable": false,
    "id": "aged_var",
    "nbgrader": {
     "grade": true,
     "grade_id": "q2c_test2",
     "locked": true,
     "points": 5,
     "schema_version": 1,
     "solution": false
    },
    "state": "read_only"
   },
   "outputs": [],
   "source": [
    "np.random.seed(485)\n",
    "\n",
    "l2 = np.random.randint(0, 1000, 100)\n",
    "a2 = np.sort(l2)[1]\n",
    "np.testing.assert_allclose(a2, second_smallest(l2.tolist()))"
   ]
  },
  {
   "cell_type": "code",
   "execution_count": 42,
   "metadata": {
    "deletable": false,
    "editable": false,
    "id": "blue_loki",
    "nbgrader": {
     "grade": true,
     "grade_id": "q2c_test3",
     "locked": true,
     "points": 2.5,
     "schema_version": 1,
     "solution": false
    },
    "state": "read_only"
   },
   "outputs": [],
   "source": [
    "try:\n",
    "    second_smallest([])\n",
    "except:\n",
    "    assert True\n",
    "else:\n",
    "    assert False"
   ]
  },
  {
   "cell_type": "code",
   "execution_count": 43,
   "metadata": {
    "deletable": false,
    "editable": false,
    "id": "gray_ullr",
    "nbgrader": {
     "grade": true,
     "grade_id": "q2c_test4",
     "locked": true,
     "points": 2.5,
     "schema_version": 1,
     "solution": false
    },
    "state": "read_only"
   },
   "outputs": [],
   "source": [
    "try:\n",
    "    second_smallest([100])\n",
    "except:\n",
    "    assert True\n",
    "else:\n",
    "    assert False"
   ]
  },
  {
   "cell_type": "markdown",
   "metadata": {
    "nbgrader": {
     "grade": false,
     "grade_id": "q3_prompt",
     "locked": true,
     "schema_version": 1,
     "solution": false
    },
    "state": "normal"
   },
   "source": [
    "# Question 3\n",
    "\n",
    "This question will focusing on looping and using dictionaries."
   ]
  },
  {
   "cell_type": "markdown",
   "metadata": {
    "nbgrader": {
     "grade": false,
     "grade_id": "q3a_prompt",
     "locked": true,
     "schema_version": 1,
     "solution": false
    },
    "state": "normal"
   },
   "source": [
    "### Part A\n",
    "\n",
    "In this part, you'll write a safe version of testing a dictionary for a specific key and extracting the corresponding element. Normally, if you try to access a key that does not exist, your program crashes with a `KeyError` exception.\n",
    "\n",
    "Here, you'll write a function which:\n",
    "\n",
    " - is named `safe_access`\n",
    " - takes 3 arguments: a dictionary, a key, and a *default return value*\n",
    " - returns 1 value: the value in the dictionary for the given key, or the default return value\n",
    " \n",
    "The third argument to this function is a *default argument*, whose initial value should be the Python keyword `None`.\n",
    "\n",
    "Your task in this function is three-fold:\n",
    "\n",
    " 1. Try to access the value in the dictionary at the given key (wrap this in a `try-except` statement)\n",
    " 2. If the access is successful, just return the value\n",
    " 3. If the access is NOT successful (i.e. you caught a `KeyError`), then return the default value instead\n",
    " \n",
    "You must include a `try-except` statement in your function!"
   ]
  },
  {
   "cell_type": "code",
   "execution_count": null,
   "metadata": {
    "deletable": false,
    "id": "3_0_1_G",
    "nbgrader": {
     "grade": false,
     "grade_id": "q3a",
     "locked": false,
     "schema_version": 1,
     "solution": true
    },
    "state": "graded"
   },
   "outputs": [],
   "source": []
  },
  {
   "cell_type": "code",
   "execution_count": 45,
   "metadata": {
    "deletable": false,
    "editable": false,
    "id": "aged_sif",
    "nbgrader": {
     "grade": true,
     "grade_id": "q3a_test1",
     "locked": true,
     "points": 5,
     "schema_version": 1,
     "solution": false
    },
    "state": "read_only"
   },
   "outputs": [],
   "source": [
    "v1 = safe_access({\"one\": [1, 2, 3], \"two\": [4, 5, 6], \"three\": \"something\"}, \"three\")\n",
    "assert v1 == \"something\""
   ]
  },
  {
   "cell_type": "code",
   "execution_count": 46,
   "metadata": {
    "deletable": false,
    "editable": false,
    "id": "tiny_nott",
    "nbgrader": {
     "grade": true,
     "grade_id": "q3a_test2",
     "locked": true,
     "points": 5,
     "schema_version": 1,
     "solution": false
    },
    "state": "read_only"
   },
   "outputs": [],
   "source": [
    "v2 = safe_access({\"one\": [1, 2, 3], \"two\": [4, 5, 6], \"three\": \"something\"}, \"two\", [10, 11, 12])\n",
    "assert set(v2) == set((4, 5, 6))"
   ]
  },
  {
   "cell_type": "code",
   "execution_count": 47,
   "metadata": {
    "deletable": false,
    "editable": false,
    "id": "sharp_ran",
    "nbgrader": {
     "grade": true,
     "grade_id": "q3a_test3",
     "locked": true,
     "points": 5,
     "schema_version": 1,
     "solution": false
    },
    "state": "read_only"
   },
   "outputs": [],
   "source": [
    "default_val = 3\n",
    "try:\n",
    "    value = safe_access({\"one\": 1, \"two\": 2}, \"three\", default_val)\n",
    "except:\n",
    "    assert False\n",
    "else:\n",
    "    assert value == default_val"
   ]
  },
  {
   "cell_type": "markdown",
   "metadata": {
    "nbgrader": {
     "grade": false,
     "grade_id": "q3b_prompt",
     "locked": true,
     "schema_version": 1,
     "solution": false
    },
    "state": "normal"
   },
   "source": [
    "### Part B\n",
    "\n",
    "Write a function that finds all occurrences of a specific value in a list, and records--in a separate list--these occurrences in terms of the *indices* where they were found.\n",
    "\n",
    "Your function should:\n",
    "\n",
    " - be named `find_all`\n",
    " - take 2 arguments: a list of items, and a single element to search for in the list\n",
    " - returns 1 list: a list of *indices* into the input list that correspond to elements in the input list that match what we were looking for\n",
    " \n",
    "For example, `find_all([1, 2, 3, 4, 5, 2], 2)` would return `[1, 5]`. `find_all([1, 2, 3], 0)` should return `[]`.\n",
    "\n",
    "You cannot use any built-in functions besides `len()` and `range()`."
   ]
  },
  {
   "cell_type": "code",
   "execution_count": null,
   "metadata": {
    "deletable": false,
    "id": "3_0_2_G",
    "nbgrader": {
     "grade": false,
     "grade_id": "q3b",
     "locked": false,
     "schema_version": 1,
     "solution": true
    },
    "state": "graded"
   },
   "outputs": [],
   "source": []
  },
  {
   "cell_type": "code",
   "execution_count": 49,
   "metadata": {
    "deletable": false,
    "editable": false,
    "id": "stoic_magni",
    "nbgrader": {
     "grade": true,
     "grade_id": "q3b_test1",
     "locked": true,
     "points": 5,
     "schema_version": 1,
     "solution": false
    },
    "state": "read_only"
   },
   "outputs": [],
   "source": [
    "l1 = [1, 2, 3, 4, 5, 2]\n",
    "s1 = 2\n",
    "a1 = [1, 5]\n",
    "assert set(a1) == set(find_all(l1, s1))"
   ]
  },
  {
   "cell_type": "code",
   "execution_count": 50,
   "metadata": {
    "deletable": false,
    "editable": false,
    "id": "sharp_ullr",
    "nbgrader": {
     "grade": true,
     "grade_id": "q3b_test2",
     "locked": true,
     "points": 5,
     "schema_version": 1,
     "solution": false
    },
    "state": "read_only"
   },
   "outputs": [],
   "source": [
    "l2 = [\"a\", \"random\", \"set\", \"of\", \"strings\", \"for\", \"an\", \"interesting\", \"strings\", \"problem\"]\n",
    "s2 = \"strings\"\n",
    "a2 = [4, 8]\n",
    "assert set(a2) == set(find_all(l2, s2))"
   ]
  },
  {
   "cell_type": "code",
   "execution_count": 51,
   "metadata": {
    "deletable": false,
    "editable": false,
    "id": "high_mani",
    "nbgrader": {
     "grade": true,
     "grade_id": "q3b_test3",
     "locked": true,
     "points": 5,
     "schema_version": 1,
     "solution": false
    },
    "state": "read_only"
   },
   "outputs": [],
   "source": [
    "l3 = [1, 2, 3, 4, 5, 6, 7, 8, 9, 10]\n",
    "s3 = 1001\n",
    "a3 = []\n",
    "assert set(a3) == set(find_all(l3, s3))"
   ]
  },
  {
   "cell_type": "markdown",
   "metadata": {
    "nbgrader": {
     "grade": false,
     "grade_id": "q3c_prompt",
     "locked": true,
     "schema_version": 1,
     "solution": false
    },
    "state": "normal"
   },
   "source": [
    "### Part C\n",
    "\n",
    "Write a function which provides counts of very specific elements in a list. This function will return a dictionary where the keys are the elements you wanted to find, and their values are the number of times (counts) they were found in the target list.\n",
    "\n",
    "*HINT*: You can use your answer to Part B here to expedite the solution! You don't have to, but you can, as it partially solves the problem here. To do that, simply call your function `find_all`--you do NOT need to copy/paste it into the cell below! Python will see it in an earlier cell and will know that it exists (as long as you've hit the \"Play/Run\" button on that cell, of course. And if you make any changes to it, you should hit the \"Play/Run\" button again; this updates it in the Python program, kind of like hitting \"Save\" on a Word doc).\n",
    "\n",
    "Your function should:\n",
    "\n",
    " - be named `element_counts`\n",
    " - take 2 arguments, both lists: a list of your data, and a list of elements you want counted in your data\n",
    " - return a dictionary: keys are the elements you wanted counted, and values are their counts in the data\n",
    " \n",
    "For example, `element_counts([1, 2, 3, 4, 5, 2], [2, 5])` would return `{2: 2, 5: 1}`, as there were two 2s in the data list, and one 5. Another example would be `element_counts([1, 2, 3], [0, 1])`, which would return `{0: 0, 1: 1}`, as there were no 0s in the original list, and one 1.\n",
    "\n",
    "You cannot use any built-in functions besides `len()` and `range()`."
   ]
  },
  {
   "cell_type": "code",
   "execution_count": null,
   "metadata": {
    "deletable": false,
    "id": "3_0_3_G",
    "nbgrader": {
     "grade": false,
     "grade_id": "q3c",
     "locked": false,
     "schema_version": 1,
     "solution": true
    },
    "state": "graded"
   },
   "outputs": [],
   "source": []
  },
  {
   "cell_type": "code",
   "execution_count": 53,
   "metadata": {
    "deletable": false,
    "editable": false,
    "id": "red_saga",
    "nbgrader": {
     "grade": true,
     "grade_id": "q3c_test1",
     "locked": true,
     "points": 5,
     "schema_version": 1,
     "solution": false
    },
    "state": "read_only"
   },
   "outputs": [],
   "source": [
    "l1 = [1, 2, 3, 4, 5, 2]\n",
    "s1 = [2, 5]\n",
    "a1 = {2: 2, 5: 1}\n",
    "assert a1 == element_counts(l1, s1)"
   ]
  },
  {
   "cell_type": "code",
   "execution_count": 54,
   "metadata": {
    "deletable": false,
    "editable": false,
    "id": "sly_odin",
    "nbgrader": {
     "grade": true,
     "grade_id": "q3c_test2",
     "locked": true,
     "points": 5,
     "schema_version": 1,
     "solution": false
    },
    "state": "read_only"
   },
   "outputs": [],
   "source": [
    "l2 = [\"a\", \"random\", \"set\", \"of\", \"strings\", \"for\", \"an\", \"interesting\", \"strings\", \"problem\"]\n",
    "s2 = [\"strings\", \"of\", \"notinthelist\"]\n",
    "a2 = {\"strings\": 2, \"of\": 1, \"notinthelist\": 0}\n",
    "assert a2 == element_counts(l2, s2)"
   ]
  }
 ],
 "metadata": {
  "anaconda-cloud": {},
  "celltoolbar": "Create Assignment",
  "kernelspec": {
   "display_name": "Python 3",
   "language": "python",
   "name": "python3"
  },
  "language_info": {
   "codemirror_mode": {
    "name": "ipython",
    "version": 3
   },
   "file_extension": ".py",
   "mimetype": "text/x-python",
   "name": "python",
   "nbconvert_exporter": "python",
   "pygments_lexer": "ipython3",
   "version": "3.7.3"
  },
  "mimir": {
   "data": {},
   "last_submission_id": "2004a05e-8071-48b2-984f-892404fd044a",
   "project_id": "5ba4ed69-e197-45be-903e-06d7d8462de1"
  },
  "toc": {
   "base_numbering": 1,
   "nav_menu": {},
   "number_sections": true,
   "sideBar": true,
   "skip_h1_title": false,
   "title_cell": "Table of Contents",
   "title_sidebar": "Contents",
   "toc_cell": false,
   "toc_position": {},
   "toc_section_display": true,
   "toc_window_display": false
  },
  "varInspector": {
   "cols": {
    "lenName": 16,
    "lenType": 16,
    "lenVar": 40
   },
   "kernels_config": {
    "python": {
     "delete_cmd_postfix": "",
     "delete_cmd_prefix": "del ",
     "library": "var_list.py",
     "varRefreshCmd": "print(var_dic_list())"
    },
    "r": {
     "delete_cmd_postfix": ") ",
     "delete_cmd_prefix": "rm(",
     "library": "var_list.r",
     "varRefreshCmd": "cat(var_dic_list()) "
    }
   },
   "types_to_exclude": [
    "module",
    "function",
    "builtin_function_or_method",
    "instance",
    "_Feature"
   ],
   "window_display": false
  }
 },
 "nbformat": 4,
 "nbformat_minor": 1
}
