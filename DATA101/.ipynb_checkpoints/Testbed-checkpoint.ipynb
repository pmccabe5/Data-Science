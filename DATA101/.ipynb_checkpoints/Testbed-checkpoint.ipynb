{
 "cells": [
  {
   "cell_type": "markdown",
   "metadata": {},
   "source": [
    "# Practice Problems:\n",
    "\n",
    "1. Create a `calc` function that takes in 3 paramaeters: operation, par1, par2"
   ]
  },
  {
   "cell_type": "code",
   "execution_count": null,
   "metadata": {
    "code_folding": []
   },
   "outputs": [],
   "source": [
    "def calc(operation, par1, par2 ):\n",
    "    \n",
    "    ops = ['+', '-', '*', '**', '/', '//', '%']\n",
    "    \n",
    "    operation = str(operation)\n",
    "    \n",
    "    if operation not in ops:\n",
    "        operation = operation.lower()\n",
    "    \n",
    "    if operation == '+' or operation == 'add':\n",
    "        return par1 + par2\n",
    "    \n",
    "    elif operation == '-' or operation == 'sub':\n",
    "        return par1 - par2\n",
    "    \n",
    "    elif operation == '*' or operation == 'mul':\n",
    "        return par1 * par2\n",
    "    \n",
    "    elif operation == '**' or operation == 'pow':\n",
    "        return par1 ** par2\n",
    "    \n",
    "    elif operation == '/' or operation == 'div':\n",
    "        return par1 / par2\n",
    "    \n",
    "    elif operation == '//' or operation == 'int-div':\n",
    "        return par1 // par2\n",
    "    \n",
    "    elif operation == '%' or operation == 'mod':\n",
    "        return par1 % par2\n",
    "    \n",
    "    else: \n",
    "        \n",
    "        legalOperations = ['+ or add', '- or sub', '* or mul', '** or pow', '/ or div', '// or int-div', '% or mod']\n",
    "        \n",
    "        print('Function not defined or keyword has been specified! Please enter in one of the following operations as a string: \\n')\n",
    "        \n",
    "        for op in legalOperations:\n",
    "            print(op)\n",
    "        \n",
    "        return 'ERROR!!!'\n",
    "    \n",
    "calcResults = []\n",
    "\n",
    "result = calc('add', 2, 2)\n",
    "calcResults.append(result)\n",
    "\n",
    "result = calc('+', 2, 2)\n",
    "calcResults.append(result)\n",
    "\n",
    "result = calc('sub', 2, 2)\n",
    "calcResults.append(result)\n",
    "\n",
    "result = calc('-', 2, 2)\n",
    "calcResults.append(result)\n",
    "\n",
    "result = calc('mul', 2, 2)\n",
    "calcResults.append(result)\n",
    "\n",
    "result = calc('*', 2, 2)\n",
    "calcResults.append(result)\n",
    "\n",
    "result = calc('div', 2, 2)\n",
    "calcResults.append(result)\n",
    "\n",
    "result = calc('/', 2, 2)\n",
    "calcResults.append(result)\n",
    "\n",
    "result = calc('**', 2, 2)\n",
    "calcResults.append(result)\n",
    "\n",
    "result = calc('pow', 2, 2)\n",
    "calcResults.append(result)\n",
    "\n",
    "result = calc('int-div', 2, 2)\n",
    "calcResults.append(result)\n",
    "\n",
    "result = calc('//', 2, 2)\n",
    "calcResults.append(result)\n",
    "\n",
    "result = calc('mod', 2, 2)\n",
    "calcResults.append(result)\n",
    "\n",
    "result = calc('%', 2, 2)\n",
    "calcResults.append(result)\n",
    "\n",
    "print(calcResults)\n",
    "\n",
    "print(calc('ADD', 2, 2))\n",
    "\n",
    "print(calc('sin', 2, 2))"
   ]
  },
  {
   "cell_type": "code",
   "execution_count": 7,
   "metadata": {
    "code_folding": [
     2,
     17,
     29
    ]
   },
   "outputs": [
    {
     "name": "stdout",
     "output_type": "stream",
     "text": [
      "[16, 20, 207]\n",
      "1894.5\n",
      "{1: 3, 2: 4, 45: 42}\n",
      "dict_values([3, 4, 42])\n",
      "{1: 300, 2: 400, 45: 4200}\n",
      "5\n"
     ]
    }
   ],
   "source": [
    "import random\n",
    " \n",
    "def foo(l1, l2, l3, l4):\n",
    "    \n",
    "    storage = []\n",
    "    \n",
    "    arr = zip(l1, l2, l3, l4)\n",
    "    \n",
    "    total = 0\n",
    "    \n",
    "    for i, j, k, l in arr:\n",
    "        \n",
    "        total = (i + j + k + l)\n",
    "        storage.append(total)\n",
    "        \n",
    "    return storage\n",
    "\n",
    "def createDict(keys, values):\n",
    "    \n",
    "    dictionary = {}\n",
    "    \n",
    "    arr = zip(keys, values)\n",
    "    \n",
    "    for key, value in arr:\n",
    "        \n",
    "        dictionary[key] = value\n",
    "        \n",
    "    return dictionary\n",
    "\n",
    "def minVal(values):\n",
    "    \n",
    "    length = len(values)\n",
    "    \n",
    "    if length > 0:\n",
    "        \n",
    "        minimumVal = values[0]\n",
    "            \n",
    "        for i in range(length):\n",
    "            if values[i] < minimumVal:\n",
    "                minimumVal = values[i]\n",
    "            \n",
    "        \n",
    "    return minimumVal\n",
    "\n",
    "def main():\n",
    "    \n",
    "    li1 = [1, 2, 45]\n",
    "    li2 = [3, 4, 42]\n",
    "    li3 = [5, 6, 21]\n",
    "    li4 = [7, 8, 99]\n",
    "    \n",
    "    var = foo(li1, li2, li3, li4)\n",
    "    \n",
    "    print(var)\n",
    "    \n",
    "    squares = ((li1[2] ** 2) + (li2[2] ** 2)) / 2\n",
    "    \n",
    "    print(squares)\n",
    "\n",
    "    library = createDict(li1, li2)\n",
    "    \n",
    "    print(library)\n",
    "    print(library.values())\n",
    "    \n",
    "    for key in library:\n",
    "        library[key] *= 100\n",
    "    \n",
    "    print(library)\n",
    "    \n",
    "    arr = []\n",
    "    \n",
    "    for i in range(15):\n",
    "        arr.append(random.randint(0, 100))\n",
    "        #print(arr)\n",
    "    \n",
    "    maximum = minVal(arr)\n",
    "    print(maximum)\n",
    "    \n",
    "main()"
   ]
  },
  {
   "cell_type": "code",
   "execution_count": null,
   "metadata": {
    "code_folding": [
     0
    ]
   },
   "outputs": [],
   "source": [
    "def binarySearch(vals, key, lower, upper):\n",
    "    \n",
    "    vals = vals.sort() # sorted data for the algorithm\n",
    "    \n",
    "    middle = (lower + upper) // 2\n",
    "    \n",
    "    if lower == upper:\n",
    "        \n",
    "        if vals[middle] == key:\n",
    "            return middle\n",
    "        else:\n",
    "            return -1\n",
    "        \n",
    "    elif key < vals[middle]:\n",
    "        return binarySearch(vals, key, lower, middle - 1)\n",
    "    \n",
    "    elif key > vals[middle]:\n",
    "        return binarySearch(vals, key, middle + 1, upper)\n",
    "    \n",
    "    else:\n",
    "        return -1\n",
    "    \n",
    "vals = [i for i in range(100)]"
   ]
  },
  {
   "cell_type": "code",
   "execution_count": 2,
   "metadata": {
    "code_folding": [
     0
    ]
   },
   "outputs": [
    {
     "name": "stdout",
     "output_type": "stream",
     "text": [
      "[0, 3]\n"
     ]
    }
   ],
   "source": [
    "def list_of_positive_indices(lst):\n",
    "    \n",
    "    newList = []\n",
    "    length = len(lst)\n",
    "    \n",
    "    for i in range(length):\n",
    "        if lst[i] > 0:\n",
    "            newList.append(i)\n",
    "            \n",
    "    return newList\n",
    "\n",
    "arr = [1, -1, 0, 3]\n",
    "\n",
    "result = list_of_positive_indices(arr)\n",
    "\n",
    "print(result)"
   ]
  },
  {
   "cell_type": "code",
   "execution_count": 3,
   "metadata": {
    "code_folding": [
     0
    ]
   },
   "outputs": [
    {
     "name": "stdout",
     "output_type": "stream",
     "text": [
      "[5, 15, 17, 18, 19, 27, 32]\n"
     ]
    }
   ],
   "source": [
    "def selectionSort(data):\n",
    "\n",
    "    n = len(data)\n",
    "    for front in range(n-1):\n",
    "        minPos = front\n",
    "        for i in range(front + 1, n):\n",
    "            if data[i] < data[minPos]:\n",
    "                minPos = i\n",
    "        temp = data[minPos]\n",
    "        data[minPos] = data[front]\n",
    "        data[front] = temp\n",
    "        \n",
    "data = [17, 27, 15, 19, 32, 5, 18]\n",
    "selectionSort(data)\n",
    "print(data)"
   ]
  },
  {
   "cell_type": "code",
   "execution_count": 19,
   "metadata": {},
   "outputs": [
    {
     "name": "stdout",
     "output_type": "stream",
     "text": [
      "\n",
      "a\n",
      "b\n",
      "ab\n",
      "c\n",
      "ac\n",
      "bc\n",
      "abc\n"
     ]
    }
   ],
   "source": []
  },
  {
   "cell_type": "code",
   "execution_count": 4,
   "metadata": {},
   "outputs": [
    {
     "name": "stdout",
     "output_type": "stream",
     "text": [
      "The element is in the list!\n",
      "The element is not in the list!\n"
     ]
    }
   ],
   "source": [
    "def inList(lst, key):\n",
    "    \n",
    "    if key in lst:\n",
    "        return True\n",
    "    else:\n",
    "        return False\n",
    "\n",
    "    \n",
    "\n",
    "lst = {1, 5, 10, 17}\n",
    "\n",
    "result = inList(lst, 10)\n",
    "\n",
    "if result:\n",
    "    print('The element is in the list!')\n",
    "\n",
    "else:\n",
    "    print('The element is not in the list!')\n",
    "\n",
    "    \n",
    "result = inList(lst, 42)\n",
    "\n",
    "if result:\n",
    "    print('The element is in the list!')\n",
    "\n",
    "else:\n",
    "    print('The element is not in the list!')"
   ]
  },
  {
   "cell_type": "code",
   "execution_count": 1,
   "metadata": {},
   "outputs": [
    {
     "name": "stdout",
     "output_type": "stream",
     "text": [
      "1\n",
      "2\n"
     ]
    }
   ],
   "source": [
    "import numpy as np\n",
    "\n",
    "arr = np.array([1, 2])\n",
    "brr = np.array([3, 4])\n",
    "\n",
    "for i in range (len(arr)):\n",
    "    print(arr[i])\n",
    "    \n",
    "np.subtract"
   ]
  },
  {
   "cell_type": "code",
   "execution_count": null,
   "metadata": {},
   "outputs": [],
   "source": []
  }
 ],
 "metadata": {
  "kernelspec": {
   "display_name": "Python 3",
   "language": "python",
   "name": "python3"
  },
  "language_info": {
   "codemirror_mode": {
    "name": "ipython",
    "version": 3
   },
   "file_extension": ".py",
   "mimetype": "text/x-python",
   "name": "python",
   "nbconvert_exporter": "python",
   "pygments_lexer": "ipython3",
   "version": "3.7.3"
  },
  "varInspector": {
   "cols": {
    "lenName": 16,
    "lenType": 16,
    "lenVar": 40
   },
   "kernels_config": {
    "python": {
     "delete_cmd_postfix": "",
     "delete_cmd_prefix": "del ",
     "library": "var_list.py",
     "varRefreshCmd": "print(var_dic_list())"
    },
    "r": {
     "delete_cmd_postfix": ") ",
     "delete_cmd_prefix": "rm(",
     "library": "var_list.r",
     "varRefreshCmd": "cat(var_dic_list()) "
    }
   },
   "types_to_exclude": [
    "module",
    "function",
    "builtin_function_or_method",
    "instance",
    "_Feature"
   ],
   "window_display": false
  }
 },
 "nbformat": 4,
 "nbformat_minor": 2
}
