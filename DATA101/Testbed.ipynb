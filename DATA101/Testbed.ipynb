{
 "cells": [
  {
   "cell_type": "markdown",
   "metadata": {},
   "source": [
    "# Practice Problems:\n",
    "\n",
    "1. Create a `calc` function that takes in 3 paramaeters: operation, par1, par2"
   ]
  },
  {
   "cell_type": "code",
   "execution_count": null,
   "metadata": {
    "code_folding": []
   },
   "outputs": [],
   "source": [
    "def calc(operation, par1, par2 ):\n",
    "    \n",
    "    ops = ['+', '-', '*', '**', '/', '//', '%']\n",
    "    \n",
    "    operation = str(operation)\n",
    "    \n",
    "    if operation not in ops:\n",
    "        operation = operation.lower()\n",
    "    \n",
    "    if operation == '+' or operation == 'add':\n",
    "        return par1 + par2\n",
    "    \n",
    "    elif operation == '-' or operation == 'sub':\n",
    "        return par1 - par2\n",
    "    \n",
    "    elif operation == '*' or operation == 'mul':\n",
    "        return par1 * par2\n",
    "    \n",
    "    elif operation == '**' or operation == 'pow':\n",
    "        return par1 ** par2\n",
    "    \n",
    "    elif operation == '/' or operation == 'div':\n",
    "        return par1 / par2\n",
    "    \n",
    "    elif operation == '//' or operation == 'int-div':\n",
    "        return par1 // par2\n",
    "    \n",
    "    elif operation == '%' or operation == 'mod':\n",
    "        return par1 % par2\n",
    "    \n",
    "    else: \n",
    "        \n",
    "        legalOperations = ['+ or add', '- or sub', '* or mul', '** or pow', '/ or div', '// or int-div', '% or mod']\n",
    "        \n",
    "        print('Function not defined or keyword has been specified! Please enter in one of the following operations as a string: \\n')\n",
    "        \n",
    "        for op in legalOperations:\n",
    "            print(op)\n",
    "        \n",
    "        return 'ERROR!!!'\n",
    "    \n",
    "calcResults = []\n",
    "\n",
    "result = calc('add', 2, 2)\n",
    "calcResults.append(result)\n",
    "\n",
    "result = calc('+', 2, 2)\n",
    "calcResults.append(result)\n",
    "\n",
    "result = calc('sub', 2, 2)\n",
    "calcResults.append(result)\n",
    "\n",
    "result = calc('-', 2, 2)\n",
    "calcResults.append(result)\n",
    "\n",
    "result = calc('mul', 2, 2)\n",
    "calcResults.append(result)\n",
    "\n",
    "result = calc('*', 2, 2)\n",
    "calcResults.append(result)\n",
    "\n",
    "result = calc('div', 2, 2)\n",
    "calcResults.append(result)\n",
    "\n",
    "result = calc('/', 2, 2)\n",
    "calcResults.append(result)\n",
    "\n",
    "result = calc('**', 2, 2)\n",
    "calcResults.append(result)\n",
    "\n",
    "result = calc('pow', 2, 2)\n",
    "calcResults.append(result)\n",
    "\n",
    "result = calc('int-div', 2, 2)\n",
    "calcResults.append(result)\n",
    "\n",
    "result = calc('//', 2, 2)\n",
    "calcResults.append(result)\n",
    "\n",
    "result = calc('mod', 2, 2)\n",
    "calcResults.append(result)\n",
    "\n",
    "result = calc('%', 2, 2)\n",
    "calcResults.append(result)\n",
    "\n",
    "print(calcResults)\n",
    "\n",
    "print(calc('ADD', 2, 2))\n",
    "\n",
    "print(calc('sin', 2, 2))"
   ]
  },
  {
   "cell_type": "code",
   "execution_count": 7,
   "metadata": {
    "code_folding": [
     17,
     29
    ]
   },
   "outputs": [
    {
     "name": "stdout",
     "output_type": "stream",
     "text": [
      "[16, 20, 207]\n",
      "1894.5\n",
      "{1: 3, 2: 4, 45: 42}\n",
      "dict_values([3, 4, 42])\n",
      "{1: 300, 2: 400, 45: 4200}\n",
      "5\n"
     ]
    }
   ],
   "source": [
    "import random\n",
    " \n",
    "def foo(l1, l2, l3, l4):\n",
    "    \n",
    "    storage = []\n",
    "    \n",
    "    arr = zip(l1, l2, l3, l4)\n",
    "    \n",
    "    total = 0\n",
    "    \n",
    "    for i, j, k, l in arr:\n",
    "        \n",
    "        total = (i + j + k + l)\n",
    "        storage.append(total)\n",
    "        \n",
    "    return storage\n",
    "\n",
    "def createDict(keys, values):\n",
    "    \n",
    "    dictionary = {}\n",
    "    \n",
    "    arr = zip(keys, values)\n",
    "    \n",
    "    for key, value in arr:\n",
    "        \n",
    "        dictionary[key] = value\n",
    "        \n",
    "    return dictionary\n",
    "\n",
    "def minVal(values):\n",
    "    \n",
    "    length = len(values)\n",
    "    \n",
    "    if length > 0:\n",
    "        \n",
    "        minimumVal = values[0]\n",
    "            \n",
    "        for i in range(length):\n",
    "            if values[i] < minimumVal:\n",
    "                minimumVal = values[i]\n",
    "            \n",
    "        \n",
    "    return minimumVal\n",
    "\n",
    "def main():\n",
    "    \n",
    "    li1 = [1, 2, 45]\n",
    "    li2 = [3, 4, 42]\n",
    "    li3 = [5, 6, 21]\n",
    "    li4 = [7, 8, 99]\n",
    "    \n",
    "    var = foo(li1, li2, li3, li4)\n",
    "    \n",
    "    print(var)\n",
    "    \n",
    "    squares = ((li1[2] ** 2) + (li2[2] ** 2)) / 2\n",
    "    \n",
    "    print(squares)\n",
    "\n",
    "    library = createDict(li1, li2)\n",
    "    \n",
    "    print(library)\n",
    "    print(library.values())\n",
    "    \n",
    "    for key in library:\n",
    "        library[key] *= 100\n",
    "    \n",
    "    print(library)\n",
    "    \n",
    "    arr = []\n",
    "    \n",
    "    for i in range(15):\n",
    "        arr.append(random.randint(0, 100))\n",
    "        #print(arr)\n",
    "    \n",
    "    maximum = minVal(arr)\n",
    "    print(maximum)\n",
    "    \n",
    "main()"
   ]
  },
  {
   "cell_type": "code",
   "execution_count": 4,
   "metadata": {},
   "outputs": [
    {
     "name": "stdout",
     "output_type": "stream",
     "text": [
      "The element is in the list!\n",
      "The element is not in the list!\n"
     ]
    }
   ],
   "source": [
    "def inList(lst, key):\n",
    "    \n",
    "    if key in lst:\n",
    "        return True\n",
    "    else:\n",
    "        return False\n",
    "\n",
    "    \n",
    "\n",
    "lst = {1, 5, 10, 17}\n",
    "\n",
    "result = inList(lst, 10)\n",
    "\n",
    "if result:\n",
    "    print('The element is in the list!')\n",
    "\n",
    "else:\n",
    "    print('The element is not in the list!')\n",
    "\n",
    "    \n",
    "result = inList(lst, 42)\n",
    "\n",
    "if result:\n",
    "    print('The element is in the list!')\n",
    "\n",
    "else:\n",
    "    print('The element is not in the list!')"
   ]
  },
  {
   "cell_type": "code",
   "execution_count": 1,
   "metadata": {},
   "outputs": [
    {
     "name": "stdout",
     "output_type": "stream",
     "text": [
      "1\n",
      "2\n"
     ]
    }
   ],
   "source": [
    "import numpy as np\n",
    "\n",
    "arr = np.array([1, 2])\n",
    "brr = np.array([3, 4])\n",
    "\n",
    "for i in range (len(arr)):\n",
    "    print(arr[i])\n",
    "    "
   ]
  },
  {
   "cell_type": "code",
   "execution_count": 1,
   "metadata": {
    "scrolled": true,
    "tags": []
   },
   "outputs": [
    {
     "output_type": "stream",
     "name": "stdout",
     "text": "[39, 29, 8, 61, 78, 35, 89, 12, 11, 28]\n[13, 26, 91, 88, 9, 33, 97, 43, 79, 70]\n[52, 55, 99, 149, 87, 68, 186, 55, 90, 98]\n[ 52  55  99 149  87  68 186  55  90  98]\n[[2 4 6 8]\n [1 3 5 7]]\n[[1 3]]\n"
    }
   ],
   "source": [
    "import random\n",
    "import numpy as np\n",
    "\n",
    "def addLists(lst1, lst2):\n",
    "    \n",
    "    result = []\n",
    "    \n",
    "    \n",
    "    if len(lst1) != len(lst2):\n",
    "        return 0\n",
    "    \n",
    "    for i in range(len(lst1)):\n",
    "        total = lst1[i] + lst2[i]\n",
    "        result.append(total)\n",
    "        total = 0\n",
    "        \n",
    "    return result\n",
    "\n",
    "arr1 = [random.randint(0, 100) for x in range(10)]\n",
    "arr2 = [random.randint(0, 100) for x in range(10)]\n",
    "\n",
    "print(arr1)\n",
    "print(arr2)\n",
    "\n",
    "#print(arr1[::-1])\n",
    "\n",
    "result = addLists(arr1, arr2)\n",
    "\n",
    "print(result)\n",
    "\n",
    "npArr = np.array(arr1)\n",
    "npBrr = np.array(arr2)\n",
    "\n",
    "res = npArr + npBrr\n",
    "\n",
    "print(res)\n",
    "\n",
    "matrix = np.array([[2,4,6,8], [1,3,5,7]])\n",
    "\n",
    "print(matrix)\n",
    "\n",
    "print(matrix[1:, :2])"
   ]
  },
  {
   "cell_type": "markdown",
   "metadata": {},
   "source": [
    "## Numpy Vectors"
   ]
  },
  {
   "cell_type": "code",
   "execution_count": 2,
   "metadata": {
    "scrolled": true
   },
   "outputs": [
    {
     "name": "stdout",
     "output_type": "stream",
     "text": [
      "[121 102 144 157 245 125 170  92 200 258 156 122 103 173 119]\n"
     ]
    }
   ],
   "source": [
    "import numpy as np\n",
    "import random\n",
    "x = [random.randint(0, 100) for i in range(15)]\n",
    "y = [random.randint(0, 100) for i in range(15)]\n",
    "z = [random.randint(0, 100) for i in range(15)]\n",
    "\n",
    "npX = np.array(x)\n",
    "npY = np.array(y)\n",
    "npZ = np.array(z)\n",
    "\n",
    "result = np.array([])\n",
    "\n",
    "result = npX + npY + npZ\n",
    "print(result)\n",
    "\n"
   ]
  },
  {
   "cell_type": "markdown",
   "metadata": {},
   "source": [
    "## Numpy Slicing and Multi-Dimensional Arrays"
   ]
  },
  {
   "cell_type": "code",
   "execution_count": 3,
   "metadata": {},
   "outputs": [
    {
     "name": "stdout",
     "output_type": "stream",
     "text": [
      "[[ 0  1  2  3  4  5  6  7  8  9]\n",
      " [10 11 12 13 14 15 16 17 18 19]\n",
      " [20 21 22 23 24 25 26 27 28 29]\n",
      " [30 31 32 33 34 35 36 37 38 39]\n",
      " [40 41 42 43 44 45 46 47 48 49]\n",
      " [50 51 52 53 54 55 56 57 58 59]\n",
      " [60 61 62 63 64 65 66 67 68 69]\n",
      " [70 71 72 73 74 75 76 77 78 79]\n",
      " [80 81 82 83 84 85 86 87 88 89]\n",
      " [90 91 92 93 94 95 96 97 98 99]]\n",
      "0\n",
      "[0 1 2 3 4 5 6 7 8 9]\n",
      "[ 5 15 25 35 45 55 65 75 85 95]\n",
      "[[10 11 12 13 14]\n",
      " [20 21 22 23 24]\n",
      " [30 31 32 33 34]\n",
      " [40 41 42 43 44]\n",
      " [50 51 52 53 54]\n",
      " [60 61 62 63 64]\n",
      " [70 71 72 73 74]\n",
      " [80 81 82 83 84]\n",
      " [90 91 92 93 94]]\n",
      "[[ 0  2  4]\n",
      " [20 22 24]\n",
      " [40 42 44]]\n"
     ]
    }
   ],
   "source": [
    "npArr = np.arange(0, 100)\n",
    "npArr = npArr.reshape(10, 10)\n",
    "\n",
    "print(npArr) # entire npArray\n",
    "\n",
    "print(npArr[0, 0]) # first element\n",
    "\n",
    "print(npArr[0]) # first row only\n",
    "\n",
    "print(npArr[:, 5]) # fifth column only\n",
    "\n",
    "print(npArr[1:, :5]) # print everything from the second row up to the fourth column\n",
    "\n",
    "print(npArr[0:6:2, 0:6:2]) # print the the rows and columns from 0 to the thrid, and step 2"
   ]
  },
  {
   "cell_type": "markdown",
   "metadata": {},
   "source": [
    "## Try and Except"
   ]
  },
  {
   "cell_type": "code",
   "execution_count": 1,
   "metadata": {
    "code_folding": [],
    "tags": []
   },
   "outputs": [
    {
     "output_type": "stream",
     "name": "stdout",
     "text": "380\nBad number!\n{0: 4, 1: 1, 2: 11, 3: 34, 4: 32}\n4\n11\n5 Key not in dictionary!\n1\n7 Key not in dictionary!\n{0: 'Maybe this is a key?', 1: 1, 2: 11, 3: 34, 4: 32, 'key': 'Maybe this is a key?'}\nMaybe this is a key?\nMaybe this is a key?\n"
    }
   ],
   "source": [
    "import random\n",
    "\n",
    "r = random.randint(0, 1000)\n",
    "print(r)\n",
    "\n",
    "try:\n",
    "    \n",
    "    if r > 750:\n",
    "        print('Number is good!')\n",
    "    else: \n",
    "        raise Exception\n",
    "        \n",
    "except:\n",
    "    print('Bad number!')\n",
    "\n",
    "    \n",
    "dictionary = {}\n",
    "\n",
    "for i in range(5):\n",
    "    dictionary[i] = random.randint(0, 42)\n",
    "\n",
    "print(dictionary)\n",
    "\n",
    "keys = [0, 2, 5, 1, 7]\n",
    "\n",
    "for key in keys:\n",
    "\n",
    "    try: \n",
    "        if key in dictionary:\n",
    "            print(dictionary[key])\n",
    "        else:\n",
    "            raise KeyError\n",
    "\n",
    "    except KeyError:\n",
    "        print(key, 'Key not in dictionary!')\n",
    "\n",
    "dictionary[0] = 'Maybe this is a key?'\n",
    "\n",
    "dictionary['key'] = 'Maybe this is a key?'\n",
    "\n",
    "print(dictionary)\n",
    "print(dictionary[0])\n",
    "print(dictionary['key'])\n",
    "\n",
    "#for key in keys:\n",
    "#    print(dictionary[key])"
   ]
  },
  {
   "cell_type": "markdown",
   "metadata": {},
   "source": [
    "## Boolean Masks"
   ]
  },
  {
   "cell_type": "code",
   "execution_count": 24,
   "metadata": {
    "tags": []
   },
   "outputs": [
    {
     "output_type": "stream",
     "name": "stdout",
     "text": "[74 47 19 97 96  7 99 36 35 96 79 23 16 40 92]\n[ True False False  True  True False  True False False  True  True False\n False False  True]\n[74 97 96 99 96 79 92]\n[ True False False False False False False False False False False False\n False False False]\n[74]\n"
    }
   ],
   "source": [
    "import numpy as np\n",
    "import random as r\n",
    "x = [r.randint(0, 100) for i in range(15)]\n",
    "\n",
    "npArr = np.array(x)\n",
    "\n",
    "print(npArr)\n",
    "\n",
    "mask = npArr > 50\n",
    "\n",
    "print(mask)\n",
    "\n",
    "print(npArr[mask])\n",
    "\n",
    "mask = (npArr > 50) & (npArr < 75)\n",
    "\n",
    "print(mask)\n",
    "\n",
    "print(npArr[mask])"
   ]
  },
  {
   "cell_type": "markdown",
   "metadata": {},
   "source": [
    "## Logical Equivalents"
   ]
  },
  {
   "cell_type": "code",
   "execution_count": 23,
   "metadata": {
    "tags": []
   },
   "outputs": [
    {
     "output_type": "stream",
     "name": "stdout",
     "text": "False\nTrue\nTrue\n"
    }
   ],
   "source": [
    "op1 = True\n",
    "op2 = False \n",
    "\n",
    "result = op1 and op2\n",
    "\n",
    "print(result)\n",
    "\n",
    "op1 = True\n",
    "op2 = False \n",
    "\n",
    "result = op1 or op2\n",
    "\n",
    "print(result)\n",
    "\n",
    "op1 = False\n",
    "op2 = False \n",
    "\n",
    "result = not(op1 or op2) # same as result = op1 and op2\n",
    "\n",
    "print(result)\n",
    "\n",
    "op1 = False\n",
    "op2 = False \n",
    "\n",
    "result = not(op1 and op2) # result = op1 or op2\n",
    "\n",
    "print(result)"
   ]
  },
  {
   "cell_type": "code",
   "execution_count": null,
   "metadata": {},
   "outputs": [],
   "source": []
  }
 ],
 "metadata": {
  "kernelspec": {
   "display_name": "Python 3",
   "language": "python",
   "name": "python3"
  },
  "language_info": {
   "codemirror_mode": {
    "name": "ipython",
    "version": 3
   },
   "file_extension": ".py",
   "mimetype": "text/x-python",
   "name": "python",
   "nbconvert_exporter": "python",
   "pygments_lexer": "ipython3",
   "version": "3.8.6-final"
  },
  "varInspector": {
   "cols": {
    "lenName": 16,
    "lenType": 16,
    "lenVar": 40
   },
   "kernels_config": {
    "python": {
     "delete_cmd_postfix": "",
     "delete_cmd_prefix": "del ",
     "library": "var_list.py",
     "varRefreshCmd": "print(var_dic_list())"
    },
    "r": {
     "delete_cmd_postfix": ") ",
     "delete_cmd_prefix": "rm(",
     "library": "var_list.r",
     "varRefreshCmd": "cat(var_dic_list()) "
    }
   },
   "types_to_exclude": [
    "module",
    "function",
    "builtin_function_or_method",
    "instance",
    "_Feature"
   ],
   "window_display": false
  }
 },
 "nbformat": 4,
 "nbformat_minor": 2
}