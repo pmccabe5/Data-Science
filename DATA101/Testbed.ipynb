{
 "cells": [
  {
   "cell_type": "markdown",
   "metadata": {},
   "source": [
    "# Practice Problems:\n",
    "\n",
    "1. Create a `calc` function that takes in 3 paramaeters: operation, par1, par2"
   ]
  },
  {
   "cell_type": "code",
   "execution_count": null,
   "metadata": {
    "code_folding": []
   },
   "outputs": [],
   "source": [
    "def calc(operation, par1, par2 ):\n",
    "    \n",
    "    ops = ['+', '-', '*', '**', '/', '//', '%']\n",
    "    \n",
    "    operation = str(operation)\n",
    "    \n",
    "    if operation not in ops:\n",
    "        operation = operation.lower()\n",
    "    \n",
    "    if operation == '+' or operation == 'add':\n",
    "        return par1 + par2\n",
    "    \n",
    "    elif operation == '-' or operation == 'sub':\n",
    "        return par1 - par2\n",
    "    \n",
    "    elif operation == '*' or operation == 'mul':\n",
    "        return par1 * par2\n",
    "    \n",
    "    elif operation == '**' or operation == 'pow':\n",
    "        return par1 ** par2\n",
    "    \n",
    "    elif operation == '/' or operation == 'div':\n",
    "        return par1 / par2\n",
    "    \n",
    "    elif operation == '//' or operation == 'int-div':\n",
    "        return par1 // par2\n",
    "    \n",
    "    elif operation == '%' or operation == 'mod':\n",
    "        return par1 % par2\n",
    "    \n",
    "    else: \n",
    "        \n",
    "        legalOperations = ['+ or add', '- or sub', '* or mul', '** or pow', '/ or div', '// or int-div', '% or mod']\n",
    "        \n",
    "        print('Function not defined or keyword has been specified! Please enter in one of the following operations as a string: \\n')\n",
    "        \n",
    "        for op in legalOperations:\n",
    "            print(op)\n",
    "        \n",
    "        return 'ERROR!!!'\n",
    "    \n",
    "calcResults = []\n",
    "\n",
    "result = calc('add', 2, 2)\n",
    "calcResults.append(result)\n",
    "\n",
    "result = calc('+', 2, 2)\n",
    "calcResults.append(result)\n",
    "\n",
    "result = calc('sub', 2, 2)\n",
    "calcResults.append(result)\n",
    "\n",
    "result = calc('-', 2, 2)\n",
    "calcResults.append(result)\n",
    "\n",
    "result = calc('mul', 2, 2)\n",
    "calcResults.append(result)\n",
    "\n",
    "result = calc('*', 2, 2)\n",
    "calcResults.append(result)\n",
    "\n",
    "result = calc('div', 2, 2)\n",
    "calcResults.append(result)\n",
    "\n",
    "result = calc('/', 2, 2)\n",
    "calcResults.append(result)\n",
    "\n",
    "result = calc('**', 2, 2)\n",
    "calcResults.append(result)\n",
    "\n",
    "result = calc('pow', 2, 2)\n",
    "calcResults.append(result)\n",
    "\n",
    "result = calc('int-div', 2, 2)\n",
    "calcResults.append(result)\n",
    "\n",
    "result = calc('//', 2, 2)\n",
    "calcResults.append(result)\n",
    "\n",
    "result = calc('mod', 2, 2)\n",
    "calcResults.append(result)\n",
    "\n",
    "result = calc('%', 2, 2)\n",
    "calcResults.append(result)\n",
    "\n",
    "print(calcResults)\n",
    "\n",
    "print(calc('ADD', 2, 2))\n",
    "\n",
    "print(calc('sin', 2, 2))"
   ]
  },
  {
   "cell_type": "code",
   "execution_count": 7,
   "metadata": {
    "code_folding": [
     17,
     29
    ]
   },
   "outputs": [
    {
     "name": "stdout",
     "output_type": "stream",
     "text": [
      "[16, 20, 207]\n",
      "1894.5\n",
      "{1: 3, 2: 4, 45: 42}\n",
      "dict_values([3, 4, 42])\n",
      "{1: 300, 2: 400, 45: 4200}\n",
      "5\n"
     ]
    }
   ],
   "source": [
    "import random\n",
    " \n",
    "def foo(l1, l2, l3, l4):\n",
    "    \n",
    "    storage = []\n",
    "    \n",
    "    arr = zip(l1, l2, l3, l4)\n",
    "    \n",
    "    total = 0\n",
    "    \n",
    "    for i, j, k, l in arr:\n",
    "        \n",
    "        total = (i + j + k + l)\n",
    "        storage.append(total)\n",
    "        \n",
    "    return storage\n",
    "\n",
    "def createDict(keys, values):\n",
    "    \n",
    "    dictionary = {}\n",
    "    \n",
    "    arr = zip(keys, values)\n",
    "    \n",
    "    for key, value in arr:\n",
    "        \n",
    "        dictionary[key] = value\n",
    "        \n",
    "    return dictionary\n",
    "\n",
    "def minVal(values):\n",
    "    \n",
    "    length = len(values)\n",
    "    \n",
    "    if length > 0:\n",
    "        \n",
    "        minimumVal = values[0]\n",
    "            \n",
    "        for i in range(length):\n",
    "            if values[i] < minimumVal:\n",
    "                minimumVal = values[i]\n",
    "            \n",
    "        \n",
    "    return minimumVal\n",
    "\n",
    "def main():\n",
    "    \n",
    "    li1 = [1, 2, 45]\n",
    "    li2 = [3, 4, 42]\n",
    "    li3 = [5, 6, 21]\n",
    "    li4 = [7, 8, 99]\n",
    "    \n",
    "    var = foo(li1, li2, li3, li4)\n",
    "    \n",
    "    print(var)\n",
    "    \n",
    "    squares = ((li1[2] ** 2) + (li2[2] ** 2)) / 2\n",
    "    \n",
    "    print(squares)\n",
    "\n",
    "    library = createDict(li1, li2)\n",
    "    \n",
    "    print(library)\n",
    "    print(library.values())\n",
    "    \n",
    "    for key in library:\n",
    "        library[key] *= 100\n",
    "    \n",
    "    print(library)\n",
    "    \n",
    "    arr = []\n",
    "    \n",
    "    for i in range(15):\n",
    "        arr.append(random.randint(0, 100))\n",
    "        #print(arr)\n",
    "    \n",
    "    maximum = minVal(arr)\n",
    "    print(maximum)\n",
    "    \n",
    "main()"
   ]
  },
  {
   "cell_type": "code",
   "execution_count": 4,
   "metadata": {},
   "outputs": [
    {
     "name": "stdout",
     "output_type": "stream",
     "text": [
      "The element is in the list!\n",
      "The element is not in the list!\n"
     ]
    }
   ],
   "source": [
    "def inList(lst, key):\n",
    "    \n",
    "    if key in lst:\n",
    "        return True\n",
    "    else:\n",
    "        return False\n",
    "\n",
    "    \n",
    "\n",
    "lst = {1, 5, 10, 17}\n",
    "\n",
    "result = inList(lst, 10)\n",
    "\n",
    "if result:\n",
    "    print('The element is in the list!')\n",
    "\n",
    "else:\n",
    "    print('The element is not in the list!')\n",
    "\n",
    "    \n",
    "result = inList(lst, 42)\n",
    "\n",
    "if result:\n",
    "    print('The element is in the list!')\n",
    "\n",
    "else:\n",
    "    print('The element is not in the list!')"
   ]
  },
  {
   "cell_type": "code",
   "execution_count": 1,
   "metadata": {},
   "outputs": [
    {
     "name": "stdout",
     "output_type": "stream",
     "text": [
      "1\n",
      "2\n"
     ]
    }
   ],
   "source": [
    "import numpy as np\n",
    "\n",
    "arr = np.array([1, 2])\n",
    "brr = np.array([3, 4])\n",
    "\n",
    "for i in range (len(arr)):\n",
    "    print(arr[i])\n",
    "    "
   ]
  },
  {
   "cell_type": "code",
   "execution_count": 20,
   "metadata": {
    "scrolled": true
   },
   "outputs": [
    {
     "name": "stdout",
     "output_type": "stream",
     "text": [
      "[24, 46, 8, 33, 51, 9, 51, 92, 78, 78]\n",
      "[40, 8, 91, 31, 83, 92, 51, 31, 80, 18]\n",
      "[ 64  54  99  64 134 101 102 123 158  96]\n",
      "[[2 4 6 8]\n",
      " [1 3 5 7]]\n",
      "[[1 3]]\n"
     ]
    }
   ],
   "source": [
    "import random\n",
    "import numpy as np\n",
    "\n",
    "def addLists(lst1, lst2):\n",
    "    \n",
    "    result = []\n",
    "    \n",
    "    \n",
    "    if len(lst1) != len(lst2):\n",
    "        return 0\n",
    "    \n",
    "    for i in range(len(lst1)):\n",
    "        total = lst1[i] + lst2[i]\n",
    "        result.append(total)\n",
    "        total = 0\n",
    "        \n",
    "    return result\n",
    "\n",
    "arr1 = [random.randint(0, 100) for x in range(10)]\n",
    "arr2 = [random.randint(0, 100) for x in range(10)]\n",
    "\n",
    "print(arr1)\n",
    "print(arr2)\n",
    "\n",
    "#print(arr1[::-1])\n",
    "\n",
    "result = addLists(arr1, arr2)\n",
    "\n",
    "#print(result)\n",
    "\n",
    "npArr = np.array(arr1)\n",
    "npBrr = np.array(arr2)\n",
    "\n",
    "res = npArr + npBrr\n",
    "\n",
    "print(res)\n",
    "\n",
    "matrix = np.array([[2,4,6,8], [1,3,5,7]])\n",
    "\n",
    "print(matrix)\n",
    "\n",
    "print(matrix[1:, :2])"
   ]
  },
  {
   "cell_type": "markdown",
   "metadata": {},
   "source": [
    "## Numpy Vectors"
   ]
  },
  {
   "cell_type": "code",
   "execution_count": 16,
   "metadata": {
    "scrolled": true
   },
   "outputs": [
    {
     "name": "stdout",
     "output_type": "stream",
     "text": [
      "[73, 81, 94, 27, 14, 98, 13, 8, 33, 100, 5, 90, 50, 47, 52]\n",
      "[83, 71, 32, 66, 88, 34, 24, 12, 67, 31, 73, 55, 51, 12, 65]\n",
      "[34, 64, 90, 93, 13, 43, 74, 90, 80, 37, 26, 31, 83, 65, 3]\n",
      "[190 216 216 186 115 175 111 110 180 168 104 176 184 124 120]\n",
      "[0.87951807 1.14084507 2.9375     0.40909091 0.15909091 2.88235294\n",
      " 0.54166667 0.66666667 0.49253731 3.22580645 0.06849315 1.63636364\n",
      " 0.98039216 3.91666667 0.8       ]\n"
     ]
    }
   ],
   "source": [
    "import numpy as np\n",
    "import random\n",
    "\n",
    "x = [random.randint(0, 100) for i in range(15)]\n",
    "y = [random.randint(0, 100) for i in range(15)]\n",
    "z = [random.randint(0, 100) for i in range(15)]\n",
    "\n",
    "print(x)\n",
    "print(y)\n",
    "print(z)\n",
    "\n",
    "npX = np.array(x)\n",
    "npY = np.array(y)\n",
    "npZ = np.array(z)\n",
    "\n",
    "result = np.array([])\n",
    "\n",
    "result = npX + npY + npZ\n",
    "print(result)\n",
    "\n",
    "\n",
    "def div(npA, npB):\n",
    "    \n",
    "    return npA / npB\n",
    "\n",
    "check = div(npX, npY)\n",
    "print(check)\n"
   ]
  },
  {
   "cell_type": "markdown",
   "metadata": {},
   "source": [
    "## Numpy Slicing and Multi-Dimensional Arrays"
   ]
  },
  {
   "cell_type": "code",
   "execution_count": 32,
   "metadata": {},
   "outputs": [
    {
     "name": "stdout",
     "output_type": "stream",
     "text": [
      "[ 0  1  2  3  4  5  6  7  8  9 10 11 12 13 14 15 16 17 18 19 20 21 22 23\n",
      " 24 25 26 27 28 29 30 31 32 33 34 35 36 37 38 39 40 41 42 43 44 45 46 47\n",
      " 48 49 50 51 52 53 54 55 56 57 58 59 60 61 62 63 64 65 66 67 68 69 70 71\n",
      " 72 73 74 75 76 77 78 79 80 81 82 83 84 85 86 87 88 89 90 91 92 93 94 95\n",
      " 96 97 98 99]\n",
      "[[ 0  1  2  3  4  5  6  7  8  9]\n",
      " [10 11 12 13 14 15 16 17 18 19]\n",
      " [20 21 22 23 24 25 26 27 28 29]\n",
      " [30 31 32 33 34 35 36 37 38 39]\n",
      " [40 41 42 43 44 45 46 47 48 49]\n",
      " [50 51 52 53 54 55 56 57 58 59]\n",
      " [60 61 62 63 64 65 66 67 68 69]\n",
      " [70 71 72 73 74 75 76 77 78 79]\n",
      " [80 81 82 83 84 85 86 87 88 89]\n",
      " [90 91 92 93 94 95 96 97 98 99]]\n",
      "0\n",
      "[0 1 2 3 4 5 6 7 8 9]\n",
      "[ 5 15 25 35 45 55 65 75 85 95]\n",
      "[[10 11 12 13 14]\n",
      " [20 21 22 23 24]\n",
      " [30 31 32 33 34]\n",
      " [40 41 42 43 44]\n",
      " [50 51 52 53 54]\n",
      " [60 61 62 63 64]\n",
      " [70 71 72 73 74]\n",
      " [80 81 82 83 84]\n",
      " [90 91 92 93 94]]\n",
      "[[ 0  2  4]\n",
      " [20 22 24]\n",
      " [40 42 44]]\n"
     ]
    }
   ],
   "source": [
    "npArr = np.arange(0, 100)\n",
    "print(npArr)\n",
    "\n",
    "npArr = npArr.reshape(10, 10)\n",
    "\n",
    "print(npArr) # entire npArray\n",
    "\n",
    "print(npArr[0, 0]) # first element\n",
    "\n",
    "print(npArr[0]) # first row only\n",
    "\n",
    "print(npArr[:, 5]) # fifth column only\n",
    "\n",
    "print(npArr[1:, :5]) # print everything from the second row up to the fourth column\n",
    "\n",
    "print(npArr[0:6:2, 0:6:2]) # print the the rows and columns from 0 to the thrid, and step 2"
   ]
  },
  {
   "cell_type": "markdown",
   "metadata": {},
   "source": [
    "## Try and Except"
   ]
  },
  {
   "cell_type": "code",
   "execution_count": 35,
   "metadata": {
    "code_folding": []
   },
   "outputs": [
    {
     "name": "stdout",
     "output_type": "stream",
     "text": [
      "700\n",
      "Bad number!\n",
      "{0: 21, 1: 17, 2: 41, 3: 24, 4: 42}\n",
      "21\n",
      "41\n",
      "5 Key not in dictionary!\n",
      "17\n",
      "7 Key not in dictionary!\n",
      "{0: 'Maybe this is a key?', 1: 17, 2: 41, 3: 24, 4: 42, 'key': 'Maybe this is a key?'}\n",
      "Maybe this is a key?\n",
      "Maybe this is a key?\n"
     ]
    }
   ],
   "source": [
    "import random\n",
    "\n",
    "r = random.randint(0, 1000)\n",
    "print(r)\n",
    "\n",
    "try:\n",
    "    \n",
    "    if r > 750:\n",
    "        print('Number is good!')\n",
    "    else: \n",
    "        raise Exception\n",
    "        \n",
    "except:\n",
    "    print('Bad number!')\n",
    "\n",
    "    \n",
    "dictionary = {}\n",
    "\n",
    "for i in range(5):\n",
    "    dictionary[i] = random.randint(0, 42)\n",
    "\n",
    "print(dictionary)\n",
    "\n",
    "keys = [0, 2, 5, 1, 7]\n",
    "\n",
    "for key in keys:\n",
    "\n",
    "    try: \n",
    "        if key in dictionary:\n",
    "            print(dictionary[key])\n",
    "        else:\n",
    "            raise KeyError\n",
    "\n",
    "    except KeyError:\n",
    "        print(key, 'Key not in dictionary!')\n",
    "\n",
    "dictionary[0] = 'Maybe this is a key?'\n",
    "\n",
    "dictionary['key'] = 'Maybe this is a key?'\n",
    "\n",
    "print(dictionary)\n",
    "print(dictionary[0])\n",
    "print(dictionary['key'])\n",
    "\n",
    "#for key in keys:\n",
    "#    print(dictionary[key])"
   ]
  },
  {
   "cell_type": "markdown",
   "metadata": {},
   "source": [
    "## Developing Test Cases"
   ]
  },
  {
   "cell_type": "code",
   "execution_count": 13,
   "metadata": {
    "scrolled": true
   },
   "outputs": [
    {
     "name": "stdout",
     "output_type": "stream",
     "text": [
      "<class 'int'>\n",
      "<class 'int'>\n",
      "<class 'int'>\n",
      "<class 'int'>\n",
      "Result: 3\n",
      "<class 'int'>\n",
      "<class 'int'>\n",
      "<class 'int'>\n",
      "<class 'int'>\n",
      "Result: 7\n"
     ]
    }
   ],
   "source": [
    "\n",
    "def add(x, y):\n",
    "    \n",
    "    ### START SOLUTION\n",
    "    \n",
    "    print(type(x))\n",
    "    print(type(y))\n",
    "    \n",
    "    #x = str(x)\n",
    "    #y = str(y)\n",
    "    \n",
    "    print(type(x))\n",
    "    print(type(y))\n",
    "    \n",
    "    total = x + y\n",
    "    \n",
    "    ### END SOLUTION\n",
    "    \n",
    "    return total\n",
    "\n",
    "var1 = 1\n",
    "var2 = 2\n",
    "\n",
    "result = add(var1, var2)\n",
    "print('Result: ' + str(result))\n",
    "\n",
    "result = add(3, 4)\n",
    "print('Result: ' + str(result))"
   ]
  },
  {
   "cell_type": "markdown",
   "metadata": {},
   "source": [
    "## Loops"
   ]
  },
  {
   "cell_type": "code",
   "execution_count": 36,
   "metadata": {},
   "outputs": [
    {
     "name": "stdout",
     "output_type": "stream",
     "text": [
      "[0, 1, 2, 3, 4, 5, 6, 7, 8, 9, 10, 11, 12, 13, 14]\n",
      "0 1 2 3 4 5 6 7 8 9 10 11 12 13 14 \n",
      "0 1 2 3 4 5 6 7 8 9 10 11 12 13 14 \n",
      "0 1 2 3 4 5 6 7 8 9 10 11 12 13 14 \n",
      "{1: 0, 15: 0, 22: 0, 3: 0, 42: 0}\n"
     ]
    }
   ],
   "source": [
    "# starter list \n",
    "lst = []\n",
    "\n",
    "# range\n",
    "\n",
    "for i in range(15): # generic range function with just the upper bound\n",
    "    lst.append(i)\n",
    "    \n",
    "print(lst)\n",
    "\n",
    "for i in range(0, 15):\n",
    "    print(lst[i], end = ' ')\n",
    "print()\n",
    "\n",
    "# shorthand (condensed)\n",
    "\n",
    "for element in lst:\n",
    "    print(element, end = \" \")\n",
    "print()\n",
    "\n",
    "for element in lst:\n",
    "    print(lst[element], end = \" \")\n",
    "print()\n",
    "# list comprehension\n",
    "\n",
    "x = [i for i in range(0, 15 , 1)]\n",
    "\n",
    "k = [1, 15, 22, 3, 42]\n",
    "d = {}\n",
    "\n",
    "for key in k:\n",
    "    d[key] = 0\n",
    "print(d)\n"
   ]
  },
  {
   "cell_type": "markdown",
   "metadata": {},
   "source": [
    "## Data Structures"
   ]
  },
  {
   "cell_type": "code",
   "execution_count": 57,
   "metadata": {},
   "outputs": [
    {
     "name": "stdout",
     "output_type": "stream",
     "text": [
      "[5, 6, 7, 8, 9, 9]\n",
      "[1, 2, 3, 4, 5, 6, 7, 8, 9, 9]\n",
      "[1, 2, 3, 4, 5, 6, 7, 8, 9]\n",
      "[9, 8, 7, 6, 5, 4, 3, 2, 1]\n",
      "[1, 2, 3, 4, 5, 6, 7, 8, 9]\n",
      "1\n",
      "0\n",
      "{1, 2, 3}\n",
      "(1, 2, 3, 3)\n",
      "(1, 2, 3, 4, 5, 6, 7, 8, 9)\n",
      "{42: 'test', 1: 'some text', 2: 5, 3: 7.2}\n",
      "dict_keys([42, 1, 2, 3])\n",
      "dict_values(['test', 'some text', 5, 7.2])\n",
      "dict_items([(42, 'test'), (1, 'some text'), (2, 5), (3, 7.2)])\n"
     ]
    }
   ],
   "source": [
    "# lists: methods to know\n",
    "\n",
    "x = [1,2,3,4]\n",
    "y = [5,6,7,8,9]\n",
    "\n",
    "y.append(9) # simple append\n",
    "print(y)\n",
    "\n",
    "x.extend(y) # appends the elements of y into x\n",
    "print(x)\n",
    "\n",
    "x.remove(9) # removes 9 from x\n",
    "print(x)\n",
    "\n",
    "x.reverse() # reverses the list\n",
    "print(x)\n",
    "\n",
    "x.sort() # quicksort of x\n",
    "print(x)\n",
    "\n",
    "print(x.count(1))\n",
    "\n",
    "print(x.index(1))\n",
    "\n",
    "# sets\n",
    "\n",
    "sets = set() # create set\n",
    "\n",
    "# add elements to the set\n",
    "sets.add(1) \n",
    "sets.add(1)\n",
    "sets.add(2)\n",
    "sets.add(3)\n",
    "\n",
    "print(sets)\n",
    "\n",
    "# tuples\n",
    "\n",
    "# create tuple\n",
    "tup = (1,2,3,3)\n",
    "print(tup)\n",
    "\n",
    "#cast list to tuple\n",
    "tupX = tuple(x)\n",
    "print(tupX)\n",
    "\n",
    "# dictionaries\n",
    "dictionary = {42: 'test'}\n",
    "\n",
    "dictionary[1] = 'some text'\n",
    "dictionary[2] = 5\n",
    "dictionary[3] = 7.2\n",
    "\n",
    "\n",
    "print(dictionary)\n",
    "\n",
    "print(dictionary.keys())\n",
    "\n",
    "print(dictionary.values())\n",
    "\n",
    "print(dictionary.items())"
   ]
  },
  {
   "cell_type": "code",
   "execution_count": null,
   "metadata": {},
   "outputs": [],
   "source": []
  }
 ],
 "metadata": {
  "kernelspec": {
   "display_name": "Python 3",
   "language": "python",
   "name": "python3"
  },
  "language_info": {
   "codemirror_mode": {
    "name": "ipython",
    "version": 3
   },
   "file_extension": ".py",
   "mimetype": "text/x-python",
   "name": "python",
   "nbconvert_exporter": "python",
   "pygments_lexer": "ipython3",
   "version": "3.7.3"
  },
  "varInspector": {
   "cols": {
    "lenName": 16,
    "lenType": 16,
    "lenVar": 40
   },
   "kernels_config": {
    "python": {
     "delete_cmd_postfix": "",
     "delete_cmd_prefix": "del ",
     "library": "var_list.py",
     "varRefreshCmd": "print(var_dic_list())"
    },
    "r": {
     "delete_cmd_postfix": ") ",
     "delete_cmd_prefix": "rm(",
     "library": "var_list.r",
     "varRefreshCmd": "cat(var_dic_list()) "
    }
   },
   "types_to_exclude": [
    "module",
    "function",
    "builtin_function_or_method",
    "instance",
    "_Feature"
   ],
   "window_display": false
  }
 },
 "nbformat": 4,
 "nbformat_minor": 2
}
