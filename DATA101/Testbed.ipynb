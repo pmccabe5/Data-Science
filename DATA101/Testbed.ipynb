{
 "cells": [
  {
   "cell_type": "markdown",
   "metadata": {},
   "source": [
    "# Practice Problems:\n",
    "\n",
    "1. Create a `calc` function that takes in 3 paramaeters: operation, par1, par2"
   ]
  },
  {
   "cell_type": "code",
   "execution_count": null,
   "metadata": {
    "code_folding": []
   },
   "outputs": [],
   "source": [
    "def calc(operation, par1, par2 ):\n",
    "    \n",
    "    ops = ['+', '-', '*', '**', '/', '//', '%']\n",
    "    \n",
    "    operation = str(operation)\n",
    "    \n",
    "    if operation not in ops:\n",
    "        operation = operation.lower()\n",
    "    \n",
    "    if operation == '+' or operation == 'add':\n",
    "        return par1 + par2\n",
    "    \n",
    "    elif operation == '-' or operation == 'sub':\n",
    "        return par1 - par2\n",
    "    \n",
    "    elif operation == '*' or operation == 'mul':\n",
    "        return par1 * par2\n",
    "    \n",
    "    elif operation == '**' or operation == 'pow':\n",
    "        return par1 ** par2\n",
    "    \n",
    "    elif operation == '/' or operation == 'div':\n",
    "        return par1 / par2\n",
    "    \n",
    "    elif operation == '//' or operation == 'int-div':\n",
    "        return par1 // par2\n",
    "    \n",
    "    elif operation == '%' or operation == 'mod':\n",
    "        return par1 % par2\n",
    "    \n",
    "    else: \n",
    "        \n",
    "        legalOperations = ['+ or add', '- or sub', '* or mul', '** or pow', '/ or div', '// or int-div', '% or mod']\n",
    "        \n",
    "        print('Function not defined or keyword has been specified! Please enter in one of the following operations as a string: \\n')\n",
    "        \n",
    "        for op in legalOperations:\n",
    "            print(op)\n",
    "        \n",
    "        return 'ERROR!!!'\n",
    "    \n",
    "calcResults = []\n",
    "\n",
    "result = calc('add', 2, 2)\n",
    "calcResults.append(result)\n",
    "\n",
    "result = calc('+', 2, 2)\n",
    "calcResults.append(result)\n",
    "\n",
    "result = calc('sub', 2, 2)\n",
    "calcResults.append(result)\n",
    "\n",
    "result = calc('-', 2, 2)\n",
    "calcResults.append(result)\n",
    "\n",
    "result = calc('mul', 2, 2)\n",
    "calcResults.append(result)\n",
    "\n",
    "result = calc('*', 2, 2)\n",
    "calcResults.append(result)\n",
    "\n",
    "result = calc('div', 2, 2)\n",
    "calcResults.append(result)\n",
    "\n",
    "result = calc('/', 2, 2)\n",
    "calcResults.append(result)\n",
    "\n",
    "result = calc('**', 2, 2)\n",
    "calcResults.append(result)\n",
    "\n",
    "result = calc('pow', 2, 2)\n",
    "calcResults.append(result)\n",
    "\n",
    "result = calc('int-div', 2, 2)\n",
    "calcResults.append(result)\n",
    "\n",
    "result = calc('//', 2, 2)\n",
    "calcResults.append(result)\n",
    "\n",
    "result = calc('mod', 2, 2)\n",
    "calcResults.append(result)\n",
    "\n",
    "result = calc('%', 2, 2)\n",
    "calcResults.append(result)\n",
    "\n",
    "print(calcResults)\n",
    "\n",
    "print(calc('ADD', 2, 2))\n",
    "\n",
    "print(calc('sin', 2, 2))"
   ]
  },
  {
   "cell_type": "code",
   "execution_count": 7,
   "metadata": {
    "code_folding": [
     2,
     17,
     29
    ]
   },
   "outputs": [
    {
     "name": "stdout",
     "output_type": "stream",
     "text": [
      "[16, 20, 207]\n",
      "1894.5\n",
      "{1: 3, 2: 4, 45: 42}\n",
      "dict_values([3, 4, 42])\n",
      "{1: 300, 2: 400, 45: 4200}\n",
      "5\n"
     ]
    }
   ],
   "source": [
    "import random\n",
    " \n",
    "def foo(l1, l2, l3, l4):\n",
    "    \n",
    "    storage = []\n",
    "    \n",
    "    arr = zip(l1, l2, l3, l4)\n",
    "    \n",
    "    total = 0\n",
    "    \n",
    "    for i, j, k, l in arr:\n",
    "        \n",
    "        total = (i + j + k + l)\n",
    "        storage.append(total)\n",
    "        \n",
    "    return storage\n",
    "\n",
    "def createDict(keys, values):\n",
    "    \n",
    "    dictionary = {}\n",
    "    \n",
    "    arr = zip(keys, values)\n",
    "    \n",
    "    for key, value in arr:\n",
    "        \n",
    "        dictionary[key] = value\n",
    "        \n",
    "    return dictionary\n",
    "\n",
    "def minVal(values):\n",
    "    \n",
    "    length = len(values)\n",
    "    \n",
    "    if length > 0:\n",
    "        \n",
    "        minimumVal = values[0]\n",
    "            \n",
    "        for i in range(length):\n",
    "            if values[i] < minimumVal:\n",
    "                minimumVal = values[i]\n",
    "            \n",
    "        \n",
    "    return minimumVal\n",
    "\n",
    "def main():\n",
    "    \n",
    "    li1 = [1, 2, 45]\n",
    "    li2 = [3, 4, 42]\n",
    "    li3 = [5, 6, 21]\n",
    "    li4 = [7, 8, 99]\n",
    "    \n",
    "    var = foo(li1, li2, li3, li4)\n",
    "    \n",
    "    print(var)\n",
    "    \n",
    "    squares = ((li1[2] ** 2) + (li2[2] ** 2)) / 2\n",
    "    \n",
    "    print(squares)\n",
    "\n",
    "    library = createDict(li1, li2)\n",
    "    \n",
    "    print(library)\n",
    "    print(library.values())\n",
    "    \n",
    "    for key in library:\n",
    "        library[key] *= 100\n",
    "    \n",
    "    print(library)\n",
    "    \n",
    "    arr = []\n",
    "    \n",
    "    for i in range(15):\n",
    "        arr.append(random.randint(0, 100))\n",
    "        #print(arr)\n",
    "    \n",
    "    maximum = minVal(arr)\n",
    "    print(maximum)\n",
    "    \n",
    "main()"
   ]
  },
  {
   "cell_type": "code",
   "execution_count": 4,
   "metadata": {},
   "outputs": [
    {
     "name": "stdout",
     "output_type": "stream",
     "text": [
      "The element is in the list!\n",
      "The element is not in the list!\n"
     ]
    }
   ],
   "source": [
    "def inList(lst, key):\n",
    "    \n",
    "    if key in lst:\n",
    "        return True\n",
    "    else:\n",
    "        return False\n",
    "\n",
    "    \n",
    "\n",
    "lst = {1, 5, 10, 17}\n",
    "\n",
    "result = inList(lst, 10)\n",
    "\n",
    "if result:\n",
    "    print('The element is in the list!')\n",
    "\n",
    "else:\n",
    "    print('The element is not in the list!')\n",
    "\n",
    "    \n",
    "result = inList(lst, 42)\n",
    "\n",
    "if result:\n",
    "    print('The element is in the list!')\n",
    "\n",
    "else:\n",
    "    print('The element is not in the list!')"
   ]
  },
  {
   "cell_type": "code",
   "execution_count": 1,
   "metadata": {},
   "outputs": [
    {
     "name": "stdout",
     "output_type": "stream",
     "text": [
      "1\n",
      "2\n"
     ]
    }
   ],
   "source": [
    "import numpy as np\n",
    "\n",
    "arr = np.array([1, 2])\n",
    "brr = np.array([3, 4])\n",
    "\n",
    "for i in range (len(arr)):\n",
    "    print(arr[i])\n",
    "    \n",
    "np.subtract"
   ]
  },
  {
   "cell_type": "code",
   "execution_count": 20,
   "metadata": {},
   "outputs": [
    {
     "name": "stdout",
     "output_type": "stream",
     "text": [
      "[24, 46, 8, 33, 51, 9, 51, 92, 78, 78]\n",
      "[40, 8, 91, 31, 83, 92, 51, 31, 80, 18]\n",
      "[ 64  54  99  64 134 101 102 123 158  96]\n",
      "[[2 4 6 8]\n",
      " [1 3 5 7]]\n",
      "[[1 3]]\n"
     ]
    }
   ],
   "source": [
    "import random\n",
    "import numpy as np\n",
    "\n",
    "def addLists(lst1, lst2):\n",
    "    \n",
    "    result = []\n",
    "    \n",
    "    \n",
    "    if len(lst1) != len(lst2):\n",
    "        return 0\n",
    "    \n",
    "    for i in range(len(lst1)):\n",
    "        total = lst1[i] + lst2[i]\n",
    "        result.append(total)\n",
    "        total = 0\n",
    "        \n",
    "    return result\n",
    "\n",
    "arr1 = [random.randint(0, 100) for x in range(10)]\n",
    "arr2 = [random.randint(0, 100) for x in range(10)]\n",
    "\n",
    "print(arr1)\n",
    "print(arr2)\n",
    "\n",
    "#print(arr1[::-1])\n",
    "\n",
    "result = addLists(arr1, arr2)\n",
    "\n",
    "#print(result)\n",
    "\n",
    "npArr = np.array(arr1)\n",
    "npBrr = np.array(arr2)\n",
    "\n",
    "res = npArr + npBrr\n",
    "\n",
    "print(res)\n",
    "\n",
    "matrix = np.array([[2,4,6,8], [1,3,5,7]])\n",
    "\n",
    "print(matrix)\n",
    "\n",
    "print(matrix[1:, :2])"
   ]
  },
  {
   "cell_type": "code",
   "execution_count": null,
   "metadata": {},
   "outputs": [],
   "source": []
  }
 ],
 "metadata": {
  "kernelspec": {
   "display_name": "Python 3",
   "language": "python",
   "name": "python3"
  },
  "language_info": {
   "codemirror_mode": {
    "name": "ipython",
    "version": 3
   },
   "file_extension": ".py",
   "mimetype": "text/x-python",
   "name": "python",
   "nbconvert_exporter": "python",
   "pygments_lexer": "ipython3",
   "version": "3.7.3"
  },
  "varInspector": {
   "cols": {
    "lenName": 16,
    "lenType": 16,
    "lenVar": 40
   },
   "kernels_config": {
    "python": {
     "delete_cmd_postfix": "",
     "delete_cmd_prefix": "del ",
     "library": "var_list.py",
     "varRefreshCmd": "print(var_dic_list())"
    },
    "r": {
     "delete_cmd_postfix": ") ",
     "delete_cmd_prefix": "rm(",
     "library": "var_list.r",
     "varRefreshCmd": "cat(var_dic_list()) "
    }
   },
   "types_to_exclude": [
    "module",
    "function",
    "builtin_function_or_method",
    "instance",
    "_Feature"
   ],
   "window_display": false
  }
 },
 "nbformat": 4,
 "nbformat_minor": 2
}
