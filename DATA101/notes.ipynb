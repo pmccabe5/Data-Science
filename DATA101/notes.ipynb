{
 "cells": [
  {
   "cell_type": "markdown",
   "metadata": {},
   "source": [
    "# Notes for 9/2\n",
    "\n",
    "## Basic Operations"
   ]
  },
  {
   "cell_type": "code",
   "execution_count": 1,
   "metadata": {
    "scrolled": true
   },
   "outputs": [
    {
     "name": "stdout",
     "output_type": "stream",
     "text": [
      "String: Hello, world!\n",
      "Addition: 10\n",
      "Subtraction: 8\n",
      "Multiplication: 16\n",
      "Division: 8.0\n",
      "Integer division: 4.0\n",
      "Exponents: 16.0\n",
      "Square Root: 4.0\n"
     ]
    }
   ],
   "source": [
    "import math\n",
    "import random\n",
    "\n",
    "string = 'Hello, world!'\n",
    "print('String: ' + string)\n",
    "test = 5 + 5 # addititon\n",
    "print('Addition: ' + str(test))\n",
    "test -= 2 # subtraction\n",
    "print('Subtraction: ' + str(test))\n",
    "test *= 2 # division\n",
    "print('Multiplication: ' + str(test))\n",
    "test /= 2 # division\n",
    "print('Division: ' + str(test))\n",
    "test //= 2 # division\n",
    "print('Integer division: ' + str(test))\n",
    "test = test ** 2 # exponents\n",
    "print('Exponents: ' + str(test))\n",
    "test = math.sqrt(test) # square root\n",
    "print('Square Root: ' + str(test))\n",
    "\n"
   ]
  },
  {
   "cell_type": "markdown",
   "metadata": {},
   "source": [
    "## Casting"
   ]
  },
  {
   "cell_type": "code",
   "execution_count": 2,
   "metadata": {},
   "outputs": [
    {
     "name": "stdout",
     "output_type": "stream",
     "text": [
      "2\n",
      "<class 'str'>\n",
      "<class 'int'>\n",
      "<class 'str'>\n"
     ]
    }
   ],
   "source": [
    "k = 2.33345676512321 # float\n",
    "\n",
    "k = int(k) # chop off decimal\n",
    "\n",
    "print(k) # full int left\n",
    "\n",
    "x = '2' # string\n",
    "print(type(x)) # type string\n",
    "\n",
    "y = int(x) # convert to int\n",
    "print(type(y)) # type int\n",
    "\n",
    "z = str(y) # convert to string\n",
    "print(type(z)) # type string"
   ]
  },
  {
   "cell_type": "markdown",
   "metadata": {},
   "source": [
    " ## String Operations"
   ]
  },
  {
   "cell_type": "code",
   "execution_count": 3,
   "metadata": {},
   "outputs": [
    {
     "name": "stdout",
     "output_type": "stream",
     "text": [
      "Upper: HELLO, WORLD!\n",
      "Lower: hello, world!\n",
      "Stripped: hello, world!\n",
      "Length: 13\n"
     ]
    }
   ],
   "source": [
    "original = string # copy to another var\n",
    "\n",
    "string = string.upper() # all to uppper case \n",
    "print('Upper: ' + string) # print upper case string\n",
    "\n",
    "string = string.lower() # all to lower\n",
    "print('Lower: ' + string) # print lower case string\n",
    "\n",
    "string = string.strip() # remove witespace or carriage returns\n",
    "print('Stripped: ' + string) # print stripped string\n",
    "\n",
    "strLength = len(string) # length of string \n",
    "print('Length: ' + str(strLength)) # print the length\n"
   ]
  },
  {
   "cell_type": "markdown",
   "metadata": {},
   "source": [
    "## Booleans"
   ]
  },
  {
   "cell_type": "code",
   "execution_count": 4,
   "metadata": {},
   "outputs": [
    {
     "name": "stdout",
     "output_type": "stream",
     "text": [
      "Result: False\n",
      "Result: True\n"
     ]
    }
   ],
   "source": [
    "a = 2 # first val\n",
    "b = 2.001293 # second val\n",
    "\n",
    "boolean = (a == b) # are the values equal?\n",
    "print('Result: ' + str(boolean)) # print boolean\n",
    "\n",
    "str1 = 'test' # string one \n",
    "str2 = 'test' # string two\n",
    "\n",
    "boolean = (str1 == str2) # are the strings equal?\n",
    "print('Result: ' + str(boolean)) # print boolean"
   ]
  },
  {
   "cell_type": "markdown",
   "metadata": {},
   "source": [
    "## Variables and Documentation"
   ]
  },
  {
   "cell_type": "markdown",
   "metadata": {},
   "source": [
    "### Variable conventions\n",
    "1. Naming conventions:\n",
    "    - Legal characters:\n",
    "    - [A-Z]\n",
    "    - [a-z]\n",
    "    - [0-9]\n",
    "    - Underscore (_)\n",
    "2. Can only start with letters and underscores, no numbers\n",
    "3. No spaces\n",
    "4. Cannot use a keyword \n",
    "5. Try to avoid the following\n",
    "    - l (seen as 1)\n",
    "    - O (seen as 0)\n",
    "6. Use camel case:\n",
    "    - lowerCamelCase\n",
    "    - UpperCamelCase\n",
    "7. Constants: UPPER\n",
    "    - ex: PI- 3.14\n",
    "    \n",
    "### Self-Documenting Code\n",
    "1. Good variable names can minimize comments\n",
    "2. Name variables for the data that they store\n",
    "\n",
    "### Whitespaces\n",
    "1. Return key (enter)\n",
    "    - New line: \\n\n",
    "    - Return: \\r\n",
    "    - Tab: \\t\n",
    "    - Space: ' '\n",
    "2. Strip with the `.strip()` method for strings\n",
    "    "
   ]
  },
  {
   "cell_type": "markdown",
   "metadata": {},
   "source": [
    "## Data Structures (Lists) \n",
    "\n",
    "### Lists\n",
    "**Strings are lists of** `chars`\n",
    "1. Ordered\n",
    "2. Mutable\n",
    "    * Changes the object after use\n",
    "    * Non-mutable \n",
    "3. No need for auxiliary data structures\n",
    "4. Negative indexing `myList[-1]`\n",
    "5. Slicing `myList[:upper]` or `myList[lower:]` or `myList[lower:upper]`\n",
    "6. Append: single element\n",
    "7. Extend: add multiple elements **Takes a list as input**\n",
    "\n"
   ]
  },
  {
   "cell_type": "code",
   "execution_count": 5,
   "metadata": {
    "scrolled": false
   },
   "outputs": [
    {
     "name": "stdout",
     "output_type": "stream",
     "text": [
      "a\n",
      "d\n",
      "['a', 'b', 'c', 'd', 'z']\n",
      "['a', 'b', 'c', 'd', 'z', 1, 2, 3, 4]\n",
      "['a', 'b', 'c', 'd', 'z', 1, 2, 3, 4, 99]\n",
      "['a', 'b', 'c', 'd', 'z', 1, 2, 3, 4, 99, 1, 2, 3, 4]\n",
      "[4, 3, 2, 1]\n",
      "['a', 'b', 'c', 'd', 'z', 1, 2, 3, 4, 1, 2, 3, 4]\n",
      "[1, 2, 3, 4]\n",
      "Count: 2\n",
      "Index: 0\n"
     ]
    }
   ],
   "source": [
    "# Lists\n",
    "\n",
    "# lists for testing\n",
    "arr = ['a', 'b', 'c', 'd']\n",
    "arr2 = [1, 2, 3, 4]\n",
    "\n",
    "# indexing\n",
    "print(arr[0])\n",
    "print(arr[-1])\n",
    "\n",
    "# append single element\n",
    "arr.append('z')\n",
    "print(arr)\n",
    "\n",
    "# extend for multiple elements\n",
    "arr.extend(arr2)\n",
    "print(arr)\n",
    "\n",
    "# mutable methods\n",
    "\n",
    "# append\n",
    "arr.append(99)\n",
    "print(arr)\n",
    "\n",
    "# extend\n",
    "arr.extend(arr2)\n",
    "print(arr)\n",
    "\n",
    "# reverse\n",
    "arr2.reverse()\n",
    "print(arr2)\n",
    "\n",
    "# remove first instance of element\n",
    "arr.remove(99)\n",
    "print(arr)\n",
    "\n",
    "# sort the list (quicksort?)\n",
    "arr2.sort()\n",
    "print(arr2)\n",
    "\n",
    "# Non-mutating\n",
    "\n",
    "# count\n",
    "count = arr.count(4)\n",
    "print('Count: ' + str(count))\n",
    "\n",
    "# index of the first occurence\n",
    "index = arr.index('a')\n",
    "print('Index: ' + str(index))"
   ]
  },
  {
   "cell_type": "markdown",
   "metadata": {},
   "source": [
    "### Tuples\n",
    "\n",
    "1. Immutable: once it is constructed, it cannot be changed  \n",
    "    * Date/Time\n",
    "    * Weekdays\n",
    "    * Fixed data    \n",
    "2. Advantages: \n",
    "    * Faster than lists\n",
    "    * Write protected"
   ]
  },
  {
   "cell_type": "code",
   "execution_count": 6,
   "metadata": {
    "scrolled": true
   },
   "outputs": [
    {
     "name": "stdout",
     "output_type": "stream",
     "text": [
      "<class 'list'>\n",
      "<class 'tuple'>\n",
      "<class 'set'>\n",
      "<class 'tuple'>\n"
     ]
    }
   ],
   "source": [
    "listEx = [3, 64.2, 'some list'] # lists have brackets\n",
    "print(type(listEx))\n",
    "\n",
    "tupleEx = (3, 64.2, 'some list') # tuples have parentheses\n",
    "print(type(tupleEx))\n",
    "\n",
    "setEx = {3, 64.2, 'some list'} # sets have braces\n",
    "print(type(setEx))\n",
    "\n",
    "tup = tuple() # empty tuple\n",
    "\n",
    "print(type(tup))\n",
    "\n"
   ]
  },
  {
   "cell_type": "markdown",
   "metadata": {},
   "source": [
    "### Sets\n",
    "\n",
    "1. Distinct: no two identical elements\n",
    "2. Unordered: don't index the same way lists do\n",
    "3. Advantages:\n",
    "    * stored once, no duplicates  \n",
    "4. Disadvantage: no sense of ordering"
   ]
  },
  {
   "cell_type": "code",
   "execution_count": 7,
   "metadata": {},
   "outputs": [
    {
     "name": "stdout",
     "output_type": "stream",
     "text": [
      "{1, 2}\n",
      "{1, 'a', 2, 3, 4, 'd', 'b', 'c', 'z'}\n",
      "True\n",
      "False\n"
     ]
    }
   ],
   "source": [
    "sets = set() # empty set\n",
    "\n",
    "sets.add(1)\n",
    "sets.add(2)\n",
    "sets.add(2)\n",
    "\n",
    "print(sets) # print the set\n",
    "\n",
    "sets = set(arr) # arr to sets\n",
    "print(sets)\n",
    "\n",
    "for i in range(10):\n",
    "    arr.append(i + 1)\n",
    "\n",
    "sets = set(arr) # list in set\n",
    "    \n",
    "print(5 in sets)\n",
    "\n",
    "print(22 in sets)"
   ]
  },
  {
   "cell_type": "markdown",
   "metadata": {},
   "source": [
    "### Dictionaries\n",
    "\n",
    "1. Key:value pair\n",
    "2. Hash maps\n",
    "3. Distinct keys\n",
    "4. Advantages:\n",
    "    * Mutabe\n",
    "    * Unordered\n",
    "    * Keys are distinct, values can be the same"
   ]
  },
  {
   "cell_type": "code",
   "execution_count": 8,
   "metadata": {},
   "outputs": [
    {
     "name": "stdout",
     "output_type": "stream",
     "text": [
      "{1: 'test', 2: [1, 2, 3, 4]}\n",
      "[1, 2, 3, 4]\n",
      "dict_keys([1, 2])\n",
      "dict_values(['test', [1, 2, 3, 4]])\n",
      "dict_items([(1, 'test'), (2, [1, 2, 3, 4])])\n"
     ]
    }
   ],
   "source": [
    "dictionary = {} # empty dictionary\n",
    "\n",
    "dictionary[1] = 'test' # add value\n",
    "dictionary[2] = [1, 2, 3, 4]\n",
    "\n",
    "print(dictionary) # print whole dictionary\n",
    "\n",
    "print(dictionary[2]) # print single element\n",
    "\n",
    "print(dictionary.keys()) # print the keys\n",
    "\n",
    "print(dictionary.values()) # print the values\n",
    "\n",
    "print(dictionary.items()) # print the items as tuples"
   ]
  },
  {
   "cell_type": "markdown",
   "metadata": {},
   "source": [
    "## Aliasing\n",
    "\n",
    "1. Same data is in both locations\n",
    "2. Data is not copied to the other variable"
   ]
  },
  {
   "cell_type": "code",
   "execution_count": 9,
   "metadata": {
    "scrolled": false
   },
   "outputs": [
    {
     "name": "stdout",
     "output_type": "stream",
     "text": [
      "{1: 'test', 2: [1, 2, 3, 4]}\n",
      "{1: 'test', 2: [1, 2, 3, 4]}\n",
      "{1: 'test', 2: [1, 2, 3, 4], 'Cole': 'hidden'}\n",
      "{1: 'test', 2: [1, 2, 3, 4], 'Cole': 'hidden'}\n",
      "True\n"
     ]
    }
   ],
   "source": [
    "alias = dictionary\n",
    "\n",
    "print(dictionary)\n",
    "print(alias)\n",
    "\n",
    "alias['Cole'] = 'hidden'\n",
    "print(dictionary)\n",
    "print(alias)\n",
    "\n",
    "print(alias is dictionary)"
   ]
  },
  {
   "cell_type": "markdown",
   "metadata": {},
   "source": [
    "## Iteration\n",
    "\n",
    "1. Why: machines that repeat tasks\n",
    "2. For loop: `for i in range(lower, upper, step):` or `for item in list:`\n",
    "3. Indentation is key for loops and functions"
   ]
  },
  {
   "cell_type": "code",
   "execution_count": 10,
   "metadata": {
    "scrolled": true
   },
   "outputs": [
    {
     "name": "stdout",
     "output_type": "stream",
     "text": [
      "[10, 53, 96, 88, 92, 49, 15, 92]\n",
      "Sum: 424\n",
      "Average Age: 53.0\n"
     ]
    }
   ],
   "source": [
    "ages = []\n",
    "\n",
    "for i in range(8):\n",
    "    ages.append(random.randint(0,120))\n",
    "    \n",
    "print(ages)\n",
    "\n",
    "sumOfAges = 0 \n",
    "\n",
    "for i in range(len(ages)):\n",
    "    sumOfAges += ages[1]\n",
    "\n",
    "print('Sum: ' + str(sumOfAges))\n",
    "\n",
    "avg = sumOfAges / len(ages)\n",
    "print('Average Age: ' + str(avg))\n"
   ]
  },
  {
   "cell_type": "markdown",
   "metadata": {},
   "source": [
    "4. While loop `while <condition>:`"
   ]
  },
  {
   "cell_type": "code",
   "execution_count": 11,
   "metadata": {
    "scrolled": true
   },
   "outputs": [
    {
     "name": "stdout",
     "output_type": "stream",
     "text": [
      "10\n",
      "11\n",
      "12\n",
      "13\n",
      "14\n"
     ]
    }
   ],
   "source": [
    "it = 10\n",
    "\n",
    "while it < 15:\n",
    "    print(it)\n",
    "    it += 1"
   ]
  },
  {
   "cell_type": "markdown",
   "metadata": {},
   "source": [
    "## String formatting"
   ]
  },
  {
   "cell_type": "code",
   "execution_count": 12,
   "metadata": {},
   "outputs": [
    {
     "name": "stdout",
     "output_type": "stream",
     "text": [
      "My name is Patrick, I am 21\n",
      "My name is Patrick, I am 21\n",
      "My name is Patrick, I am 21\n"
     ]
    }
   ],
   "source": [
    "txt = 'My name is {name}, I am {age}'.format(name = 'Patrick', age = 21) # variables\n",
    "print(txt)\n",
    "\n",
    "txt = 'My name is {0}, I am {1}'.format('Patrick', 21) # indices\n",
    "print(txt)\n",
    "\n",
    "txt = 'My name is {}, I am {}'.format('Patrick', 21) # first, second\n",
    "print(txt)"
   ]
  },
  {
   "cell_type": "markdown",
   "metadata": {},
   "source": [
    "## Advanced Data Structures\n",
    "\n",
    "1. For loops: `for i in range(lower, upper, step): or for item in list:`\n",
    "2. While loop `while <condition>:`"
   ]
  },
  {
   "cell_type": "code",
   "execution_count": 13,
   "metadata": {},
   "outputs": [
    {
     "name": "stdout",
     "output_type": "stream",
     "text": [
      "The number of digits is: 3\n"
     ]
    }
   ],
   "source": [
    "num = 839\n",
    "count = 0\n",
    "while num > 0:\n",
    "    num = num // 10\n",
    "    count += 1\n",
    "    \n",
    "print('The number of digits is: ' + str(count))\n"
   ]
  },
  {
   "cell_type": "markdown",
   "metadata": {},
   "source": [
    "## Special Iteration\n",
    "\n",
    "1. `range(lower, upper, step)`\n",
    "2. "
   ]
  },
  {
   "cell_type": "code",
   "execution_count": 14,
   "metadata": {},
   "outputs": [
    {
     "name": "stdout",
     "output_type": "stream",
     "text": [
      "0 1 2 3 4 5 6 7 8 9 \n",
      "5 6 7 8 9 \n",
      "0 5 10 15 20 25 30 35 40 45 \n",
      "50 45 40 35 30 25 20 15 10 5 "
     ]
    }
   ],
   "source": [
    "for i in range(10):\n",
    "    print (i, end = \" \")\n",
    "\n",
    "print()\n",
    "\n",
    "for i in range(5, 10):\n",
    "    print (i, end = \" \")\n",
    "\n",
    "print()\n",
    "\n",
    "for i in range(0, 50, 5):\n",
    "    print (i, end = \" \")\n",
    "\n",
    "print()\n",
    "\n",
    "for i in range(50, 0, -5):\n",
    "    print (i, end = \" \")"
   ]
  },
  {
   "cell_type": "markdown",
   "metadata": {},
   "source": [
    "## List Comprehension\n",
    "\n",
    "1. One liners for lists and for loops"
   ]
  },
  {
   "cell_type": "code",
   "execution_count": 15,
   "metadata": {
    "scrolled": false
   },
   "outputs": [
    {
     "name": "stdout",
     "output_type": "stream",
     "text": [
      "[0, 1, 4, 9, 16, 25, 36, 49, 64, 81]\n",
      "[0, 1, 4, 9, 16, 25, 36, 49, 64, 81]\n",
      "[10, 11, 14, 19, 26, 35, 46, 59, 74, 91]\n"
     ]
    }
   ],
   "source": [
    "squares = []\n",
    "\n",
    "for i in range(10):\n",
    "    squares.append(i ** 2)\n",
    "    \n",
    "print(squares)\n",
    "\n",
    "squares = [i ** 2 for i in range(10)]\n",
    "print(squares)\n",
    "\n",
    "new_count = [10 + element for element in squares]\n",
    "print (new_count)"
   ]
  },
  {
   "cell_type": "markdown",
   "metadata": {},
   "source": [
    "## Conditionals\n",
    "\n",
    "### `if` Statements\n",
    "1. `if`: `if <condition>:`\n",
    "2. `elif`: `elif <condition>:`\n",
    "3. `else`: `else:`"
   ]
  },
  {
   "cell_type": "code",
   "execution_count": 16,
   "metadata": {
    "scrolled": true
   },
   "outputs": [
    {
     "name": "stdout",
     "output_type": "stream",
     "text": [
      "Max: 100\n",
      "Jen B\n",
      "Shannon C\n",
      "Natasha A\n",
      "Benjamin F\n"
     ]
    }
   ],
   "source": [
    "arr = [1, 2, 3, 4, 99, 2, 44, 100]\n",
    "maxVal = 0\n",
    "\n",
    "for i in range(len(arr)):\n",
    "    if arr[i] > maxVal:\n",
    "        maxVal = arr[i]\n",
    "print('Max: ' + str(maxVal))\n",
    "\n",
    "\n",
    "letter = ''\n",
    "\n",
    "tests = {'Jen': 82, 'Shannon': 75, 'Natasha': 94, 'Benjamin': 48}\n",
    "\n",
    "for student, grade in tests.items():\n",
    "    \n",
    "    if grade >= 90:\n",
    "        letter = 'A'\n",
    "        \n",
    "    elif grade >= 80: \n",
    "        letter = 'B'\n",
    "    \n",
    "    elif grade >= 70:\n",
    "        letter = 'C'\n",
    "        \n",
    "    elif grade >= 60:\n",
    "        letter = 'D'\n",
    "    \n",
    "    else: \n",
    "        letter = 'F'\n",
    "    \n",
    "    print(student, letter)"
   ]
  },
  {
   "cell_type": "markdown",
   "metadata": {},
   "source": [
    "## Boolean Logic\n",
    "\n",
    "1. `and` truth table:\n",
    "\n",
    "X   | Y  | Result\n",
    ":-: |:-: | :----:\n",
    "0   | 0  | `False` \n",
    "0   | 1  | `False`\n",
    "1   | 0  | `False`\n",
    "1   | 1  | `True`\n",
    "\n",
    "2. `or` truth table:\n",
    "\n",
    "X   | Y  | Result\n",
    ":-: |:-: | :----:\n",
    "0   | 0  | `False` \n",
    "0   | 1  | `True`\n",
    "1   | 0  | `True`\n",
    "1   | 1  | `True`\n",
    "\n",
    "3. `not` truth table:\n",
    "\n",
    "X   | Result\n",
    ":-: | :----:\n",
    "0   | `True`\n",
    "1   | `False`\n",
    "\n",
    "4. `in`\n",
    "5. `is`"
   ]
  },
  {
   "cell_type": "code",
   "execution_count": 35,
   "metadata": {},
   "outputs": [
    {
     "name": "stdout",
     "output_type": "stream",
     "text": [
      "73\n",
      "\n",
      "[1, 2, 3, 4, 5, 6, 7, 8, 9, 10]\n",
      "2 is even\n",
      "4 is even\n",
      "6 is even\n",
      "8 is even\n",
      "10 is even\n",
      "\n",
      "13 is not in numbers\n",
      "[0, 1, 2, 3, 4, 5, 6, 7, 8, 9]\n",
      "You are allowed to take the exam!\n"
     ]
    }
   ],
   "source": [
    "x = [51, 65, 56, 19, 11, 49, 81, 59, 45, 73]\n",
    "maxVal = 81\n",
    "secondMax = 0\n",
    "\n",
    "length = len(x)\n",
    "it = 0 \n",
    "\n",
    "while it < length:\n",
    "    if secondMax < x[it] and x[it] < maxVal:\n",
    "        secondMax = x[it]\n",
    "    it += 1\n",
    "print(str(secondMax) + '\\n')\n",
    "\n",
    "numbers = [i for i in range (1, 11)]\n",
    "print(numbers)\n",
    "\n",
    "for num in range(len(numbers)):\n",
    "    if numbers[num] % 2 == 0:\n",
    "        print(str(numbers[num]) + ' is even')\n",
    "        \n",
    "numbers = [i for i in range(10)]\n",
    "\n",
    "if(13 not in numbers):\n",
    "    print('\\n13 is not in numbers')\n",
    "    \n",
    "# print(numbers)\n",
    "\n",
    "noh = 25\n",
    "noa = 12\n",
    "\n",
    "attendance = noa / noh\n",
    "medicalDoc = True\n",
    "\n",
    "if attendance < 0.65:\n",
    "    if medicalDoc:\n",
    "        print('You are allowed to take the exam!')\n",
    "    else:\n",
    "        print('You are not able to take the exam!')\n",
    "    \n",
    "else:\n",
    "    print('You are allowed to take the exam!')"
   ]
  },
  {
   "cell_type": "markdown",
   "metadata": {},
   "source": [
    "## Error Handling\n",
    "\n",
    "1. Error handling in the method\n",
    "2. `Try` and `Except`"
   ]
  },
  {
   "cell_type": "code",
   "execution_count": null,
   "metadata": {},
   "outputs": [],
   "source": []
  },
  {
   "cell_type": "markdown",
   "metadata": {},
   "source": [
    "## Misc."
   ]
  },
  {
   "cell_type": "code",
   "execution_count": null,
   "metadata": {},
   "outputs": [],
   "source": [
    "n = 11\n",
    "\n",
    "for i in range(n):\n",
    "    for j in range(i):\n",
    "        print('*', end = '')\n",
    "    print()\n",
    "for l in range(n, 0, -1):\n",
    "    for k in range(l):\n",
    "        print('*', end = '')\n",
    "    print()\n",
    "    \n",
    "l1 = [1, 2, 3]\n",
    "l2 = [4, 5, 6]\n",
    "l3 = [7, 8, 9]\n",
    "test = zip(l1, l2, l3)\n",
    "print(test)"
   ]
  },
  {
   "cell_type": "markdown",
   "metadata": {},
   "source": [
    "## Generating a Data Set"
   ]
  },
  {
   "cell_type": "code",
   "execution_count": null,
   "metadata": {},
   "outputs": [],
   "source": [
    "data = []\n",
    "n = random.randint(0, 2000)\n",
    "length = 30\n",
    "total = 0\n",
    "\n",
    "for i in range(length):\n",
    "    num = random.randint(i, n)\n",
    "    data.append(num)\n",
    "    \n",
    "length = len(arr)\n",
    "print('Size of the array: ' + str(length))\n",
    "    \n",
    "print('Sample:', data)"
   ]
  },
  {
   "cell_type": "markdown",
   "metadata": {},
   "source": [
    "## Data Sanitization (Sorting)"
   ]
  },
  {
   "cell_type": "code",
   "execution_count": null,
   "metadata": {},
   "outputs": [],
   "source": [
    "# data.sort()\n",
    "# print('Cleaned:', arr)"
   ]
  },
  {
   "cell_type": "markdown",
   "metadata": {},
   "source": [
    "## Generating Statistics\n",
    "### Minimum, Minimum, and Median "
   ]
  },
  {
   "cell_type": "code",
   "execution_count": null,
   "metadata": {},
   "outputs": [],
   "source": [
    "minimum = data[0]\n",
    "median = data[length // 2]\n",
    "maximum = data[length - 1]\n",
    "\n",
    "print('Min: ' + str(minimum))\n",
    "print('Median: ' + str(median))\n",
    "print('Max: ' + str(maximum))"
   ]
  },
  {
   "cell_type": "markdown",
   "metadata": {},
   "source": [
    "### Data Set Operations\n",
    "#### Mean"
   ]
  },
  {
   "cell_type": "code",
   "execution_count": null,
   "metadata": {
    "scrolled": true
   },
   "outputs": [],
   "source": [
    "for val in range(len(arr)):\n",
    "    total += arr[val]\n",
    "    \n",
    "avg = total/len(arr)\n",
    "\n",
    "print('Mean: ' + str(avg))\n"
   ]
  },
  {
   "cell_type": "markdown",
   "metadata": {},
   "source": [
    "## Matplotlib"
   ]
  },
  {
   "cell_type": "code",
   "execution_count": null,
   "metadata": {
    "scrolled": true
   },
   "outputs": [],
   "source": [
    "import matplotlib.pyplot as plt\n",
    "\n",
    "plt.plot(data)\n",
    "plt.show()\n"
   ]
  },
  {
   "cell_type": "code",
   "execution_count": null,
   "metadata": {},
   "outputs": [],
   "source": []
  }
 ],
 "metadata": {
  "celltoolbar": "Attachments",
  "kernelspec": {
   "display_name": "Python 3",
   "language": "python",
   "name": "python3"
  },
  "language_info": {
   "codemirror_mode": {
    "name": "ipython",
    "version": 3
   },
   "file_extension": ".py",
   "mimetype": "text/x-python",
   "name": "python",
   "nbconvert_exporter": "python",
   "pygments_lexer": "ipython3",
   "version": "3.7.3"
  }
 },
 "nbformat": 4,
 "nbformat_minor": 4
}
