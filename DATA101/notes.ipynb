{
 "cells": [
  {
   "cell_type": "markdown",
   "metadata": {},
   "source": [
    "# Notes for 9/2\n",
    "\n",
    "## Basic Operations"
   ]
  },
  {
   "cell_type": "code",
   "execution_count": 1,
   "metadata": {
    "scrolled": true
   },
   "outputs": [
    {
     "name": "stdout",
     "output_type": "stream",
     "text": [
      "String: Hello, world!\n",
      "Addition: 10\n",
      "Subtraction: 8\n",
      "Multiplication: 16\n",
      "Division: 8.0\n",
      "Integer division: 4.0\n",
      "Exponents: 16.0\n",
      "Square Root: 4.0\n"
     ]
    }
   ],
   "source": [
    "import math\n",
    "import random\n",
    "\n",
    "string = 'Hello, world!'\n",
    "print('String: ' + string)\n",
    "test = 5 + 5 # addititon\n",
    "print('Addition: ' + str(test))\n",
    "test -= 2 # subtraction\n",
    "print('Subtraction: ' + str(test))\n",
    "test *= 2 # division\n",
    "print('Multiplication: ' + str(test))\n",
    "test /= 2 # division\n",
    "print('Division: ' + str(test))\n",
    "test //= 2 # division\n",
    "print('Integer division: ' + str(test))\n",
    "test = test ** 2 # exponents\n",
    "print('Exponents: ' + str(test))\n",
    "test = math.sqrt(test) # square root\n",
    "print('Square Root: ' + str(test))\n",
    "\n"
   ]
  },
  {
   "cell_type": "markdown",
   "metadata": {},
   "source": [
    "## Casting"
   ]
  },
  {
   "cell_type": "code",
   "execution_count": 2,
   "metadata": {},
   "outputs": [
    {
     "name": "stdout",
     "output_type": "stream",
     "text": [
      "2\n",
      "<class 'str'>\n",
      "<class 'int'>\n",
      "<class 'str'>\n"
     ]
    }
   ],
   "source": [
    "k = 2.33345676512321 # float\n",
    "\n",
    "k = int(k) # chop off decimal\n",
    "\n",
    "print(k) # full int left\n",
    "\n",
    "x = '2' # string\n",
    "print(type(x)) # type string\n",
    "\n",
    "y = int(x) # convert to int\n",
    "print(type(y)) # type int\n",
    "\n",
    "z = str(y) # convert to string\n",
    "print(type(z)) # type string"
   ]
  },
  {
   "cell_type": "markdown",
   "metadata": {},
   "source": [
    " ## String Operations"
   ]
  },
  {
   "cell_type": "code",
   "execution_count": 3,
   "metadata": {},
   "outputs": [
    {
     "name": "stdout",
     "output_type": "stream",
     "text": [
      "Upper: HELLO, WORLD!\n",
      "Lower: hello, world!\n",
      "Stripped: hello, world!\n",
      "Length: 13\n"
     ]
    }
   ],
   "source": [
    "original = string # copy to another var\n",
    "\n",
    "string = string.upper() # all to uppper case \n",
    "print('Upper: ' + string) # print upper case string\n",
    "\n",
    "string = string.lower() # all to lower\n",
    "print('Lower: ' + string) # print lower case string\n",
    "\n",
    "string = string.strip() # remove witespace or carriage returns\n",
    "print('Stripped: ' + string) # print stripped string\n",
    "\n",
    "strLength = len(string) # length of string \n",
    "print('Length: ' + str(strLength)) # print the length\n"
   ]
  },
  {
   "cell_type": "markdown",
   "metadata": {},
   "source": [
    "## Booleans"
   ]
  },
  {
   "cell_type": "code",
   "execution_count": 4,
   "metadata": {},
   "outputs": [
    {
     "name": "stdout",
     "output_type": "stream",
     "text": [
      "Result: False\n",
      "Result: True\n"
     ]
    }
   ],
   "source": [
    "a = 2 # first val\n",
    "b = 2.001293 # second val\n",
    "\n",
    "boolean = (a == b) # are the values equal?\n",
    "print('Result: ' + str(boolean)) # print boolean\n",
    "\n",
    "str1 = 'test' # string one \n",
    "str2 = 'test' # string two\n",
    "\n",
    "boolean = (str1 == str2) # are the strings equal?\n",
    "print('Result: ' + str(boolean)) # print boolean"
   ]
  },
  {
   "cell_type": "markdown",
   "metadata": {},
   "source": [
    "## Variables and Documentation"
   ]
  },
  {
   "cell_type": "markdown",
   "metadata": {},
   "source": [
    "### Variable conventions\n",
    "1. Naming conventions:\n",
    "    - Legal characters:\n",
    "    - [A-Z]\n",
    "    - [a-z]\n",
    "    - [0-9]\n",
    "    - Underscore (_)\n",
    "2. Can only start with letters and underscores, no numbers\n",
    "3. No spaces\n",
    "4. Cannot use a keyword \n",
    "5. Try to avoid the following\n",
    "    - l (seen as 1)\n",
    "    - O (seen as 0)\n",
    "6. Use camel case:\n",
    "    - lowerCamelCase\n",
    "    - UpperCamelCase\n",
    "7. Constants: UPPER\n",
    "    - ex: PI- 3.14\n",
    "    \n",
    "### Self-Documenting Code\n",
    "1. Good variable names can minimize comments\n",
    "2. Name variables for the data that they store\n",
    "\n",
    "### Whitespaces\n",
    "1. Return key (enter)\n",
    "    - New line: \\n\n",
    "    - Return: \\r\n",
    "    - Tab: \\t\n",
    "    - Space: ' '\n",
    "2. Strip with the `.strip()` method for strings\n",
    "    "
   ]
  },
  {
   "cell_type": "markdown",
   "metadata": {},
   "source": [
    "## Data Structures (Lists) \n",
    "\n",
    "### Lists\n",
    "**Strings are lists of** `chars`\n",
    "1. Ordered\n",
    "2. Mutable\n",
    "    * Changes the object after use\n",
    "    * Non-mutable \n",
    "3. No need for auxiliary data structures\n",
    "4. Negative indexing `myList[-1]`\n",
    "5. Slicing `myList[:upper]` or `myList[lower:]` or `myList[lower:upper]`\n",
    "6. Append: single element\n",
    "7. Extend: add multiple elements **Takes a list as input**\n",
    "\n"
   ]
  },
  {
   "cell_type": "code",
   "execution_count": 5,
   "metadata": {
    "scrolled": false
   },
   "outputs": [
    {
     "name": "stdout",
     "output_type": "stream",
     "text": [
      "a\n",
      "d\n",
      "['a', 'b', 'c', 'd', 'z']\n",
      "['a', 'b', 'c', 'd', 'z', 1, 2, 3, 4]\n",
      "['a', 'b', 'c', 'd', 'z', 1, 2, 3, 4, 99]\n",
      "['a', 'b', 'c', 'd', 'z', 1, 2, 3, 4, 99, 1, 2, 3, 4]\n",
      "[4, 3, 2, 1]\n",
      "['a', 'b', 'c', 'd', 'z', 1, 2, 3, 4, 1, 2, 3, 4]\n",
      "[1, 2, 3, 4]\n",
      "Count: 2\n",
      "Index: 0\n"
     ]
    }
   ],
   "source": [
    "# Lists\n",
    "\n",
    "# lists for testing\n",
    "arr = ['a', 'b', 'c', 'd']\n",
    "arr2 = [1, 2, 3, 4]\n",
    "\n",
    "# indexing\n",
    "print(arr[0])\n",
    "print(arr[-1])\n",
    "\n",
    "# append single element\n",
    "arr.append('z')\n",
    "print(arr)\n",
    "\n",
    "# extend for multiple elements\n",
    "arr.extend(arr2)\n",
    "print(arr)\n",
    "\n",
    "# mutable methods\n",
    "\n",
    "# append\n",
    "arr.append(99)\n",
    "print(arr)\n",
    "\n",
    "# extend\n",
    "arr.extend(arr2)\n",
    "print(arr)\n",
    "\n",
    "# reverse\n",
    "arr2.reverse()\n",
    "print(arr2)\n",
    "\n",
    "# remove first instance of element\n",
    "arr.remove(99)\n",
    "print(arr)\n",
    "\n",
    "# sort the list (quicksort?)\n",
    "arr2.sort()\n",
    "print(arr2)\n",
    "\n",
    "# Non-mutating\n",
    "\n",
    "# count\n",
    "count = arr.count(4)\n",
    "print('Count: ' + str(count))\n",
    "\n",
    "# index of the first occurence\n",
    "index = arr.index('a')\n",
    "print('Index: ' + str(index))"
   ]
  },
  {
   "cell_type": "markdown",
   "metadata": {},
   "source": [
    "### Tuples\n",
    "\n",
    "1. Immutable: once it is constructed, it cannot be changed  \n",
    "    * Date/Time\n",
    "    * Weekdays\n",
    "    * Fixed data    \n",
    "2. Advantages: \n",
    "    * Faster than lists\n",
    "    * Write protected"
   ]
  },
  {
   "cell_type": "code",
   "execution_count": 6,
   "metadata": {
    "scrolled": true
   },
   "outputs": [
    {
     "name": "stdout",
     "output_type": "stream",
     "text": [
      "<class 'list'>\n",
      "<class 'tuple'>\n",
      "<class 'set'>\n",
      "<class 'tuple'>\n"
     ]
    }
   ],
   "source": [
    "listEx = [3, 64.2, 'some list'] # lists have brackets\n",
    "print(type(listEx))\n",
    "\n",
    "tupleEx = (3, 64.2, 'some list') # tuples have parentheses\n",
    "print(type(tupleEx))\n",
    "\n",
    "setEx = {3, 64.2, 'some list'} # sets have braces\n",
    "print(type(setEx))\n",
    "\n",
    "tup = tuple() # empty tuple\n",
    "\n",
    "print(type(tup))\n",
    "\n"
   ]
  },
  {
   "cell_type": "markdown",
   "metadata": {},
   "source": [
    "### Sets\n",
    "\n",
    "1. Distinct: no two identical elements\n",
    "2. Unordered: don't index the same way lists do\n",
    "3. Advantages:\n",
    "    * stored once, no duplicates  \n",
    "4. Disadvantage: no sense of ordering"
   ]
  },
  {
   "cell_type": "code",
   "execution_count": 7,
   "metadata": {},
   "outputs": [
    {
     "name": "stdout",
     "output_type": "stream",
     "text": [
      "{1, 2}\n",
      "{1, 'a', 2, 3, 4, 'd', 'b', 'c', 'z'}\n",
      "True\n",
      "False\n"
     ]
    }
   ],
   "source": [
    "sets = set() # empty set\n",
    "\n",
    "sets.add(1)\n",
    "sets.add(2)\n",
    "sets.add(2)\n",
    "\n",
    "print(sets) # print the set\n",
    "\n",
    "sets = set(arr) # arr to sets\n",
    "print(sets)\n",
    "\n",
    "for i in range(10):\n",
    "    arr.append(i + 1)\n",
    "\n",
    "sets = set(arr) # list in set\n",
    "    \n",
    "print(5 in sets)\n",
    "\n",
    "print(22 in sets)"
   ]
  },
  {
   "cell_type": "markdown",
   "metadata": {},
   "source": [
    "### Dictionaries\n",
    "\n",
    "1. Key:value pair\n",
    "2. Hash maps\n",
    "3. Distinct keys\n",
    "4. Advantages:\n",
    "    * Mutabe\n",
    "    * Unordered\n",
    "    * Keys are distinct, values can be the same"
   ]
  },
  {
   "cell_type": "code",
   "execution_count": 8,
   "metadata": {},
   "outputs": [
    {
     "name": "stdout",
     "output_type": "stream",
     "text": [
      "{1: 'test', 2: [1, 2, 3, 4]}\n",
      "[1, 2, 3, 4]\n",
      "dict_keys([1, 2])\n",
      "dict_values(['test', [1, 2, 3, 4]])\n",
      "dict_items([(1, 'test'), (2, [1, 2, 3, 4])])\n"
     ]
    }
   ],
   "source": [
    "dictionary = {} # empty dictionary\n",
    "\n",
    "dictionary[1] = 'test' # add value\n",
    "dictionary[2] = [1, 2, 3, 4]\n",
    "\n",
    "print(dictionary) # print whole dictionary\n",
    "\n",
    "print(dictionary[2]) # print single element\n",
    "\n",
    "print(dictionary.keys()) # print the keys\n",
    "\n",
    "print(dictionary.values()) # print the values\n",
    "\n",
    "print(dictionary.items()) # print the items as tuples\n",
    "\n"
   ]
  },
  {
   "cell_type": "markdown",
   "metadata": {},
   "source": [
    "## Aliasing\n",
    "\n",
    "1. Same data is in both locations\n",
    "2. Data is not copied to the other variable"
   ]
  },
  {
   "cell_type": "code",
   "execution_count": 9,
   "metadata": {
    "scrolled": false
   },
   "outputs": [
    {
     "name": "stdout",
     "output_type": "stream",
     "text": [
      "{1: 'test', 2: [1, 2, 3, 4]}\n",
      "{1: 'test', 2: [1, 2, 3, 4]}\n",
      "{1: 'test', 2: [1, 2, 3, 4], 'Cole': 'hidden'}\n",
      "{1: 'test', 2: [1, 2, 3, 4], 'Cole': 'hidden'}\n",
      "True\n"
     ]
    }
   ],
   "source": [
    "alias = dictionary\n",
    "\n",
    "print(dictionary)\n",
    "print(alias)\n",
    "\n",
    "alias['Cole'] = 'hidden'\n",
    "print(dictionary)\n",
    "print(alias)\n",
    "\n",
    "print(alias is dictionary)"
   ]
  },
  {
   "cell_type": "markdown",
   "metadata": {},
   "source": [
    "## Iteration\n",
    "\n",
    "1. Why: machines that repeat tasks\n",
    "2. For loop: `for i in range(lower, upper, step):` or `for item in list:`\n",
    "3. Indentation is key for loops and functions"
   ]
  },
  {
   "cell_type": "code",
   "execution_count": 10,
   "metadata": {
    "scrolled": true
   },
   "outputs": [
    {
     "name": "stdout",
     "output_type": "stream",
     "text": [
      "[10, 53, 96, 88, 92, 49, 15, 92]\n",
      "Sum: 424\n",
      "Average Age: 53.0\n"
     ]
    }
   ],
   "source": [
    "ages = []\n",
    "\n",
    "for i in range(8):\n",
    "    ages.append(random.randint(0,120))\n",
    "    \n",
    "print(ages)\n",
    "\n",
    "sumOfAges = 0 \n",
    "\n",
    "for i in range(len(ages)):\n",
    "    sumOfAges += ages[1]\n",
    "\n",
    "print('Sum: ' + str(sumOfAges))\n",
    "\n",
    "avg = sumOfAges / len(ages)\n",
    "print('Average Age: ' + str(avg))\n"
   ]
  },
  {
   "cell_type": "markdown",
   "metadata": {},
   "source": [
    "4. While loop `while <condition>:`"
   ]
  },
  {
   "cell_type": "code",
   "execution_count": 11,
   "metadata": {
    "scrolled": true
   },
   "outputs": [
    {
     "name": "stdout",
     "output_type": "stream",
     "text": [
      "10\n",
      "11\n",
      "12\n",
      "13\n",
      "14\n"
     ]
    }
   ],
   "source": [
    "it = 10\n",
    "\n",
    "while it < 15:\n",
    "    print(it)\n",
    "    it += 1"
   ]
  },
  {
   "cell_type": "markdown",
   "metadata": {},
   "source": [
    "## String formatting"
   ]
  },
  {
   "cell_type": "code",
   "execution_count": 12,
   "metadata": {},
   "outputs": [
    {
     "name": "stdout",
     "output_type": "stream",
     "text": [
      "My name is Patrick, I am 21\n",
      "My name is Patrick, I am 21\n",
      "My name is Patrick, I am 21\n"
     ]
    }
   ],
   "source": [
    "txt = 'My name is {name}, I am {age}'.format(name = 'Patrick', age = 21) # variables\n",
    "print(txt)\n",
    "\n",
    "txt = 'My name is {0}, I am {1}'.format('Patrick', 21) # indices\n",
    "print(txt)\n",
    "\n",
    "txt = 'My name is {}, I am {}'.format('Patrick', 21) # first, second\n",
    "print(txt)"
   ]
  },
  {
   "cell_type": "markdown",
   "metadata": {},
   "source": [
    "## Advanced Data Structures\n",
    "\n",
    "1. For loops: `for i in range(lower, upper, step): or for item in list:`\n",
    "2. While loop `while <condition>:`"
   ]
  },
  {
   "cell_type": "code",
   "execution_count": 13,
   "metadata": {},
   "outputs": [
    {
     "name": "stdout",
     "output_type": "stream",
     "text": [
      "The number of digits is: 3\n"
     ]
    }
   ],
   "source": [
    "num = 839\n",
    "count = 0\n",
    "while num > 0:\n",
    "    num = num // 10\n",
    "    count += 1\n",
    "    \n",
    "print('The number of digits is: ' + str(count))\n"
   ]
  },
  {
   "cell_type": "markdown",
   "metadata": {},
   "source": [
    "## Special Iteration\n",
    "\n",
    "1. `range(lower, upper, step)`\n",
    "2. "
   ]
  },
  {
   "cell_type": "code",
   "execution_count": 14,
   "metadata": {},
   "outputs": [
    {
     "name": "stdout",
     "output_type": "stream",
     "text": [
      "0 1 2 3 4 5 6 7 8 9 \n",
      "5 6 7 8 9 \n",
      "0 5 10 15 20 25 30 35 40 45 \n",
      "50 45 40 35 30 25 20 15 10 5 "
     ]
    }
   ],
   "source": [
    "for i in range(10):\n",
    "    print (i, end = \" \")\n",
    "\n",
    "print()\n",
    "\n",
    "for i in range(5, 10):\n",
    "    print (i, end = \" \")\n",
    "\n",
    "print()\n",
    "\n",
    "for i in range(0, 50, 5):\n",
    "    print (i, end = \" \")\n",
    "\n",
    "print()\n",
    "\n",
    "for i in range(50, 0, -5):\n",
    "    print (i, end = \" \")"
   ]
  },
  {
   "cell_type": "markdown",
   "metadata": {},
   "source": [
    "## List Comprehension\n",
    "\n",
    "1. One liners for lists and for loops"
   ]
  },
  {
   "cell_type": "code",
   "execution_count": 15,
   "metadata": {
    "scrolled": false
   },
   "outputs": [
    {
     "name": "stdout",
     "output_type": "stream",
     "text": [
      "[0, 1, 4, 9, 16, 25, 36, 49, 64, 81]\n",
      "[0, 1, 4, 9, 16, 25, 36, 49, 64, 81]\n",
      "[10, 11, 14, 19, 26, 35, 46, 59, 74, 91]\n"
     ]
    }
   ],
   "source": [
    "squares = []\n",
    "\n",
    "for i in range(10):\n",
    "    squares.append(i ** 2)\n",
    "    \n",
    "print(squares)\n",
    "\n",
    "squares = [i ** 2 for i in range(10)]\n",
    "print(squares)\n",
    "\n",
    "new_count = [10 + element for element in squares]\n",
    "print (new_count)"
   ]
  },
  {
   "cell_type": "markdown",
   "metadata": {},
   "source": [
    "## Conditionals\n",
    "\n",
    "### `if` Statements\n",
    "1. `if`: `if <condition>:`\n",
    "2. `elif`: `elif <condition>:`\n",
    "3. `else`: `else:`"
   ]
  },
  {
   "cell_type": "code",
   "execution_count": 16,
   "metadata": {
    "scrolled": true
   },
   "outputs": [
    {
     "name": "stdout",
     "output_type": "stream",
     "text": [
      "Max: 100\n",
      "Jen B\n",
      "Shannon C\n",
      "Natasha A\n",
      "Benjamin F\n"
     ]
    }
   ],
   "source": [
    "arr = [1, 2, 3, 4, 99, 2, 44, 100]\n",
    "maxVal = 0\n",
    "\n",
    "for i in range(len(arr)):\n",
    "    if arr[i] > maxVal:\n",
    "        maxVal = arr[i]\n",
    "print('Max: ' + str(maxVal))\n",
    "\n",
    "\n",
    "letter = ''\n",
    "\n",
    "tests = {'Jen': 82, 'Shannon': 75, 'Natasha': 94, 'Benjamin': 48}\n",
    "\n",
    "for student, grade in tests.items():\n",
    "    \n",
    "    if grade >= 90:\n",
    "        letter = 'A'\n",
    "        \n",
    "    elif grade >= 80: \n",
    "        letter = 'B'\n",
    "    \n",
    "    elif grade >= 70:\n",
    "        letter = 'C'\n",
    "        \n",
    "    elif grade >= 60:\n",
    "        letter = 'D'\n",
    "    \n",
    "    else: \n",
    "        letter = 'F'\n",
    "    \n",
    "    print(student, letter)"
   ]
  },
  {
   "cell_type": "markdown",
   "metadata": {},
   "source": [
    "## Boolean Logic\n",
    "\n",
    "1. `and` truth table:\n",
    "\n",
    "X   | Y  | Result\n",
    ":-: |:-: | :----:\n",
    "0   | 0  | `False` \n",
    "0   | 1  | `False`\n",
    "1   | 0  | `False`\n",
    "1   | 1  | `True`\n",
    "\n",
    "2. `or` truth table:\n",
    "\n",
    "X   | Y  | Result\n",
    ":-: |:-: | :----:\n",
    "0   | 0  | `False` \n",
    "0   | 1  | `True`\n",
    "1   | 0  | `True`\n",
    "1   | 1  | `True`\n",
    "\n",
    "3. `not` truth table:\n",
    "\n",
    "X   | Result\n",
    ":-: | :----:\n",
    "0   | `True`\n",
    "1   | `False`\n",
    "\n",
    "4. `in`\n",
    "5. `is`"
   ]
  },
  {
   "cell_type": "code",
   "execution_count": 35,
   "metadata": {},
   "outputs": [
    {
     "name": "stdout",
     "output_type": "stream",
     "text": [
      "73\n",
      "\n",
      "[1, 2, 3, 4, 5, 6, 7, 8, 9, 10]\n",
      "2 is even\n",
      "4 is even\n",
      "6 is even\n",
      "8 is even\n",
      "10 is even\n",
      "\n",
      "13 is not in numbers\n",
      "[0, 1, 2, 3, 4, 5, 6, 7, 8, 9]\n",
      "You are allowed to take the exam!\n"
     ]
    }
   ],
   "source": [
    "x = [51, 65, 56, 19, 11, 49, 81, 59, 45, 73]\n",
    "maxVal = 81\n",
    "secondMax = 0\n",
    "\n",
    "length = len(x)\n",
    "it = 0 \n",
    "\n",
    "while it < length:\n",
    "    if secondMax < x[it] and x[it] < maxVal:\n",
    "        secondMax = x[it]\n",
    "    it += 1\n",
    "print(str(secondMax) + '\\n')\n",
    "\n",
    "numbers = [i for i in range (1, 11)]\n",
    "print(numbers)\n",
    "\n",
    "for num in range(len(numbers)):\n",
    "    if numbers[num] % 2 == 0:\n",
    "        print(str(numbers[num]) + ' is even')\n",
    "        \n",
    "numbers = [i for i in range(10)]\n",
    "\n",
    "if(13 not in numbers):\n",
    "    print('\\n13 is not in numbers')\n",
    "    \n",
    "# print(numbers)\n",
    "\n",
    "noh = 25\n",
    "noa = 12\n",
    "\n",
    "attendance = noa / noh\n",
    "medicalDoc = True\n",
    "\n",
    "if attendance < 0.65:\n",
    "    if medicalDoc:\n",
    "        print('You are allowed to take the exam!')\n",
    "    else:\n",
    "        print('You are not able to take the exam!')\n",
    "    \n",
    "else:\n",
    "    print('You are allowed to take the exam!')"
   ]
  },
  {
   "cell_type": "markdown",
   "metadata": {},
   "source": [
    "## Error Handling\n",
    "\n",
    "1. Common Errors:\n",
    "    - `Type`\n",
    "    - `Key`\n",
    "    - `Index`\n",
    "    - `Name`\n",
    "2. Exception: raised when errors occur, solved by catching the error with `try` and `except`\n",
    "3. `try` and `except`"
   ]
  },
  {
   "cell_type": "code",
   "execution_count": 25,
   "metadata": {},
   "outputs": [
    {
     "name": "stdout",
     "output_type": "stream",
     "text": [
      "Error!\n",
      "Debug\n",
      "Result: Error, Zero division!\n",
      "Error present!\n",
      "0\n",
      "Error present!\n",
      "1\n",
      "Error present!\n",
      "Always printed\n",
      "1\n"
     ]
    }
   ],
   "source": [
    "#print(3/'xy') # illegal math operation\n",
    "\n",
    "#print(j) # example of name error\n",
    "\n",
    "#print('Debug') # should be executed when made available\n",
    "\n",
    "try:\n",
    "    \n",
    "    print(z)\n",
    "    \n",
    "except:\n",
    "    \n",
    "    print('Error!')\n",
    "\n",
    "print('Debug')\n",
    "\n",
    "#print(10/0) # Zero division\n",
    "\n",
    "# Function example for division\n",
    "\n",
    "\n",
    "def divide(x, y):\n",
    "    \n",
    "    quotient = 0\n",
    "    \n",
    "    try:\n",
    "        quotient = x / y\n",
    "    \n",
    "    except ZeroDivisionError:\n",
    "        quotient = 'Error, Zero division!'\n",
    "    \n",
    "    return quotient\n",
    "\n",
    "    \n",
    "returnVal = divide(10, 0)\n",
    "\n",
    "print('Result: ' + str(returnVal))\n",
    "\n",
    "\n",
    "import random \n",
    "num = random.randint(0,1)\n",
    "\n",
    "try:\n",
    "    pass # keyword to skip over\n",
    "\n",
    "except (NameError, ValueError):\n",
    "    print('Error present!')\n",
    "\n",
    "\n",
    "num = random.randint(0,1)\n",
    "\n",
    "try:\n",
    "    \n",
    "    if num == 1:\n",
    "        raise NameError('Happens when there is no variable defined')\n",
    "        \n",
    "    else:\n",
    "        raise ValueError('Happens when you multiply by a string')\n",
    "\n",
    "except (NameError, ValueError):\n",
    "    print('Error present!')\n",
    "\n",
    "\n",
    "print(num)\n",
    "\n",
    "num = random.randint(0,1)\n",
    "\n",
    "try:\n",
    "    \n",
    "    if num == 1:\n",
    "        raise NameError('Happens when there is no variable defined')\n",
    "        \n",
    "except (NameError, ValueError):\n",
    "    print('Error present!')\n",
    "\n",
    "else:\n",
    "    print('No errors occurred!')\n",
    "\n",
    "print(num)\n",
    "\n",
    "\n",
    "num = random.randint(0,1)\n",
    "\n",
    "try:\n",
    "    \n",
    "    if num == 1:\n",
    "        raise NameError('Happens when there is no variable defined')\n",
    "        \n",
    "    else:\n",
    "        raise ValueError('Happens when you multiply by a string')\n",
    "\n",
    "except (NameError, ValueError):\n",
    "    print('Error present!')\n",
    "\n",
    "else:\n",
    "    print('No errors occurred!')\n",
    "    \n",
    "finally: \n",
    "    print('Always printed')\n",
    "\n",
    "print(num)\n",
    "\n",
    "num = random.randint(0,1)\n",
    "\n",
    "try:\n",
    "    \n",
    "    if num == 1:\n",
    "        raise NameError('Happens when there is no variable defined')\n",
    "        \n",
    "    else:\n",
    "        raise Exception('Happens when you multiply by a string')\n",
    "\n",
    "except:\n",
    "    print('Error present!')\n",
    "\n",
    "else:\n",
    "    print('No errors occurred!')\n",
    "    \n",
    "finally: \n",
    "    print('Always printed')\n",
    "\n",
    "print(num)"
   ]
  },
  {
   "cell_type": "markdown",
   "metadata": {},
   "source": [
    "## Functions\n",
    "\n",
    "### Function definitions\n",
    "\n",
    "1. Blocks of code and scopes of code blocks\n",
    "2. Defining functions:\n",
    "    - Name\n",
    "    - Arguments\n",
    "    - Return value\n",
    "\n",
    "```\n",
    "def foo(param1, param2):\n",
    "       <Some code>\n",
    "       return value\n",
    "```\n",
    "\n",
    "3. Compartmentalize one thing and do it well\n",
    "4. Methods are in classes\n",
    "5. Functions are not in classes"
   ]
  },
  {
   "cell_type": "code",
   "execution_count": 1,
   "metadata": {},
   "outputs": [],
   "source": [
    "def ourFunction():\n",
    "    pass\n",
    "\n",
    "ourFunction()"
   ]
  },
  {
   "cell_type": "markdown",
   "metadata": {},
   "source": [
    "### Function Arguments (parameters)\n",
    "\n",
    "1. As many args as you want, separated by comma\n",
    "2. Provide the same number of arguments for the function in the function call\n",
    "\n",
    "```\n",
    "def fun1(one):\n",
    "    <some code>    \n",
    "```\n",
    "\n",
    "Sample call: `fun1(5) # works`\n",
    "\n",
    "Sample call: `fun1(5, 55) # error`\n",
    "\n",
    "4. Default Arguments:\n",
    "    - Positional requirements are required"
   ]
  },
  {
   "cell_type": "code",
   "execution_count": 16,
   "metadata": {},
   "outputs": [
    {
     "name": "stdout",
     "output_type": "stream",
     "text": [
      "5\n",
      "5 5\n",
      "test 10\n",
      "test 999\n",
      "User Patrick owns: \n",
      "\tAmong Us\n",
      "\tNBA 2k\n",
      "test\n"
     ]
    }
   ],
   "source": [
    "def oneArg(one):\n",
    "    print(one)\n",
    "    \n",
    "def twoArgs(one, two):\n",
    "    print(one, two)\n",
    "\n",
    "def threeArgs(one, two, three):\n",
    "    print(one, two, three)\n",
    "    \n",
    "oneArg(5) # works\n",
    "\n",
    "# oneArg(5, 55) # fails: too many params\n",
    "\n",
    "twoArgs(5, 5) # works\n",
    "\n",
    "# twoArgs(5, 5, 5) # fails: too many params\n",
    "\n",
    "def funOne(param, default = 10):\n",
    "    print(param, default)\n",
    "    \n",
    "funOne('test') # works\n",
    "\n",
    "funOne('test', default = 999) # works\n",
    "\n",
    "# funOne() # no params does not work\n",
    "\n",
    "def games(user, lib):\n",
    "    \n",
    "    print('User {} owns: '.format(user))\n",
    "    \n",
    "    for game in lib:\n",
    "        print('\\t' + game)\n",
    "        \n",
    "library = ['Among Us', 'NBA 2k']\n",
    "\n",
    "user = 'Patrick'\n",
    "\n",
    "games(user, library)\n",
    "\n",
    "def identity(arg):\n",
    "    return arg\n",
    "\n",
    "\n",
    "returnVal = identity('test')\n",
    "\n",
    "print(returnVal)\n",
    "\n",
    "\n",
    "        "
   ]
  },
  {
   "cell_type": "markdown",
   "metadata": {},
   "source": [
    "### Return Values\n",
    "\n",
    "1. `return` statement returns a value\n",
    "2. Optional statement in a function\n",
    "3. Multiple values can be returned\n",
    "    - Returned as tuples\n",
    "4. Can return dictionaries"
   ]
  },
  {
   "cell_type": "code",
   "execution_count": 4,
   "metadata": {},
   "outputs": [
    {
     "name": "stdout",
     "output_type": "stream",
     "text": [
      "test\n",
      "['O', 'n', 'e', 't', 'w', 'o', 't', 'h', 'r', 'e', 'e']\n",
      "(10, [1, 2, 3])\n",
      "{'1': 1, '2': 2, '3': 3}\n"
     ]
    }
   ],
   "source": [
    "def identity(arg):\n",
    "    return arg\n",
    "\n",
    "\n",
    "returnVal = identity('test')\n",
    "\n",
    "print(returnVal)\n",
    "\n",
    "def explodeString(string):\n",
    "    chars = []\n",
    "    for i in range(len(string)):\n",
    "        chars.append(string[i])\n",
    "    return chars\n",
    "\n",
    "words = 'Onetwothree'\n",
    "\n",
    "result = explodeString(words)\n",
    "\n",
    "print(result)\n",
    "\n",
    "def listToTuples(inlist):\n",
    "    return 10, inlist\n",
    "\n",
    "lst = [1, 2, 3]\n",
    "\n",
    "print(listToTuples(lst))\n",
    "\n",
    "def listToDictionary(inList):\n",
    "    zero = inList[0]\n",
    "    one = inList[1]\n",
    "    two = inList[2]\n",
    "    \n",
    "    return {'1': zero, '2': one, '3': two}\n",
    "\n",
    "print(listToDictionary(lst))\n",
    "\n"
   ]
  },
  {
   "cell_type": "markdown",
   "metadata": {},
   "source": [
    "### Keyword Arguments\n",
    "1. Set the parameters equal to the variable\n",
    "2. Order does not matter as long as the values are assigned correctly\n",
    "3. Positional are always before default arguments"
   ]
  },
  {
   "cell_type": "code",
   "execution_count": 12,
   "metadata": {},
   "outputs": [
    {
     "name": "stdout",
     "output_type": "stream",
     "text": [
      "Pet 1: King\n",
      "Pet 2: Bailey\n",
      "Pet 1: King\n",
      "Pet 2: Bailey\n",
      "Pet 1: King\n",
      "Pet 2: Bailey\n",
      "50\n",
      "[1, 2, 3, 4]\n"
     ]
    }
   ],
   "source": [
    "def petName(name1, name2):\n",
    "    print('Pet 1:', name1)\n",
    "    print('Pet 2:', name2)\n",
    "    \n",
    "pet1 = 'King'\n",
    "pet2 = 'Bailey'\n",
    "\n",
    "petName(pet1, pet2)\n",
    "\n",
    "petName(name1 = pet1, name2 = pet2)\n",
    "\n",
    "petName(name2 = pet2, name1 = pet1)\n",
    "\n",
    "def posDef(x, y = 10):\n",
    "    return x + (2 * y)\n",
    "\n",
    "z = posDef(x = 10, y = 20)\n",
    "print(z)\n",
    "\n",
    "# define a function that takes a list and returns the unique elements of the first list\n",
    "\n",
    "def unique_list(lst):\n",
    "    \n",
    "    unique = {}\n",
    "    length = len(lst)\n",
    "    \n",
    "    for key in lst:\n",
    "        unique[key] = 0\n",
    "        \n",
    "    return list(unique.keys())\n",
    "\n",
    "lst = [1,1,1,2,2,2,2,3,4]\n",
    "\n",
    "result = uniqueList(lst)\n",
    "print(result)\n",
    "    "
   ]
  },
  {
   "cell_type": "markdown",
   "metadata": {},
   "source": [
    "## Function review\n",
    "1. Palindrome function"
   ]
  },
  {
   "cell_type": "code",
   "execution_count": 8,
   "metadata": {},
   "outputs": [
    {
     "name": "stdout",
     "output_type": "stream",
     "text": [
      "True\n"
     ]
    }
   ],
   "source": [
    "def isPalindrome(string):\n",
    "    \n",
    "    left = 0\n",
    "    right = len(string) - 1\n",
    "    \n",
    "    while right >= left:\n",
    "        if string[left] != string[right]:\n",
    "            return False\n",
    "        \n",
    "        left += 1\n",
    "        right -= 1\n",
    "        \n",
    "    return True\n",
    "\n",
    "print(isPalindrome('radar'))    "
   ]
  },
  {
   "cell_type": "markdown",
   "metadata": {},
   "source": [
    "## Libraries\n",
    "1. Import statement: `import library`\n",
    "2. How to import the library: `import numpy as np`\n",
    "3. Levels:\n",
    "    - Built in functions: `len()`, `print()`, `max()`, `min()`\n",
    "    - Default libraries: \n",
    "        - `random`: random numbers\n",
    "        - `os`: Operating System\n",
    "        - `re`: RegEx\n",
    "        - `datetime`: date and time\n",
    "        - `math`: math library\n",
    "        - `xml`: parsing xml files\n",
    "    - Python Package Index (manual):\n",
    "        - `pip3 install [package]`\n",
    "    "
   ]
  },
  {
   "cell_type": "code",
   "execution_count": 11,
   "metadata": {},
   "outputs": [
    {
     "name": "stdout",
     "output_type": "stream",
     "text": [
      "1\n"
     ]
    }
   ],
   "source": [
    "import random as r\n",
    "\n",
    "print(r.randint(0, 1))"
   ]
  },
  {
   "cell_type": "markdown",
   "metadata": {},
   "source": [
    "## Numpy\n",
    "1. Numperical Python\n",
    "2. One of the most popular packages\n",
    "3. Core: ndarray\n",
    "    - n-dimensional array\n",
    "    - matrices"
   ]
  },
  {
   "cell_type": "code",
   "execution_count": 12,
   "metadata": {
    "scrolled": true
   },
   "outputs": [
    {
     "name": "stdout",
     "output_type": "stream",
     "text": [
      "[[1, 2, 3], [4, 5, 6], [7, 8, 9]]\n"
     ]
    }
   ],
   "source": [
    "matrix = [[1,2,3], [4,5,6], [7,8,9]]\n",
    "\n",
    "print(matrix)"
   ]
  },
  {
   "cell_type": "code",
   "execution_count": 18,
   "metadata": {
    "scrolled": true
   },
   "outputs": [
    {
     "name": "stdout",
     "output_type": "stream",
     "text": [
      "[[1 2 3]\n",
      " [4 5 6]\n",
      " [7 8 9]]\n",
      "<class 'numpy.ndarray'>\n",
      "[1 2 3]\n",
      "9\n",
      "9\n"
     ]
    }
   ],
   "source": [
    "import numpy as np\n",
    "\n",
    "matrix = [[1,2,3], [4,5,6], [7,8,9]]\n",
    "\n",
    "arr = np.array(matrix)\n",
    "\n",
    "print(arr)\n",
    "print(type(arr))\n",
    "\n",
    "print(arr[0])\n",
    "print(arr[2][2]) # [row] [column]\n",
    "print(arr[2,2])"
   ]
  },
  {
   "cell_type": "markdown",
   "metadata": {},
   "source": [
    "## More Numpy\n",
    "1. `ndarray`\n",
    "2. Submodules:\n",
    "    - `ndarray`\n",
    "    - `sin`\n",
    "    - `cos`\n",
    "    - `log`\n",
    "    - `exp`\n",
    "    - `max`\n",
    "    - `min`\n",
    "3. Fourier Transform\n",
    "    - `fft`: infinite sum of sine and cosine waves\n",
    "4. Linear Algebra:\n",
    "    - `linalg.norm`\n",
    "    - `linalg.svd`\n",
    "    - `linalg.det`\n",
    "5. Random Numbers:\n",
    "    - `random`\n",
    "6. Testing:\n",
    "    - `testing.assert_allclose()`\n",
    "7. Vectorized Arithmetic:\n",
    "    - Broadcasting: vectorized operations with different shapes\n",
    "    - Compatible same rows and columns\n",
    "    - One Dimensional array"
   ]
  },
  {
   "cell_type": "code",
   "execution_count": 32,
   "metadata": {},
   "outputs": [
    {
     "name": "stdout",
     "output_type": "stream",
     "text": [
      "Min: 1\n",
      "Cos of first element: 0.54\n",
      "5\n",
      "None\n",
      "[25, 100, 225, 400, 625]\n",
      "[ 25 100 225 400 625]\n",
      "[ 2  4  6  8 10]\n",
      "16.76305461424021\n"
     ]
    }
   ],
   "source": [
    "import numpy as np\n",
    "\n",
    "arr = np.array([1, 2, 3, 4, 5, 6, 7, 8, 9])\n",
    "\n",
    "print('Min:', np.min(arr))\n",
    "print('Cos of first element: {:.2f}'.format(np.cos(arr[0])))\n",
    "\n",
    "print(np.random.randint(10)) # non-inclusive end point like range f(x)\n",
    "\n",
    "arr = np.array([1, 2])\n",
    "brr = np.array([3, 4])\n",
    "\n",
    "\n",
    "\n",
    "print(np.testing.assert_allclose(arr, arr))\n",
    "\n",
    "#print(np.testing.assert_allclose(arr, brr))\n",
    "\n",
    "our_list= [5, 10, 15, 20, 25]\n",
    "our_list = [x ** 2 for x in our_list]\n",
    "print(our_list)\n",
    "\n",
    "our_list = [5, 10, 15, 20, 25]\n",
    "\n",
    "nd = np.array(our_list)\n",
    "\n",
    "nd = nd ** 2\n",
    "\n",
    "print(nd)\n",
    "\n",
    "new_list = [10, 21, 30, 42, 54]\n",
    "nd = np.array(new_list)\n",
    "\n",
    "nd = nd // 5\n",
    "\n",
    "print(nd)\n",
    "\n",
    "import numpy as np\n",
    "import numpy.linalg as nla\n",
    "\n",
    "vector = [4.0, 15.0, 6.0, 2.0]\n",
    "\n",
    "npVector = np.array(vector)\n",
    "magnitude = nla.norm(npVector)\n",
    "\n",
    "npVector /= magnitude\n",
    "\n",
    "print(magnitude)\n"
   ]
  },
  {
   "cell_type": "markdown",
   "metadata": {},
   "source": [
    "## Midterm\n",
    "1. Exam will be on Mimir\n",
    "2. Open note\n",
    "3. No collaboration\n",
    "4. Multiple Submissions\n",
    "5. 11:30 - ? (extra hour?)\n",
    "6. Review Wednesday"
   ]
  },
  {
   "cell_type": "code",
   "execution_count": 8,
   "metadata": {
    "scrolled": true
   },
   "outputs": [
    {
     "name": "stdout",
     "output_type": "stream",
     "text": [
      "[5 7 9]\n",
      "[[19 22]\n",
      " [43 50]]\n",
      "(2, 2)\n",
      "[[1 2 3 4]\n",
      " [5 6 7 8]]\n",
      "[[1 2]\n",
      " [1 2]]\n",
      "[1, 2, 3, 4]\n",
      "[2, 3]\n",
      "[3, 4]\n",
      "[1, 2, 3]\n",
      "[1 2 3 4]\n",
      "[2 3]\n",
      "[3 4]\n",
      "[1 2 3]\n"
     ]
    }
   ],
   "source": [
    "import numpy as np\n",
    "\n",
    "x = np.array([1, 2, 3])\n",
    "y = np.array([4, 5, 6])\n",
    "\n",
    "z = x + y\n",
    "\n",
    "print(z)\n",
    "\n",
    "A = np.array([[1, 2], [3, 4]])\n",
    "B = np.array([[5, 6], [7, 8]])\n",
    "\n",
    "C = A @ B\n",
    "\n",
    "print(C)\n",
    "\n",
    "print(C.shape)\n",
    "\n",
    "def multiplyMatrices(A, B):\n",
    "    \n",
    "    C = np.zeros((A.shape[0], B.shape[1]))\n",
    "    \n",
    "    for row in range(len(A)):      \n",
    "        for col in range(len(B[0])):\n",
    "            for k in range(len(B)):\n",
    "                C[row][col] += A[row][k] * B[k][col]\n",
    "    \n",
    "    return C\n",
    "\n",
    "one = np.array([[1,2,3,4], [5,6,7,8]])\n",
    "two = np.array([[1,2], [1,2]])\n",
    "\n",
    "print(one)\n",
    "print(two)\n",
    "\n",
    "# print(multiplyMatrices(one, two))\n",
    "\n",
    "\n",
    "X = np.random.random([100, 100])\n",
    "Y = np.random.random([100, 100])\n",
    "\n",
    "#%timeit multiplyMatrices(X, Y)\n",
    "#%timeit X @ Y\n",
    "\n",
    "\n",
    "\n",
    "# normal list\n",
    "lst = [1, 2, 3, 4]\n",
    "\n",
    "print(lst)\n",
    "print(lst[1:3])\n",
    "print(lst[2:])\n",
    "print(lst[:-1])\n",
    "\n",
    "# numpy equivalent\n",
    "lst = np.array(lst)\n",
    "\n",
    "print(lst)\n",
    "print(lst[1:3])\n",
    "print(lst[2:])\n",
    "print(lst[:-1])\n",
    "\n",
    "\n"
   ]
  },
  {
   "cell_type": "markdown",
   "metadata": {},
   "source": [
    "## Numpy Array Broadcasting\n",
    "1. Sliceing works for printing rows and columns\n",
    "2. Advanced Slicing:\n",
    "    - `[start:stop]`\n",
    "    - `[start:stop:end]`\n",
    "3. Broadcasting: vectorized operations with different shapes\n",
    "    - Compatible same rows and columns\n",
    "    - One Dimensional array"
   ]
  },
  {
   "cell_type": "code",
   "execution_count": 1,
   "metadata": {
    "scrolled": true
   },
   "outputs": [
    {
     "name": "stdout",
     "output_type": "stream",
     "text": [
      "[[1 2 3]\n",
      " [4 5 6]\n",
      " [7 8 9]]\n",
      "[2 5 8]\n",
      "[[2 3]\n",
      " [5 6]]\n",
      "[[7 8 9]]\n",
      "[[1 2]\n",
      " [4 5]\n",
      " [7 8]]\n",
      "[[4 5]]\n",
      "[[ 1  2  3  4]\n",
      " [ 5  6  7  8]\n",
      " [ 9 10 11 12]]\n",
      "[[ 2  4]\n",
      " [ 6  8]\n",
      " [10 12]]\n",
      "[[ 0  1  2  3  4  5]\n",
      " [ 6  7  8  9 10 11]\n",
      " [12 13 14 15 16 17]\n",
      " [18 19 20 21 22 23]\n",
      " [24 25 26 27 28 29]\n",
      " [30 31 32 33 34 35]]\n",
      "[[12 14 16]\n",
      " [24 26 28]]\n",
      "3\n",
      "(3, 5, 9)\n",
      "(5, 9)\n",
      "(9,)\n",
      "[[[0. 0. 0. 0. 0. 0. 0. 0. 0.]\n",
      "  [0. 0. 0. 0. 0. 0. 0. 0. 0.]\n",
      "  [0. 0. 0. 0. 0. 0. 0. 0. 0.]\n",
      "  [0. 0. 0. 0. 0. 0. 0. 0. 0.]\n",
      "  [0. 0. 0. 0. 0. 0. 0. 0. 0.]]\n",
      "\n",
      " [[0. 0. 0. 0. 0. 0. 0. 0. 0.]\n",
      "  [0. 0. 0. 0. 0. 0. 0. 0. 0.]\n",
      "  [0. 0. 0. 0. 0. 0. 0. 0. 0.]\n",
      "  [0. 0. 0. 0. 0. 0. 0. 0. 0.]\n",
      "  [0. 0. 0. 0. 0. 0. 0. 0. 0.]]\n",
      "\n",
      " [[0. 0. 0. 0. 0. 0. 0. 0. 0.]\n",
      "  [0. 0. 0. 0. 0. 0. 0. 0. 0.]\n",
      "  [0. 0. 0. 0. 0. 0. 0. 0. 0.]\n",
      "  [0. 0. 0. 0. 0. 0. 0. 0. 0.]\n",
      "  [0. 0. 0. 0. 0. 0. 0. 0. 0.]]]\n",
      "(5, 9)\n",
      "[11 12 13 14 15]\n",
      "[[1. 1. 1. 1.]\n",
      " [1. 1. 1. 1.]\n",
      " [1. 1. 1. 1.]]\n"
     ]
    }
   ],
   "source": [
    "import numpy as np\n",
    "\n",
    "x = np.array([[1,2,3], [4,5,6], [7,8,9]])\n",
    "\n",
    "print(x)\n",
    "\n",
    "print(x[:, 1])\n",
    "\n",
    "print(x[:2, 1:])\n",
    "\n",
    "print(x[2:, :])\n",
    "\n",
    "print(x[:, :2])\n",
    "\n",
    "print(x[1:2, :2])\n",
    "\n",
    "a = np.array([[1,2,3,4], [5,6,7,8], [9,10,11,12]])\n",
    "\n",
    "print(a)\n",
    "\n",
    "print(a[:, 1::2])\n",
    "\n",
    "matrix = np.arange(0,36)\n",
    "matrix = matrix.reshape(6,6)\n",
    "\n",
    "print(matrix)\n",
    "\n",
    "print(matrix[2::2, 0::2])\n",
    "\n",
    "video = np.empty(shape = (1280, 720, 50))\n",
    "print(video.ndim)\n",
    "\n",
    "del video\n",
    "\n",
    "#tensor = np.empty(shape = (2, 640, 480, 360, 100))\n",
    "#print(tensor.shape)\n",
    "\n",
    "ex = np.empty(shape = (3, 5, 9))\n",
    "print(ex.shape)\n",
    "\n",
    "sliced = ex[0]\n",
    "print(sliced.shape)\n",
    "\n",
    "sliced = ex[0, 0]\n",
    "print(sliced.shape)\n",
    "\n",
    "ex = np.zeros(shape = (3, 5, 9))\n",
    "print(ex)\n",
    "\n",
    "ex = ex[0]\n",
    "print(ex.shape)\n",
    "\n",
    "x = np.array([1,2,3,4,5])\n",
    "\n",
    "x += 10\n",
    "\n",
    "print(x)\n",
    "\n",
    "zeros = np.zeros(shape = (3, 4))\n",
    "\n",
    "zeros += 1\n",
    "\n",
    "print(zeros)"
   ]
  },
  {
   "cell_type": "markdown",
   "metadata": {},
   "source": [
    "## More numpy\n",
    "1. Preprocessing\n",
    "    - AKA cleaning data\n",
    "2. Boolean indexing (masking)\n",
    "    - `and`: &\n",
    "    - `or`: |"
   ]
  },
  {
   "cell_type": "code",
   "execution_count": 5,
   "metadata": {
    "scrolled": true
   },
   "outputs": [
    {
     "name": "stdout",
     "output_type": "stream",
     "text": [
      "[[ 0.52695565 -0.02963544  1.4328452  -2.00719192]\n",
      " [-0.3643898   0.81683406  1.93403711 -1.8244274 ]\n",
      " [ 0.6227351  -0.28187691  0.62220112  1.71825749]\n",
      " [ 2.44725776 -2.27445449  0.82949197 -0.641628  ]\n",
      " [ 1.39735632  0.29008627  0.3129043   0.85414358]\n",
      " [ 2.95312222 -1.36585731  0.80070001  1.16707487]\n",
      " [-0.32170231  0.0102576  -0.15302296 -0.3428753 ]]\n",
      "[[False  True False  True]\n",
      " [ True False False  True]\n",
      " [False  True False False]\n",
      " [False  True False  True]\n",
      " [False False False False]\n",
      " [False  True False False]\n",
      " [ True False  True  True]]\n",
      "[[0.52695565 0.         1.4328452  0.        ]\n",
      " [0.         0.81683406 1.93403711 0.        ]\n",
      " [0.6227351  0.         0.62220112 1.71825749]\n",
      " [2.44725776 0.         0.82949197 0.        ]\n",
      " [1.39735632 0.29008627 0.3129043  0.85414358]\n",
      " [2.95312222 0.         0.80070001 1.16707487]\n",
      " [0.         0.0102576  0.         0.        ]]\n"
     ]
    }
   ],
   "source": [
    "import numpy as np\n",
    "\n",
    "x = np.random.standard_normal(size = (7, 4))\n",
    "\n",
    "print(x)\n",
    "\n",
    "mask = x < 0\n",
    "\n",
    "print(mask)\n",
    "\n",
    "x[mask] = 0\n",
    "print(x)\n",
    "\n"
   ]
  },
  {
   "cell_type": "markdown",
   "metadata": {},
   "source": [
    "## Interacting with the File System\n",
    "### Input\n",
    "1. `input()` grabs user keyboard text\n"
   ]
  },
  {
   "cell_type": "code",
   "execution_count": 5,
   "metadata": {},
   "outputs": [
    {
     "name": "stdout",
     "output_type": "stream",
     "text": [
      "Enter your name: 5\n",
      "<class 'str'>\n"
     ]
    }
   ],
   "source": [
    "test = input('Enter your name: ')\n",
    "print(type(test))\n",
    "\n",
    "age = int(input('Enter your age: '))\n",
    "print(age)\n"
   ]
  },
  {
   "cell_type": "markdown",
   "metadata": {},
   "source": [
    "### File I/O\n",
    "1. `inFile = open('file.ext', 'r/w')`\n",
    "2. Need a data structure to hold the line data\n",
    "3. Need a loop to iterate over the lines"
   ]
  },
  {
   "cell_type": "code",
   "execution_count": 3,
   "metadata": {
    "scrolled": true,
    "tags": []
   },
   "outputs": [
    {
     "output_type": "stream",
     "name": "stdout",
     "text": "Project Gutenberg's Alice's Adventures in Wonderland, by Lewis Carroll\n\nProject Gutenberg's Alice's Adventures in Wonderland, by Lewis Carroll\n\nProject Gutenberg's Alice's Adventures in Wonderland, by Lewis Carroll\n\nThis eBook is for the use of anyone anywhere at no cost and with\nalmost no restrictions whatsoever.  You may copy it, give it away or\nre-use it under the terms of the Project Gutenberg License included\nProject Gutenberg's Alice's Adventures in Wonderland, by Lewis Carroll\n\n"
    }
   ],
   "source": [
    "import numpy as np\n",
    "\n",
    "inFile = open('alice.txt', 'r')\n",
    "\n",
    "content = inFile.read()\n",
    "\n",
    "print(content[:71])\n",
    "\n",
    "inFile.close()\n",
    "\n",
    "with open('alice.txt', 'r') as inFile:\n",
    "    content = inFile.read()\n",
    "    print(content[:71])\n",
    "\n",
    "inFile = open('alice.txt', 'r')\n",
    "    \n",
    "data = []\n",
    "lines = 0\n",
    "\n",
    "for line in inFile:\n",
    "    line = line.strip()\n",
    "    print(line)\n",
    "    lines += 1\n",
    "    if lines == 5: \n",
    "        break\n",
    "inFile.close()\n",
    "\n",
    "inFile = open('alice.txt', 'r')\n",
    "data = inFile.readlines()\n",
    "print(data[0])\n",
    "inFile.close()\n",
    "\n",
    "outFile = open('out.txt', 'w')\n",
    "outFile.write(str(5))\n",
    "outFile.close()"
   ]
  },
  {
   "cell_type": "markdown",
   "metadata": {},
   "source": [
    "## More file I/O and OS library\n",
    "1. OS library\n",
    "2. `import os`\n",
    "    - `os.getcwd()`: absolute path\n",
    "    - `os.chdir('[path]')`: change directory\n",
    "    - `os.listdir('[directory]')`: lists all the files\n",
    "    - `os.mkdir('name')`: make directory\n",
    "    - `os.rmdir('directory')`: delete a directory\n",
    "    - `os.remove('file')`: removes a file\n",
    "    - `os.unlink('file')`: another way to delete\n",
    "    - `os.rename('old', 'new'): rename files or directories\n",
    "3. `import os.path as p`\n",
    "    - `exists('file')`: boolean does or not exists\n",
    "    - `isdir('name')`: is it a file or directory?"
   ]
  },
  {
   "cell_type": "code",
   "execution_count": null,
   "metadata": {},
   "outputs": [],
   "source": [
    "import os \n",
    "import os.path as p\n",
    "\n",
    "os.chdir('/home/pmccabe/Desktop/Github Repositories/Data-Science')\n",
    "\n",
    "print(os.getcwd()) # get current working directory \n",
    "\n",
    "os.chdir('DATA101') # change to the DATA101 folder\n",
    "\n",
    "print(os.getcwd()) # get current working directory\n",
    "\n",
    "os.listdir('.') # list all the files of the current directory\n",
    "\n",
    "os.mkdir('test') # create a directory\n",
    "\n",
    "print(os.listdir('.')) # list new directories\n",
    "\n",
    "os.rmdir('test') # removes the test directory\n",
    "\n",
    "os.mkdir('test') # create a directory\n",
    "\n",
    "os.listdir('.') # list new directories\n",
    "\n",
    "os.rename('test', 'test2') # rename file\n",
    "\n",
    "print(os.listdir('.')) # list new directories\n",
    "\n",
    "p.exists('test2')\n",
    "\n",
    "for file in os.listdir('.'):\n",
    "    if file.endswith('txt'):\n",
    "        print(p.join(os.getcwd(), file))\n",
    "\n",
    "os.rmdir('test2')"
   ]
  },
  {
   "cell_type": "markdown",
   "metadata": {},
   "source": [
    "## Linear Algebra\n",
    "1. Terminology\n",
    "    - scalar: single number\n",
    "    - vector: collection of scalars\n",
    "2. Scalars:\n",
    "    - magnitude \n",
    "    - direction\n",
    "3. Space (vector space):\n",
    "    - All possible vectors we may have\n",
    "    - finite in dimension, infinite in space\n",
    "    - vectors live in space\n",
    "4. Systems of Equations\n",
    "    - Substitution: solve for one and then calculate the other\n",
    "    - Elimination: eliminate one of the variables\n",
    "5. Vectors and Matrices"
   ]
  },
  {
   "cell_type": "code",
   "execution_count": 1,
   "metadata": {},
   "outputs": [
    {
     "name": "stdout",
     "output_type": "stream",
     "text": [
      "[[1.   1.  ]\n",
      " [0.45 0.65]]\n"
     ]
    }
   ],
   "source": [
    "import numpy as np\n",
    "\n",
    "one = [1, 1]\n",
    "two = [0.45, 0.65]\n",
    "\n",
    "A = np.array([one, two])\n",
    "\n",
    "print(A)\n",
    "\n",
    "yVector = [35, 18.55]\n",
    "\n"
   ]
  },
  {
   "cell_type": "markdown",
   "metadata": {},
   "source": [
    "## Statistics\n",
    "1. Def: sumarize the data\n",
    "2. Make predcictions on the whole population based on a sample\n",
    "3. Assumptions:\n",
    "- Simple Random sample\n",
    "- Normal population or large sample\n",
    "- Selection Bias\n",
    "- Confirmation Bias\n",
    "- Inaccuracy\n",
    "4. Phases:\n",
    "- Data Collection\n",
    "- Descriptive Statistics\n",
    "- Exploratory Data analysis\n",
    "- Hypothesis Testing\n",
    "- Estimation\n",
    "### Computing Statistics\n",
    "1. First Order Statistics: summarized version of the data\n",
    "- Ex: number of data points, largest/smallest value, etc.\n",
    "- Mean\n",
    "- Median (sorted)\n",
    "2. Second Order Statistics\n",
    "- Data itself and first order statistics\n",
    "- Variance: data varies from the mean\n",
    "- Standard Deviation: sqrt of the variance\n",
    "- Interquartile Range (IQR): difference between 25% and 75% of the data (sorted)\n",
    "3. Higher Order Statistics\n",
    "- Distributions\n",
    "- Skewness (left/right skewed)\n",
    "- Kurtosis (tailed-ness of the distributions)\n",
    "4. Random Variables and Distributions\n",
    "- Variable that the value is unknown\n",
    "- Represented by capital letters\n",
    "\n"
   ]
  },
  {
   "cell_type": "code",
   "execution_count": 21,
   "metadata": {
    "tags": []
   },
   "outputs": [
    {
     "output_type": "stream",
     "name": "stdout",
     "text": "[797 604 382  58 411 801 424 590 137 139 579 369 755 444  46 708  50 630\n 206  89 468 209 486 563 579 575   9 877 654  65 881 197 395 371  58   0\n 391 477 767 926 530 518  81 917   4 135 293 115   9 250 983 345  93 255\n 668 437 620  93  82 387 135 694 440 240 849 634 305 972 289 802 736 949\n 704 448 838 548 387 897 272 431 633 438 729 680 981 100 762  72 828 962\n 532 535 687 269 649 255 749 175 820 820]\nNumber of data points: 100\nMax: 983\nMin: 0\nAvg: 472.28\nMedian: 458.0\nVariance: 82414.78159999999\nStandard Deviation: 287.079747805379\nIQR: 472.75\n"
    }
   ],
   "source": [
    "import numpy as np\n",
    "import statistics\n",
    "\n",
    "data = np.random.randint(10, size = 100)\n",
    "print(data)\n",
    "\n",
    "print('Number of data points:', data.shape[0]) # number of data points\n",
    "\n",
    "print('Max:', np.max(data)) # max\n",
    "\n",
    "print('Min:', np.min(data)) # min\n",
    "\n",
    "print('Avg:', np.mean(data)) # max\n",
    "\n",
    "print('Median:', np.median(data)) # sorted and need to help with the value if the length is even\n",
    "\n",
    "print('Variance:', np.var(data)) # variance of the data\n",
    "\n",
    "print('Standard Deviation:', np.std(data)) # standard deviation of the data\n",
    "\n",
    "print('IQR:', np.percentile(data, 75) - np.percentile(data, 25))"
   ]
  },
  {
   "cell_type": "code",
   "execution_count": 5,
   "metadata": {
    "tags": []
   },
   "outputs": [
    {
     "output_type": "display_data",
     "data": {
      "text/plain": "<Figure size 432x288 with 1 Axes>",
      "image/svg+xml": "<?xml version=\"1.0\" encoding=\"utf-8\" standalone=\"no\"?>\n<!DOCTYPE svg PUBLIC \"-//W3C//DTD SVG 1.1//EN\"\n  \"http://www.w3.org/Graphics/SVG/1.1/DTD/svg11.dtd\">\n<!-- Created with matplotlib (https://matplotlib.org/) -->\n<svg height=\"248.919426pt\" version=\"1.1\" viewBox=\"0 0 383.726067 248.919426\" width=\"383.726067pt\" xmlns=\"http://www.w3.org/2000/svg\" xmlns:xlink=\"http://www.w3.org/1999/xlink\">\n <metadata>\n  <rdf:RDF xmlns:cc=\"http://creativecommons.org/ns#\" xmlns:dc=\"http://purl.org/dc/elements/1.1/\" xmlns:rdf=\"http://www.w3.org/1999/02/22-rdf-syntax-ns#\">\n   <cc:Work>\n    <dc:type rdf:resource=\"http://purl.org/dc/dcmitype/StillImage\"/>\n    <dc:date>2020-11-06T11:35:01.714661</dc:date>\n    <dc:format>image/svg+xml</dc:format>\n    <dc:creator>\n     <cc:Agent>\n      <dc:title>Matplotlib v3.3.2, https://matplotlib.org/</dc:title>\n     </cc:Agent>\n    </dc:creator>\n   </cc:Work>\n  </rdf:RDF>\n </metadata>\n <defs>\n  <style type=\"text/css\">*{stroke-linecap:butt;stroke-linejoin:round;}</style>\n </defs>\n <g id=\"figure_1\">\n  <g id=\"patch_1\">\n   <path d=\"M -0 248.919426 \nL 383.726067 248.919426 \nL 383.726067 0 \nL -0 0 \nz\n\" style=\"fill:none;\"/>\n  </g>\n  <g id=\"axes_1\">\n   <g id=\"patch_2\">\n    <path d=\"M 39.65 225.041301 \nL 374.45 225.041301 \nL 374.45 7.601301 \nL 39.65 7.601301 \nz\n\" style=\"fill:#ffffff;\"/>\n   </g>\n   <g id=\"patch_3\">\n    <path clip-path=\"url(#p27673463b5)\" d=\"M 54.868182 225.041301 \nL 67.042727 225.041301 \nL 67.042727 224.862932 \nL 54.868182 224.862932 \nz\n\" style=\"fill:#1f77b4;\"/>\n   </g>\n   <g id=\"patch_4\">\n    <path clip-path=\"url(#p27673463b5)\" d=\"M 67.042727 225.041301 \nL 79.217273 225.041301 \nL 79.217273 222.90088 \nL 67.042727 222.90088 \nz\n\" style=\"fill:#1f77b4;\"/>\n   </g>\n   <g id=\"patch_5\">\n    <path clip-path=\"url(#p27673463b5)\" d=\"M 79.217273 225.041301 \nL 91.391818 225.041301 \nL 91.391818 221.830669 \nL 79.217273 221.830669 \nz\n\" style=\"fill:#1f77b4;\"/>\n   </g>\n   <g id=\"patch_6\">\n    <path clip-path=\"url(#p27673463b5)\" d=\"M 91.391818 225.041301 \nL 103.566364 225.041301 \nL 103.566364 220.225354 \nL 91.391818 220.225354 \nz\n\" style=\"fill:#1f77b4;\"/>\n   </g>\n   <g id=\"patch_7\">\n    <path clip-path=\"url(#p27673463b5)\" d=\"M 103.566364 225.041301 \nL 115.740909 225.041301 \nL 115.740909 209.701618 \nL 103.566364 209.701618 \nz\n\" style=\"fill:#1f77b4;\"/>\n   </g>\n   <g id=\"patch_8\">\n    <path clip-path=\"url(#p27673463b5)\" d=\"M 115.740909 225.041301 \nL 127.915455 225.041301 \nL 127.915455 198.821146 \nL 115.740909 198.821146 \nz\n\" style=\"fill:#1f77b4;\"/>\n   </g>\n   <g id=\"patch_9\">\n    <path clip-path=\"url(#p27673463b5)\" d=\"M 127.915455 225.041301 \nL 140.09 225.041301 \nL 140.09 183.481463 \nL 127.915455 183.481463 \nz\n\" style=\"fill:#1f77b4;\"/>\n   </g>\n   <g id=\"patch_10\">\n    <path clip-path=\"url(#p27673463b5)\" d=\"M 140.09 225.041301 \nL 152.264545 225.041301 \nL 152.264545 158.331518 \nL 140.09 158.331518 \nz\n\" style=\"fill:#1f77b4;\"/>\n   </g>\n   <g id=\"patch_11\">\n    <path clip-path=\"url(#p27673463b5)\" d=\"M 152.264545 225.041301 \nL 164.439091 225.041301 \nL 164.439091 121.052523 \nL 152.264545 121.052523 \nz\n\" style=\"fill:#1f77b4;\"/>\n   </g>\n   <g id=\"patch_12\">\n    <path clip-path=\"url(#p27673463b5)\" d=\"M 164.439091 225.041301 \nL 176.613636 225.041301 \nL 176.613636 83.951895 \nL 164.439091 83.951895 \nz\n\" style=\"fill:#1f77b4;\"/>\n   </g>\n   <g id=\"patch_13\">\n    <path clip-path=\"url(#p27673463b5)\" d=\"M 176.613636 225.041301 \nL 188.788182 225.041301 \nL 188.788182 45.602689 \nL 176.613636 45.602689 \nz\n\" style=\"fill:#1f77b4;\"/>\n   </g>\n   <g id=\"patch_14\">\n    <path clip-path=\"url(#p27673463b5)\" d=\"M 188.788182 225.041301 \nL 200.962727 225.041301 \nL 200.962727 33.116901 \nL 188.788182 33.116901 \nz\n\" style=\"fill:#1f77b4;\"/>\n   </g>\n   <g id=\"patch_15\">\n    <path clip-path=\"url(#p27673463b5)\" d=\"M 200.962727 225.041301 \nL 213.137273 225.041301 \nL 213.137273 17.955586 \nL 200.962727 17.955586 \nz\n\" style=\"fill:#1f77b4;\"/>\n   </g>\n   <g id=\"patch_16\">\n    <path clip-path=\"url(#p27673463b5)\" d=\"M 213.137273 225.041301 \nL 225.311818 225.041301 \nL 225.311818 24.733586 \nL 213.137273 24.733586 \nz\n\" style=\"fill:#1f77b4;\"/>\n   </g>\n   <g id=\"patch_17\">\n    <path clip-path=\"url(#p27673463b5)\" d=\"M 225.311818 225.041301 \nL 237.486364 225.041301 \nL 237.486364 51.667214 \nL 225.311818 51.667214 \nz\n\" style=\"fill:#1f77b4;\"/>\n   </g>\n   <g id=\"patch_18\">\n    <path clip-path=\"url(#p27673463b5)\" d=\"M 237.486364 225.041301 \nL 249.660909 225.041301 \nL 249.660909 73.428159 \nL 237.486364 73.428159 \nz\n\" style=\"fill:#1f77b4;\"/>\n   </g>\n   <g id=\"patch_19\">\n    <path clip-path=\"url(#p27673463b5)\" d=\"M 249.660909 225.041301 \nL 261.835455 225.041301 \nL 261.835455 125.868469 \nL 249.660909 125.868469 \nz\n\" style=\"fill:#1f77b4;\"/>\n   </g>\n   <g id=\"patch_20\">\n    <path clip-path=\"url(#p27673463b5)\" d=\"M 261.835455 225.041301 \nL 274.01 225.041301 \nL 274.01 150.840046 \nL 261.835455 150.840046 \nz\n\" style=\"fill:#1f77b4;\"/>\n   </g>\n   <g id=\"patch_21\">\n    <path clip-path=\"url(#p27673463b5)\" d=\"M 274.01 225.041301 \nL 286.184545 225.041301 \nL 286.184545 178.130411 \nL 274.01 178.130411 \nz\n\" style=\"fill:#1f77b4;\"/>\n   </g>\n   <g id=\"patch_22\">\n    <path clip-path=\"url(#p27673463b5)\" d=\"M 286.184545 225.041301 \nL 298.359091 225.041301 \nL 298.359091 198.464409 \nL 286.184545 198.464409 \nz\n\" style=\"fill:#1f77b4;\"/>\n   </g>\n   <g id=\"patch_23\">\n    <path clip-path=\"url(#p27673463b5)\" d=\"M 298.359091 225.041301 \nL 310.533636 225.041301 \nL 310.533636 210.771829 \nL 298.359091 210.771829 \nz\n\" style=\"fill:#1f77b4;\"/>\n   </g>\n   <g id=\"patch_24\">\n    <path clip-path=\"url(#p27673463b5)\" d=\"M 310.533636 225.041301 \nL 322.708182 225.041301 \nL 322.708182 217.549828 \nL 310.533636 217.549828 \nz\n\" style=\"fill:#1f77b4;\"/>\n   </g>\n   <g id=\"patch_25\">\n    <path clip-path=\"url(#p27673463b5)\" d=\"M 322.708182 225.041301 \nL 334.882727 225.041301 \nL 334.882727 222.187406 \nL 322.708182 222.187406 \nz\n\" style=\"fill:#1f77b4;\"/>\n   </g>\n   <g id=\"patch_26\">\n    <path clip-path=\"url(#p27673463b5)\" d=\"M 334.882727 225.041301 \nL 347.057273 225.041301 \nL 347.057273 222.90088 \nL 334.882727 222.90088 \nz\n\" style=\"fill:#1f77b4;\"/>\n   </g>\n   <g id=\"patch_27\">\n    <path clip-path=\"url(#p27673463b5)\" d=\"M 347.057273 225.041301 \nL 359.231818 225.041301 \nL 359.231818 223.97109 \nL 347.057273 223.97109 \nz\n\" style=\"fill:#1f77b4;\"/>\n   </g>\n   <g id=\"matplotlib.axis_1\">\n    <g id=\"xtick_1\">\n     <g id=\"line2d_1\">\n      <defs>\n       <path d=\"M 0 0 \nL 0 3.5 \n\" id=\"m3c5ed1a268\" style=\"stroke:#000000;stroke-width:0.8;\"/>\n      </defs>\n      <g>\n       <use style=\"stroke:#000000;stroke-width:0.8;\" x=\"42.101693\" xlink:href=\"#m3c5ed1a268\" y=\"225.041301\"/>\n      </g>\n     </g>\n     <g id=\"text_1\">\n      <!-- −4 -->\n      <g transform=\"translate(34.7306 239.639738)scale(0.1 -0.1)\">\n       <defs>\n        <path d=\"M 10.59375 35.5 \nL 73.1875 35.5 \nL 73.1875 27.203125 \nL 10.59375 27.203125 \nz\n\" id=\"DejaVuSans-8722\"/>\n        <path d=\"M 37.796875 64.3125 \nL 12.890625 25.390625 \nL 37.796875 25.390625 \nz\nM 35.203125 72.90625 \nL 47.609375 72.90625 \nL 47.609375 25.390625 \nL 58.015625 25.390625 \nL 58.015625 17.1875 \nL 47.609375 17.1875 \nL 47.609375 0 \nL 37.796875 0 \nL 37.796875 17.1875 \nL 4.890625 17.1875 \nL 4.890625 26.703125 \nz\n\" id=\"DejaVuSans-52\"/>\n       </defs>\n       <use xlink:href=\"#DejaVuSans-8722\"/>\n       <use x=\"83.789062\" xlink:href=\"#DejaVuSans-52\"/>\n      </g>\n     </g>\n    </g>\n    <g id=\"xtick_2\">\n     <g id=\"line2d_2\">\n      <g>\n       <use style=\"stroke:#000000;stroke-width:0.8;\" x=\"83.507084\" xlink:href=\"#m3c5ed1a268\" y=\"225.041301\"/>\n      </g>\n     </g>\n     <g id=\"text_2\">\n      <!-- −3 -->\n      <g transform=\"translate(76.13599 239.639738)scale(0.1 -0.1)\">\n       <defs>\n        <path d=\"M 40.578125 39.3125 \nQ 47.65625 37.796875 51.625 33 \nQ 55.609375 28.21875 55.609375 21.1875 \nQ 55.609375 10.40625 48.1875 4.484375 \nQ 40.765625 -1.421875 27.09375 -1.421875 \nQ 22.515625 -1.421875 17.65625 -0.515625 \nQ 12.796875 0.390625 7.625 2.203125 \nL 7.625 11.71875 \nQ 11.71875 9.328125 16.59375 8.109375 \nQ 21.484375 6.890625 26.8125 6.890625 \nQ 36.078125 6.890625 40.9375 10.546875 \nQ 45.796875 14.203125 45.796875 21.1875 \nQ 45.796875 27.640625 41.28125 31.265625 \nQ 36.765625 34.90625 28.71875 34.90625 \nL 20.21875 34.90625 \nL 20.21875 43.015625 \nL 29.109375 43.015625 \nQ 36.375 43.015625 40.234375 45.921875 \nQ 44.09375 48.828125 44.09375 54.296875 \nQ 44.09375 59.90625 40.109375 62.90625 \nQ 36.140625 65.921875 28.71875 65.921875 \nQ 24.65625 65.921875 20.015625 65.03125 \nQ 15.375 64.15625 9.8125 62.3125 \nL 9.8125 71.09375 \nQ 15.4375 72.65625 20.34375 73.4375 \nQ 25.25 74.21875 29.59375 74.21875 \nQ 40.828125 74.21875 47.359375 69.109375 \nQ 53.90625 64.015625 53.90625 55.328125 \nQ 53.90625 49.265625 50.4375 45.09375 \nQ 46.96875 40.921875 40.578125 39.3125 \nz\n\" id=\"DejaVuSans-51\"/>\n       </defs>\n       <use xlink:href=\"#DejaVuSans-8722\"/>\n       <use x=\"83.789062\" xlink:href=\"#DejaVuSans-51\"/>\n      </g>\n     </g>\n    </g>\n    <g id=\"xtick_3\">\n     <g id=\"line2d_3\">\n      <g>\n       <use style=\"stroke:#000000;stroke-width:0.8;\" x=\"124.912474\" xlink:href=\"#m3c5ed1a268\" y=\"225.041301\"/>\n      </g>\n     </g>\n     <g id=\"text_3\">\n      <!-- −2 -->\n      <g transform=\"translate(117.541381 239.639738)scale(0.1 -0.1)\">\n       <defs>\n        <path d=\"M 19.1875 8.296875 \nL 53.609375 8.296875 \nL 53.609375 0 \nL 7.328125 0 \nL 7.328125 8.296875 \nQ 12.9375 14.109375 22.625 23.890625 \nQ 32.328125 33.6875 34.8125 36.53125 \nQ 39.546875 41.84375 41.421875 45.53125 \nQ 43.3125 49.21875 43.3125 52.78125 \nQ 43.3125 58.59375 39.234375 62.25 \nQ 35.15625 65.921875 28.609375 65.921875 \nQ 23.96875 65.921875 18.8125 64.3125 \nQ 13.671875 62.703125 7.8125 59.421875 \nL 7.8125 69.390625 \nQ 13.765625 71.78125 18.9375 73 \nQ 24.125 74.21875 28.421875 74.21875 \nQ 39.75 74.21875 46.484375 68.546875 \nQ 53.21875 62.890625 53.21875 53.421875 \nQ 53.21875 48.921875 51.53125 44.890625 \nQ 49.859375 40.875 45.40625 35.40625 \nQ 44.1875 33.984375 37.640625 27.21875 \nQ 31.109375 20.453125 19.1875 8.296875 \nz\n\" id=\"DejaVuSans-50\"/>\n       </defs>\n       <use xlink:href=\"#DejaVuSans-8722\"/>\n       <use x=\"83.789062\" xlink:href=\"#DejaVuSans-50\"/>\n      </g>\n     </g>\n    </g>\n    <g id=\"xtick_4\">\n     <g id=\"line2d_4\">\n      <g>\n       <use style=\"stroke:#000000;stroke-width:0.8;\" x=\"166.317865\" xlink:href=\"#m3c5ed1a268\" y=\"225.041301\"/>\n      </g>\n     </g>\n     <g id=\"text_4\">\n      <!-- −1 -->\n      <g transform=\"translate(158.946771 239.639738)scale(0.1 -0.1)\">\n       <defs>\n        <path d=\"M 12.40625 8.296875 \nL 28.515625 8.296875 \nL 28.515625 63.921875 \nL 10.984375 60.40625 \nL 10.984375 69.390625 \nL 28.421875 72.90625 \nL 38.28125 72.90625 \nL 38.28125 8.296875 \nL 54.390625 8.296875 \nL 54.390625 0 \nL 12.40625 0 \nz\n\" id=\"DejaVuSans-49\"/>\n       </defs>\n       <use xlink:href=\"#DejaVuSans-8722\"/>\n       <use x=\"83.789062\" xlink:href=\"#DejaVuSans-49\"/>\n      </g>\n     </g>\n    </g>\n    <g id=\"xtick_5\">\n     <g id=\"line2d_5\">\n      <g>\n       <use style=\"stroke:#000000;stroke-width:0.8;\" x=\"207.723255\" xlink:href=\"#m3c5ed1a268\" y=\"225.041301\"/>\n      </g>\n     </g>\n     <g id=\"text_5\">\n      <!-- 0 -->\n      <g transform=\"translate(204.542005 239.639738)scale(0.1 -0.1)\">\n       <defs>\n        <path d=\"M 31.78125 66.40625 \nQ 24.171875 66.40625 20.328125 58.90625 \nQ 16.5 51.421875 16.5 36.375 \nQ 16.5 21.390625 20.328125 13.890625 \nQ 24.171875 6.390625 31.78125 6.390625 \nQ 39.453125 6.390625 43.28125 13.890625 \nQ 47.125 21.390625 47.125 36.375 \nQ 47.125 51.421875 43.28125 58.90625 \nQ 39.453125 66.40625 31.78125 66.40625 \nz\nM 31.78125 74.21875 \nQ 44.046875 74.21875 50.515625 64.515625 \nQ 56.984375 54.828125 56.984375 36.375 \nQ 56.984375 17.96875 50.515625 8.265625 \nQ 44.046875 -1.421875 31.78125 -1.421875 \nQ 19.53125 -1.421875 13.0625 8.265625 \nQ 6.59375 17.96875 6.59375 36.375 \nQ 6.59375 54.828125 13.0625 64.515625 \nQ 19.53125 74.21875 31.78125 74.21875 \nz\n\" id=\"DejaVuSans-48\"/>\n       </defs>\n       <use xlink:href=\"#DejaVuSans-48\"/>\n      </g>\n     </g>\n    </g>\n    <g id=\"xtick_6\">\n     <g id=\"line2d_6\">\n      <g>\n       <use style=\"stroke:#000000;stroke-width:0.8;\" x=\"249.128646\" xlink:href=\"#m3c5ed1a268\" y=\"225.041301\"/>\n      </g>\n     </g>\n     <g id=\"text_6\">\n      <!-- 1 -->\n      <g transform=\"translate(245.947396 239.639738)scale(0.1 -0.1)\">\n       <use xlink:href=\"#DejaVuSans-49\"/>\n      </g>\n     </g>\n    </g>\n    <g id=\"xtick_7\">\n     <g id=\"line2d_7\">\n      <g>\n       <use style=\"stroke:#000000;stroke-width:0.8;\" x=\"290.534036\" xlink:href=\"#m3c5ed1a268\" y=\"225.041301\"/>\n      </g>\n     </g>\n     <g id=\"text_7\">\n      <!-- 2 -->\n      <g transform=\"translate(287.352786 239.639738)scale(0.1 -0.1)\">\n       <use xlink:href=\"#DejaVuSans-50\"/>\n      </g>\n     </g>\n    </g>\n    <g id=\"xtick_8\">\n     <g id=\"line2d_8\">\n      <g>\n       <use style=\"stroke:#000000;stroke-width:0.8;\" x=\"331.939426\" xlink:href=\"#m3c5ed1a268\" y=\"225.041301\"/>\n      </g>\n     </g>\n     <g id=\"text_8\">\n      <!-- 3 -->\n      <g transform=\"translate(328.758176 239.639738)scale(0.1 -0.1)\">\n       <use xlink:href=\"#DejaVuSans-51\"/>\n      </g>\n     </g>\n    </g>\n    <g id=\"xtick_9\">\n     <g id=\"line2d_9\">\n      <g>\n       <use style=\"stroke:#000000;stroke-width:0.8;\" x=\"373.344817\" xlink:href=\"#m3c5ed1a268\" y=\"225.041301\"/>\n      </g>\n     </g>\n     <g id=\"text_9\">\n      <!-- 4 -->\n      <g transform=\"translate(370.163567 239.639738)scale(0.1 -0.1)\">\n       <use xlink:href=\"#DejaVuSans-52\"/>\n      </g>\n     </g>\n    </g>\n   </g>\n   <g id=\"matplotlib.axis_2\">\n    <g id=\"ytick_1\">\n     <g id=\"line2d_10\">\n      <defs>\n       <path d=\"M 0 0 \nL -3.5 0 \n\" id=\"mc5f3033a9a\" style=\"stroke:#000000;stroke-width:0.8;\"/>\n      </defs>\n      <g>\n       <use style=\"stroke:#000000;stroke-width:0.8;\" x=\"39.65\" xlink:href=\"#mc5f3033a9a\" y=\"225.041301\"/>\n      </g>\n     </g>\n     <g id=\"text_10\">\n      <!-- 0 -->\n      <g transform=\"translate(26.2875 228.840519)scale(0.1 -0.1)\">\n       <use xlink:href=\"#DejaVuSans-48\"/>\n      </g>\n     </g>\n    </g>\n    <g id=\"ytick_2\">\n     <g id=\"line2d_11\">\n      <g>\n       <use style=\"stroke:#000000;stroke-width:0.8;\" x=\"39.65\" xlink:href=\"#mc5f3033a9a\" y=\"189.36762\"/>\n      </g>\n     </g>\n     <g id=\"text_11\">\n      <!-- 200 -->\n      <g transform=\"translate(13.5625 193.166839)scale(0.1 -0.1)\">\n       <use xlink:href=\"#DejaVuSans-50\"/>\n       <use x=\"63.623047\" xlink:href=\"#DejaVuSans-48\"/>\n       <use x=\"127.246094\" xlink:href=\"#DejaVuSans-48\"/>\n      </g>\n     </g>\n    </g>\n    <g id=\"ytick_3\">\n     <g id=\"line2d_12\">\n      <g>\n       <use style=\"stroke:#000000;stroke-width:0.8;\" x=\"39.65\" xlink:href=\"#mc5f3033a9a\" y=\"153.69394\"/>\n      </g>\n     </g>\n     <g id=\"text_12\">\n      <!-- 400 -->\n      <g transform=\"translate(13.5625 157.493159)scale(0.1 -0.1)\">\n       <use xlink:href=\"#DejaVuSans-52\"/>\n       <use x=\"63.623047\" xlink:href=\"#DejaVuSans-48\"/>\n       <use x=\"127.246094\" xlink:href=\"#DejaVuSans-48\"/>\n      </g>\n     </g>\n    </g>\n    <g id=\"ytick_4\">\n     <g id=\"line2d_13\">\n      <g>\n       <use style=\"stroke:#000000;stroke-width:0.8;\" x=\"39.65\" xlink:href=\"#mc5f3033a9a\" y=\"118.02026\"/>\n      </g>\n     </g>\n     <g id=\"text_13\">\n      <!-- 600 -->\n      <g transform=\"translate(13.5625 121.819478)scale(0.1 -0.1)\">\n       <defs>\n        <path d=\"M 33.015625 40.375 \nQ 26.375 40.375 22.484375 35.828125 \nQ 18.609375 31.296875 18.609375 23.390625 \nQ 18.609375 15.53125 22.484375 10.953125 \nQ 26.375 6.390625 33.015625 6.390625 \nQ 39.65625 6.390625 43.53125 10.953125 \nQ 47.40625 15.53125 47.40625 23.390625 \nQ 47.40625 31.296875 43.53125 35.828125 \nQ 39.65625 40.375 33.015625 40.375 \nz\nM 52.59375 71.296875 \nL 52.59375 62.3125 \nQ 48.875 64.0625 45.09375 64.984375 \nQ 41.3125 65.921875 37.59375 65.921875 \nQ 27.828125 65.921875 22.671875 59.328125 \nQ 17.53125 52.734375 16.796875 39.40625 \nQ 19.671875 43.65625 24.015625 45.921875 \nQ 28.375 48.1875 33.59375 48.1875 \nQ 44.578125 48.1875 50.953125 41.515625 \nQ 57.328125 34.859375 57.328125 23.390625 \nQ 57.328125 12.15625 50.6875 5.359375 \nQ 44.046875 -1.421875 33.015625 -1.421875 \nQ 20.359375 -1.421875 13.671875 8.265625 \nQ 6.984375 17.96875 6.984375 36.375 \nQ 6.984375 53.65625 15.1875 63.9375 \nQ 23.390625 74.21875 37.203125 74.21875 \nQ 40.921875 74.21875 44.703125 73.484375 \nQ 48.484375 72.75 52.59375 71.296875 \nz\n\" id=\"DejaVuSans-54\"/>\n       </defs>\n       <use xlink:href=\"#DejaVuSans-54\"/>\n       <use x=\"63.623047\" xlink:href=\"#DejaVuSans-48\"/>\n       <use x=\"127.246094\" xlink:href=\"#DejaVuSans-48\"/>\n      </g>\n     </g>\n    </g>\n    <g id=\"ytick_5\">\n     <g id=\"line2d_14\">\n      <g>\n       <use style=\"stroke:#000000;stroke-width:0.8;\" x=\"39.65\" xlink:href=\"#mc5f3033a9a\" y=\"82.346579\"/>\n      </g>\n     </g>\n     <g id=\"text_14\">\n      <!-- 800 -->\n      <g transform=\"translate(13.5625 86.145798)scale(0.1 -0.1)\">\n       <defs>\n        <path d=\"M 31.78125 34.625 \nQ 24.75 34.625 20.71875 30.859375 \nQ 16.703125 27.09375 16.703125 20.515625 \nQ 16.703125 13.921875 20.71875 10.15625 \nQ 24.75 6.390625 31.78125 6.390625 \nQ 38.8125 6.390625 42.859375 10.171875 \nQ 46.921875 13.96875 46.921875 20.515625 \nQ 46.921875 27.09375 42.890625 30.859375 \nQ 38.875 34.625 31.78125 34.625 \nz\nM 21.921875 38.8125 \nQ 15.578125 40.375 12.03125 44.71875 \nQ 8.5 49.078125 8.5 55.328125 \nQ 8.5 64.0625 14.71875 69.140625 \nQ 20.953125 74.21875 31.78125 74.21875 \nQ 42.671875 74.21875 48.875 69.140625 \nQ 55.078125 64.0625 55.078125 55.328125 \nQ 55.078125 49.078125 51.53125 44.71875 \nQ 48 40.375 41.703125 38.8125 \nQ 48.828125 37.15625 52.796875 32.3125 \nQ 56.78125 27.484375 56.78125 20.515625 \nQ 56.78125 9.90625 50.3125 4.234375 \nQ 43.84375 -1.421875 31.78125 -1.421875 \nQ 19.734375 -1.421875 13.25 4.234375 \nQ 6.78125 9.90625 6.78125 20.515625 \nQ 6.78125 27.484375 10.78125 32.3125 \nQ 14.796875 37.15625 21.921875 38.8125 \nz\nM 18.3125 54.390625 \nQ 18.3125 48.734375 21.84375 45.5625 \nQ 25.390625 42.390625 31.78125 42.390625 \nQ 38.140625 42.390625 41.71875 45.5625 \nQ 45.3125 48.734375 45.3125 54.390625 \nQ 45.3125 60.0625 41.71875 63.234375 \nQ 38.140625 66.40625 31.78125 66.40625 \nQ 25.390625 66.40625 21.84375 63.234375 \nQ 18.3125 60.0625 18.3125 54.390625 \nz\n\" id=\"DejaVuSans-56\"/>\n       </defs>\n       <use xlink:href=\"#DejaVuSans-56\"/>\n       <use x=\"63.623047\" xlink:href=\"#DejaVuSans-48\"/>\n       <use x=\"127.246094\" xlink:href=\"#DejaVuSans-48\"/>\n      </g>\n     </g>\n    </g>\n    <g id=\"ytick_6\">\n     <g id=\"line2d_15\">\n      <g>\n       <use style=\"stroke:#000000;stroke-width:0.8;\" x=\"39.65\" xlink:href=\"#mc5f3033a9a\" y=\"46.672899\"/>\n      </g>\n     </g>\n     <g id=\"text_15\">\n      <!-- 1000 -->\n      <g transform=\"translate(7.2 50.472118)scale(0.1 -0.1)\">\n       <use xlink:href=\"#DejaVuSans-49\"/>\n       <use x=\"63.623047\" xlink:href=\"#DejaVuSans-48\"/>\n       <use x=\"127.246094\" xlink:href=\"#DejaVuSans-48\"/>\n       <use x=\"190.869141\" xlink:href=\"#DejaVuSans-48\"/>\n      </g>\n     </g>\n    </g>\n    <g id=\"ytick_7\">\n     <g id=\"line2d_16\">\n      <g>\n       <use style=\"stroke:#000000;stroke-width:0.8;\" x=\"39.65\" xlink:href=\"#mc5f3033a9a\" y=\"10.999219\"/>\n      </g>\n     </g>\n     <g id=\"text_16\">\n      <!-- 1200 -->\n      <g transform=\"translate(7.2 14.798437)scale(0.1 -0.1)\">\n       <use xlink:href=\"#DejaVuSans-49\"/>\n       <use x=\"63.623047\" xlink:href=\"#DejaVuSans-50\"/>\n       <use x=\"127.246094\" xlink:href=\"#DejaVuSans-48\"/>\n       <use x=\"190.869141\" xlink:href=\"#DejaVuSans-48\"/>\n      </g>\n     </g>\n    </g>\n   </g>\n   <g id=\"patch_28\">\n    <path d=\"M 39.65 225.041301 \nL 39.65 7.601301 \n\" style=\"fill:none;stroke:#000000;stroke-linecap:square;stroke-linejoin:miter;stroke-width:0.8;\"/>\n   </g>\n   <g id=\"patch_29\">\n    <path d=\"M 374.45 225.041301 \nL 374.45 7.601301 \n\" style=\"fill:none;stroke:#000000;stroke-linecap:square;stroke-linejoin:miter;stroke-width:0.8;\"/>\n   </g>\n   <g id=\"patch_30\">\n    <path d=\"M 39.65 225.041301 \nL 374.45 225.041301 \n\" style=\"fill:none;stroke:#000000;stroke-linecap:square;stroke-linejoin:miter;stroke-width:0.8;\"/>\n   </g>\n   <g id=\"patch_31\">\n    <path d=\"M 39.65 7.601301 \nL 374.45 7.601301 \n\" style=\"fill:none;stroke:#000000;stroke-linecap:square;stroke-linejoin:miter;stroke-width:0.8;\"/>\n   </g>\n  </g>\n </g>\n <defs>\n  <clipPath id=\"p27673463b5\">\n   <rect height=\"217.44\" width=\"334.8\" x=\"39.65\" y=\"7.601301\"/>\n  </clipPath>\n </defs>\n</svg>\n",
      "image/png": "[encoded data removed]"
     },
     "metadata": {
      "needs_background": "light"
     }
    }
   ],
   "source": [
    "\n",
    "import numpy as np\n",
    "import matplotlib.pyplot as plt\n",
    "import seaborn as sns\n",
    "\n",
    "observations = np.random.normal(size = 10000)\n",
    "#print(observations)\n",
    "histogram = plt.hist(observations, bins = 25)\n",
    "\n",
    "# observations = observations.reshape(10, 10)\n",
    "\n",
    "# mask = (observations < 1) & (observations > -1)\n",
    "\n",
    "# observations[mask] = 0\n",
    "# print(observations)"
   ]
  },
  {
   "source": [
    "## Random Variables, Distributions, and Probability\n",
    "1. Probability: quantifying uncertainty\n",
    "- `X` or capital letters for all possible events\n",
    "- `P(X = x)`\n",
    "- Independent: `P(A, B) = P(A) * P(B)`\n",
    "- Depenent: `P(A, B) = P(A | B) * P(B)`\n",
    "- Depenent: `P(B, A) = P(B | A) * P(A)`\n",
    "2. Bayes' Thm.\n",
    "- `P(A | B) = (P(B | A) * P(A)) / P(B)`\n",
    "- `P(H | E) = (P(E | H) * P(H)) / P(E)`"
   ],
   "cell_type": "markdown",
   "metadata": {}
  },
  {
   "cell_type": "code",
   "execution_count": 7,
   "metadata": {
    "tags": []
   },
   "outputs": [
    {
     "output_type": "stream",
     "name": "stdout",
     "text": "[-1.15562568  0.55629349 -0.7192469  ...  0.57308367 -0.20163843\n -1.18478813]\nMean: 0.00\nVariance: 1.02\n"
    }
   ],
   "source": [
    "print(observations)\n",
    "mean = observations.mean()\n",
    "var = observations.var()\n",
    "print('Mean: {:.2f}'.format(mean))\n",
    "print('Variance: {:.2f}'.format(var))\n",
    "\n",
    "\n"
   ]
  },
  {
   "source": [
    "## Data Exploration and Visualization\n",
    "1. Matplotlib\n",
    "- Interactive Python"
   ],
   "cell_type": "markdown",
   "metadata": {}
  },
  {
   "cell_type": "code",
   "execution_count": 4,
   "metadata": {
    "tags": []
   },
   "outputs": [
    {
     "output_type": "display_data",
     "data": {
      "text/plain": "&lt;Figure size 432x288 with 1 Axes&gt;",
      "image/svg+xml": "<?xml version=\"1.0\" encoding=\"utf-8\" standalone=\"no\"?>\n<!DOCTYPE svg PUBLIC \"-//W3C//DTD SVG 1.1//EN\"\n  \"http://www.w3.org/Graphics/SVG/1.1/DTD/svg11.dtd\">\n<!-- Created with matplotlib (https://matplotlib.org/) -->\n<svg height=\"249.403017pt\" version=\"1.1\" viewBox=\"0 0 372.103125 249.403017\" width=\"372.103125pt\" xmlns=\"http://www.w3.org/2000/svg\" xmlns:xlink=\"http://www.w3.org/1999/xlink\">\n <metadata>\n  <rdf:RDF xmlns:cc=\"http://creativecommons.org/ns#\" xmlns:dc=\"http://purl.org/dc/elements/1.1/\" xmlns:rdf=\"http://www.w3.org/1999/02/22-rdf-syntax-ns#\">\n   <cc:Work>\n    <dc:type rdf:resource=\"http://purl.org/dc/dcmitype/StillImage\"/>\n    <dc:date>2020-11-09T12:00:59.469038</dc:date>\n    <dc:format>image/svg+xml</dc:format>\n    <dc:creator>\n     <cc:Agent>\n      <dc:title>Matplotlib v3.3.2, https://matplotlib.org/</dc:title>\n     </cc:Agent>\n    </dc:creator>\n   </cc:Work>\n  </rdf:RDF>\n </metadata>\n <defs>\n  <style type=\"text/css\">*{stroke-linecap:butt;stroke-linejoin:round;}</style>\n </defs>\n <g id=\"figure_1\">\n  <g id=\"patch_1\">\n   <path d=\"M 0 249.403017 \nL 372.103125 249.403017 \nL 372.103125 0 \nL 0 0 \nz\n\" style=\"fill:none;\"/>\n  </g>\n  <g id=\"axes_1\">\n   <g id=\"patch_2\">\n    <path d=\"M 30.103125 225.524892 \nL 364.903125 225.524892 \nL 364.903125 8.084892 \nL 30.103125 8.084892 \nz\n\" style=\"fill:#ffffff;\"/>\n   </g>\n   <g id=\"matplotlib.axis_1\">\n    <g id=\"xtick_1\">\n     <g id=\"line2d_1\">\n      <defs>\n       <path d=\"M 0 0 \nL 0 3.5 \n\" id=\"m12a07e2f60\" style=\"stroke:#000000;stroke-width:0.8;\"/>\n      </defs>\n      <g>\n       <use style=\"stroke:#000000;stroke-width:0.8;\" x=\"39.998308\" xlink:href=\"#m12a07e2f60\" y=\"225.524892\"/>\n      </g>\n     </g>\n     <g id=\"text_1\">\n      <!-- 0.0 -->\n      <g transform=\"translate(32.046745 240.12333)scale(0.1 -0.1)\">\n       <defs>\n        <path d=\"M 31.78125 66.40625 \nQ 24.171875 66.40625 20.328125 58.90625 \nQ 16.5 51.421875 16.5 36.375 \nQ 16.5 21.390625 20.328125 13.890625 \nQ 24.171875 6.390625 31.78125 6.390625 \nQ 39.453125 6.390625 43.28125 13.890625 \nQ 47.125 21.390625 47.125 36.375 \nQ 47.125 51.421875 43.28125 58.90625 \nQ 39.453125 66.40625 31.78125 66.40625 \nz\nM 31.78125 74.21875 \nQ 44.046875 74.21875 50.515625 64.515625 \nQ 56.984375 54.828125 56.984375 36.375 \nQ 56.984375 17.96875 50.515625 8.265625 \nQ 44.046875 -1.421875 31.78125 -1.421875 \nQ 19.53125 -1.421875 13.0625 8.265625 \nQ 6.59375 17.96875 6.59375 36.375 \nQ 6.59375 54.828125 13.0625 64.515625 \nQ 19.53125 74.21875 31.78125 74.21875 \nz\n\" id=\"DejaVuSans-48\"/>\n        <path d=\"M 10.6875 12.40625 \nL 21 12.40625 \nL 21 0 \nL 10.6875 0 \nz\n\" id=\"DejaVuSans-46\"/>\n       </defs>\n       <use xlink:href=\"#DejaVuSans-48\"/>\n       <use x=\"63.623047\" xlink:href=\"#DejaVuSans-46\"/>\n       <use x=\"95.410156\" xlink:href=\"#DejaVuSans-48\"/>\n      </g>\n     </g>\n    </g>\n    <g id=\"xtick_2\">\n     <g id=\"line2d_2\">\n      <g>\n       <use style=\"stroke:#000000;stroke-width:0.8;\" x=\"89.190604\" xlink:href=\"#m12a07e2f60\" y=\"225.524892\"/>\n      </g>\n     </g>\n     <g id=\"text_2\">\n      <!-- 0.1 -->\n      <g transform=\"translate(81.239041 240.12333)scale(0.1 -0.1)\">\n       <defs>\n        <path d=\"M 12.40625 8.296875 \nL 28.515625 8.296875 \nL 28.515625 63.921875 \nL 10.984375 60.40625 \nL 10.984375 69.390625 \nL 28.421875 72.90625 \nL 38.28125 72.90625 \nL 38.28125 8.296875 \nL 54.390625 8.296875 \nL 54.390625 0 \nL 12.40625 0 \nz\n\" id=\"DejaVuSans-49\"/>\n       </defs>\n       <use xlink:href=\"#DejaVuSans-48\"/>\n       <use x=\"63.623047\" xlink:href=\"#DejaVuSans-46\"/>\n       <use x=\"95.410156\" xlink:href=\"#DejaVuSans-49\"/>\n      </g>\n     </g>\n    </g>\n    <g id=\"xtick_3\">\n     <g id=\"line2d_3\">\n      <g>\n       <use style=\"stroke:#000000;stroke-width:0.8;\" x=\"138.3829\" xlink:href=\"#m12a07e2f60\" y=\"225.524892\"/>\n      </g>\n     </g>\n     <g id=\"text_3\">\n      <!-- 0.2 -->\n      <g transform=\"translate(130.431337 240.12333)scale(0.1 -0.1)\">\n       <defs>\n        <path d=\"M 19.1875 8.296875 \nL 53.609375 8.296875 \nL 53.609375 0 \nL 7.328125 0 \nL 7.328125 8.296875 \nQ 12.9375 14.109375 22.625 23.890625 \nQ 32.328125 33.6875 34.8125 36.53125 \nQ 39.546875 41.84375 41.421875 45.53125 \nQ 43.3125 49.21875 43.3125 52.78125 \nQ 43.3125 58.59375 39.234375 62.25 \nQ 35.15625 65.921875 28.609375 65.921875 \nQ 23.96875 65.921875 18.8125 64.3125 \nQ 13.671875 62.703125 7.8125 59.421875 \nL 7.8125 69.390625 \nQ 13.765625 71.78125 18.9375 73 \nQ 24.125 74.21875 28.421875 74.21875 \nQ 39.75 74.21875 46.484375 68.546875 \nQ 53.21875 62.890625 53.21875 53.421875 \nQ 53.21875 48.921875 51.53125 44.890625 \nQ 49.859375 40.875 45.40625 35.40625 \nQ 44.1875 33.984375 37.640625 27.21875 \nQ 31.109375 20.453125 19.1875 8.296875 \nz\n\" id=\"DejaVuSans-50\"/>\n       </defs>\n       <use xlink:href=\"#DejaVuSans-48\"/>\n       <use x=\"63.623047\" xlink:href=\"#DejaVuSans-46\"/>\n       <use x=\"95.410156\" xlink:href=\"#DejaVuSans-50\"/>\n      </g>\n     </g>\n    </g>\n    <g id=\"xtick_4\">\n     <g id=\"line2d_4\">\n      <g>\n       <use style=\"stroke:#000000;stroke-width:0.8;\" x=\"187.575196\" xlink:href=\"#m12a07e2f60\" y=\"225.524892\"/>\n      </g>\n     </g>\n     <g id=\"text_4\">\n      <!-- 0.3 -->\n      <g transform=\"translate(179.623633 240.12333)scale(0.1 -0.1)\">\n       <defs>\n        <path d=\"M 40.578125 39.3125 \nQ 47.65625 37.796875 51.625 33 \nQ 55.609375 28.21875 55.609375 21.1875 \nQ 55.609375 10.40625 48.1875 4.484375 \nQ 40.765625 -1.421875 27.09375 -1.421875 \nQ 22.515625 -1.421875 17.65625 -0.515625 \nQ 12.796875 0.390625 7.625 2.203125 \nL 7.625 11.71875 \nQ 11.71875 9.328125 16.59375 8.109375 \nQ 21.484375 6.890625 26.8125 6.890625 \nQ 36.078125 6.890625 40.9375 10.546875 \nQ 45.796875 14.203125 45.796875 21.1875 \nQ 45.796875 27.640625 41.28125 31.265625 \nQ 36.765625 34.90625 28.71875 34.90625 \nL 20.21875 34.90625 \nL 20.21875 43.015625 \nL 29.109375 43.015625 \nQ 36.375 43.015625 40.234375 45.921875 \nQ 44.09375 48.828125 44.09375 54.296875 \nQ 44.09375 59.90625 40.109375 62.90625 \nQ 36.140625 65.921875 28.71875 65.921875 \nQ 24.65625 65.921875 20.015625 65.03125 \nQ 15.375 64.15625 9.8125 62.3125 \nL 9.8125 71.09375 \nQ 15.4375 72.65625 20.34375 73.4375 \nQ 25.25 74.21875 29.59375 74.21875 \nQ 40.828125 74.21875 47.359375 69.109375 \nQ 53.90625 64.015625 53.90625 55.328125 \nQ 53.90625 49.265625 50.4375 45.09375 \nQ 46.96875 40.921875 40.578125 39.3125 \nz\n\" id=\"DejaVuSans-51\"/>\n       </defs>\n       <use xlink:href=\"#DejaVuSans-48\"/>\n       <use x=\"63.623047\" xlink:href=\"#DejaVuSans-46\"/>\n       <use x=\"95.410156\" xlink:href=\"#DejaVuSans-51\"/>\n      </g>\n     </g>\n    </g>\n    <g id=\"xtick_5\">\n     <g id=\"line2d_5\">\n      <g>\n       <use style=\"stroke:#000000;stroke-width:0.8;\" x=\"236.767492\" xlink:href=\"#m12a07e2f60\" y=\"225.524892\"/>\n      </g>\n     </g>\n     <g id=\"text_5\">\n      <!-- 0.4 -->\n      <g transform=\"translate(228.815929 240.12333)scale(0.1 -0.1)\">\n       <defs>\n        <path d=\"M 37.796875 64.3125 \nL 12.890625 25.390625 \nL 37.796875 25.390625 \nz\nM 35.203125 72.90625 \nL 47.609375 72.90625 \nL 47.609375 25.390625 \nL 58.015625 25.390625 \nL 58.015625 17.1875 \nL 47.609375 17.1875 \nL 47.609375 0 \nL 37.796875 0 \nL 37.796875 17.1875 \nL 4.890625 17.1875 \nL 4.890625 26.703125 \nz\n\" id=\"DejaVuSans-52\"/>\n       </defs>\n       <use xlink:href=\"#DejaVuSans-48\"/>\n       <use x=\"63.623047\" xlink:href=\"#DejaVuSans-46\"/>\n       <use x=\"95.410156\" xlink:href=\"#DejaVuSans-52\"/>\n      </g>\n     </g>\n    </g>\n    <g id=\"xtick_6\">\n     <g id=\"line2d_6\">\n      <g>\n       <use style=\"stroke:#000000;stroke-width:0.8;\" x=\"285.959788\" xlink:href=\"#m12a07e2f60\" y=\"225.524892\"/>\n      </g>\n     </g>\n     <g id=\"text_6\">\n      <!-- 0.5 -->\n      <g transform=\"translate(278.008225 240.12333)scale(0.1 -0.1)\">\n       <defs>\n        <path d=\"M 10.796875 72.90625 \nL 49.515625 72.90625 \nL 49.515625 64.59375 \nL 19.828125 64.59375 \nL 19.828125 46.734375 \nQ 21.96875 47.46875 24.109375 47.828125 \nQ 26.265625 48.1875 28.421875 48.1875 \nQ 40.625 48.1875 47.75 41.5 \nQ 54.890625 34.8125 54.890625 23.390625 \nQ 54.890625 11.625 47.5625 5.09375 \nQ 40.234375 -1.421875 26.90625 -1.421875 \nQ 22.3125 -1.421875 17.546875 -0.640625 \nQ 12.796875 0.140625 7.71875 1.703125 \nL 7.71875 11.625 \nQ 12.109375 9.234375 16.796875 8.0625 \nQ 21.484375 6.890625 26.703125 6.890625 \nQ 35.15625 6.890625 40.078125 11.328125 \nQ 45.015625 15.765625 45.015625 23.390625 \nQ 45.015625 31 40.078125 35.4375 \nQ 35.15625 39.890625 26.703125 39.890625 \nQ 22.75 39.890625 18.8125 39.015625 \nQ 14.890625 38.140625 10.796875 36.28125 \nz\n\" id=\"DejaVuSans-53\"/>\n       </defs>\n       <use xlink:href=\"#DejaVuSans-48\"/>\n       <use x=\"63.623047\" xlink:href=\"#DejaVuSans-46\"/>\n       <use x=\"95.410156\" xlink:href=\"#DejaVuSans-53\"/>\n      </g>\n     </g>\n    </g>\n    <g id=\"xtick_7\">\n     <g id=\"line2d_7\">\n      <g>\n       <use style=\"stroke:#000000;stroke-width:0.8;\" x=\"335.152084\" xlink:href=\"#m12a07e2f60\" y=\"225.524892\"/>\n      </g>\n     </g>\n     <g id=\"text_7\">\n      <!-- 0.6 -->\n      <g transform=\"translate(327.200521 240.12333)scale(0.1 -0.1)\">\n       <defs>\n        <path d=\"M 33.015625 40.375 \nQ 26.375 40.375 22.484375 35.828125 \nQ 18.609375 31.296875 18.609375 23.390625 \nQ 18.609375 15.53125 22.484375 10.953125 \nQ 26.375 6.390625 33.015625 6.390625 \nQ 39.65625 6.390625 43.53125 10.953125 \nQ 47.40625 15.53125 47.40625 23.390625 \nQ 47.40625 31.296875 43.53125 35.828125 \nQ 39.65625 40.375 33.015625 40.375 \nz\nM 52.59375 71.296875 \nL 52.59375 62.3125 \nQ 48.875 64.0625 45.09375 64.984375 \nQ 41.3125 65.921875 37.59375 65.921875 \nQ 27.828125 65.921875 22.671875 59.328125 \nQ 17.53125 52.734375 16.796875 39.40625 \nQ 19.671875 43.65625 24.015625 45.921875 \nQ 28.375 48.1875 33.59375 48.1875 \nQ 44.578125 48.1875 50.953125 41.515625 \nQ 57.328125 34.859375 57.328125 23.390625 \nQ 57.328125 12.15625 50.6875 5.359375 \nQ 44.046875 -1.421875 33.015625 -1.421875 \nQ 20.359375 -1.421875 13.671875 8.265625 \nQ 6.984375 17.96875 6.984375 36.375 \nQ 6.984375 53.65625 15.1875 63.9375 \nQ 23.390625 74.21875 37.203125 74.21875 \nQ 40.921875 74.21875 44.703125 73.484375 \nQ 48.484375 72.75 52.59375 71.296875 \nz\n\" id=\"DejaVuSans-54\"/>\n       </defs>\n       <use xlink:href=\"#DejaVuSans-48\"/>\n       <use x=\"63.623047\" xlink:href=\"#DejaVuSans-46\"/>\n       <use x=\"95.410156\" xlink:href=\"#DejaVuSans-54\"/>\n      </g>\n     </g>\n    </g>\n   </g>\n   <g id=\"matplotlib.axis_2\">\n    <g id=\"ytick_1\">\n     <g id=\"line2d_8\">\n      <defs>\n       <path d=\"M 0 0 \nL -3.5 0 \n\" id=\"mbd5f9ff48e\" style=\"stroke:#000000;stroke-width:0.8;\"/>\n      </defs>\n      <g>\n       <use style=\"stroke:#000000;stroke-width:0.8;\" x=\"30.103125\" xlink:href=\"#mbd5f9ff48e\" y=\"205.424426\"/>\n      </g>\n     </g>\n     <g id=\"text_8\">\n      <!-- 0.2 -->\n      <g transform=\"translate(7.2 209.223645)scale(0.1 -0.1)\">\n       <use xlink:href=\"#DejaVuSans-48\"/>\n       <use x=\"63.623047\" xlink:href=\"#DejaVuSans-46\"/>\n       <use x=\"95.410156\" xlink:href=\"#DejaVuSans-50\"/>\n      </g>\n     </g>\n    </g>\n    <g id=\"ytick_2\">\n     <g id=\"line2d_9\">\n      <g>\n       <use style=\"stroke:#000000;stroke-width:0.8;\" x=\"30.103125\" xlink:href=\"#mbd5f9ff48e\" y=\"181.121275\"/>\n      </g>\n     </g>\n     <g id=\"text_9\">\n      <!-- 0.3 -->\n      <g transform=\"translate(7.2 184.920494)scale(0.1 -0.1)\">\n       <use xlink:href=\"#DejaVuSans-48\"/>\n       <use x=\"63.623047\" xlink:href=\"#DejaVuSans-46\"/>\n       <use x=\"95.410156\" xlink:href=\"#DejaVuSans-51\"/>\n      </g>\n     </g>\n    </g>\n    <g id=\"ytick_3\">\n     <g id=\"line2d_10\">\n      <g>\n       <use style=\"stroke:#000000;stroke-width:0.8;\" x=\"30.103125\" xlink:href=\"#mbd5f9ff48e\" y=\"156.818124\"/>\n      </g>\n     </g>\n     <g id=\"text_10\">\n      <!-- 0.4 -->\n      <g transform=\"translate(7.2 160.617343)scale(0.1 -0.1)\">\n       <use xlink:href=\"#DejaVuSans-48\"/>\n       <use x=\"63.623047\" xlink:href=\"#DejaVuSans-46\"/>\n       <use x=\"95.410156\" xlink:href=\"#DejaVuSans-52\"/>\n      </g>\n     </g>\n    </g>\n    <g id=\"ytick_4\">\n     <g id=\"line2d_11\">\n      <g>\n       <use style=\"stroke:#000000;stroke-width:0.8;\" x=\"30.103125\" xlink:href=\"#mbd5f9ff48e\" y=\"132.514973\"/>\n      </g>\n     </g>\n     <g id=\"text_11\">\n      <!-- 0.5 -->\n      <g transform=\"translate(7.2 136.314192)scale(0.1 -0.1)\">\n       <use xlink:href=\"#DejaVuSans-48\"/>\n       <use x=\"63.623047\" xlink:href=\"#DejaVuSans-46\"/>\n       <use x=\"95.410156\" xlink:href=\"#DejaVuSans-53\"/>\n      </g>\n     </g>\n    </g>\n    <g id=\"ytick_5\">\n     <g id=\"line2d_12\">\n      <g>\n       <use style=\"stroke:#000000;stroke-width:0.8;\" x=\"30.103125\" xlink:href=\"#mbd5f9ff48e\" y=\"108.211822\"/>\n      </g>\n     </g>\n     <g id=\"text_12\">\n      <!-- 0.6 -->\n      <g transform=\"translate(7.2 112.011041)scale(0.1 -0.1)\">\n       <use xlink:href=\"#DejaVuSans-48\"/>\n       <use x=\"63.623047\" xlink:href=\"#DejaVuSans-46\"/>\n       <use x=\"95.410156\" xlink:href=\"#DejaVuSans-54\"/>\n      </g>\n     </g>\n    </g>\n    <g id=\"ytick_6\">\n     <g id=\"line2d_13\">\n      <g>\n       <use style=\"stroke:#000000;stroke-width:0.8;\" x=\"30.103125\" xlink:href=\"#mbd5f9ff48e\" y=\"83.908671\"/>\n      </g>\n     </g>\n     <g id=\"text_13\">\n      <!-- 0.7 -->\n      <g transform=\"translate(7.2 87.70789)scale(0.1 -0.1)\">\n       <defs>\n        <path d=\"M 8.203125 72.90625 \nL 55.078125 72.90625 \nL 55.078125 68.703125 \nL 28.609375 0 \nL 18.3125 0 \nL 43.21875 64.59375 \nL 8.203125 64.59375 \nz\n\" id=\"DejaVuSans-55\"/>\n       </defs>\n       <use xlink:href=\"#DejaVuSans-48\"/>\n       <use x=\"63.623047\" xlink:href=\"#DejaVuSans-46\"/>\n       <use x=\"95.410156\" xlink:href=\"#DejaVuSans-55\"/>\n      </g>\n     </g>\n    </g>\n    <g id=\"ytick_7\">\n     <g id=\"line2d_14\">\n      <g>\n       <use style=\"stroke:#000000;stroke-width:0.8;\" x=\"30.103125\" xlink:href=\"#mbd5f9ff48e\" y=\"59.605521\"/>\n      </g>\n     </g>\n     <g id=\"text_14\">\n      <!-- 0.8 -->\n      <g transform=\"translate(7.2 63.404739)scale(0.1 -0.1)\">\n       <defs>\n        <path d=\"M 31.78125 34.625 \nQ 24.75 34.625 20.71875 30.859375 \nQ 16.703125 27.09375 16.703125 20.515625 \nQ 16.703125 13.921875 20.71875 10.15625 \nQ 24.75 6.390625 31.78125 6.390625 \nQ 38.8125 6.390625 42.859375 10.171875 \nQ 46.921875 13.96875 46.921875 20.515625 \nQ 46.921875 27.09375 42.890625 30.859375 \nQ 38.875 34.625 31.78125 34.625 \nz\nM 21.921875 38.8125 \nQ 15.578125 40.375 12.03125 44.71875 \nQ 8.5 49.078125 8.5 55.328125 \nQ 8.5 64.0625 14.71875 69.140625 \nQ 20.953125 74.21875 31.78125 74.21875 \nQ 42.671875 74.21875 48.875 69.140625 \nQ 55.078125 64.0625 55.078125 55.328125 \nQ 55.078125 49.078125 51.53125 44.71875 \nQ 48 40.375 41.703125 38.8125 \nQ 48.828125 37.15625 52.796875 32.3125 \nQ 56.78125 27.484375 56.78125 20.515625 \nQ 56.78125 9.90625 50.3125 4.234375 \nQ 43.84375 -1.421875 31.78125 -1.421875 \nQ 19.734375 -1.421875 13.25 4.234375 \nQ 6.78125 9.90625 6.78125 20.515625 \nQ 6.78125 27.484375 10.78125 32.3125 \nQ 14.796875 37.15625 21.921875 38.8125 \nz\nM 18.3125 54.390625 \nQ 18.3125 48.734375 21.84375 45.5625 \nQ 25.390625 42.390625 31.78125 42.390625 \nQ 38.140625 42.390625 41.71875 45.5625 \nQ 45.3125 48.734375 45.3125 54.390625 \nQ 45.3125 60.0625 41.71875 63.234375 \nQ 38.140625 66.40625 31.78125 66.40625 \nQ 25.390625 66.40625 21.84375 63.234375 \nQ 18.3125 60.0625 18.3125 54.390625 \nz\n\" id=\"DejaVuSans-56\"/>\n       </defs>\n       <use xlink:href=\"#DejaVuSans-48\"/>\n       <use x=\"63.623047\" xlink:href=\"#DejaVuSans-46\"/>\n       <use x=\"95.410156\" xlink:href=\"#DejaVuSans-56\"/>\n      </g>\n     </g>\n    </g>\n    <g id=\"ytick_8\">\n     <g id=\"line2d_15\">\n      <g>\n       <use style=\"stroke:#000000;stroke-width:0.8;\" x=\"30.103125\" xlink:href=\"#mbd5f9ff48e\" y=\"35.30237\"/>\n      </g>\n     </g>\n     <g id=\"text_15\">\n      <!-- 0.9 -->\n      <g transform=\"translate(7.2 39.101588)scale(0.1 -0.1)\">\n       <defs>\n        <path d=\"M 10.984375 1.515625 \nL 10.984375 10.5 \nQ 14.703125 8.734375 18.5 7.8125 \nQ 22.3125 6.890625 25.984375 6.890625 \nQ 35.75 6.890625 40.890625 13.453125 \nQ 46.046875 20.015625 46.78125 33.40625 \nQ 43.953125 29.203125 39.59375 26.953125 \nQ 35.25 24.703125 29.984375 24.703125 \nQ 19.046875 24.703125 12.671875 31.3125 \nQ 6.296875 37.9375 6.296875 49.421875 \nQ 6.296875 60.640625 12.9375 67.421875 \nQ 19.578125 74.21875 30.609375 74.21875 \nQ 43.265625 74.21875 49.921875 64.515625 \nQ 56.59375 54.828125 56.59375 36.375 \nQ 56.59375 19.140625 48.40625 8.859375 \nQ 40.234375 -1.421875 26.421875 -1.421875 \nQ 22.703125 -1.421875 18.890625 -0.6875 \nQ 15.09375 0.046875 10.984375 1.515625 \nz\nM 30.609375 32.421875 \nQ 37.25 32.421875 41.125 36.953125 \nQ 45.015625 41.5 45.015625 49.421875 \nQ 45.015625 57.28125 41.125 61.84375 \nQ 37.25 66.40625 30.609375 66.40625 \nQ 23.96875 66.40625 20.09375 61.84375 \nQ 16.21875 57.28125 16.21875 49.421875 \nQ 16.21875 41.5 20.09375 36.953125 \nQ 23.96875 32.421875 30.609375 32.421875 \nz\n\" id=\"DejaVuSans-57\"/>\n       </defs>\n       <use xlink:href=\"#DejaVuSans-48\"/>\n       <use x=\"63.623047\" xlink:href=\"#DejaVuSans-46\"/>\n       <use x=\"95.410156\" xlink:href=\"#DejaVuSans-57\"/>\n      </g>\n     </g>\n    </g>\n    <g id=\"ytick_9\">\n     <g id=\"line2d_16\">\n      <g>\n       <use style=\"stroke:#000000;stroke-width:0.8;\" x=\"30.103125\" xlink:href=\"#mbd5f9ff48e\" y=\"10.999219\"/>\n      </g>\n     </g>\n     <g id=\"text_16\">\n      <!-- 1.0 -->\n      <g transform=\"translate(7.2 14.798438)scale(0.1 -0.1)\">\n       <use xlink:href=\"#DejaVuSans-49\"/>\n       <use x=\"63.623047\" xlink:href=\"#DejaVuSans-46\"/>\n       <use x=\"95.410156\" xlink:href=\"#DejaVuSans-48\"/>\n      </g>\n     </g>\n    </g>\n   </g>\n   <g id=\"line2d_17\">\n    <path clip-path=\"url(#pc9d7247b4f)\" d=\"M 53.032984 114.66571 \nL 45.321307 204.675702 \nL 279.095123 193.054149 \nL 237.124658 62.941919 \nL 349.684943 179.842651 \nL 92.940192 215.641256 \nL 61.357203 124.817022 \nL 259.346998 17.968528 \nL 226.397316 90.056043 \nL 175.647652 161.901047 \n\" style=\"fill:none;stroke:#1f77b4;stroke-linecap:square;stroke-width:1.5;\"/>\n   </g>\n   <g id=\"patch_3\">\n    <path d=\"M 30.103125 225.524892 \nL 30.103125 8.084892 \n\" style=\"fill:none;stroke:#000000;stroke-linecap:square;stroke-linejoin:miter;stroke-width:0.8;\"/>\n   </g>\n   <g id=\"patch_4\">\n    <path d=\"M 364.903125 225.524892 \nL 364.903125 8.084892 \n\" style=\"fill:none;stroke:#000000;stroke-linecap:square;stroke-linejoin:miter;stroke-width:0.8;\"/>\n   </g>\n   <g id=\"patch_5\">\n    <path d=\"M 30.103125 225.524892 \nL 364.903125 225.524892 \n\" style=\"fill:none;stroke:#000000;stroke-linecap:square;stroke-linejoin:miter;stroke-width:0.8;\"/>\n   </g>\n   <g id=\"patch_6\">\n    <path d=\"M 30.103125 8.084892 \nL 364.903125 8.084892 \n\" style=\"fill:none;stroke:#000000;stroke-linecap:square;stroke-linejoin:miter;stroke-width:0.8;\"/>\n   </g>\n  </g>\n </g>\n <defs>\n  <clipPath id=\"pc9d7247b4f\">\n   <rect height=\"217.44\" width=\"334.8\" x=\"30.103125\" y=\"8.084892\"/>\n  </clipPath>\n </defs>\n</svg>\n",
      "image/png": "[encoded data removed]"
     },
     "metadata": {
      "needs_background": "light"
     }
    }
   ],
   "source": [
    "%matplotlib inline\n",
    "import numpy as np\n",
    "import matplotlib as mpl\n",
    "import matplotlib.pyplot as plt\n",
    "\n",
    "npX = np.random.random(10)\n",
    "npY = np.random.random(10)\n",
    "\n",
    "_ = plt.plot(npX, npY)\n",
    "\n",
    "# plt.savefig('graph.jpg')\n"
   ]
  },
  {
   "source": [
    "2. Plotting\n",
    "- line plot (see above)\n",
    "- scatter plot (see below)"
   ],
   "cell_type": "markdown",
   "metadata": {}
  },
  {
   "cell_type": "code",
   "execution_count": 5,
   "metadata": {},
   "outputs": [
    {
     "output_type": "display_data",
     "data": {
      "text/plain": "&lt;Figure size 432x288 with 1 Axes&gt;",
      "image/svg+xml": "<?xml version=\"1.0\" encoding=\"utf-8\" standalone=\"no\"?>\n<!DOCTYPE svg PUBLIC \"-//W3C//DTD SVG 1.1//EN\"\n  \"http://www.w3.org/Graphics/SVG/1.1/DTD/svg11.dtd\">\n<!-- Created with matplotlib (https://matplotlib.org/) -->\n<svg height=\"249.403017pt\" version=\"1.1\" viewBox=\"0 0 372.103125 249.403017\" width=\"372.103125pt\" xmlns=\"http://www.w3.org/2000/svg\" xmlns:xlink=\"http://www.w3.org/1999/xlink\">\n <metadata>\n  <rdf:RDF xmlns:cc=\"http://creativecommons.org/ns#\" xmlns:dc=\"http://purl.org/dc/elements/1.1/\" xmlns:rdf=\"http://www.w3.org/1999/02/22-rdf-syntax-ns#\">\n   <cc:Work>\n    <dc:type rdf:resource=\"http://purl.org/dc/dcmitype/StillImage\"/>\n    <dc:date>2020-11-09T12:10:57.603430</dc:date>\n    <dc:format>image/svg+xml</dc:format>\n    <dc:creator>\n     <cc:Agent>\n      <dc:title>Matplotlib v3.3.2, https://matplotlib.org/</dc:title>\n     </cc:Agent>\n    </dc:creator>\n   </cc:Work>\n  </rdf:RDF>\n </metadata>\n <defs>\n  <style type=\"text/css\">*{stroke-linecap:butt;stroke-linejoin:round;}</style>\n </defs>\n <g id=\"figure_1\">\n  <g id=\"patch_1\">\n   <path d=\"M 0 249.403017 \nL 372.103125 249.403017 \nL 372.103125 0 \nL 0 0 \nz\n\" style=\"fill:none;\"/>\n  </g>\n  <g id=\"axes_1\">\n   <g id=\"patch_2\">\n    <path d=\"M 30.103125 225.524892 \nL 364.903125 225.524892 \nL 364.903125 8.084892 \nL 30.103125 8.084892 \nz\n\" style=\"fill:#ffffff;\"/>\n   </g>\n   <g id=\"PathCollection_1\">\n    <defs>\n     <path d=\"M 0 3 \nC 0.795609 3 1.55874 2.683901 2.12132 2.12132 \nC 2.683901 1.55874 3 0.795609 3 0 \nC 3 -0.795609 2.683901 -1.55874 2.12132 -2.12132 \nC 1.55874 -2.683901 0.795609 -3 0 -3 \nC -0.795609 -3 -1.55874 -2.683901 -2.12132 -2.12132 \nC -2.683901 -1.55874 -3 -0.795609 -3 0 \nC -3 0.795609 -2.683901 1.55874 -2.12132 2.12132 \nC -1.55874 2.683901 -0.795609 3 0 3 \nz\n\" id=\"mbbb25da0eb\" style=\"stroke:#1f77b4;\"/>\n    </defs>\n    <g clip-path=\"url(#p0570027f59)\">\n     <use style=\"fill:#1f77b4;stroke:#1f77b4;\" x=\"53.032984\" xlink:href=\"#mbbb25da0eb\" y=\"114.66571\"/>\n     <use style=\"fill:#1f77b4;stroke:#1f77b4;\" x=\"45.321307\" xlink:href=\"#mbbb25da0eb\" y=\"204.675702\"/>\n     <use style=\"fill:#1f77b4;stroke:#1f77b4;\" x=\"279.095123\" xlink:href=\"#mbbb25da0eb\" y=\"193.054149\"/>\n     <use style=\"fill:#1f77b4;stroke:#1f77b4;\" x=\"237.124658\" xlink:href=\"#mbbb25da0eb\" y=\"62.941919\"/>\n     <use style=\"fill:#1f77b4;stroke:#1f77b4;\" x=\"349.684943\" xlink:href=\"#mbbb25da0eb\" y=\"179.842651\"/>\n     <use style=\"fill:#1f77b4;stroke:#1f77b4;\" x=\"92.940192\" xlink:href=\"#mbbb25da0eb\" y=\"215.641256\"/>\n     <use style=\"fill:#1f77b4;stroke:#1f77b4;\" x=\"61.357203\" xlink:href=\"#mbbb25da0eb\" y=\"124.817022\"/>\n     <use style=\"fill:#1f77b4;stroke:#1f77b4;\" x=\"259.346998\" xlink:href=\"#mbbb25da0eb\" y=\"17.968528\"/>\n     <use style=\"fill:#1f77b4;stroke:#1f77b4;\" x=\"226.397316\" xlink:href=\"#mbbb25da0eb\" y=\"90.056043\"/>\n     <use style=\"fill:#1f77b4;stroke:#1f77b4;\" x=\"175.647652\" xlink:href=\"#mbbb25da0eb\" y=\"161.901047\"/>\n    </g>\n   </g>\n   <g id=\"matplotlib.axis_1\">\n    <g id=\"xtick_1\">\n     <g id=\"line2d_1\">\n      <defs>\n       <path d=\"M 0 0 \nL 0 3.5 \n\" id=\"m11493b18a5\" style=\"stroke:#000000;stroke-width:0.8;\"/>\n      </defs>\n      <g>\n       <use style=\"stroke:#000000;stroke-width:0.8;\" x=\"39.998308\" xlink:href=\"#m11493b18a5\" y=\"225.524892\"/>\n      </g>\n     </g>\n     <g id=\"text_1\">\n      <!-- 0.0 -->\n      <g transform=\"translate(32.046745 240.12333)scale(0.1 -0.1)\">\n       <defs>\n        <path d=\"M 31.78125 66.40625 \nQ 24.171875 66.40625 20.328125 58.90625 \nQ 16.5 51.421875 16.5 36.375 \nQ 16.5 21.390625 20.328125 13.890625 \nQ 24.171875 6.390625 31.78125 6.390625 \nQ 39.453125 6.390625 43.28125 13.890625 \nQ 47.125 21.390625 47.125 36.375 \nQ 47.125 51.421875 43.28125 58.90625 \nQ 39.453125 66.40625 31.78125 66.40625 \nz\nM 31.78125 74.21875 \nQ 44.046875 74.21875 50.515625 64.515625 \nQ 56.984375 54.828125 56.984375 36.375 \nQ 56.984375 17.96875 50.515625 8.265625 \nQ 44.046875 -1.421875 31.78125 -1.421875 \nQ 19.53125 -1.421875 13.0625 8.265625 \nQ 6.59375 17.96875 6.59375 36.375 \nQ 6.59375 54.828125 13.0625 64.515625 \nQ 19.53125 74.21875 31.78125 74.21875 \nz\n\" id=\"DejaVuSans-48\"/>\n        <path d=\"M 10.6875 12.40625 \nL 21 12.40625 \nL 21 0 \nL 10.6875 0 \nz\n\" id=\"DejaVuSans-46\"/>\n       </defs>\n       <use xlink:href=\"#DejaVuSans-48\"/>\n       <use x=\"63.623047\" xlink:href=\"#DejaVuSans-46\"/>\n       <use x=\"95.410156\" xlink:href=\"#DejaVuSans-48\"/>\n      </g>\n     </g>\n    </g>\n    <g id=\"xtick_2\">\n     <g id=\"line2d_2\">\n      <g>\n       <use style=\"stroke:#000000;stroke-width:0.8;\" x=\"89.190604\" xlink:href=\"#m11493b18a5\" y=\"225.524892\"/>\n      </g>\n     </g>\n     <g id=\"text_2\">\n      <!-- 0.1 -->\n      <g transform=\"translate(81.239041 240.12333)scale(0.1 -0.1)\">\n       <defs>\n        <path d=\"M 12.40625 8.296875 \nL 28.515625 8.296875 \nL 28.515625 63.921875 \nL 10.984375 60.40625 \nL 10.984375 69.390625 \nL 28.421875 72.90625 \nL 38.28125 72.90625 \nL 38.28125 8.296875 \nL 54.390625 8.296875 \nL 54.390625 0 \nL 12.40625 0 \nz\n\" id=\"DejaVuSans-49\"/>\n       </defs>\n       <use xlink:href=\"#DejaVuSans-48\"/>\n       <use x=\"63.623047\" xlink:href=\"#DejaVuSans-46\"/>\n       <use x=\"95.410156\" xlink:href=\"#DejaVuSans-49\"/>\n      </g>\n     </g>\n    </g>\n    <g id=\"xtick_3\">\n     <g id=\"line2d_3\">\n      <g>\n       <use style=\"stroke:#000000;stroke-width:0.8;\" x=\"138.3829\" xlink:href=\"#m11493b18a5\" y=\"225.524892\"/>\n      </g>\n     </g>\n     <g id=\"text_3\">\n      <!-- 0.2 -->\n      <g transform=\"translate(130.431337 240.12333)scale(0.1 -0.1)\">\n       <defs>\n        <path d=\"M 19.1875 8.296875 \nL 53.609375 8.296875 \nL 53.609375 0 \nL 7.328125 0 \nL 7.328125 8.296875 \nQ 12.9375 14.109375 22.625 23.890625 \nQ 32.328125 33.6875 34.8125 36.53125 \nQ 39.546875 41.84375 41.421875 45.53125 \nQ 43.3125 49.21875 43.3125 52.78125 \nQ 43.3125 58.59375 39.234375 62.25 \nQ 35.15625 65.921875 28.609375 65.921875 \nQ 23.96875 65.921875 18.8125 64.3125 \nQ 13.671875 62.703125 7.8125 59.421875 \nL 7.8125 69.390625 \nQ 13.765625 71.78125 18.9375 73 \nQ 24.125 74.21875 28.421875 74.21875 \nQ 39.75 74.21875 46.484375 68.546875 \nQ 53.21875 62.890625 53.21875 53.421875 \nQ 53.21875 48.921875 51.53125 44.890625 \nQ 49.859375 40.875 45.40625 35.40625 \nQ 44.1875 33.984375 37.640625 27.21875 \nQ 31.109375 20.453125 19.1875 8.296875 \nz\n\" id=\"DejaVuSans-50\"/>\n       </defs>\n       <use xlink:href=\"#DejaVuSans-48\"/>\n       <use x=\"63.623047\" xlink:href=\"#DejaVuSans-46\"/>\n       <use x=\"95.410156\" xlink:href=\"#DejaVuSans-50\"/>\n      </g>\n     </g>\n    </g>\n    <g id=\"xtick_4\">\n     <g id=\"line2d_4\">\n      <g>\n       <use style=\"stroke:#000000;stroke-width:0.8;\" x=\"187.575196\" xlink:href=\"#m11493b18a5\" y=\"225.524892\"/>\n      </g>\n     </g>\n     <g id=\"text_4\">\n      <!-- 0.3 -->\n      <g transform=\"translate(179.623633 240.12333)scale(0.1 -0.1)\">\n       <defs>\n        <path d=\"M 40.578125 39.3125 \nQ 47.65625 37.796875 51.625 33 \nQ 55.609375 28.21875 55.609375 21.1875 \nQ 55.609375 10.40625 48.1875 4.484375 \nQ 40.765625 -1.421875 27.09375 -1.421875 \nQ 22.515625 -1.421875 17.65625 -0.515625 \nQ 12.796875 0.390625 7.625 2.203125 \nL 7.625 11.71875 \nQ 11.71875 9.328125 16.59375 8.109375 \nQ 21.484375 6.890625 26.8125 6.890625 \nQ 36.078125 6.890625 40.9375 10.546875 \nQ 45.796875 14.203125 45.796875 21.1875 \nQ 45.796875 27.640625 41.28125 31.265625 \nQ 36.765625 34.90625 28.71875 34.90625 \nL 20.21875 34.90625 \nL 20.21875 43.015625 \nL 29.109375 43.015625 \nQ 36.375 43.015625 40.234375 45.921875 \nQ 44.09375 48.828125 44.09375 54.296875 \nQ 44.09375 59.90625 40.109375 62.90625 \nQ 36.140625 65.921875 28.71875 65.921875 \nQ 24.65625 65.921875 20.015625 65.03125 \nQ 15.375 64.15625 9.8125 62.3125 \nL 9.8125 71.09375 \nQ 15.4375 72.65625 20.34375 73.4375 \nQ 25.25 74.21875 29.59375 74.21875 \nQ 40.828125 74.21875 47.359375 69.109375 \nQ 53.90625 64.015625 53.90625 55.328125 \nQ 53.90625 49.265625 50.4375 45.09375 \nQ 46.96875 40.921875 40.578125 39.3125 \nz\n\" id=\"DejaVuSans-51\"/>\n       </defs>\n       <use xlink:href=\"#DejaVuSans-48\"/>\n       <use x=\"63.623047\" xlink:href=\"#DejaVuSans-46\"/>\n       <use x=\"95.410156\" xlink:href=\"#DejaVuSans-51\"/>\n      </g>\n     </g>\n    </g>\n    <g id=\"xtick_5\">\n     <g id=\"line2d_5\">\n      <g>\n       <use style=\"stroke:#000000;stroke-width:0.8;\" x=\"236.767492\" xlink:href=\"#m11493b18a5\" y=\"225.524892\"/>\n      </g>\n     </g>\n     <g id=\"text_5\">\n      <!-- 0.4 -->\n      <g transform=\"translate(228.815929 240.12333)scale(0.1 -0.1)\">\n       <defs>\n        <path d=\"M 37.796875 64.3125 \nL 12.890625 25.390625 \nL 37.796875 25.390625 \nz\nM 35.203125 72.90625 \nL 47.609375 72.90625 \nL 47.609375 25.390625 \nL 58.015625 25.390625 \nL 58.015625 17.1875 \nL 47.609375 17.1875 \nL 47.609375 0 \nL 37.796875 0 \nL 37.796875 17.1875 \nL 4.890625 17.1875 \nL 4.890625 26.703125 \nz\n\" id=\"DejaVuSans-52\"/>\n       </defs>\n       <use xlink:href=\"#DejaVuSans-48\"/>\n       <use x=\"63.623047\" xlink:href=\"#DejaVuSans-46\"/>\n       <use x=\"95.410156\" xlink:href=\"#DejaVuSans-52\"/>\n      </g>\n     </g>\n    </g>\n    <g id=\"xtick_6\">\n     <g id=\"line2d_6\">\n      <g>\n       <use style=\"stroke:#000000;stroke-width:0.8;\" x=\"285.959788\" xlink:href=\"#m11493b18a5\" y=\"225.524892\"/>\n      </g>\n     </g>\n     <g id=\"text_6\">\n      <!-- 0.5 -->\n      <g transform=\"translate(278.008225 240.12333)scale(0.1 -0.1)\">\n       <defs>\n        <path d=\"M 10.796875 72.90625 \nL 49.515625 72.90625 \nL 49.515625 64.59375 \nL 19.828125 64.59375 \nL 19.828125 46.734375 \nQ 21.96875 47.46875 24.109375 47.828125 \nQ 26.265625 48.1875 28.421875 48.1875 \nQ 40.625 48.1875 47.75 41.5 \nQ 54.890625 34.8125 54.890625 23.390625 \nQ 54.890625 11.625 47.5625 5.09375 \nQ 40.234375 -1.421875 26.90625 -1.421875 \nQ 22.3125 -1.421875 17.546875 -0.640625 \nQ 12.796875 0.140625 7.71875 1.703125 \nL 7.71875 11.625 \nQ 12.109375 9.234375 16.796875 8.0625 \nQ 21.484375 6.890625 26.703125 6.890625 \nQ 35.15625 6.890625 40.078125 11.328125 \nQ 45.015625 15.765625 45.015625 23.390625 \nQ 45.015625 31 40.078125 35.4375 \nQ 35.15625 39.890625 26.703125 39.890625 \nQ 22.75 39.890625 18.8125 39.015625 \nQ 14.890625 38.140625 10.796875 36.28125 \nz\n\" id=\"DejaVuSans-53\"/>\n       </defs>\n       <use xlink:href=\"#DejaVuSans-48\"/>\n       <use x=\"63.623047\" xlink:href=\"#DejaVuSans-46\"/>\n       <use x=\"95.410156\" xlink:href=\"#DejaVuSans-53\"/>\n      </g>\n     </g>\n    </g>\n    <g id=\"xtick_7\">\n     <g id=\"line2d_7\">\n      <g>\n       <use style=\"stroke:#000000;stroke-width:0.8;\" x=\"335.152084\" xlink:href=\"#m11493b18a5\" y=\"225.524892\"/>\n      </g>\n     </g>\n     <g id=\"text_7\">\n      <!-- 0.6 -->\n      <g transform=\"translate(327.200521 240.12333)scale(0.1 -0.1)\">\n       <defs>\n        <path d=\"M 33.015625 40.375 \nQ 26.375 40.375 22.484375 35.828125 \nQ 18.609375 31.296875 18.609375 23.390625 \nQ 18.609375 15.53125 22.484375 10.953125 \nQ 26.375 6.390625 33.015625 6.390625 \nQ 39.65625 6.390625 43.53125 10.953125 \nQ 47.40625 15.53125 47.40625 23.390625 \nQ 47.40625 31.296875 43.53125 35.828125 \nQ 39.65625 40.375 33.015625 40.375 \nz\nM 52.59375 71.296875 \nL 52.59375 62.3125 \nQ 48.875 64.0625 45.09375 64.984375 \nQ 41.3125 65.921875 37.59375 65.921875 \nQ 27.828125 65.921875 22.671875 59.328125 \nQ 17.53125 52.734375 16.796875 39.40625 \nQ 19.671875 43.65625 24.015625 45.921875 \nQ 28.375 48.1875 33.59375 48.1875 \nQ 44.578125 48.1875 50.953125 41.515625 \nQ 57.328125 34.859375 57.328125 23.390625 \nQ 57.328125 12.15625 50.6875 5.359375 \nQ 44.046875 -1.421875 33.015625 -1.421875 \nQ 20.359375 -1.421875 13.671875 8.265625 \nQ 6.984375 17.96875 6.984375 36.375 \nQ 6.984375 53.65625 15.1875 63.9375 \nQ 23.390625 74.21875 37.203125 74.21875 \nQ 40.921875 74.21875 44.703125 73.484375 \nQ 48.484375 72.75 52.59375 71.296875 \nz\n\" id=\"DejaVuSans-54\"/>\n       </defs>\n       <use xlink:href=\"#DejaVuSans-48\"/>\n       <use x=\"63.623047\" xlink:href=\"#DejaVuSans-46\"/>\n       <use x=\"95.410156\" xlink:href=\"#DejaVuSans-54\"/>\n      </g>\n     </g>\n    </g>\n   </g>\n   <g id=\"matplotlib.axis_2\">\n    <g id=\"ytick_1\">\n     <g id=\"line2d_8\">\n      <defs>\n       <path d=\"M 0 0 \nL -3.5 0 \n\" id=\"me88c0f517c\" style=\"stroke:#000000;stroke-width:0.8;\"/>\n      </defs>\n      <g>\n       <use style=\"stroke:#000000;stroke-width:0.8;\" x=\"30.103125\" xlink:href=\"#me88c0f517c\" y=\"205.424426\"/>\n      </g>\n     </g>\n     <g id=\"text_8\">\n      <!-- 0.2 -->\n      <g transform=\"translate(7.2 209.223645)scale(0.1 -0.1)\">\n       <use xlink:href=\"#DejaVuSans-48\"/>\n       <use x=\"63.623047\" xlink:href=\"#DejaVuSans-46\"/>\n       <use x=\"95.410156\" xlink:href=\"#DejaVuSans-50\"/>\n      </g>\n     </g>\n    </g>\n    <g id=\"ytick_2\">\n     <g id=\"line2d_9\">\n      <g>\n       <use style=\"stroke:#000000;stroke-width:0.8;\" x=\"30.103125\" xlink:href=\"#me88c0f517c\" y=\"181.121275\"/>\n      </g>\n     </g>\n     <g id=\"text_9\">\n      <!-- 0.3 -->\n      <g transform=\"translate(7.2 184.920494)scale(0.1 -0.1)\">\n       <use xlink:href=\"#DejaVuSans-48\"/>\n       <use x=\"63.623047\" xlink:href=\"#DejaVuSans-46\"/>\n       <use x=\"95.410156\" xlink:href=\"#DejaVuSans-51\"/>\n      </g>\n     </g>\n    </g>\n    <g id=\"ytick_3\">\n     <g id=\"line2d_10\">\n      <g>\n       <use style=\"stroke:#000000;stroke-width:0.8;\" x=\"30.103125\" xlink:href=\"#me88c0f517c\" y=\"156.818124\"/>\n      </g>\n     </g>\n     <g id=\"text_10\">\n      <!-- 0.4 -->\n      <g transform=\"translate(7.2 160.617343)scale(0.1 -0.1)\">\n       <use xlink:href=\"#DejaVuSans-48\"/>\n       <use x=\"63.623047\" xlink:href=\"#DejaVuSans-46\"/>\n       <use x=\"95.410156\" xlink:href=\"#DejaVuSans-52\"/>\n      </g>\n     </g>\n    </g>\n    <g id=\"ytick_4\">\n     <g id=\"line2d_11\">\n      <g>\n       <use style=\"stroke:#000000;stroke-width:0.8;\" x=\"30.103125\" xlink:href=\"#me88c0f517c\" y=\"132.514973\"/>\n      </g>\n     </g>\n     <g id=\"text_11\">\n      <!-- 0.5 -->\n      <g transform=\"translate(7.2 136.314192)scale(0.1 -0.1)\">\n       <use xlink:href=\"#DejaVuSans-48\"/>\n       <use x=\"63.623047\" xlink:href=\"#DejaVuSans-46\"/>\n       <use x=\"95.410156\" xlink:href=\"#DejaVuSans-53\"/>\n      </g>\n     </g>\n    </g>\n    <g id=\"ytick_5\">\n     <g id=\"line2d_12\">\n      <g>\n       <use style=\"stroke:#000000;stroke-width:0.8;\" x=\"30.103125\" xlink:href=\"#me88c0f517c\" y=\"108.211822\"/>\n      </g>\n     </g>\n     <g id=\"text_12\">\n      <!-- 0.6 -->\n      <g transform=\"translate(7.2 112.011041)scale(0.1 -0.1)\">\n       <use xlink:href=\"#DejaVuSans-48\"/>\n       <use x=\"63.623047\" xlink:href=\"#DejaVuSans-46\"/>\n       <use x=\"95.410156\" xlink:href=\"#DejaVuSans-54\"/>\n      </g>\n     </g>\n    </g>\n    <g id=\"ytick_6\">\n     <g id=\"line2d_13\">\n      <g>\n       <use style=\"stroke:#000000;stroke-width:0.8;\" x=\"30.103125\" xlink:href=\"#me88c0f517c\" y=\"83.908671\"/>\n      </g>\n     </g>\n     <g id=\"text_13\">\n      <!-- 0.7 -->\n      <g transform=\"translate(7.2 87.70789)scale(0.1 -0.1)\">\n       <defs>\n        <path d=\"M 8.203125 72.90625 \nL 55.078125 72.90625 \nL 55.078125 68.703125 \nL 28.609375 0 \nL 18.3125 0 \nL 43.21875 64.59375 \nL 8.203125 64.59375 \nz\n\" id=\"DejaVuSans-55\"/>\n       </defs>\n       <use xlink:href=\"#DejaVuSans-48\"/>\n       <use x=\"63.623047\" xlink:href=\"#DejaVuSans-46\"/>\n       <use x=\"95.410156\" xlink:href=\"#DejaVuSans-55\"/>\n      </g>\n     </g>\n    </g>\n    <g id=\"ytick_7\">\n     <g id=\"line2d_14\">\n      <g>\n       <use style=\"stroke:#000000;stroke-width:0.8;\" x=\"30.103125\" xlink:href=\"#me88c0f517c\" y=\"59.605521\"/>\n      </g>\n     </g>\n     <g id=\"text_14\">\n      <!-- 0.8 -->\n      <g transform=\"translate(7.2 63.404739)scale(0.1 -0.1)\">\n       <defs>\n        <path d=\"M 31.78125 34.625 \nQ 24.75 34.625 20.71875 30.859375 \nQ 16.703125 27.09375 16.703125 20.515625 \nQ 16.703125 13.921875 20.71875 10.15625 \nQ 24.75 6.390625 31.78125 6.390625 \nQ 38.8125 6.390625 42.859375 10.171875 \nQ 46.921875 13.96875 46.921875 20.515625 \nQ 46.921875 27.09375 42.890625 30.859375 \nQ 38.875 34.625 31.78125 34.625 \nz\nM 21.921875 38.8125 \nQ 15.578125 40.375 12.03125 44.71875 \nQ 8.5 49.078125 8.5 55.328125 \nQ 8.5 64.0625 14.71875 69.140625 \nQ 20.953125 74.21875 31.78125 74.21875 \nQ 42.671875 74.21875 48.875 69.140625 \nQ 55.078125 64.0625 55.078125 55.328125 \nQ 55.078125 49.078125 51.53125 44.71875 \nQ 48 40.375 41.703125 38.8125 \nQ 48.828125 37.15625 52.796875 32.3125 \nQ 56.78125 27.484375 56.78125 20.515625 \nQ 56.78125 9.90625 50.3125 4.234375 \nQ 43.84375 -1.421875 31.78125 -1.421875 \nQ 19.734375 -1.421875 13.25 4.234375 \nQ 6.78125 9.90625 6.78125 20.515625 \nQ 6.78125 27.484375 10.78125 32.3125 \nQ 14.796875 37.15625 21.921875 38.8125 \nz\nM 18.3125 54.390625 \nQ 18.3125 48.734375 21.84375 45.5625 \nQ 25.390625 42.390625 31.78125 42.390625 \nQ 38.140625 42.390625 41.71875 45.5625 \nQ 45.3125 48.734375 45.3125 54.390625 \nQ 45.3125 60.0625 41.71875 63.234375 \nQ 38.140625 66.40625 31.78125 66.40625 \nQ 25.390625 66.40625 21.84375 63.234375 \nQ 18.3125 60.0625 18.3125 54.390625 \nz\n\" id=\"DejaVuSans-56\"/>\n       </defs>\n       <use xlink:href=\"#DejaVuSans-48\"/>\n       <use x=\"63.623047\" xlink:href=\"#DejaVuSans-46\"/>\n       <use x=\"95.410156\" xlink:href=\"#DejaVuSans-56\"/>\n      </g>\n     </g>\n    </g>\n    <g id=\"ytick_8\">\n     <g id=\"line2d_15\">\n      <g>\n       <use style=\"stroke:#000000;stroke-width:0.8;\" x=\"30.103125\" xlink:href=\"#me88c0f517c\" y=\"35.30237\"/>\n      </g>\n     </g>\n     <g id=\"text_15\">\n      <!-- 0.9 -->\n      <g transform=\"translate(7.2 39.101588)scale(0.1 -0.1)\">\n       <defs>\n        <path d=\"M 10.984375 1.515625 \nL 10.984375 10.5 \nQ 14.703125 8.734375 18.5 7.8125 \nQ 22.3125 6.890625 25.984375 6.890625 \nQ 35.75 6.890625 40.890625 13.453125 \nQ 46.046875 20.015625 46.78125 33.40625 \nQ 43.953125 29.203125 39.59375 26.953125 \nQ 35.25 24.703125 29.984375 24.703125 \nQ 19.046875 24.703125 12.671875 31.3125 \nQ 6.296875 37.9375 6.296875 49.421875 \nQ 6.296875 60.640625 12.9375 67.421875 \nQ 19.578125 74.21875 30.609375 74.21875 \nQ 43.265625 74.21875 49.921875 64.515625 \nQ 56.59375 54.828125 56.59375 36.375 \nQ 56.59375 19.140625 48.40625 8.859375 \nQ 40.234375 -1.421875 26.421875 -1.421875 \nQ 22.703125 -1.421875 18.890625 -0.6875 \nQ 15.09375 0.046875 10.984375 1.515625 \nz\nM 30.609375 32.421875 \nQ 37.25 32.421875 41.125 36.953125 \nQ 45.015625 41.5 45.015625 49.421875 \nQ 45.015625 57.28125 41.125 61.84375 \nQ 37.25 66.40625 30.609375 66.40625 \nQ 23.96875 66.40625 20.09375 61.84375 \nQ 16.21875 57.28125 16.21875 49.421875 \nQ 16.21875 41.5 20.09375 36.953125 \nQ 23.96875 32.421875 30.609375 32.421875 \nz\n\" id=\"DejaVuSans-57\"/>\n       </defs>\n       <use xlink:href=\"#DejaVuSans-48\"/>\n       <use x=\"63.623047\" xlink:href=\"#DejaVuSans-46\"/>\n       <use x=\"95.410156\" xlink:href=\"#DejaVuSans-57\"/>\n      </g>\n     </g>\n    </g>\n    <g id=\"ytick_9\">\n     <g id=\"line2d_16\">\n      <g>\n       <use style=\"stroke:#000000;stroke-width:0.8;\" x=\"30.103125\" xlink:href=\"#me88c0f517c\" y=\"10.999219\"/>\n      </g>\n     </g>\n     <g id=\"text_16\">\n      <!-- 1.0 -->\n      <g transform=\"translate(7.2 14.798438)scale(0.1 -0.1)\">\n       <use xlink:href=\"#DejaVuSans-49\"/>\n       <use x=\"63.623047\" xlink:href=\"#DejaVuSans-46\"/>\n       <use x=\"95.410156\" xlink:href=\"#DejaVuSans-48\"/>\n      </g>\n     </g>\n    </g>\n   </g>\n   <g id=\"patch_3\">\n    <path d=\"M 30.103125 225.524892 \nL 30.103125 8.084892 \n\" style=\"fill:none;stroke:#000000;stroke-linecap:square;stroke-linejoin:miter;stroke-width:0.8;\"/>\n   </g>\n   <g id=\"patch_4\">\n    <path d=\"M 364.903125 225.524892 \nL 364.903125 8.084892 \n\" style=\"fill:none;stroke:#000000;stroke-linecap:square;stroke-linejoin:miter;stroke-width:0.8;\"/>\n   </g>\n   <g id=\"patch_5\">\n    <path d=\"M 30.103125 225.524892 \nL 364.903125 225.524892 \n\" style=\"fill:none;stroke:#000000;stroke-linecap:square;stroke-linejoin:miter;stroke-width:0.8;\"/>\n   </g>\n   <g id=\"patch_6\">\n    <path d=\"M 30.103125 8.084892 \nL 364.903125 8.084892 \n\" style=\"fill:none;stroke:#000000;stroke-linecap:square;stroke-linejoin:miter;stroke-width:0.8;\"/>\n   </g>\n  </g>\n </g>\n <defs>\n  <clipPath id=\"p0570027f59\">\n   <rect height=\"217.44\" width=\"334.8\" x=\"30.103125\" y=\"8.084892\"/>\n  </clipPath>\n </defs>\n</svg>\n",
      "image/png": "[encoded data removed]"
     },
     "metadata": {
      "needs_background": "light"
     }
    }
   ],
   "source": [
    "_ = plt.scatter(npX, npY)\n"
   ]
  },
  {
   "source": [
    "## More Data Visualizations\n",
    "1. DB: collection of Data\n",
    "2. Querying languages: SQL, mongodb, etc.\n",
    "3. Data Repo: place that data is stored\n",
    "4. API: Application programming Interface"
   ],
   "cell_type": "markdown",
   "metadata": {}
  },
  {
   "cell_type": "code",
   "execution_count": 136,
   "metadata": {},
   "outputs": [],
   "source": [
    "import requests as req\n",
    "import pandas as pd\n",
    "from bs4 import BeautifulSoup\n",
    "\n",
    "page = req.get('https://api.github.com/users/tomdonoghue')\n",
    "\n",
    "page.content\n",
    "\n",
    "json = pd.read_json(page.content, typ='series')\n",
    "\n",
    "print(json)\n",
    "\n",
    "# soup = BeautifulSoup(page.content, 'html.parser')\n",
    "\n",
    "# print(soup)\n"
   ]
  },
  {
   "source": [
    "## Natural Language Processing\n",
    "1. Objectives\n",
    "- Structured and Unstructured data\n",
    "- Parsing tools\n",
    "- Preprocessing steps\n",
    "- \"Bag of words\" representation\n",
    "2. Preprocessing\n",
    "- cleaning data\n",
    "- Majority in unstructured data\n",
    "3. Structured data:\n",
    "- DB\n",
    "- CSV\n",
    "- Tabulated\n",
    "4. Unstructured:\n",
    "- PDF\n",
    "- Social Media\n",
    "- Media files\n",
    "5. Order and Grammar do not matter\n",
    "6. Frequency matters"
   ],
   "cell_type": "markdown",
   "metadata": {}
  },
  {
   "cell_type": "code",
   "execution_count": 15,
   "metadata": {
    "tags": []
   },
   "outputs": [
    {
     "output_type": "stream",
     "name": "stdout",
     "text": [
      "/home/pmccabe/Desktop/Github Repositories/Data-Science/DATA101\nNumber of unique words: 5580\nNumber of words: 29461\n"
     ]
    },
    {
     "output_type": "display_data",
     "data": {
      "text/plain": "<Figure size 2160x288 with 3 Axes>",
      "image/svg+xml": "<?xml version=\"1.0\" encoding=\"utf-8\" standalone=\"no\"?>\n<!DOCTYPE svg PUBLIC \"-//W3C//DTD SVG 1.1//EN\"\n  \"http://www.w3.org/Graphics/SVG/1.1/DTD/svg11.dtd\">\n<!-- Created with matplotlib (https://matplotlib.org/) -->\n<svg height=\"263.63625pt\" version=\"1.1\" viewBox=\"0 0 1720.85 263.63625\" width=\"1720.85pt\" xmlns=\"http://www.w3.org/2000/svg\" xmlns:xlink=\"http://www.w3.org/1999/xlink\">\n <metadata>\n  <rdf:RDF xmlns:cc=\"http://creativecommons.org/ns#\" xmlns:dc=\"http://purl.org/dc/elements/1.1/\" xmlns:rdf=\"http://www.w3.org/1999/02/22-rdf-syntax-ns#\">\n   <cc:Work>\n    <dc:type rdf:resource=\"http://purl.org/dc/dcmitype/StillImage\"/>\n    <dc:date>2020-11-18T11:44:24.045858</dc:date>\n    <dc:format>image/svg+xml</dc:format>\n    <dc:creator>\n     <cc:Agent>\n      <dc:title>Matplotlib v3.3.2, https://matplotlib.org/</dc:title>\n     </cc:Agent>\n    </dc:creator>\n   </cc:Work>\n  </rdf:RDF>\n </metadata>\n <defs>\n  <style type=\"text/css\">*{stroke-linecap:butt;stroke-linejoin:round;}</style>\n </defs>\n <g id=\"figure_1\">\n  <g id=\"patch_1\">\n   <path d=\"M 0 263.63625 \nL 1720.85 263.63625 \nL 1720.85 0 \nL 0 0 \nz\n\" style=\"fill:none;\"/>\n  </g>\n  <g id=\"axes_1\">\n   <g id=\"patch_2\">\n    <path d=\"M 39.65 239.758125 \nL 532.002941 239.758125 \nL 532.002941 22.318125 \nL 39.65 22.318125 \nz\n\" style=\"fill:#ffffff;\"/>\n   </g>\n   <g id=\"patch_3\">\n    <path clip-path=\"url(#p432684e433)\" d=\"M 62.029679 239.758125 \nL 76.468182 239.758125 \nL 76.468182 32.672411 \nL 62.029679 32.672411 \nz\n\" style=\"fill:#1f77b4;\"/>\n   </g>\n   <g id=\"patch_4\">\n    <path clip-path=\"url(#p432684e433)\" d=\"M 80.077807 239.758125 \nL 94.51631 239.758125 \nL 94.51631 142.683055 \nL 80.077807 142.683055 \nz\n\" style=\"fill:#1f77b4;\"/>\n   </g>\n   <g id=\"patch_5\">\n    <path clip-path=\"url(#p432684e433)\" d=\"M 98.125936 239.758125 \nL 112.564439 239.758125 \nL 112.564439 148.626426 \nL 98.125936 148.626426 \nz\n\" style=\"fill:#1f77b4;\"/>\n   </g>\n   <g id=\"patch_6\">\n    <path clip-path=\"url(#p432684e433)\" d=\"M 116.174064 239.758125 \nL 130.612567 239.758125 \nL 130.612567 161.678537 \nL 116.174064 161.678537 \nz\n\" style=\"fill:#1f77b4;\"/>\n   </g>\n   <g id=\"patch_7\">\n    <path clip-path=\"url(#p432684e433)\" d=\"M 134.222193 239.758125 \nL 148.660695 239.758125 \nL 148.660695 168.670739 \nL 134.222193 168.670739 \nz\n\" style=\"fill:#1f77b4;\"/>\n   </g>\n   <g id=\"patch_8\">\n    <path clip-path=\"url(#p432684e433)\" d=\"M 152.270321 239.758125 \nL 166.708824 239.758125 \nL 166.708824 179.392115 \nL 152.270321 179.392115 \nz\n\" style=\"fill:#1f77b4;\"/>\n   </g>\n   <g id=\"patch_9\">\n    <path clip-path=\"url(#p432684e433)\" d=\"M 170.318449 239.758125 \nL 184.756952 239.758125 \nL 184.756952 190.696175 \nL 170.318449 190.696175 \nz\n\" style=\"fill:#1f77b4;\"/>\n   </g>\n   <g id=\"patch_10\">\n    <path clip-path=\"url(#p432684e433)\" d=\"M 188.366578 239.758125 \nL 202.80508 239.758125 \nL 202.80508 191.745005 \nL 188.366578 191.745005 \nz\n\" style=\"fill:#1f77b4;\"/>\n   </g>\n   <g id=\"patch_11\">\n    <path clip-path=\"url(#p432684e433)\" d=\"M 206.414706 239.758125 \nL 220.853209 239.758125 \nL 220.853209 196.1734 \nL 206.414706 196.1734 \nz\n\" style=\"fill:#1f77b4;\"/>\n   </g>\n   <g id=\"patch_12\">\n    <path clip-path=\"url(#p432684e433)\" d=\"M 224.462834 239.758125 \nL 238.901337 239.758125 \nL 238.901337 200.834868 \nL 224.462834 200.834868 \nz\n\" style=\"fill:#1f77b4;\"/>\n   </g>\n   <g id=\"patch_13\">\n    <path clip-path=\"url(#p432684e433)\" d=\"M 242.510963 239.758125 \nL 256.949465 239.758125 \nL 256.949465 201.067941 \nL 242.510963 201.067941 \nz\n\" style=\"fill:#1f77b4;\"/>\n   </g>\n   <g id=\"patch_14\">\n    <path clip-path=\"url(#p432684e433)\" d=\"M 260.559091 239.758125 \nL 274.997594 239.758125 \nL 274.997594 209.458583 \nL 260.559091 209.458583 \nz\n\" style=\"fill:#1f77b4;\"/>\n   </g>\n   <g id=\"patch_15\">\n    <path clip-path=\"url(#p432684e433)\" d=\"M 278.607219 239.758125 \nL 293.045722 239.758125 \nL 293.045722 209.691657 \nL 278.607219 209.691657 \nz\n\" style=\"fill:#1f77b4;\"/>\n   </g>\n   <g id=\"patch_16\">\n    <path clip-path=\"url(#p432684e433)\" d=\"M 296.655348 239.758125 \nL 311.09385 239.758125 \nL 311.09385 212.138927 \nL 296.655348 212.138927 \nz\n\" style=\"fill:#1f77b4;\"/>\n   </g>\n   <g id=\"patch_17\">\n    <path clip-path=\"url(#p432684e433)\" d=\"M 314.703476 239.758125 \nL 329.141979 239.758125 \nL 329.141979 214.003515 \nL 314.703476 214.003515 \nz\n\" style=\"fill:#1f77b4;\"/>\n   </g>\n   <g id=\"patch_18\">\n    <path clip-path=\"url(#p432684e433)\" d=\"M 332.751604 239.758125 \nL 347.190107 239.758125 \nL 347.190107 214.120051 \nL 332.751604 214.120051 \nz\n\" style=\"fill:#1f77b4;\"/>\n   </g>\n   <g id=\"patch_19\">\n    <path clip-path=\"url(#p432684e433)\" d=\"M 350.799733 239.758125 \nL 365.238235 239.758125 \nL 365.238235 214.469661 \nL 350.799733 214.469661 \nz\n\" style=\"fill:#1f77b4;\"/>\n   </g>\n   <g id=\"patch_20\">\n    <path clip-path=\"url(#p432684e433)\" d=\"M 368.847861 239.758125 \nL 383.286364 239.758125 \nL 383.286364 215.518492 \nL 368.847861 215.518492 \nz\n\" style=\"fill:#1f77b4;\"/>\n   </g>\n   <g id=\"patch_21\">\n    <path clip-path=\"url(#p432684e433)\" d=\"M 386.895989 239.758125 \nL 401.334492 239.758125 \nL 401.334492 219.247666 \nL 386.895989 219.247666 \nz\n\" style=\"fill:#1f77b4;\"/>\n   </g>\n   <g id=\"patch_22\">\n    <path clip-path=\"url(#p432684e433)\" d=\"M 404.944118 239.758125 \nL 419.38262 239.758125 \nL 419.38262 219.597276 \nL 404.944118 219.597276 \nz\n\" style=\"fill:#1f77b4;\"/>\n   </g>\n   <g id=\"patch_23\">\n    <path clip-path=\"url(#p432684e433)\" d=\"M 422.992246 239.758125 \nL 437.430749 239.758125 \nL 437.430749 220.995716 \nL 422.992246 220.995716 \nz\n\" style=\"fill:#1f77b4;\"/>\n   </g>\n   <g id=\"patch_24\">\n    <path clip-path=\"url(#p432684e433)\" d=\"M 441.040374 239.758125 \nL 455.478877 239.758125 \nL 455.478877 221.461863 \nL 441.040374 221.461863 \nz\n\" style=\"fill:#1f77b4;\"/>\n   </g>\n   <g id=\"patch_25\">\n    <path clip-path=\"url(#p432684e433)\" d=\"M 459.088503 239.758125 \nL 473.527005 239.758125 \nL 473.527005 222.044547 \nL 459.088503 222.044547 \nz\n\" style=\"fill:#1f77b4;\"/>\n   </g>\n   <g id=\"patch_26\">\n    <path clip-path=\"url(#p432684e433)\" d=\"M 477.136631 239.758125 \nL 491.575134 239.758125 \nL 491.575134 222.27762 \nL 477.136631 222.27762 \nz\n\" style=\"fill:#1f77b4;\"/>\n   </g>\n   <g id=\"patch_27\">\n    <path clip-path=\"url(#p432684e433)\" d=\"M 495.184759 239.758125 \nL 509.623262 239.758125 \nL 509.623262 223.093377 \nL 495.184759 223.093377 \nz\n\" style=\"fill:#1f77b4;\"/>\n   </g>\n   <g id=\"matplotlib.axis_1\">\n    <g id=\"xtick_1\">\n     <g id=\"line2d_1\">\n      <defs>\n       <path d=\"M 0 0 \nL 0 3.5 \n\" id=\"mb2ac3a48cc\" style=\"stroke:#000000;stroke-width:0.8;\"/>\n      </defs>\n      <g>\n       <use style=\"stroke:#000000;stroke-width:0.8;\" x=\"69.24893\" xlink:href=\"#mb2ac3a48cc\" y=\"239.758125\"/>\n      </g>\n     </g>\n     <g id=\"text_1\">\n      <!-- the -->\n      <g transform=\"translate(61.043462 254.356563)scale(0.1 -0.1)\">\n       <defs>\n        <path d=\"M 18.3125 70.21875 \nL 18.3125 54.6875 \nL 36.8125 54.6875 \nL 36.8125 47.703125 \nL 18.3125 47.703125 \nL 18.3125 18.015625 \nQ 18.3125 11.328125 20.140625 9.421875 \nQ 21.96875 7.515625 27.59375 7.515625 \nL 36.8125 7.515625 \nL 36.8125 0 \nL 27.59375 0 \nQ 17.1875 0 13.234375 3.875 \nQ 9.28125 7.765625 9.28125 18.015625 \nL 9.28125 47.703125 \nL 2.6875 47.703125 \nL 2.6875 54.6875 \nL 9.28125 54.6875 \nL 9.28125 70.21875 \nz\n\" id=\"DejaVuSans-116\"/>\n        <path d=\"M 54.890625 33.015625 \nL 54.890625 0 \nL 45.90625 0 \nL 45.90625 32.71875 \nQ 45.90625 40.484375 42.875 44.328125 \nQ 39.84375 48.1875 33.796875 48.1875 \nQ 26.515625 48.1875 22.3125 43.546875 \nQ 18.109375 38.921875 18.109375 30.90625 \nL 18.109375 0 \nL 9.078125 0 \nL 9.078125 75.984375 \nL 18.109375 75.984375 \nL 18.109375 46.1875 \nQ 21.34375 51.125 25.703125 53.5625 \nQ 30.078125 56 35.796875 56 \nQ 45.21875 56 50.046875 50.171875 \nQ 54.890625 44.34375 54.890625 33.015625 \nz\n\" id=\"DejaVuSans-104\"/>\n        <path d=\"M 56.203125 29.59375 \nL 56.203125 25.203125 \nL 14.890625 25.203125 \nQ 15.484375 15.921875 20.484375 11.0625 \nQ 25.484375 6.203125 34.421875 6.203125 \nQ 39.59375 6.203125 44.453125 7.46875 \nQ 49.3125 8.734375 54.109375 11.28125 \nL 54.109375 2.78125 \nQ 49.265625 0.734375 44.1875 -0.34375 \nQ 39.109375 -1.421875 33.890625 -1.421875 \nQ 20.796875 -1.421875 13.15625 6.1875 \nQ 5.515625 13.8125 5.515625 26.8125 \nQ 5.515625 40.234375 12.765625 48.109375 \nQ 20.015625 56 32.328125 56 \nQ 43.359375 56 49.78125 48.890625 \nQ 56.203125 41.796875 56.203125 29.59375 \nz\nM 47.21875 32.234375 \nQ 47.125 39.59375 43.09375 43.984375 \nQ 39.0625 48.390625 32.421875 48.390625 \nQ 24.90625 48.390625 20.390625 44.140625 \nQ 15.875 39.890625 15.1875 32.171875 \nz\n\" id=\"DejaVuSans-101\"/>\n       </defs>\n       <use xlink:href=\"#DejaVuSans-116\"/>\n       <use x=\"39.208984\" xlink:href=\"#DejaVuSans-104\"/>\n       <use x=\"102.587891\" xlink:href=\"#DejaVuSans-101\"/>\n      </g>\n     </g>\n    </g>\n    <g id=\"xtick_2\">\n     <g id=\"line2d_2\">\n      <g>\n       <use style=\"stroke:#000000;stroke-width:0.8;\" x=\"87.297059\" xlink:href=\"#mb2ac3a48cc\" y=\"239.758125\"/>\n      </g>\n     </g>\n     <g id=\"text_2\">\n      <!-- and -->\n      <g transform=\"translate(77.890028 254.356563)scale(0.1 -0.1)\">\n       <defs>\n        <path d=\"M 34.28125 27.484375 \nQ 23.390625 27.484375 19.1875 25 \nQ 14.984375 22.515625 14.984375 16.5 \nQ 14.984375 11.71875 18.140625 8.90625 \nQ 21.296875 6.109375 26.703125 6.109375 \nQ 34.1875 6.109375 38.703125 11.40625 \nQ 43.21875 16.703125 43.21875 25.484375 \nL 43.21875 27.484375 \nz\nM 52.203125 31.203125 \nL 52.203125 0 \nL 43.21875 0 \nL 43.21875 8.296875 \nQ 40.140625 3.328125 35.546875 0.953125 \nQ 30.953125 -1.421875 24.3125 -1.421875 \nQ 15.921875 -1.421875 10.953125 3.296875 \nQ 6 8.015625 6 15.921875 \nQ 6 25.140625 12.171875 29.828125 \nQ 18.359375 34.515625 30.609375 34.515625 \nL 43.21875 34.515625 \nL 43.21875 35.40625 \nQ 43.21875 41.609375 39.140625 45 \nQ 35.0625 48.390625 27.6875 48.390625 \nQ 23 48.390625 18.546875 47.265625 \nQ 14.109375 46.140625 10.015625 43.890625 \nL 10.015625 52.203125 \nQ 14.9375 54.109375 19.578125 55.046875 \nQ 24.21875 56 28.609375 56 \nQ 40.484375 56 46.34375 49.84375 \nQ 52.203125 43.703125 52.203125 31.203125 \nz\n\" id=\"DejaVuSans-97\"/>\n        <path d=\"M 54.890625 33.015625 \nL 54.890625 0 \nL 45.90625 0 \nL 45.90625 32.71875 \nQ 45.90625 40.484375 42.875 44.328125 \nQ 39.84375 48.1875 33.796875 48.1875 \nQ 26.515625 48.1875 22.3125 43.546875 \nQ 18.109375 38.921875 18.109375 30.90625 \nL 18.109375 0 \nL 9.078125 0 \nL 9.078125 54.6875 \nL 18.109375 54.6875 \nL 18.109375 46.1875 \nQ 21.34375 51.125 25.703125 53.5625 \nQ 30.078125 56 35.796875 56 \nQ 45.21875 56 50.046875 50.171875 \nQ 54.890625 44.34375 54.890625 33.015625 \nz\n\" id=\"DejaVuSans-110\"/>\n        <path d=\"M 45.40625 46.390625 \nL 45.40625 75.984375 \nL 54.390625 75.984375 \nL 54.390625 0 \nL 45.40625 0 \nL 45.40625 8.203125 \nQ 42.578125 3.328125 38.25 0.953125 \nQ 33.9375 -1.421875 27.875 -1.421875 \nQ 17.96875 -1.421875 11.734375 6.484375 \nQ 5.515625 14.40625 5.515625 27.296875 \nQ 5.515625 40.1875 11.734375 48.09375 \nQ 17.96875 56 27.875 56 \nQ 33.9375 56 38.25 53.625 \nQ 42.578125 51.265625 45.40625 46.390625 \nz\nM 14.796875 27.296875 \nQ 14.796875 17.390625 18.875 11.75 \nQ 22.953125 6.109375 30.078125 6.109375 \nQ 37.203125 6.109375 41.296875 11.75 \nQ 45.40625 17.390625 45.40625 27.296875 \nQ 45.40625 37.203125 41.296875 42.84375 \nQ 37.203125 48.484375 30.078125 48.484375 \nQ 22.953125 48.484375 18.875 42.84375 \nQ 14.796875 37.203125 14.796875 27.296875 \nz\n\" id=\"DejaVuSans-100\"/>\n       </defs>\n       <use xlink:href=\"#DejaVuSans-97\"/>\n       <use x=\"61.279297\" xlink:href=\"#DejaVuSans-110\"/>\n       <use x=\"124.658203\" xlink:href=\"#DejaVuSans-100\"/>\n      </g>\n     </g>\n    </g>\n    <g id=\"xtick_3\">\n     <g id=\"line2d_3\">\n      <g>\n       <use style=\"stroke:#000000;stroke-width:0.8;\" x=\"105.345187\" xlink:href=\"#mb2ac3a48cc\" y=\"239.758125\"/>\n      </g>\n     </g>\n     <g id=\"text_3\">\n      <!-- to -->\n      <g transform=\"translate(100.325656 254.356563)scale(0.1 -0.1)\">\n       <defs>\n        <path d=\"M 30.609375 48.390625 \nQ 23.390625 48.390625 19.1875 42.75 \nQ 14.984375 37.109375 14.984375 27.296875 \nQ 14.984375 17.484375 19.15625 11.84375 \nQ 23.34375 6.203125 30.609375 6.203125 \nQ 37.796875 6.203125 41.984375 11.859375 \nQ 46.1875 17.53125 46.1875 27.296875 \nQ 46.1875 37.015625 41.984375 42.703125 \nQ 37.796875 48.390625 30.609375 48.390625 \nz\nM 30.609375 56 \nQ 42.328125 56 49.015625 48.375 \nQ 55.71875 40.765625 55.71875 27.296875 \nQ 55.71875 13.875 49.015625 6.21875 \nQ 42.328125 -1.421875 30.609375 -1.421875 \nQ 18.84375 -1.421875 12.171875 6.21875 \nQ 5.515625 13.875 5.515625 27.296875 \nQ 5.515625 40.765625 12.171875 48.375 \nQ 18.84375 56 30.609375 56 \nz\n\" id=\"DejaVuSans-111\"/>\n       </defs>\n       <use xlink:href=\"#DejaVuSans-116\"/>\n       <use x=\"39.208984\" xlink:href=\"#DejaVuSans-111\"/>\n      </g>\n     </g>\n    </g>\n    <g id=\"xtick_4\">\n     <g id=\"line2d_4\">\n      <g>\n       <use style=\"stroke:#000000;stroke-width:0.8;\" x=\"123.393316\" xlink:href=\"#mb2ac3a48cc\" y=\"239.758125\"/>\n      </g>\n     </g>\n     <g id=\"text_4\">\n      <!-- a -->\n      <g transform=\"translate(120.329253 254.356563)scale(0.1 -0.1)\">\n       <use xlink:href=\"#DejaVuSans-97\"/>\n      </g>\n     </g>\n    </g>\n    <g id=\"xtick_5\">\n     <g id=\"line2d_5\">\n      <g>\n       <use style=\"stroke:#000000;stroke-width:0.8;\" x=\"141.441444\" xlink:href=\"#mb2ac3a48cc\" y=\"239.758125\"/>\n      </g>\n     </g>\n     <g id=\"text_5\">\n      <!-- of -->\n      <g transform=\"translate(136.621913 254.356563)scale(0.1 -0.1)\">\n       <defs>\n        <path d=\"M 37.109375 75.984375 \nL 37.109375 68.5 \nL 28.515625 68.5 \nQ 23.6875 68.5 21.796875 66.546875 \nQ 19.921875 64.59375 19.921875 59.515625 \nL 19.921875 54.6875 \nL 34.71875 54.6875 \nL 34.71875 47.703125 \nL 19.921875 47.703125 \nL 19.921875 0 \nL 10.890625 0 \nL 10.890625 47.703125 \nL 2.296875 47.703125 \nL 2.296875 54.6875 \nL 10.890625 54.6875 \nL 10.890625 58.5 \nQ 10.890625 67.625 15.140625 71.796875 \nQ 19.390625 75.984375 28.609375 75.984375 \nz\n\" id=\"DejaVuSans-102\"/>\n       </defs>\n       <use xlink:href=\"#DejaVuSans-111\"/>\n       <use x=\"61.181641\" xlink:href=\"#DejaVuSans-102\"/>\n      </g>\n     </g>\n    </g>\n    <g id=\"xtick_6\">\n     <g id=\"line2d_6\">\n      <g>\n       <use style=\"stroke:#000000;stroke-width:0.8;\" x=\"159.489572\" xlink:href=\"#mb2ac3a48cc\" y=\"239.758125\"/>\n      </g>\n     </g>\n     <g id=\"text_6\">\n      <!-- she -->\n      <g transform=\"translate(150.639572 254.356563)scale(0.1 -0.1)\">\n       <defs>\n        <path d=\"M 44.28125 53.078125 \nL 44.28125 44.578125 \nQ 40.484375 46.53125 36.375 47.5 \nQ 32.28125 48.484375 27.875 48.484375 \nQ 21.1875 48.484375 17.84375 46.4375 \nQ 14.5 44.390625 14.5 40.28125 \nQ 14.5 37.15625 16.890625 35.375 \nQ 19.28125 33.59375 26.515625 31.984375 \nL 29.59375 31.296875 \nQ 39.15625 29.25 43.1875 25.515625 \nQ 47.21875 21.78125 47.21875 15.09375 \nQ 47.21875 7.46875 41.1875 3.015625 \nQ 35.15625 -1.421875 24.609375 -1.421875 \nQ 20.21875 -1.421875 15.453125 -0.5625 \nQ 10.6875 0.296875 5.421875 2 \nL 5.421875 11.28125 \nQ 10.40625 8.6875 15.234375 7.390625 \nQ 20.0625 6.109375 24.8125 6.109375 \nQ 31.15625 6.109375 34.5625 8.28125 \nQ 37.984375 10.453125 37.984375 14.40625 \nQ 37.984375 18.0625 35.515625 20.015625 \nQ 33.0625 21.96875 24.703125 23.78125 \nL 21.578125 24.515625 \nQ 13.234375 26.265625 9.515625 29.90625 \nQ 5.8125 33.546875 5.8125 39.890625 \nQ 5.8125 47.609375 11.28125 51.796875 \nQ 16.75 56 26.8125 56 \nQ 31.78125 56 36.171875 55.265625 \nQ 40.578125 54.546875 44.28125 53.078125 \nz\n\" id=\"DejaVuSans-115\"/>\n       </defs>\n       <use xlink:href=\"#DejaVuSans-115\"/>\n       <use x=\"52.099609\" xlink:href=\"#DejaVuSans-104\"/>\n       <use x=\"115.478516\" xlink:href=\"#DejaVuSans-101\"/>\n      </g>\n     </g>\n    </g>\n    <g id=\"xtick_7\">\n     <g id=\"line2d_7\">\n      <g>\n       <use style=\"stroke:#000000;stroke-width:0.8;\" x=\"177.537701\" xlink:href=\"#mb2ac3a48cc\" y=\"239.758125\"/>\n      </g>\n     </g>\n     <g id=\"text_7\">\n      <!-- said -->\n      <g transform=\"translate(167.305669 254.356563)scale(0.1 -0.1)\">\n       <defs>\n        <path d=\"M 9.421875 54.6875 \nL 18.40625 54.6875 \nL 18.40625 0 \nL 9.421875 0 \nz\nM 9.421875 75.984375 \nL 18.40625 75.984375 \nL 18.40625 64.59375 \nL 9.421875 64.59375 \nz\n\" id=\"DejaVuSans-105\"/>\n       </defs>\n       <use xlink:href=\"#DejaVuSans-115\"/>\n       <use x=\"52.099609\" xlink:href=\"#DejaVuSans-97\"/>\n       <use x=\"113.378906\" xlink:href=\"#DejaVuSans-105\"/>\n       <use x=\"141.162109\" xlink:href=\"#DejaVuSans-100\"/>\n      </g>\n     </g>\n    </g>\n    <g id=\"xtick_8\">\n     <g id=\"line2d_8\">\n      <g>\n       <use style=\"stroke:#000000;stroke-width:0.8;\" x=\"195.585829\" xlink:href=\"#mb2ac3a48cc\" y=\"239.758125\"/>\n      </g>\n     </g>\n     <g id=\"text_8\">\n      <!-- in -->\n      <g transform=\"translate(191.028016 254.356563)scale(0.1 -0.1)\">\n       <use xlink:href=\"#DejaVuSans-105\"/>\n       <use x=\"27.783203\" xlink:href=\"#DejaVuSans-110\"/>\n      </g>\n     </g>\n    </g>\n    <g id=\"xtick_9\">\n     <g id=\"line2d_9\">\n      <g>\n       <use style=\"stroke:#000000;stroke-width:0.8;\" x=\"213.633957\" xlink:href=\"#mb2ac3a48cc\" y=\"239.758125\"/>\n      </g>\n     </g>\n     <g id=\"text_9\">\n      <!-- it -->\n      <g transform=\"translate(210.284738 254.356563)scale(0.1 -0.1)\">\n       <use xlink:href=\"#DejaVuSans-105\"/>\n       <use x=\"27.783203\" xlink:href=\"#DejaVuSans-116\"/>\n      </g>\n     </g>\n    </g>\n    <g id=\"xtick_10\">\n     <g id=\"line2d_10\">\n      <g>\n       <use style=\"stroke:#000000;stroke-width:0.8;\" x=\"231.682086\" xlink:href=\"#mb2ac3a48cc\" y=\"239.758125\"/>\n      </g>\n     </g>\n     <g id=\"text_10\">\n      <!-- was -->\n      <g transform=\"translate(221.924273 254.356563)scale(0.1 -0.1)\">\n       <defs>\n        <path d=\"M 4.203125 54.6875 \nL 13.1875 54.6875 \nL 24.421875 12.015625 \nL 35.59375 54.6875 \nL 46.1875 54.6875 \nL 57.421875 12.015625 \nL 68.609375 54.6875 \nL 77.59375 54.6875 \nL 63.28125 0 \nL 52.6875 0 \nL 40.921875 44.828125 \nL 29.109375 0 \nL 18.5 0 \nz\n\" id=\"DejaVuSans-119\"/>\n       </defs>\n       <use xlink:href=\"#DejaVuSans-119\"/>\n       <use x=\"81.787109\" xlink:href=\"#DejaVuSans-97\"/>\n       <use x=\"143.066406\" xlink:href=\"#DejaVuSans-115\"/>\n      </g>\n     </g>\n    </g>\n    <g id=\"xtick_11\">\n     <g id=\"line2d_11\">\n      <g>\n       <use style=\"stroke:#000000;stroke-width:0.8;\" x=\"249.730214\" xlink:href=\"#mb2ac3a48cc\" y=\"239.758125\"/>\n      </g>\n     </g>\n     <g id=\"text_11\">\n      <!-- you -->\n      <g transform=\"translate(240.542714 254.356563)scale(0.1 -0.1)\">\n       <defs>\n        <path d=\"M 32.171875 -5.078125 \nQ 28.375 -14.84375 24.75 -17.8125 \nQ 21.140625 -20.796875 15.09375 -20.796875 \nL 7.90625 -20.796875 \nL 7.90625 -13.28125 \nL 13.1875 -13.28125 \nQ 16.890625 -13.28125 18.9375 -11.515625 \nQ 21 -9.765625 23.484375 -3.21875 \nL 25.09375 0.875 \nL 2.984375 54.6875 \nL 12.5 54.6875 \nL 29.59375 11.921875 \nL 46.6875 54.6875 \nL 56.203125 54.6875 \nz\n\" id=\"DejaVuSans-121\"/>\n        <path d=\"M 8.5 21.578125 \nL 8.5 54.6875 \nL 17.484375 54.6875 \nL 17.484375 21.921875 \nQ 17.484375 14.15625 20.5 10.265625 \nQ 23.53125 6.390625 29.59375 6.390625 \nQ 36.859375 6.390625 41.078125 11.03125 \nQ 45.3125 15.671875 45.3125 23.6875 \nL 45.3125 54.6875 \nL 54.296875 54.6875 \nL 54.296875 0 \nL 45.3125 0 \nL 45.3125 8.40625 \nQ 42.046875 3.421875 37.71875 1 \nQ 33.40625 -1.421875 27.6875 -1.421875 \nQ 18.265625 -1.421875 13.375 4.4375 \nQ 8.5 10.296875 8.5 21.578125 \nz\nM 31.109375 56 \nz\n\" id=\"DejaVuSans-117\"/>\n       </defs>\n       <use xlink:href=\"#DejaVuSans-121\"/>\n       <use x=\"59.179688\" xlink:href=\"#DejaVuSans-111\"/>\n       <use x=\"120.361328\" xlink:href=\"#DejaVuSans-117\"/>\n      </g>\n     </g>\n    </g>\n    <g id=\"xtick_12\">\n     <g id=\"line2d_12\">\n      <g>\n       <use style=\"stroke:#000000;stroke-width:0.8;\" x=\"267.778342\" xlink:href=\"#mb2ac3a48cc\" y=\"239.758125\"/>\n      </g>\n     </g>\n     <g id=\"text_12\">\n      <!-- i -->\n      <g transform=\"translate(266.38928 254.356563)scale(0.1 -0.1)\">\n       <use xlink:href=\"#DejaVuSans-105\"/>\n      </g>\n     </g>\n    </g>\n    <g id=\"xtick_13\">\n     <g id=\"line2d_13\">\n      <g>\n       <use style=\"stroke:#000000;stroke-width:0.8;\" x=\"285.826471\" xlink:href=\"#mb2ac3a48cc\" y=\"239.758125\"/>\n      </g>\n     </g>\n     <g id=\"text_13\">\n      <!-- as -->\n      <g transform=\"translate(280.157721 254.356563)scale(0.1 -0.1)\">\n       <use xlink:href=\"#DejaVuSans-97\"/>\n       <use x=\"61.279297\" xlink:href=\"#DejaVuSans-115\"/>\n      </g>\n     </g>\n    </g>\n    <g id=\"xtick_14\">\n     <g id=\"line2d_14\">\n      <g>\n       <use style=\"stroke:#000000;stroke-width:0.8;\" x=\"303.874599\" xlink:href=\"#mb2ac3a48cc\" y=\"239.758125\"/>\n      </g>\n     </g>\n     <g id=\"text_14\">\n      <!-- that -->\n      <g transform=\"translate(293.721474 254.356563)scale(0.1 -0.1)\">\n       <use xlink:href=\"#DejaVuSans-116\"/>\n       <use x=\"39.208984\" xlink:href=\"#DejaVuSans-104\"/>\n       <use x=\"102.587891\" xlink:href=\"#DejaVuSans-97\"/>\n       <use x=\"163.867188\" xlink:href=\"#DejaVuSans-116\"/>\n      </g>\n     </g>\n    </g>\n    <g id=\"xtick_15\">\n     <g id=\"line2d_15\">\n      <g>\n       <use style=\"stroke:#000000;stroke-width:0.8;\" x=\"321.922727\" xlink:href=\"#mb2ac3a48cc\" y=\"239.758125\"/>\n      </g>\n     </g>\n     <g id=\"text_15\">\n      <!-- alice -->\n      <g transform=\"translate(310.254759 254.356563)scale(0.1 -0.1)\">\n       <defs>\n        <path d=\"M 9.421875 75.984375 \nL 18.40625 75.984375 \nL 18.40625 0 \nL 9.421875 0 \nz\n\" id=\"DejaVuSans-108\"/>\n        <path d=\"M 48.78125 52.59375 \nL 48.78125 44.1875 \nQ 44.96875 46.296875 41.140625 47.34375 \nQ 37.3125 48.390625 33.40625 48.390625 \nQ 24.65625 48.390625 19.8125 42.84375 \nQ 14.984375 37.3125 14.984375 27.296875 \nQ 14.984375 17.28125 19.8125 11.734375 \nQ 24.65625 6.203125 33.40625 6.203125 \nQ 37.3125 6.203125 41.140625 7.25 \nQ 44.96875 8.296875 48.78125 10.40625 \nL 48.78125 2.09375 \nQ 45.015625 0.34375 40.984375 -0.53125 \nQ 36.96875 -1.421875 32.421875 -1.421875 \nQ 20.0625 -1.421875 12.78125 6.34375 \nQ 5.515625 14.109375 5.515625 27.296875 \nQ 5.515625 40.671875 12.859375 48.328125 \nQ 20.21875 56 33.015625 56 \nQ 37.15625 56 41.109375 55.140625 \nQ 45.0625 54.296875 48.78125 52.59375 \nz\n\" id=\"DejaVuSans-99\"/>\n       </defs>\n       <use xlink:href=\"#DejaVuSans-97\"/>\n       <use x=\"61.279297\" xlink:href=\"#DejaVuSans-108\"/>\n       <use x=\"89.0625\" xlink:href=\"#DejaVuSans-105\"/>\n       <use x=\"116.845703\" xlink:href=\"#DejaVuSans-99\"/>\n       <use x=\"171.826172\" xlink:href=\"#DejaVuSans-101\"/>\n      </g>\n     </g>\n    </g>\n    <g id=\"xtick_16\">\n     <g id=\"line2d_16\">\n      <g>\n       <use style=\"stroke:#000000;stroke-width:0.8;\" x=\"339.970856\" xlink:href=\"#mb2ac3a48cc\" y=\"239.758125\"/>\n      </g>\n     </g>\n     <g id=\"text_16\">\n      <!-- at -->\n      <g transform=\"translate(334.946637 254.356563)scale(0.1 -0.1)\">\n       <use xlink:href=\"#DejaVuSans-97\"/>\n       <use x=\"61.279297\" xlink:href=\"#DejaVuSans-116\"/>\n      </g>\n     </g>\n    </g>\n    <g id=\"xtick_17\">\n     <g id=\"line2d_17\">\n      <g>\n       <use style=\"stroke:#000000;stroke-width:0.8;\" x=\"358.018984\" xlink:href=\"#mb2ac3a48cc\" y=\"239.758125\"/>\n      </g>\n     </g>\n     <g id=\"text_17\">\n      <!-- with -->\n      <g transform=\"translate(347.411953 254.356563)scale(0.1 -0.1)\">\n       <use xlink:href=\"#DejaVuSans-119\"/>\n       <use x=\"81.787109\" xlink:href=\"#DejaVuSans-105\"/>\n       <use x=\"109.570312\" xlink:href=\"#DejaVuSans-116\"/>\n       <use x=\"148.779297\" xlink:href=\"#DejaVuSans-104\"/>\n      </g>\n     </g>\n    </g>\n    <g id=\"xtick_18\">\n     <g id=\"line2d_18\">\n      <g>\n       <use style=\"stroke:#000000;stroke-width:0.8;\" x=\"376.067112\" xlink:href=\"#mb2ac3a48cc\" y=\"239.758125\"/>\n      </g>\n     </g>\n     <g id=\"text_18\">\n      <!-- her -->\n      <g transform=\"translate(367.766331 254.356563)scale(0.1 -0.1)\">\n       <defs>\n        <path d=\"M 41.109375 46.296875 \nQ 39.59375 47.171875 37.8125 47.578125 \nQ 36.03125 48 33.890625 48 \nQ 26.265625 48 22.1875 43.046875 \nQ 18.109375 38.09375 18.109375 28.8125 \nL 18.109375 0 \nL 9.078125 0 \nL 9.078125 54.6875 \nL 18.109375 54.6875 \nL 18.109375 46.1875 \nQ 20.953125 51.171875 25.484375 53.578125 \nQ 30.03125 56 36.53125 56 \nQ 37.453125 56 38.578125 55.875 \nQ 39.703125 55.765625 41.0625 55.515625 \nz\n\" id=\"DejaVuSans-114\"/>\n       </defs>\n       <use xlink:href=\"#DejaVuSans-104\"/>\n       <use x=\"63.378906\" xlink:href=\"#DejaVuSans-101\"/>\n       <use x=\"124.902344\" xlink:href=\"#DejaVuSans-114\"/>\n      </g>\n     </g>\n    </g>\n    <g id=\"xtick_19\">\n     <g id=\"line2d_19\">\n      <g>\n       <use style=\"stroke:#000000;stroke-width:0.8;\" x=\"394.115241\" xlink:href=\"#mb2ac3a48cc\" y=\"239.758125\"/>\n      </g>\n     </g>\n     <g id=\"text_19\">\n      <!-- had -->\n      <g transform=\"translate(384.708209 254.356563)scale(0.1 -0.1)\">\n       <use xlink:href=\"#DejaVuSans-104\"/>\n       <use x=\"63.378906\" xlink:href=\"#DejaVuSans-97\"/>\n       <use x=\"124.658203\" xlink:href=\"#DejaVuSans-100\"/>\n      </g>\n     </g>\n    </g>\n    <g id=\"xtick_20\">\n     <g id=\"line2d_20\">\n      <g>\n       <use style=\"stroke:#000000;stroke-width:0.8;\" x=\"412.163369\" xlink:href=\"#mb2ac3a48cc\" y=\"239.758125\"/>\n      </g>\n     </g>\n     <g id=\"text_20\">\n      <!-- all -->\n      <g transform=\"translate(406.321181 254.356563)scale(0.1 -0.1)\">\n       <use xlink:href=\"#DejaVuSans-97\"/>\n       <use x=\"61.279297\" xlink:href=\"#DejaVuSans-108\"/>\n       <use x=\"89.0625\" xlink:href=\"#DejaVuSans-108\"/>\n      </g>\n     </g>\n    </g>\n    <g id=\"xtick_21\">\n     <g id=\"line2d_21\">\n      <g>\n       <use style=\"stroke:#000000;stroke-width:0.8;\" x=\"430.211497\" xlink:href=\"#mb2ac3a48cc\" y=\"239.758125\"/>\n      </g>\n     </g>\n     <g id=\"text_21\">\n      <!-- for -->\n      <g transform=\"translate(423.336497 254.356563)scale(0.1 -0.1)\">\n       <use xlink:href=\"#DejaVuSans-102\"/>\n       <use x=\"35.205078\" xlink:href=\"#DejaVuSans-111\"/>\n       <use x=\"96.386719\" xlink:href=\"#DejaVuSans-114\"/>\n      </g>\n     </g>\n    </g>\n    <g id=\"xtick_22\">\n     <g id=\"line2d_22\">\n      <g>\n       <use style=\"stroke:#000000;stroke-width:0.8;\" x=\"448.259626\" xlink:href=\"#mb2ac3a48cc\" y=\"239.758125\"/>\n      </g>\n     </g>\n     <g id=\"text_22\">\n      <!-- be -->\n      <g transform=\"translate(442.008844 254.356563)scale(0.1 -0.1)\">\n       <defs>\n        <path d=\"M 48.6875 27.296875 \nQ 48.6875 37.203125 44.609375 42.84375 \nQ 40.53125 48.484375 33.40625 48.484375 \nQ 26.265625 48.484375 22.1875 42.84375 \nQ 18.109375 37.203125 18.109375 27.296875 \nQ 18.109375 17.390625 22.1875 11.75 \nQ 26.265625 6.109375 33.40625 6.109375 \nQ 40.53125 6.109375 44.609375 11.75 \nQ 48.6875 17.390625 48.6875 27.296875 \nz\nM 18.109375 46.390625 \nQ 20.953125 51.265625 25.265625 53.625 \nQ 29.59375 56 35.59375 56 \nQ 45.5625 56 51.78125 48.09375 \nQ 58.015625 40.1875 58.015625 27.296875 \nQ 58.015625 14.40625 51.78125 6.484375 \nQ 45.5625 -1.421875 35.59375 -1.421875 \nQ 29.59375 -1.421875 25.265625 0.953125 \nQ 20.953125 3.328125 18.109375 8.203125 \nL 18.109375 0 \nL 9.078125 0 \nL 9.078125 75.984375 \nL 18.109375 75.984375 \nz\n\" id=\"DejaVuSans-98\"/>\n       </defs>\n       <use xlink:href=\"#DejaVuSans-98\"/>\n       <use x=\"63.476562\" xlink:href=\"#DejaVuSans-101\"/>\n      </g>\n     </g>\n    </g>\n    <g id=\"xtick_23\">\n     <g id=\"line2d_23\">\n      <g>\n       <use style=\"stroke:#000000;stroke-width:0.8;\" x=\"466.307754\" xlink:href=\"#mb2ac3a48cc\" y=\"239.758125\"/>\n      </g>\n     </g>\n     <g id=\"text_23\">\n      <!-- on -->\n      <g transform=\"translate(460.079629 254.356563)scale(0.1 -0.1)\">\n       <use xlink:href=\"#DejaVuSans-111\"/>\n       <use x=\"61.181641\" xlink:href=\"#DejaVuSans-110\"/>\n      </g>\n     </g>\n    </g>\n    <g id=\"xtick_24\">\n     <g id=\"line2d_24\">\n      <g>\n       <use style=\"stroke:#000000;stroke-width:0.8;\" x=\"484.355882\" xlink:href=\"#mb2ac3a48cc\" y=\"239.758125\"/>\n      </g>\n     </g>\n     <g id=\"text_24\">\n      <!-- this -->\n      <g transform=\"translate(475.233226 254.356563)scale(0.1 -0.1)\">\n       <use xlink:href=\"#DejaVuSans-116\"/>\n       <use x=\"39.208984\" xlink:href=\"#DejaVuSans-104\"/>\n       <use x=\"102.587891\" xlink:href=\"#DejaVuSans-105\"/>\n       <use x=\"130.371094\" xlink:href=\"#DejaVuSans-115\"/>\n      </g>\n     </g>\n    </g>\n    <g id=\"xtick_25\">\n     <g id=\"line2d_25\">\n      <g>\n       <use style=\"stroke:#000000;stroke-width:0.8;\" x=\"502.404011\" xlink:href=\"#mb2ac3a48cc\" y=\"239.758125\"/>\n      </g>\n     </g>\n     <g id=\"text_25\">\n      <!-- or -->\n      <g transform=\"translate(497.289167 254.356563)scale(0.1 -0.1)\">\n       <use xlink:href=\"#DejaVuSans-111\"/>\n       <use x=\"61.181641\" xlink:href=\"#DejaVuSans-114\"/>\n      </g>\n     </g>\n    </g>\n   </g>\n   <g id=\"matplotlib.axis_2\">\n    <g id=\"ytick_1\">\n     <g id=\"line2d_26\">\n      <defs>\n       <path d=\"M 0 0 \nL -3.5 0 \n\" id=\"m4f68bf3f05\" style=\"stroke:#000000;stroke-width:0.8;\"/>\n      </defs>\n      <g>\n       <use style=\"stroke:#000000;stroke-width:0.8;\" x=\"39.65\" xlink:href=\"#m4f68bf3f05\" y=\"239.758125\"/>\n      </g>\n     </g>\n     <g id=\"text_26\">\n      <!-- 0 -->\n      <g transform=\"translate(26.2875 243.557344)scale(0.1 -0.1)\">\n       <defs>\n        <path d=\"M 31.78125 66.40625 \nQ 24.171875 66.40625 20.328125 58.90625 \nQ 16.5 51.421875 16.5 36.375 \nQ 16.5 21.390625 20.328125 13.890625 \nQ 24.171875 6.390625 31.78125 6.390625 \nQ 39.453125 6.390625 43.28125 13.890625 \nQ 47.125 21.390625 47.125 36.375 \nQ 47.125 51.421875 43.28125 58.90625 \nQ 39.453125 66.40625 31.78125 66.40625 \nz\nM 31.78125 74.21875 \nQ 44.046875 74.21875 50.515625 64.515625 \nQ 56.984375 54.828125 56.984375 36.375 \nQ 56.984375 17.96875 50.515625 8.265625 \nQ 44.046875 -1.421875 31.78125 -1.421875 \nQ 19.53125 -1.421875 13.0625 8.265625 \nQ 6.59375 17.96875 6.59375 36.375 \nQ 6.59375 54.828125 13.0625 64.515625 \nQ 19.53125 74.21875 31.78125 74.21875 \nz\n\" id=\"DejaVuSans-48\"/>\n       </defs>\n       <use xlink:href=\"#DejaVuSans-48\"/>\n      </g>\n     </g>\n    </g>\n    <g id=\"ytick_2\">\n     <g id=\"line2d_27\">\n      <g>\n       <use style=\"stroke:#000000;stroke-width:0.8;\" x=\"39.65\" xlink:href=\"#m4f68bf3f05\" y=\"210.62395\"/>\n      </g>\n     </g>\n     <g id=\"text_27\">\n      <!-- 250 -->\n      <g transform=\"translate(13.5625 214.423169)scale(0.1 -0.1)\">\n       <defs>\n        <path d=\"M 19.1875 8.296875 \nL 53.609375 8.296875 \nL 53.609375 0 \nL 7.328125 0 \nL 7.328125 8.296875 \nQ 12.9375 14.109375 22.625 23.890625 \nQ 32.328125 33.6875 34.8125 36.53125 \nQ 39.546875 41.84375 41.421875 45.53125 \nQ 43.3125 49.21875 43.3125 52.78125 \nQ 43.3125 58.59375 39.234375 62.25 \nQ 35.15625 65.921875 28.609375 65.921875 \nQ 23.96875 65.921875 18.8125 64.3125 \nQ 13.671875 62.703125 7.8125 59.421875 \nL 7.8125 69.390625 \nQ 13.765625 71.78125 18.9375 73 \nQ 24.125 74.21875 28.421875 74.21875 \nQ 39.75 74.21875 46.484375 68.546875 \nQ 53.21875 62.890625 53.21875 53.421875 \nQ 53.21875 48.921875 51.53125 44.890625 \nQ 49.859375 40.875 45.40625 35.40625 \nQ 44.1875 33.984375 37.640625 27.21875 \nQ 31.109375 20.453125 19.1875 8.296875 \nz\n\" id=\"DejaVuSans-50\"/>\n        <path d=\"M 10.796875 72.90625 \nL 49.515625 72.90625 \nL 49.515625 64.59375 \nL 19.828125 64.59375 \nL 19.828125 46.734375 \nQ 21.96875 47.46875 24.109375 47.828125 \nQ 26.265625 48.1875 28.421875 48.1875 \nQ 40.625 48.1875 47.75 41.5 \nQ 54.890625 34.8125 54.890625 23.390625 \nQ 54.890625 11.625 47.5625 5.09375 \nQ 40.234375 -1.421875 26.90625 -1.421875 \nQ 22.3125 -1.421875 17.546875 -0.640625 \nQ 12.796875 0.140625 7.71875 1.703125 \nL 7.71875 11.625 \nQ 12.109375 9.234375 16.796875 8.0625 \nQ 21.484375 6.890625 26.703125 6.890625 \nQ 35.15625 6.890625 40.078125 11.328125 \nQ 45.015625 15.765625 45.015625 23.390625 \nQ 45.015625 31 40.078125 35.4375 \nQ 35.15625 39.890625 26.703125 39.890625 \nQ 22.75 39.890625 18.8125 39.015625 \nQ 14.890625 38.140625 10.796875 36.28125 \nz\n\" id=\"DejaVuSans-53\"/>\n       </defs>\n       <use xlink:href=\"#DejaVuSans-50\"/>\n       <use x=\"63.623047\" xlink:href=\"#DejaVuSans-53\"/>\n       <use x=\"127.246094\" xlink:href=\"#DejaVuSans-48\"/>\n      </g>\n     </g>\n    </g>\n    <g id=\"ytick_3\">\n     <g id=\"line2d_28\">\n      <g>\n       <use style=\"stroke:#000000;stroke-width:0.8;\" x=\"39.65\" xlink:href=\"#m4f68bf3f05\" y=\"181.489775\"/>\n      </g>\n     </g>\n     <g id=\"text_28\">\n      <!-- 500 -->\n      <g transform=\"translate(13.5625 185.288994)scale(0.1 -0.1)\">\n       <use xlink:href=\"#DejaVuSans-53\"/>\n       <use x=\"63.623047\" xlink:href=\"#DejaVuSans-48\"/>\n       <use x=\"127.246094\" xlink:href=\"#DejaVuSans-48\"/>\n      </g>\n     </g>\n    </g>\n    <g id=\"ytick_4\">\n     <g id=\"line2d_29\">\n      <g>\n       <use style=\"stroke:#000000;stroke-width:0.8;\" x=\"39.65\" xlink:href=\"#m4f68bf3f05\" y=\"152.355601\"/>\n      </g>\n     </g>\n     <g id=\"text_29\">\n      <!-- 750 -->\n      <g transform=\"translate(13.5625 156.154819)scale(0.1 -0.1)\">\n       <defs>\n        <path d=\"M 8.203125 72.90625 \nL 55.078125 72.90625 \nL 55.078125 68.703125 \nL 28.609375 0 \nL 18.3125 0 \nL 43.21875 64.59375 \nL 8.203125 64.59375 \nz\n\" id=\"DejaVuSans-55\"/>\n       </defs>\n       <use xlink:href=\"#DejaVuSans-55\"/>\n       <use x=\"63.623047\" xlink:href=\"#DejaVuSans-53\"/>\n       <use x=\"127.246094\" xlink:href=\"#DejaVuSans-48\"/>\n      </g>\n     </g>\n    </g>\n    <g id=\"ytick_5\">\n     <g id=\"line2d_30\">\n      <g>\n       <use style=\"stroke:#000000;stroke-width:0.8;\" x=\"39.65\" xlink:href=\"#m4f68bf3f05\" y=\"123.221426\"/>\n      </g>\n     </g>\n     <g id=\"text_30\">\n      <!-- 1000 -->\n      <g transform=\"translate(7.2 127.020645)scale(0.1 -0.1)\">\n       <defs>\n        <path d=\"M 12.40625 8.296875 \nL 28.515625 8.296875 \nL 28.515625 63.921875 \nL 10.984375 60.40625 \nL 10.984375 69.390625 \nL 28.421875 72.90625 \nL 38.28125 72.90625 \nL 38.28125 8.296875 \nL 54.390625 8.296875 \nL 54.390625 0 \nL 12.40625 0 \nz\n\" id=\"DejaVuSans-49\"/>\n       </defs>\n       <use xlink:href=\"#DejaVuSans-49\"/>\n       <use x=\"63.623047\" xlink:href=\"#DejaVuSans-48\"/>\n       <use x=\"127.246094\" xlink:href=\"#DejaVuSans-48\"/>\n       <use x=\"190.869141\" xlink:href=\"#DejaVuSans-48\"/>\n      </g>\n     </g>\n    </g>\n    <g id=\"ytick_6\">\n     <g id=\"line2d_31\">\n      <g>\n       <use style=\"stroke:#000000;stroke-width:0.8;\" x=\"39.65\" xlink:href=\"#m4f68bf3f05\" y=\"94.087251\"/>\n      </g>\n     </g>\n     <g id=\"text_31\">\n      <!-- 1250 -->\n      <g transform=\"translate(7.2 97.88647)scale(0.1 -0.1)\">\n       <use xlink:href=\"#DejaVuSans-49\"/>\n       <use x=\"63.623047\" xlink:href=\"#DejaVuSans-50\"/>\n       <use x=\"127.246094\" xlink:href=\"#DejaVuSans-53\"/>\n       <use x=\"190.869141\" xlink:href=\"#DejaVuSans-48\"/>\n      </g>\n     </g>\n    </g>\n    <g id=\"ytick_7\">\n     <g id=\"line2d_32\">\n      <g>\n       <use style=\"stroke:#000000;stroke-width:0.8;\" x=\"39.65\" xlink:href=\"#m4f68bf3f05\" y=\"64.953076\"/>\n      </g>\n     </g>\n     <g id=\"text_32\">\n      <!-- 1500 -->\n      <g transform=\"translate(7.2 68.752295)scale(0.1 -0.1)\">\n       <use xlink:href=\"#DejaVuSans-49\"/>\n       <use x=\"63.623047\" xlink:href=\"#DejaVuSans-53\"/>\n       <use x=\"127.246094\" xlink:href=\"#DejaVuSans-48\"/>\n       <use x=\"190.869141\" xlink:href=\"#DejaVuSans-48\"/>\n      </g>\n     </g>\n    </g>\n    <g id=\"ytick_8\">\n     <g id=\"line2d_33\">\n      <g>\n       <use style=\"stroke:#000000;stroke-width:0.8;\" x=\"39.65\" xlink:href=\"#m4f68bf3f05\" y=\"35.818902\"/>\n      </g>\n     </g>\n     <g id=\"text_33\">\n      <!-- 1750 -->\n      <g transform=\"translate(7.2 39.61812)scale(0.1 -0.1)\">\n       <use xlink:href=\"#DejaVuSans-49\"/>\n       <use x=\"63.623047\" xlink:href=\"#DejaVuSans-55\"/>\n       <use x=\"127.246094\" xlink:href=\"#DejaVuSans-53\"/>\n       <use x=\"190.869141\" xlink:href=\"#DejaVuSans-48\"/>\n      </g>\n     </g>\n    </g>\n   </g>\n   <g id=\"patch_28\">\n    <path d=\"M 39.65 239.758125 \nL 39.65 22.318125 \n\" style=\"fill:none;stroke:#000000;stroke-linecap:square;stroke-linejoin:miter;stroke-width:0.8;\"/>\n   </g>\n   <g id=\"patch_29\">\n    <path d=\"M 532.002941 239.758125 \nL 532.002941 22.318125 \n\" style=\"fill:none;stroke:#000000;stroke-linecap:square;stroke-linejoin:miter;stroke-width:0.8;\"/>\n   </g>\n   <g id=\"patch_30\">\n    <path d=\"M 39.65 239.758125 \nL 532.002941 239.758125 \n\" style=\"fill:none;stroke:#000000;stroke-linecap:square;stroke-linejoin:miter;stroke-width:0.8;\"/>\n   </g>\n   <g id=\"patch_31\">\n    <path d=\"M 39.65 22.318125 \nL 532.002941 22.318125 \n\" style=\"fill:none;stroke:#000000;stroke-linecap:square;stroke-linejoin:miter;stroke-width:0.8;\"/>\n   </g>\n   <g id=\"text_34\">\n    <!-- Top Words -->\n    <g transform=\"translate(255.247096 16.318125)scale(0.12 -0.12)\">\n     <defs>\n      <path d=\"M -0.296875 72.90625 \nL 61.375 72.90625 \nL 61.375 64.59375 \nL 35.5 64.59375 \nL 35.5 0 \nL 25.59375 0 \nL 25.59375 64.59375 \nL -0.296875 64.59375 \nz\n\" id=\"DejaVuSans-84\"/>\n      <path d=\"M 18.109375 8.203125 \nL 18.109375 -20.796875 \nL 9.078125 -20.796875 \nL 9.078125 54.6875 \nL 18.109375 54.6875 \nL 18.109375 46.390625 \nQ 20.953125 51.265625 25.265625 53.625 \nQ 29.59375 56 35.59375 56 \nQ 45.5625 56 51.78125 48.09375 \nQ 58.015625 40.1875 58.015625 27.296875 \nQ 58.015625 14.40625 51.78125 6.484375 \nQ 45.5625 -1.421875 35.59375 -1.421875 \nQ 29.59375 -1.421875 25.265625 0.953125 \nQ 20.953125 3.328125 18.109375 8.203125 \nz\nM 48.6875 27.296875 \nQ 48.6875 37.203125 44.609375 42.84375 \nQ 40.53125 48.484375 33.40625 48.484375 \nQ 26.265625 48.484375 22.1875 42.84375 \nQ 18.109375 37.203125 18.109375 27.296875 \nQ 18.109375 17.390625 22.1875 11.75 \nQ 26.265625 6.109375 33.40625 6.109375 \nQ 40.53125 6.109375 44.609375 11.75 \nQ 48.6875 17.390625 48.6875 27.296875 \nz\n\" id=\"DejaVuSans-112\"/>\n      <path id=\"DejaVuSans-32\"/>\n      <path d=\"M 3.328125 72.90625 \nL 13.28125 72.90625 \nL 28.609375 11.28125 \nL 43.890625 72.90625 \nL 54.984375 72.90625 \nL 70.3125 11.28125 \nL 85.59375 72.90625 \nL 95.609375 72.90625 \nL 77.296875 0 \nL 64.890625 0 \nL 49.515625 63.28125 \nL 33.984375 0 \nL 21.578125 0 \nz\n\" id=\"DejaVuSans-87\"/>\n     </defs>\n     <use xlink:href=\"#DejaVuSans-84\"/>\n     <use x=\"44.083984\" xlink:href=\"#DejaVuSans-111\"/>\n     <use x=\"105.265625\" xlink:href=\"#DejaVuSans-112\"/>\n     <use x=\"168.742188\" xlink:href=\"#DejaVuSans-32\"/>\n     <use x=\"200.529297\" xlink:href=\"#DejaVuSans-87\"/>\n     <use x=\"293.53125\" xlink:href=\"#DejaVuSans-111\"/>\n     <use x=\"354.712891\" xlink:href=\"#DejaVuSans-114\"/>\n     <use x=\"394.076172\" xlink:href=\"#DejaVuSans-100\"/>\n     <use x=\"457.552734\" xlink:href=\"#DejaVuSans-115\"/>\n    </g>\n   </g>\n  </g>\n  <g id=\"axes_2\">\n   <g id=\"patch_32\">\n    <path d=\"M 630.473529 239.758125 \nL 1122.826471 239.758125 \nL 1122.826471 22.318125 \nL 630.473529 22.318125 \nz\n\" style=\"fill:#ffffff;\"/>\n   </g>\n   <g id=\"patch_33\">\n    <path clip-path=\"url(#pd3b094d8e7)\" d=\"M 652.853209 239.758125 \nL 666.732079 239.758125 \nL 666.732079 107.906604 \nL 652.853209 107.906604 \nz\n\" style=\"fill:#1f77b4;\"/>\n   </g>\n   <g id=\"patch_34\">\n    <path clip-path=\"url(#pd3b094d8e7)\" d=\"M 670.201797 239.758125 \nL 684.080668 239.758125 \nL 684.080668 216.271821 \nL 670.201797 216.271821 \nz\n\" style=\"fill:#1f77b4;\"/>\n   </g>\n   <g id=\"patch_35\">\n    <path clip-path=\"url(#pd3b094d8e7)\" d=\"M 687.550386 239.758125 \nL 701.429256 239.758125 \nL 701.429256 199.40365 \nL 687.550386 199.40365 \nz\n\" style=\"fill:#1f77b4;\"/>\n   </g>\n   <g id=\"patch_36\">\n    <path clip-path=\"url(#pd3b094d8e7)\" d=\"M 704.898974 239.758125 \nL 718.777845 239.758125 \nL 718.777845 166.191917 \nL 704.898974 166.191917 \nz\n\" style=\"fill:#1f77b4;\"/>\n   </g>\n   <g id=\"patch_37\">\n    <path clip-path=\"url(#pd3b094d8e7)\" d=\"M 722.247562 239.758125 \nL 736.126433 239.758125 \nL 736.126433 32.672411 \nL 722.247562 32.672411 \nz\n\" style=\"fill:#1f77b4;\"/>\n   </g>\n   <g id=\"patch_38\">\n    <path clip-path=\"url(#pd3b094d8e7)\" d=\"M 739.596151 239.758125 \nL 753.475022 239.758125 \nL 753.475022 207.716672 \nL 739.596151 207.716672 \nz\n\" style=\"fill:#1f77b4;\"/>\n   </g>\n   <g id=\"patch_39\">\n    <path clip-path=\"url(#pd3b094d8e7)\" d=\"M 756.944739 239.758125 \nL 770.82361 239.758125 \nL 770.82361 200.170385 \nL 756.944739 200.170385 \nz\n\" style=\"fill:#1f77b4;\"/>\n   </g>\n   <g id=\"patch_40\">\n    <path clip-path=\"url(#pd3b094d8e7)\" d=\"M 774.293328 239.758125 \nL 788.172199 239.758125 \nL 788.172199 133.639307 \nL 774.293328 133.639307 \nz\n\" style=\"fill:#1f77b4;\"/>\n   </g>\n   <g id=\"patch_41\">\n    <path clip-path=\"url(#pd3b094d8e7)\" d=\"M 791.641916 239.758125 \nL 805.520787 239.758125 \nL 805.520787 123.631397 \nL 791.641916 123.631397 \nz\n\" style=\"fill:#1f77b4;\"/>\n   </g>\n   <g id=\"patch_42\">\n    <path clip-path=\"url(#pd3b094d8e7)\" d=\"M 808.990505 239.758125 \nL 822.869376 239.758125 \nL 822.869376 236.597024 \nL 808.990505 236.597024 \nz\n\" style=\"fill:#1f77b4;\"/>\n   </g>\n   <g id=\"patch_43\">\n    <path clip-path=\"url(#pd3b094d8e7)\" d=\"M 826.339093 239.758125 \nL 840.217964 239.758125 \nL 840.217964 222.405701 \nL 826.339093 222.405701 \nz\n\" style=\"fill:#1f77b4;\"/>\n   </g>\n   <g id=\"patch_44\">\n    <path clip-path=\"url(#pd3b094d8e7)\" d=\"M 843.687682 239.758125 \nL 857.566553 239.758125 \nL 857.566553 169.662402 \nL 843.687682 169.662402 \nz\n\" style=\"fill:#1f77b4;\"/>\n   </g>\n   <g id=\"patch_45\">\n    <path clip-path=\"url(#pd3b094d8e7)\" d=\"M 861.03627 239.758125 \nL 874.915141 239.758125 \nL 874.915141 206.573295 \nL 861.03627 206.573295 \nz\n\" style=\"fill:#1f77b4;\"/>\n   </g>\n   <g id=\"patch_46\">\n    <path clip-path=\"url(#pd3b094d8e7)\" d=\"M 878.384859 239.758125 \nL 892.26373 239.758125 \nL 892.26373 131.460166 \nL 878.384859 131.460166 \nz\n\" style=\"fill:#1f77b4;\"/>\n   </g>\n   <g id=\"patch_47\">\n    <path clip-path=\"url(#pd3b094d8e7)\" d=\"M 895.733447 239.758125 \nL 909.612318 239.758125 \nL 909.612318 112.278338 \nL 895.733447 112.278338 \nz\n\" style=\"fill:#1f77b4;\"/>\n   </g>\n   <g id=\"patch_48\">\n    <path clip-path=\"url(#pd3b094d8e7)\" d=\"M 913.082036 239.758125 \nL 926.960907 239.758125 \nL 926.960907 213.285589 \nL 913.082036 213.285589 \nz\n\" style=\"fill:#1f77b4;\"/>\n   </g>\n   <g id=\"patch_49\">\n    <path clip-path=\"url(#pd3b094d8e7)\" d=\"M 930.430624 239.758125 \nL 944.309495 239.758125 \nL 944.309495 236.798797 \nL 930.430624 236.798797 \nz\n\" style=\"fill:#1f77b4;\"/>\n   </g>\n   <g id=\"patch_50\">\n    <path clip-path=\"url(#pd3b094d8e7)\" d=\"M 947.779213 239.758125 \nL 961.658084 239.758125 \nL 961.658084 150.843765 \nL 947.779213 150.843765 \nz\n\" style=\"fill:#1f77b4;\"/>\n   </g>\n   <g id=\"patch_51\">\n    <path clip-path=\"url(#pd3b094d8e7)\" d=\"M 965.127801 239.758125 \nL 979.006672 239.758125 \nL 979.006672 141.992684 \nL 965.127801 141.992684 \nz\n\" style=\"fill:#1f77b4;\"/>\n   </g>\n   <g id=\"patch_52\">\n    <path clip-path=\"url(#pd3b094d8e7)\" d=\"M 982.47639 239.758125 \nL 996.355261 239.758125 \nL 996.355261 75.649927 \nL 982.47639 75.649927 \nz\n\" style=\"fill:#1f77b4;\"/>\n   </g>\n   <g id=\"patch_53\">\n    <path clip-path=\"url(#pd3b094d8e7)\" d=\"M 999.824978 239.758125 \nL 1013.703849 239.758125 \nL 1013.703849 186.248091 \nL 999.824978 186.248091 \nz\n\" style=\"fill:#1f77b4;\"/>\n   </g>\n   <g id=\"patch_54\">\n    <path clip-path=\"url(#pd3b094d8e7)\" d=\"M 1017.173567 239.758125 \nL 1031.052438 239.758125 \nL 1031.052438 226.804339 \nL 1017.173567 226.804339 \nz\n\" style=\"fill:#1f77b4;\"/>\n   </g>\n   <g id=\"patch_55\">\n    <path clip-path=\"url(#pd3b094d8e7)\" d=\"M 1034.522155 239.758125 \nL 1048.401026 239.758125 \nL 1048.401026 200.049322 \nL 1034.522155 200.049322 \nz\n\" style=\"fill:#1f77b4;\"/>\n   </g>\n   <g id=\"patch_56\">\n    <path clip-path=\"url(#pd3b094d8e7)\" d=\"M 1051.870744 239.758125 \nL 1065.749614 239.758125 \nL 1065.749614 237.390662 \nL 1051.870744 237.390662 \nz\n\" style=\"fill:#1f77b4;\"/>\n   </g>\n   <g id=\"patch_57\">\n    <path clip-path=\"url(#pd3b094d8e7)\" d=\"M 1069.219332 239.758125 \nL 1083.098203 239.758125 \nL 1083.098203 204.999471 \nL 1069.219332 204.999471 \nz\n\" style=\"fill:#1f77b4;\"/>\n   </g>\n   <g id=\"patch_58\">\n    <path clip-path=\"url(#pd3b094d8e7)\" d=\"M 1086.567921 239.758125 \nL 1100.446791 239.758125 \nL 1100.446791 238.682006 \nL 1086.567921 238.682006 \nz\n\" style=\"fill:#1f77b4;\"/>\n   </g>\n   <g id=\"matplotlib.axis_3\">\n    <g id=\"xtick_26\">\n     <g id=\"line2d_34\">\n      <g>\n       <use style=\"stroke:#000000;stroke-width:0.8;\" x=\"659.792644\" xlink:href=\"#mb2ac3a48cc\" y=\"239.758125\"/>\n      </g>\n     </g>\n     <g id=\"text_35\">\n      <!-- a -->\n      <g transform=\"translate(656.728581 254.356563)scale(0.1 -0.1)\">\n       <use xlink:href=\"#DejaVuSans-97\"/>\n      </g>\n     </g>\n    </g>\n    <g id=\"xtick_27\">\n     <g id=\"line2d_35\">\n      <g>\n       <use style=\"stroke:#000000;stroke-width:0.8;\" x=\"677.141232\" xlink:href=\"#mb2ac3a48cc\" y=\"239.758125\"/>\n      </g>\n     </g>\n     <g id=\"text_36\">\n      <!-- b -->\n      <g transform=\"translate(673.967014 254.356563)scale(0.1 -0.1)\">\n       <use xlink:href=\"#DejaVuSans-98\"/>\n      </g>\n     </g>\n    </g>\n    <g id=\"xtick_28\">\n     <g id=\"line2d_36\">\n      <g>\n       <use style=\"stroke:#000000;stroke-width:0.8;\" x=\"694.489821\" xlink:href=\"#mb2ac3a48cc\" y=\"239.758125\"/>\n      </g>\n     </g>\n     <g id=\"text_37\">\n      <!-- c -->\n      <g transform=\"translate(691.740602 254.356563)scale(0.1 -0.1)\">\n       <use xlink:href=\"#DejaVuSans-99\"/>\n      </g>\n     </g>\n    </g>\n    <g id=\"xtick_29\">\n     <g id=\"line2d_37\">\n      <g>\n       <use style=\"stroke:#000000;stroke-width:0.8;\" x=\"711.838409\" xlink:href=\"#mb2ac3a48cc\" y=\"239.758125\"/>\n      </g>\n     </g>\n     <g id=\"text_38\">\n      <!-- d -->\n      <g transform=\"translate(708.664191 254.356563)scale(0.1 -0.1)\">\n       <use xlink:href=\"#DejaVuSans-100\"/>\n      </g>\n     </g>\n    </g>\n    <g id=\"xtick_30\">\n     <g id=\"line2d_38\">\n      <g>\n       <use style=\"stroke:#000000;stroke-width:0.8;\" x=\"729.186998\" xlink:href=\"#mb2ac3a48cc\" y=\"239.758125\"/>\n      </g>\n     </g>\n     <g id=\"text_39\">\n      <!-- e -->\n      <g transform=\"translate(726.110435 254.356563)scale(0.1 -0.1)\">\n       <use xlink:href=\"#DejaVuSans-101\"/>\n      </g>\n     </g>\n    </g>\n    <g id=\"xtick_31\">\n     <g id=\"line2d_39\">\n      <g>\n       <use style=\"stroke:#000000;stroke-width:0.8;\" x=\"746.535586\" xlink:href=\"#mb2ac3a48cc\" y=\"239.758125\"/>\n      </g>\n     </g>\n     <g id=\"text_40\">\n      <!-- f -->\n      <g transform=\"translate(744.77543 254.356563)scale(0.1 -0.1)\">\n       <use xlink:href=\"#DejaVuSans-102\"/>\n      </g>\n     </g>\n    </g>\n    <g id=\"xtick_32\">\n     <g id=\"line2d_40\">\n      <g>\n       <use style=\"stroke:#000000;stroke-width:0.8;\" x=\"763.884175\" xlink:href=\"#mb2ac3a48cc\" y=\"239.758125\"/>\n      </g>\n     </g>\n     <g id=\"text_41\">\n      <!-- g -->\n      <g transform=\"translate(760.709956 254.356563)scale(0.1 -0.1)\">\n       <defs>\n        <path d=\"M 45.40625 27.984375 \nQ 45.40625 37.75 41.375 43.109375 \nQ 37.359375 48.484375 30.078125 48.484375 \nQ 22.859375 48.484375 18.828125 43.109375 \nQ 14.796875 37.75 14.796875 27.984375 \nQ 14.796875 18.265625 18.828125 12.890625 \nQ 22.859375 7.515625 30.078125 7.515625 \nQ 37.359375 7.515625 41.375 12.890625 \nQ 45.40625 18.265625 45.40625 27.984375 \nz\nM 54.390625 6.78125 \nQ 54.390625 -7.171875 48.1875 -13.984375 \nQ 42 -20.796875 29.203125 -20.796875 \nQ 24.46875 -20.796875 20.265625 -20.09375 \nQ 16.0625 -19.390625 12.109375 -17.921875 \nL 12.109375 -9.1875 \nQ 16.0625 -11.328125 19.921875 -12.34375 \nQ 23.78125 -13.375 27.78125 -13.375 \nQ 36.625 -13.375 41.015625 -8.765625 \nQ 45.40625 -4.15625 45.40625 5.171875 \nL 45.40625 9.625 \nQ 42.625 4.78125 38.28125 2.390625 \nQ 33.9375 0 27.875 0 \nQ 17.828125 0 11.671875 7.65625 \nQ 5.515625 15.328125 5.515625 27.984375 \nQ 5.515625 40.671875 11.671875 48.328125 \nQ 17.828125 56 27.875 56 \nQ 33.9375 56 38.28125 53.609375 \nQ 42.625 51.21875 45.40625 46.390625 \nL 45.40625 54.6875 \nL 54.390625 54.6875 \nz\n\" id=\"DejaVuSans-103\"/>\n       </defs>\n       <use xlink:href=\"#DejaVuSans-103\"/>\n      </g>\n     </g>\n    </g>\n    <g id=\"xtick_33\">\n     <g id=\"line2d_41\">\n      <g>\n       <use style=\"stroke:#000000;stroke-width:0.8;\" x=\"781.232763\" xlink:href=\"#mb2ac3a48cc\" y=\"239.758125\"/>\n      </g>\n     </g>\n     <g id=\"text_42\">\n      <!-- h -->\n      <g transform=\"translate(778.064013 254.356563)scale(0.1 -0.1)\">\n       <use xlink:href=\"#DejaVuSans-104\"/>\n      </g>\n     </g>\n    </g>\n    <g id=\"xtick_34\">\n     <g id=\"line2d_42\">\n      <g>\n       <use style=\"stroke:#000000;stroke-width:0.8;\" x=\"798.581352\" xlink:href=\"#mb2ac3a48cc\" y=\"239.758125\"/>\n      </g>\n     </g>\n     <g id=\"text_43\">\n      <!-- i -->\n      <g transform=\"translate(797.192289 254.356563)scale(0.1 -0.1)\">\n       <use xlink:href=\"#DejaVuSans-105\"/>\n      </g>\n     </g>\n    </g>\n    <g id=\"xtick_35\">\n     <g id=\"line2d_43\">\n      <g>\n       <use style=\"stroke:#000000;stroke-width:0.8;\" x=\"815.92994\" xlink:href=\"#mb2ac3a48cc\" y=\"239.758125\"/>\n      </g>\n     </g>\n     <g id=\"text_44\">\n      <!-- j -->\n      <g transform=\"translate(814.540878 254.356563)scale(0.1 -0.1)\">\n       <defs>\n        <path d=\"M 9.421875 54.6875 \nL 18.40625 54.6875 \nL 18.40625 -0.984375 \nQ 18.40625 -11.421875 14.421875 -16.109375 \nQ 10.453125 -20.796875 1.609375 -20.796875 \nL -1.8125 -20.796875 \nL -1.8125 -13.1875 \nL 0.59375 -13.1875 \nQ 5.71875 -13.1875 7.5625 -10.8125 \nQ 9.421875 -8.453125 9.421875 -0.984375 \nz\nM 9.421875 75.984375 \nL 18.40625 75.984375 \nL 18.40625 64.59375 \nL 9.421875 64.59375 \nz\n\" id=\"DejaVuSans-106\"/>\n       </defs>\n       <use xlink:href=\"#DejaVuSans-106\"/>\n      </g>\n     </g>\n    </g>\n    <g id=\"xtick_36\">\n     <g id=\"line2d_44\">\n      <g>\n       <use style=\"stroke:#000000;stroke-width:0.8;\" x=\"833.278529\" xlink:href=\"#mb2ac3a48cc\" y=\"239.758125\"/>\n      </g>\n     </g>\n     <g id=\"text_45\">\n      <!-- k -->\n      <g transform=\"translate(830.383216 254.356563)scale(0.1 -0.1)\">\n       <defs>\n        <path d=\"M 9.078125 75.984375 \nL 18.109375 75.984375 \nL 18.109375 31.109375 \nL 44.921875 54.6875 \nL 56.390625 54.6875 \nL 27.390625 29.109375 \nL 57.625 0 \nL 45.90625 0 \nL 18.109375 26.703125 \nL 18.109375 0 \nL 9.078125 0 \nz\n\" id=\"DejaVuSans-107\"/>\n       </defs>\n       <use xlink:href=\"#DejaVuSans-107\"/>\n      </g>\n     </g>\n    </g>\n    <g id=\"xtick_37\">\n     <g id=\"line2d_45\">\n      <g>\n       <use style=\"stroke:#000000;stroke-width:0.8;\" x=\"850.627117\" xlink:href=\"#mb2ac3a48cc\" y=\"239.758125\"/>\n      </g>\n     </g>\n     <g id=\"text_46\">\n      <!-- l -->\n      <g transform=\"translate(849.238055 254.356563)scale(0.1 -0.1)\">\n       <use xlink:href=\"#DejaVuSans-108\"/>\n      </g>\n     </g>\n    </g>\n    <g id=\"xtick_38\">\n     <g id=\"line2d_46\">\n      <g>\n       <use style=\"stroke:#000000;stroke-width:0.8;\" x=\"867.975706\" xlink:href=\"#mb2ac3a48cc\" y=\"239.758125\"/>\n      </g>\n     </g>\n     <g id=\"text_47\">\n      <!-- m -->\n      <g transform=\"translate(863.105393 254.356563)scale(0.1 -0.1)\">\n       <defs>\n        <path d=\"M 52 44.1875 \nQ 55.375 50.25 60.0625 53.125 \nQ 64.75 56 71.09375 56 \nQ 79.640625 56 84.28125 50.015625 \nQ 88.921875 44.046875 88.921875 33.015625 \nL 88.921875 0 \nL 79.890625 0 \nL 79.890625 32.71875 \nQ 79.890625 40.578125 77.09375 44.375 \nQ 74.3125 48.1875 68.609375 48.1875 \nQ 61.625 48.1875 57.5625 43.546875 \nQ 53.515625 38.921875 53.515625 30.90625 \nL 53.515625 0 \nL 44.484375 0 \nL 44.484375 32.71875 \nQ 44.484375 40.625 41.703125 44.40625 \nQ 38.921875 48.1875 33.109375 48.1875 \nQ 26.21875 48.1875 22.15625 43.53125 \nQ 18.109375 38.875 18.109375 30.90625 \nL 18.109375 0 \nL 9.078125 0 \nL 9.078125 54.6875 \nL 18.109375 54.6875 \nL 18.109375 46.1875 \nQ 21.1875 51.21875 25.484375 53.609375 \nQ 29.78125 56 35.6875 56 \nQ 41.65625 56 45.828125 52.96875 \nQ 50 49.953125 52 44.1875 \nz\n\" id=\"DejaVuSans-109\"/>\n       </defs>\n       <use xlink:href=\"#DejaVuSans-109\"/>\n      </g>\n     </g>\n    </g>\n    <g id=\"xtick_39\">\n     <g id=\"line2d_47\">\n      <g>\n       <use style=\"stroke:#000000;stroke-width:0.8;\" x=\"885.324294\" xlink:href=\"#mb2ac3a48cc\" y=\"239.758125\"/>\n      </g>\n     </g>\n     <g id=\"text_48\">\n      <!-- n -->\n      <g transform=\"translate(882.155544 254.356563)scale(0.1 -0.1)\">\n       <use xlink:href=\"#DejaVuSans-110\"/>\n      </g>\n     </g>\n    </g>\n    <g id=\"xtick_40\">\n     <g id=\"line2d_48\">\n      <g>\n       <use style=\"stroke:#000000;stroke-width:0.8;\" x=\"902.672883\" xlink:href=\"#mb2ac3a48cc\" y=\"239.758125\"/>\n      </g>\n     </g>\n     <g id=\"text_49\">\n      <!-- o -->\n      <g transform=\"translate(899.613508 254.356563)scale(0.1 -0.1)\">\n       <use xlink:href=\"#DejaVuSans-111\"/>\n      </g>\n     </g>\n    </g>\n    <g id=\"xtick_41\">\n     <g id=\"line2d_49\">\n      <g>\n       <use style=\"stroke:#000000;stroke-width:0.8;\" x=\"920.021471\" xlink:href=\"#mb2ac3a48cc\" y=\"239.758125\"/>\n      </g>\n     </g>\n     <g id=\"text_50\">\n      <!-- p -->\n      <g transform=\"translate(916.847252 254.356563)scale(0.1 -0.1)\">\n       <use xlink:href=\"#DejaVuSans-112\"/>\n      </g>\n     </g>\n    </g>\n    <g id=\"xtick_42\">\n     <g id=\"line2d_50\">\n      <g>\n       <use style=\"stroke:#000000;stroke-width:0.8;\" x=\"937.37006\" xlink:href=\"#mb2ac3a48cc\" y=\"239.758125\"/>\n      </g>\n     </g>\n     <g id=\"text_51\">\n      <!-- q -->\n      <g transform=\"translate(934.195841 254.356563)scale(0.1 -0.1)\">\n       <defs>\n        <path d=\"M 14.796875 27.296875 \nQ 14.796875 17.390625 18.875 11.75 \nQ 22.953125 6.109375 30.078125 6.109375 \nQ 37.203125 6.109375 41.296875 11.75 \nQ 45.40625 17.390625 45.40625 27.296875 \nQ 45.40625 37.203125 41.296875 42.84375 \nQ 37.203125 48.484375 30.078125 48.484375 \nQ 22.953125 48.484375 18.875 42.84375 \nQ 14.796875 37.203125 14.796875 27.296875 \nz\nM 45.40625 8.203125 \nQ 42.578125 3.328125 38.25 0.953125 \nQ 33.9375 -1.421875 27.875 -1.421875 \nQ 17.96875 -1.421875 11.734375 6.484375 \nQ 5.515625 14.40625 5.515625 27.296875 \nQ 5.515625 40.1875 11.734375 48.09375 \nQ 17.96875 56 27.875 56 \nQ 33.9375 56 38.25 53.625 \nQ 42.578125 51.265625 45.40625 46.390625 \nL 45.40625 54.6875 \nL 54.390625 54.6875 \nL 54.390625 -20.796875 \nL 45.40625 -20.796875 \nz\n\" id=\"DejaVuSans-113\"/>\n       </defs>\n       <use xlink:href=\"#DejaVuSans-113\"/>\n      </g>\n     </g>\n    </g>\n    <g id=\"xtick_43\">\n     <g id=\"line2d_51\">\n      <g>\n       <use style=\"stroke:#000000;stroke-width:0.8;\" x=\"954.718648\" xlink:href=\"#mb2ac3a48cc\" y=\"239.758125\"/>\n      </g>\n     </g>\n     <g id=\"text_52\">\n      <!-- r -->\n      <g transform=\"translate(952.663179 254.356563)scale(0.1 -0.1)\">\n       <use xlink:href=\"#DejaVuSans-114\"/>\n      </g>\n     </g>\n    </g>\n    <g id=\"xtick_44\">\n     <g id=\"line2d_52\">\n      <g>\n       <use style=\"stroke:#000000;stroke-width:0.8;\" x=\"972.067237\" xlink:href=\"#mb2ac3a48cc\" y=\"239.758125\"/>\n      </g>\n     </g>\n     <g id=\"text_53\">\n      <!-- s -->\n      <g transform=\"translate(969.462549 254.356563)scale(0.1 -0.1)\">\n       <use xlink:href=\"#DejaVuSans-115\"/>\n      </g>\n     </g>\n    </g>\n    <g id=\"xtick_45\">\n     <g id=\"line2d_53\">\n      <g>\n       <use style=\"stroke:#000000;stroke-width:0.8;\" x=\"989.415825\" xlink:href=\"#mb2ac3a48cc\" y=\"239.758125\"/>\n      </g>\n     </g>\n     <g id=\"text_54\">\n      <!-- t -->\n      <g transform=\"translate(987.455669 254.356563)scale(0.1 -0.1)\">\n       <use xlink:href=\"#DejaVuSans-116\"/>\n      </g>\n     </g>\n    </g>\n    <g id=\"xtick_46\">\n     <g id=\"line2d_54\">\n      <g>\n       <use style=\"stroke:#000000;stroke-width:0.8;\" x=\"1006.764414\" xlink:href=\"#mb2ac3a48cc\" y=\"239.758125\"/>\n      </g>\n     </g>\n     <g id=\"text_55\">\n      <!-- u -->\n      <g transform=\"translate(1003.595664 254.356563)scale(0.1 -0.1)\">\n       <use xlink:href=\"#DejaVuSans-117\"/>\n      </g>\n     </g>\n    </g>\n    <g id=\"xtick_47\">\n     <g id=\"line2d_55\">\n      <g>\n       <use style=\"stroke:#000000;stroke-width:0.8;\" x=\"1024.113002\" xlink:href=\"#mb2ac3a48cc\" y=\"239.758125\"/>\n      </g>\n     </g>\n     <g id=\"text_56\">\n      <!-- v -->\n      <g transform=\"translate(1021.153627 254.356563)scale(0.1 -0.1)\">\n       <defs>\n        <path d=\"M 2.984375 54.6875 \nL 12.5 54.6875 \nL 29.59375 8.796875 \nL 46.6875 54.6875 \nL 56.203125 54.6875 \nL 35.6875 0 \nL 23.484375 0 \nz\n\" id=\"DejaVuSans-118\"/>\n       </defs>\n       <use xlink:href=\"#DejaVuSans-118\"/>\n      </g>\n     </g>\n    </g>\n    <g id=\"xtick_48\">\n     <g id=\"line2d_56\">\n      <g>\n       <use style=\"stroke:#000000;stroke-width:0.8;\" x=\"1041.461591\" xlink:href=\"#mb2ac3a48cc\" y=\"239.758125\"/>\n      </g>\n     </g>\n     <g id=\"text_57\">\n      <!-- w -->\n      <g transform=\"translate(1037.372528 254.356563)scale(0.1 -0.1)\">\n       <use xlink:href=\"#DejaVuSans-119\"/>\n      </g>\n     </g>\n    </g>\n    <g id=\"xtick_49\">\n     <g id=\"line2d_57\">\n      <g>\n       <use style=\"stroke:#000000;stroke-width:0.8;\" x=\"1058.810179\" xlink:href=\"#mb2ac3a48cc\" y=\"239.758125\"/>\n      </g>\n     </g>\n     <g id=\"text_58\">\n      <!-- x -->\n      <g transform=\"translate(1055.850804 254.356563)scale(0.1 -0.1)\">\n       <defs>\n        <path d=\"M 54.890625 54.6875 \nL 35.109375 28.078125 \nL 55.90625 0 \nL 45.3125 0 \nL 29.390625 21.484375 \nL 13.484375 0 \nL 2.875 0 \nL 24.125 28.609375 \nL 4.6875 54.6875 \nL 15.28125 54.6875 \nL 29.78125 35.203125 \nL 44.28125 54.6875 \nz\n\" id=\"DejaVuSans-120\"/>\n       </defs>\n       <use xlink:href=\"#DejaVuSans-120\"/>\n      </g>\n     </g>\n    </g>\n    <g id=\"xtick_50\">\n     <g id=\"line2d_58\">\n      <g>\n       <use style=\"stroke:#000000;stroke-width:0.8;\" x=\"1076.158768\" xlink:href=\"#mb2ac3a48cc\" y=\"239.758125\"/>\n      </g>\n     </g>\n     <g id=\"text_59\">\n      <!-- y -->\n      <g transform=\"translate(1073.199393 254.356563)scale(0.1 -0.1)\">\n       <use xlink:href=\"#DejaVuSans-121\"/>\n      </g>\n     </g>\n    </g>\n    <g id=\"xtick_51\">\n     <g id=\"line2d_59\">\n      <g>\n       <use style=\"stroke:#000000;stroke-width:0.8;\" x=\"1093.507356\" xlink:href=\"#mb2ac3a48cc\" y=\"239.758125\"/>\n      </g>\n     </g>\n     <g id=\"text_60\">\n      <!-- z -->\n      <g transform=\"translate(1090.883137 254.356563)scale(0.1 -0.1)\">\n       <defs>\n        <path d=\"M 5.515625 54.6875 \nL 48.1875 54.6875 \nL 48.1875 46.484375 \nL 14.40625 7.171875 \nL 48.1875 7.171875 \nL 48.1875 0 \nL 4.296875 0 \nL 4.296875 8.203125 \nL 38.09375 47.515625 \nL 5.515625 47.515625 \nz\n\" id=\"DejaVuSans-122\"/>\n       </defs>\n       <use xlink:href=\"#DejaVuSans-122\"/>\n      </g>\n     </g>\n    </g>\n   </g>\n   <g id=\"matplotlib.axis_4\">\n    <g id=\"ytick_9\">\n     <g id=\"line2d_60\">\n      <g>\n       <use style=\"stroke:#000000;stroke-width:0.8;\" x=\"630.473529\" xlink:href=\"#m4f68bf3f05\" y=\"239.758125\"/>\n      </g>\n     </g>\n     <g id=\"text_61\">\n      <!-- 0 -->\n      <g transform=\"translate(617.111029 243.557344)scale(0.1 -0.1)\">\n       <use xlink:href=\"#DejaVuSans-48\"/>\n      </g>\n     </g>\n    </g>\n    <g id=\"ytick_10\">\n     <g id=\"line2d_61\">\n      <g>\n       <use style=\"stroke:#000000;stroke-width:0.8;\" x=\"630.473529\" xlink:href=\"#m4f68bf3f05\" y=\"212.855142\"/>\n      </g>\n     </g>\n     <g id=\"text_62\">\n      <!-- 2000 -->\n      <g transform=\"translate(598.023529 216.65436)scale(0.1 -0.1)\">\n       <use xlink:href=\"#DejaVuSans-50\"/>\n       <use x=\"63.623047\" xlink:href=\"#DejaVuSans-48\"/>\n       <use x=\"127.246094\" xlink:href=\"#DejaVuSans-48\"/>\n       <use x=\"190.869141\" xlink:href=\"#DejaVuSans-48\"/>\n      </g>\n     </g>\n    </g>\n    <g id=\"ytick_11\">\n     <g id=\"line2d_62\">\n      <g>\n       <use style=\"stroke:#000000;stroke-width:0.8;\" x=\"630.473529\" xlink:href=\"#m4f68bf3f05\" y=\"185.952158\"/>\n      </g>\n     </g>\n     <g id=\"text_63\">\n      <!-- 4000 -->\n      <g transform=\"translate(598.023529 189.751377)scale(0.1 -0.1)\">\n       <defs>\n        <path d=\"M 37.796875 64.3125 \nL 12.890625 25.390625 \nL 37.796875 25.390625 \nz\nM 35.203125 72.90625 \nL 47.609375 72.90625 \nL 47.609375 25.390625 \nL 58.015625 25.390625 \nL 58.015625 17.1875 \nL 47.609375 17.1875 \nL 47.609375 0 \nL 37.796875 0 \nL 37.796875 17.1875 \nL 4.890625 17.1875 \nL 4.890625 26.703125 \nz\n\" id=\"DejaVuSans-52\"/>\n       </defs>\n       <use xlink:href=\"#DejaVuSans-52\"/>\n       <use x=\"63.623047\" xlink:href=\"#DejaVuSans-48\"/>\n       <use x=\"127.246094\" xlink:href=\"#DejaVuSans-48\"/>\n       <use x=\"190.869141\" xlink:href=\"#DejaVuSans-48\"/>\n      </g>\n     </g>\n    </g>\n    <g id=\"ytick_12\">\n     <g id=\"line2d_63\">\n      <g>\n       <use style=\"stroke:#000000;stroke-width:0.8;\" x=\"630.473529\" xlink:href=\"#m4f68bf3f05\" y=\"159.049175\"/>\n      </g>\n     </g>\n     <g id=\"text_64\">\n      <!-- 6000 -->\n      <g transform=\"translate(598.023529 162.848394)scale(0.1 -0.1)\">\n       <defs>\n        <path d=\"M 33.015625 40.375 \nQ 26.375 40.375 22.484375 35.828125 \nQ 18.609375 31.296875 18.609375 23.390625 \nQ 18.609375 15.53125 22.484375 10.953125 \nQ 26.375 6.390625 33.015625 6.390625 \nQ 39.65625 6.390625 43.53125 10.953125 \nQ 47.40625 15.53125 47.40625 23.390625 \nQ 47.40625 31.296875 43.53125 35.828125 \nQ 39.65625 40.375 33.015625 40.375 \nz\nM 52.59375 71.296875 \nL 52.59375 62.3125 \nQ 48.875 64.0625 45.09375 64.984375 \nQ 41.3125 65.921875 37.59375 65.921875 \nQ 27.828125 65.921875 22.671875 59.328125 \nQ 17.53125 52.734375 16.796875 39.40625 \nQ 19.671875 43.65625 24.015625 45.921875 \nQ 28.375 48.1875 33.59375 48.1875 \nQ 44.578125 48.1875 50.953125 41.515625 \nQ 57.328125 34.859375 57.328125 23.390625 \nQ 57.328125 12.15625 50.6875 5.359375 \nQ 44.046875 -1.421875 33.015625 -1.421875 \nQ 20.359375 -1.421875 13.671875 8.265625 \nQ 6.984375 17.96875 6.984375 36.375 \nQ 6.984375 53.65625 15.1875 63.9375 \nQ 23.390625 74.21875 37.203125 74.21875 \nQ 40.921875 74.21875 44.703125 73.484375 \nQ 48.484375 72.75 52.59375 71.296875 \nz\n\" id=\"DejaVuSans-54\"/>\n       </defs>\n       <use xlink:href=\"#DejaVuSans-54\"/>\n       <use x=\"63.623047\" xlink:href=\"#DejaVuSans-48\"/>\n       <use x=\"127.246094\" xlink:href=\"#DejaVuSans-48\"/>\n       <use x=\"190.869141\" xlink:href=\"#DejaVuSans-48\"/>\n      </g>\n     </g>\n    </g>\n    <g id=\"ytick_13\">\n     <g id=\"line2d_64\">\n      <g>\n       <use style=\"stroke:#000000;stroke-width:0.8;\" x=\"630.473529\" xlink:href=\"#m4f68bf3f05\" y=\"132.146192\"/>\n      </g>\n     </g>\n     <g id=\"text_65\">\n      <!-- 8000 -->\n      <g transform=\"translate(598.023529 135.94541)scale(0.1 -0.1)\">\n       <defs>\n        <path d=\"M 31.78125 34.625 \nQ 24.75 34.625 20.71875 30.859375 \nQ 16.703125 27.09375 16.703125 20.515625 \nQ 16.703125 13.921875 20.71875 10.15625 \nQ 24.75 6.390625 31.78125 6.390625 \nQ 38.8125 6.390625 42.859375 10.171875 \nQ 46.921875 13.96875 46.921875 20.515625 \nQ 46.921875 27.09375 42.890625 30.859375 \nQ 38.875 34.625 31.78125 34.625 \nz\nM 21.921875 38.8125 \nQ 15.578125 40.375 12.03125 44.71875 \nQ 8.5 49.078125 8.5 55.328125 \nQ 8.5 64.0625 14.71875 69.140625 \nQ 20.953125 74.21875 31.78125 74.21875 \nQ 42.671875 74.21875 48.875 69.140625 \nQ 55.078125 64.0625 55.078125 55.328125 \nQ 55.078125 49.078125 51.53125 44.71875 \nQ 48 40.375 41.703125 38.8125 \nQ 48.828125 37.15625 52.796875 32.3125 \nQ 56.78125 27.484375 56.78125 20.515625 \nQ 56.78125 9.90625 50.3125 4.234375 \nQ 43.84375 -1.421875 31.78125 -1.421875 \nQ 19.734375 -1.421875 13.25 4.234375 \nQ 6.78125 9.90625 6.78125 20.515625 \nQ 6.78125 27.484375 10.78125 32.3125 \nQ 14.796875 37.15625 21.921875 38.8125 \nz\nM 18.3125 54.390625 \nQ 18.3125 48.734375 21.84375 45.5625 \nQ 25.390625 42.390625 31.78125 42.390625 \nQ 38.140625 42.390625 41.71875 45.5625 \nQ 45.3125 48.734375 45.3125 54.390625 \nQ 45.3125 60.0625 41.71875 63.234375 \nQ 38.140625 66.40625 31.78125 66.40625 \nQ 25.390625 66.40625 21.84375 63.234375 \nQ 18.3125 60.0625 18.3125 54.390625 \nz\n\" id=\"DejaVuSans-56\"/>\n       </defs>\n       <use xlink:href=\"#DejaVuSans-56\"/>\n       <use x=\"63.623047\" xlink:href=\"#DejaVuSans-48\"/>\n       <use x=\"127.246094\" xlink:href=\"#DejaVuSans-48\"/>\n       <use x=\"190.869141\" xlink:href=\"#DejaVuSans-48\"/>\n      </g>\n     </g>\n    </g>\n    <g id=\"ytick_14\">\n     <g id=\"line2d_65\">\n      <g>\n       <use style=\"stroke:#000000;stroke-width:0.8;\" x=\"630.473529\" xlink:href=\"#m4f68bf3f05\" y=\"105.243208\"/>\n      </g>\n     </g>\n     <g id=\"text_66\">\n      <!-- 10000 -->\n      <g transform=\"translate(591.661029 109.042427)scale(0.1 -0.1)\">\n       <use xlink:href=\"#DejaVuSans-49\"/>\n       <use x=\"63.623047\" xlink:href=\"#DejaVuSans-48\"/>\n       <use x=\"127.246094\" xlink:href=\"#DejaVuSans-48\"/>\n       <use x=\"190.869141\" xlink:href=\"#DejaVuSans-48\"/>\n       <use x=\"254.492188\" xlink:href=\"#DejaVuSans-48\"/>\n      </g>\n     </g>\n    </g>\n    <g id=\"ytick_15\">\n     <g id=\"line2d_66\">\n      <g>\n       <use style=\"stroke:#000000;stroke-width:0.8;\" x=\"630.473529\" xlink:href=\"#m4f68bf3f05\" y=\"78.340225\"/>\n      </g>\n     </g>\n     <g id=\"text_67\">\n      <!-- 12000 -->\n      <g transform=\"translate(591.661029 82.139444)scale(0.1 -0.1)\">\n       <use xlink:href=\"#DejaVuSans-49\"/>\n       <use x=\"63.623047\" xlink:href=\"#DejaVuSans-50\"/>\n       <use x=\"127.246094\" xlink:href=\"#DejaVuSans-48\"/>\n       <use x=\"190.869141\" xlink:href=\"#DejaVuSans-48\"/>\n       <use x=\"254.492188\" xlink:href=\"#DejaVuSans-48\"/>\n      </g>\n     </g>\n    </g>\n    <g id=\"ytick_16\">\n     <g id=\"line2d_67\">\n      <g>\n       <use style=\"stroke:#000000;stroke-width:0.8;\" x=\"630.473529\" xlink:href=\"#m4f68bf3f05\" y=\"51.437242\"/>\n      </g>\n     </g>\n     <g id=\"text_68\">\n      <!-- 14000 -->\n      <g transform=\"translate(591.661029 55.23646)scale(0.1 -0.1)\">\n       <use xlink:href=\"#DejaVuSans-49\"/>\n       <use x=\"63.623047\" xlink:href=\"#DejaVuSans-52\"/>\n       <use x=\"127.246094\" xlink:href=\"#DejaVuSans-48\"/>\n       <use x=\"190.869141\" xlink:href=\"#DejaVuSans-48\"/>\n       <use x=\"254.492188\" xlink:href=\"#DejaVuSans-48\"/>\n      </g>\n     </g>\n    </g>\n    <g id=\"ytick_17\">\n     <g id=\"line2d_68\">\n      <g>\n       <use style=\"stroke:#000000;stroke-width:0.8;\" x=\"630.473529\" xlink:href=\"#m4f68bf3f05\" y=\"24.534258\"/>\n      </g>\n     </g>\n     <g id=\"text_69\">\n      <!-- 16000 -->\n      <g transform=\"translate(591.661029 28.333477)scale(0.1 -0.1)\">\n       <use xlink:href=\"#DejaVuSans-49\"/>\n       <use x=\"63.623047\" xlink:href=\"#DejaVuSans-54\"/>\n       <use x=\"127.246094\" xlink:href=\"#DejaVuSans-48\"/>\n       <use x=\"190.869141\" xlink:href=\"#DejaVuSans-48\"/>\n       <use x=\"254.492188\" xlink:href=\"#DejaVuSans-48\"/>\n      </g>\n     </g>\n    </g>\n   </g>\n   <g id=\"patch_59\">\n    <path d=\"M 630.473529 239.758125 \nL 630.473529 22.318125 \n\" style=\"fill:none;stroke:#000000;stroke-linecap:square;stroke-linejoin:miter;stroke-width:0.8;\"/>\n   </g>\n   <g id=\"patch_60\">\n    <path d=\"M 1122.826471 239.758125 \nL 1122.826471 22.318125 \n\" style=\"fill:none;stroke:#000000;stroke-linecap:square;stroke-linejoin:miter;stroke-width:0.8;\"/>\n   </g>\n   <g id=\"patch_61\">\n    <path d=\"M 630.473529 239.758125 \nL 1122.826471 239.758125 \n\" style=\"fill:none;stroke:#000000;stroke-linecap:square;stroke-linejoin:miter;stroke-width:0.8;\"/>\n   </g>\n   <g id=\"patch_62\">\n    <path d=\"M 630.473529 22.318125 \nL 1122.826471 22.318125 \n\" style=\"fill:none;stroke:#000000;stroke-linecap:square;stroke-linejoin:miter;stroke-width:0.8;\"/>\n   </g>\n   <g id=\"text_70\">\n    <!-- Letter Frequency -->\n    <g transform=\"translate(825.954688 16.318125)scale(0.12 -0.12)\">\n     <defs>\n      <path d=\"M 9.8125 72.90625 \nL 19.671875 72.90625 \nL 19.671875 8.296875 \nL 55.171875 8.296875 \nL 55.171875 0 \nL 9.8125 0 \nz\n\" id=\"DejaVuSans-76\"/>\n      <path d=\"M 9.8125 72.90625 \nL 51.703125 72.90625 \nL 51.703125 64.59375 \nL 19.671875 64.59375 \nL 19.671875 43.109375 \nL 48.578125 43.109375 \nL 48.578125 34.8125 \nL 19.671875 34.8125 \nL 19.671875 0 \nL 9.8125 0 \nz\n\" id=\"DejaVuSans-70\"/>\n     </defs>\n     <use xlink:href=\"#DejaVuSans-76\"/>\n     <use x=\"53.962891\" xlink:href=\"#DejaVuSans-101\"/>\n     <use x=\"115.486328\" xlink:href=\"#DejaVuSans-116\"/>\n     <use x=\"154.695312\" xlink:href=\"#DejaVuSans-116\"/>\n     <use x=\"193.904297\" xlink:href=\"#DejaVuSans-101\"/>\n     <use x=\"255.427734\" xlink:href=\"#DejaVuSans-114\"/>\n     <use x=\"296.541016\" xlink:href=\"#DejaVuSans-32\"/>\n     <use x=\"328.328125\" xlink:href=\"#DejaVuSans-70\"/>\n     <use x=\"378.597656\" xlink:href=\"#DejaVuSans-114\"/>\n     <use x=\"417.460938\" xlink:href=\"#DejaVuSans-101\"/>\n     <use x=\"478.984375\" xlink:href=\"#DejaVuSans-113\"/>\n     <use x=\"542.460938\" xlink:href=\"#DejaVuSans-117\"/>\n     <use x=\"605.839844\" xlink:href=\"#DejaVuSans-101\"/>\n     <use x=\"667.363281\" xlink:href=\"#DejaVuSans-110\"/>\n     <use x=\"730.742188\" xlink:href=\"#DejaVuSans-99\"/>\n     <use x=\"785.722656\" xlink:href=\"#DejaVuSans-121\"/>\n    </g>\n   </g>\n  </g>\n  <g id=\"axes_3\">\n   <g id=\"patch_63\">\n    <path d=\"M 1221.297059 239.758125 \nL 1713.65 239.758125 \nL 1713.65 22.318125 \nL 1221.297059 22.318125 \nz\n\" style=\"fill:#ffffff;\"/>\n   </g>\n   <g id=\"patch_64\">\n    <path clip-path=\"url(#p81edd02c71)\" d=\"M 1243.676738 239.758125 \nL 1273.51631 239.758125 \nL 1273.51631 67.186696 \nL 1243.676738 67.186696 \nz\n\" style=\"fill:#1f77b4;\"/>\n   </g>\n   <g id=\"patch_65\">\n    <path clip-path=\"url(#p81edd02c71)\" d=\"M 1273.51631 239.758125 \nL 1303.355882 239.758125 \nL 1303.355882 136.215268 \nL 1273.51631 136.215268 \nz\n\" style=\"fill:#1f77b4;\"/>\n   </g>\n   <g id=\"patch_66\">\n    <path clip-path=\"url(#p81edd02c71)\" d=\"M 1303.355882 239.758125 \nL 1333.195455 239.758125 \nL 1333.195455 32.672411 \nL 1303.355882 32.672411 \nz\n\" style=\"fill:#1f77b4;\"/>\n   </g>\n   <g id=\"patch_67\">\n    <path clip-path=\"url(#p81edd02c71)\" d=\"M 1333.195455 239.758125 \nL 1363.035027 239.758125 \nL 1363.035027 205.243839 \nL 1333.195455 205.243839 \nz\n\" style=\"fill:#1f77b4;\"/>\n   </g>\n   <g id=\"patch_68\">\n    <path clip-path=\"url(#p81edd02c71)\" d=\"M 1363.035027 239.758125 \nL 1392.874599 239.758125 \nL 1392.874599 239.758125 \nL 1363.035027 239.758125 \nz\n\" style=\"fill:#1f77b4;\"/>\n   </g>\n   <g id=\"patch_69\">\n    <path clip-path=\"url(#p81edd02c71)\" d=\"M 1392.874599 239.758125 \nL 1422.714171 239.758125 \nL 1422.714171 170.729554 \nL 1392.874599 170.729554 \nz\n\" style=\"fill:#1f77b4;\"/>\n   </g>\n   <g id=\"patch_70\">\n    <path clip-path=\"url(#p81edd02c71)\" d=\"M 1422.714171 239.758125 \nL 1452.553743 239.758125 \nL 1452.553743 205.243839 \nL 1422.714171 205.243839 \nz\n\" style=\"fill:#1f77b4;\"/>\n   </g>\n   <g id=\"patch_71\">\n    <path clip-path=\"url(#p81edd02c71)\" d=\"M 1452.553743 239.758125 \nL 1482.393316 239.758125 \nL 1482.393316 136.215268 \nL 1452.553743 136.215268 \nz\n\" style=\"fill:#1f77b4;\"/>\n   </g>\n   <g id=\"patch_72\">\n    <path clip-path=\"url(#p81edd02c71)\" d=\"M 1482.393316 239.758125 \nL 1512.232888 239.758125 \nL 1512.232888 205.243839 \nL 1482.393316 205.243839 \nz\n\" style=\"fill:#1f77b4;\"/>\n   </g>\n   <g id=\"patch_73\">\n    <path clip-path=\"url(#p81edd02c71)\" d=\"M 1512.232888 239.758125 \nL 1542.07246 239.758125 \nL 1542.07246 170.729554 \nL 1512.232888 170.729554 \nz\n\" style=\"fill:#1f77b4;\"/>\n   </g>\n   <g id=\"patch_74\">\n    <path clip-path=\"url(#p81edd02c71)\" d=\"M 1542.07246 239.758125 \nL 1571.912032 239.758125 \nL 1571.912032 239.758125 \nL 1542.07246 239.758125 \nz\n\" style=\"fill:#1f77b4;\"/>\n   </g>\n   <g id=\"patch_75\">\n    <path clip-path=\"url(#p81edd02c71)\" d=\"M 1571.912032 239.758125 \nL 1601.751604 239.758125 \nL 1601.751604 205.243839 \nL 1571.912032 205.243839 \nz\n\" style=\"fill:#1f77b4;\"/>\n   </g>\n   <g id=\"patch_76\">\n    <path clip-path=\"url(#p81edd02c71)\" d=\"M 1601.751604 239.758125 \nL 1631.591176 239.758125 \nL 1631.591176 239.758125 \nL 1601.751604 239.758125 \nz\n\" style=\"fill:#1f77b4;\"/>\n   </g>\n   <g id=\"patch_77\">\n    <path clip-path=\"url(#p81edd02c71)\" d=\"M 1631.591176 239.758125 \nL 1661.430749 239.758125 \nL 1661.430749 239.758125 \nL 1631.591176 239.758125 \nz\n\" style=\"fill:#1f77b4;\"/>\n   </g>\n   <g id=\"patch_78\">\n    <path clip-path=\"url(#p81edd02c71)\" d=\"M 1661.430749 239.758125 \nL 1691.270321 239.758125 \nL 1691.270321 205.243839 \nL 1661.430749 205.243839 \nz\n\" style=\"fill:#1f77b4;\"/>\n   </g>\n   <g id=\"matplotlib.axis_5\">\n    <g id=\"xtick_52\">\n     <g id=\"line2d_69\">\n      <g>\n       <use style=\"stroke:#000000;stroke-width:0.8;\" x=\"1241.160148\" xlink:href=\"#mb2ac3a48cc\" y=\"239.758125\"/>\n      </g>\n     </g>\n     <g id=\"text_71\">\n      <!-- 0.00 -->\n      <g transform=\"translate(1230.027335 254.356563)scale(0.1 -0.1)\">\n       <defs>\n        <path d=\"M 10.6875 12.40625 \nL 21 12.40625 \nL 21 0 \nL 10.6875 0 \nz\n\" id=\"DejaVuSans-46\"/>\n       </defs>\n       <use xlink:href=\"#DejaVuSans-48\"/>\n       <use x=\"63.623047\" xlink:href=\"#DejaVuSans-46\"/>\n       <use x=\"95.410156\" xlink:href=\"#DejaVuSans-48\"/>\n       <use x=\"159.033203\" xlink:href=\"#DejaVuSans-48\"/>\n      </g>\n     </g>\n    </g>\n    <g id=\"xtick_53\">\n     <g id=\"line2d_70\">\n      <g>\n       <use style=\"stroke:#000000;stroke-width:0.8;\" x=\"1313.062731\" xlink:href=\"#mb2ac3a48cc\" y=\"239.758125\"/>\n      </g>\n     </g>\n     <g id=\"text_72\">\n      <!-- 0.02 -->\n      <g transform=\"translate(1301.929919 254.356563)scale(0.1 -0.1)\">\n       <use xlink:href=\"#DejaVuSans-48\"/>\n       <use x=\"63.623047\" xlink:href=\"#DejaVuSans-46\"/>\n       <use x=\"95.410156\" xlink:href=\"#DejaVuSans-48\"/>\n       <use x=\"159.033203\" xlink:href=\"#DejaVuSans-50\"/>\n      </g>\n     </g>\n    </g>\n    <g id=\"xtick_54\">\n     <g id=\"line2d_71\">\n      <g>\n       <use style=\"stroke:#000000;stroke-width:0.8;\" x=\"1384.965315\" xlink:href=\"#mb2ac3a48cc\" y=\"239.758125\"/>\n      </g>\n     </g>\n     <g id=\"text_73\">\n      <!-- 0.04 -->\n      <g transform=\"translate(1373.832502 254.356563)scale(0.1 -0.1)\">\n       <use xlink:href=\"#DejaVuSans-48\"/>\n       <use x=\"63.623047\" xlink:href=\"#DejaVuSans-46\"/>\n       <use x=\"95.410156\" xlink:href=\"#DejaVuSans-48\"/>\n       <use x=\"159.033203\" xlink:href=\"#DejaVuSans-52\"/>\n      </g>\n     </g>\n    </g>\n    <g id=\"xtick_55\">\n     <g id=\"line2d_72\">\n      <g>\n       <use style=\"stroke:#000000;stroke-width:0.8;\" x=\"1456.867898\" xlink:href=\"#mb2ac3a48cc\" y=\"239.758125\"/>\n      </g>\n     </g>\n     <g id=\"text_74\">\n      <!-- 0.06 -->\n      <g transform=\"translate(1445.735086 254.356563)scale(0.1 -0.1)\">\n       <use xlink:href=\"#DejaVuSans-48\"/>\n       <use x=\"63.623047\" xlink:href=\"#DejaVuSans-46\"/>\n       <use x=\"95.410156\" xlink:href=\"#DejaVuSans-48\"/>\n       <use x=\"159.033203\" xlink:href=\"#DejaVuSans-54\"/>\n      </g>\n     </g>\n    </g>\n    <g id=\"xtick_56\">\n     <g id=\"line2d_73\">\n      <g>\n       <use style=\"stroke:#000000;stroke-width:0.8;\" x=\"1528.770482\" xlink:href=\"#mb2ac3a48cc\" y=\"239.758125\"/>\n      </g>\n     </g>\n     <g id=\"text_75\">\n      <!-- 0.08 -->\n      <g transform=\"translate(1517.637669 254.356563)scale(0.1 -0.1)\">\n       <use xlink:href=\"#DejaVuSans-48\"/>\n       <use x=\"63.623047\" xlink:href=\"#DejaVuSans-46\"/>\n       <use x=\"95.410156\" xlink:href=\"#DejaVuSans-48\"/>\n       <use x=\"159.033203\" xlink:href=\"#DejaVuSans-56\"/>\n      </g>\n     </g>\n    </g>\n    <g id=\"xtick_57\">\n     <g id=\"line2d_74\">\n      <g>\n       <use style=\"stroke:#000000;stroke-width:0.8;\" x=\"1600.673066\" xlink:href=\"#mb2ac3a48cc\" y=\"239.758125\"/>\n      </g>\n     </g>\n     <g id=\"text_76\">\n      <!-- 0.10 -->\n      <g transform=\"translate(1589.540253 254.356563)scale(0.1 -0.1)\">\n       <use xlink:href=\"#DejaVuSans-48\"/>\n       <use x=\"63.623047\" xlink:href=\"#DejaVuSans-46\"/>\n       <use x=\"95.410156\" xlink:href=\"#DejaVuSans-49\"/>\n       <use x=\"159.033203\" xlink:href=\"#DejaVuSans-48\"/>\n      </g>\n     </g>\n    </g>\n    <g id=\"xtick_58\">\n     <g id=\"line2d_75\">\n      <g>\n       <use style=\"stroke:#000000;stroke-width:0.8;\" x=\"1672.575649\" xlink:href=\"#mb2ac3a48cc\" y=\"239.758125\"/>\n      </g>\n     </g>\n     <g id=\"text_77\">\n      <!-- 0.12 -->\n      <g transform=\"translate(1661.442837 254.356563)scale(0.1 -0.1)\">\n       <use xlink:href=\"#DejaVuSans-48\"/>\n       <use x=\"63.623047\" xlink:href=\"#DejaVuSans-46\"/>\n       <use x=\"95.410156\" xlink:href=\"#DejaVuSans-49\"/>\n       <use x=\"159.033203\" xlink:href=\"#DejaVuSans-50\"/>\n      </g>\n     </g>\n    </g>\n   </g>\n   <g id=\"matplotlib.axis_6\">\n    <g id=\"ytick_18\">\n     <g id=\"line2d_76\">\n      <g>\n       <use style=\"stroke:#000000;stroke-width:0.8;\" x=\"1221.297059\" xlink:href=\"#m4f68bf3f05\" y=\"239.758125\"/>\n      </g>\n     </g>\n     <g id=\"text_78\">\n      <!-- 0 -->\n      <g transform=\"translate(1207.934559 243.557344)scale(0.1 -0.1)\">\n       <use xlink:href=\"#DejaVuSans-48\"/>\n      </g>\n     </g>\n    </g>\n    <g id=\"ytick_19\">\n     <g id=\"line2d_77\">\n      <g>\n       <use style=\"stroke:#000000;stroke-width:0.8;\" x=\"1221.297059\" xlink:href=\"#m4f68bf3f05\" y=\"205.243839\"/>\n      </g>\n     </g>\n     <g id=\"text_79\">\n      <!-- 1 -->\n      <g transform=\"translate(1207.934559 209.043058)scale(0.1 -0.1)\">\n       <use xlink:href=\"#DejaVuSans-49\"/>\n      </g>\n     </g>\n    </g>\n    <g id=\"ytick_20\">\n     <g id=\"line2d_78\">\n      <g>\n       <use style=\"stroke:#000000;stroke-width:0.8;\" x=\"1221.297059\" xlink:href=\"#m4f68bf3f05\" y=\"170.729554\"/>\n      </g>\n     </g>\n     <g id=\"text_80\">\n      <!-- 2 -->\n      <g transform=\"translate(1207.934559 174.528772)scale(0.1 -0.1)\">\n       <use xlink:href=\"#DejaVuSans-50\"/>\n      </g>\n     </g>\n    </g>\n    <g id=\"ytick_21\">\n     <g id=\"line2d_79\">\n      <g>\n       <use style=\"stroke:#000000;stroke-width:0.8;\" x=\"1221.297059\" xlink:href=\"#m4f68bf3f05\" y=\"136.215268\"/>\n      </g>\n     </g>\n     <g id=\"text_81\">\n      <!-- 3 -->\n      <g transform=\"translate(1207.934559 140.014487)scale(0.1 -0.1)\">\n       <defs>\n        <path d=\"M 40.578125 39.3125 \nQ 47.65625 37.796875 51.625 33 \nQ 55.609375 28.21875 55.609375 21.1875 \nQ 55.609375 10.40625 48.1875 4.484375 \nQ 40.765625 -1.421875 27.09375 -1.421875 \nQ 22.515625 -1.421875 17.65625 -0.515625 \nQ 12.796875 0.390625 7.625 2.203125 \nL 7.625 11.71875 \nQ 11.71875 9.328125 16.59375 8.109375 \nQ 21.484375 6.890625 26.8125 6.890625 \nQ 36.078125 6.890625 40.9375 10.546875 \nQ 45.796875 14.203125 45.796875 21.1875 \nQ 45.796875 27.640625 41.28125 31.265625 \nQ 36.765625 34.90625 28.71875 34.90625 \nL 20.21875 34.90625 \nL 20.21875 43.015625 \nL 29.109375 43.015625 \nQ 36.375 43.015625 40.234375 45.921875 \nQ 44.09375 48.828125 44.09375 54.296875 \nQ 44.09375 59.90625 40.109375 62.90625 \nQ 36.140625 65.921875 28.71875 65.921875 \nQ 24.65625 65.921875 20.015625 65.03125 \nQ 15.375 64.15625 9.8125 62.3125 \nL 9.8125 71.09375 \nQ 15.4375 72.65625 20.34375 73.4375 \nQ 25.25 74.21875 29.59375 74.21875 \nQ 40.828125 74.21875 47.359375 69.109375 \nQ 53.90625 64.015625 53.90625 55.328125 \nQ 53.90625 49.265625 50.4375 45.09375 \nQ 46.96875 40.921875 40.578125 39.3125 \nz\n\" id=\"DejaVuSans-51\"/>\n       </defs>\n       <use xlink:href=\"#DejaVuSans-51\"/>\n      </g>\n     </g>\n    </g>\n    <g id=\"ytick_22\">\n     <g id=\"line2d_80\">\n      <g>\n       <use style=\"stroke:#000000;stroke-width:0.8;\" x=\"1221.297059\" xlink:href=\"#m4f68bf3f05\" y=\"101.700982\"/>\n      </g>\n     </g>\n     <g id=\"text_82\">\n      <!-- 4 -->\n      <g transform=\"translate(1207.934559 105.500201)scale(0.1 -0.1)\">\n       <use xlink:href=\"#DejaVuSans-52\"/>\n      </g>\n     </g>\n    </g>\n    <g id=\"ytick_23\">\n     <g id=\"line2d_81\">\n      <g>\n       <use style=\"stroke:#000000;stroke-width:0.8;\" x=\"1221.297059\" xlink:href=\"#m4f68bf3f05\" y=\"67.186696\"/>\n      </g>\n     </g>\n     <g id=\"text_83\">\n      <!-- 5 -->\n      <g transform=\"translate(1207.934559 70.985915)scale(0.1 -0.1)\">\n       <use xlink:href=\"#DejaVuSans-53\"/>\n      </g>\n     </g>\n    </g>\n    <g id=\"ytick_24\">\n     <g id=\"line2d_82\">\n      <g>\n       <use style=\"stroke:#000000;stroke-width:0.8;\" x=\"1221.297059\" xlink:href=\"#m4f68bf3f05\" y=\"32.672411\"/>\n      </g>\n     </g>\n     <g id=\"text_84\">\n      <!-- 6 -->\n      <g transform=\"translate(1207.934559 36.471629)scale(0.1 -0.1)\">\n       <use xlink:href=\"#DejaVuSans-54\"/>\n      </g>\n     </g>\n    </g>\n   </g>\n   <g id=\"patch_79\">\n    <path d=\"M 1221.297059 239.758125 \nL 1221.297059 22.318125 \n\" style=\"fill:none;stroke:#000000;stroke-linecap:square;stroke-linejoin:miter;stroke-width:0.8;\"/>\n   </g>\n   <g id=\"patch_80\">\n    <path d=\"M 1713.65 239.758125 \nL 1713.65 22.318125 \n\" style=\"fill:none;stroke:#000000;stroke-linecap:square;stroke-linejoin:miter;stroke-width:0.8;\"/>\n   </g>\n   <g id=\"patch_81\">\n    <path d=\"M 1221.297059 239.758125 \nL 1713.65 239.758125 \n\" style=\"fill:none;stroke:#000000;stroke-linecap:square;stroke-linejoin:miter;stroke-width:0.8;\"/>\n   </g>\n   <g id=\"patch_82\">\n    <path d=\"M 1221.297059 22.318125 \nL 1713.65 22.318125 \n\" style=\"fill:none;stroke:#000000;stroke-linecap:square;stroke-linejoin:miter;stroke-width:0.8;\"/>\n   </g>\n   <g id=\"text_85\">\n    <!-- Letter Histogram -->\n    <g transform=\"translate(1416.648842 16.318125)scale(0.12 -0.12)\">\n     <defs>\n      <path d=\"M 9.8125 72.90625 \nL 19.671875 72.90625 \nL 19.671875 43.015625 \nL 55.515625 43.015625 \nL 55.515625 72.90625 \nL 65.375 72.90625 \nL 65.375 0 \nL 55.515625 0 \nL 55.515625 34.71875 \nL 19.671875 34.71875 \nL 19.671875 0 \nL 9.8125 0 \nz\n\" id=\"DejaVuSans-72\"/>\n     </defs>\n     <use xlink:href=\"#DejaVuSans-76\"/>\n     <use x=\"53.962891\" xlink:href=\"#DejaVuSans-101\"/>\n     <use x=\"115.486328\" xlink:href=\"#DejaVuSans-116\"/>\n     <use x=\"154.695312\" xlink:href=\"#DejaVuSans-116\"/>\n     <use x=\"193.904297\" xlink:href=\"#DejaVuSans-101\"/>\n     <use x=\"255.427734\" xlink:href=\"#DejaVuSans-114\"/>\n     <use x=\"296.541016\" xlink:href=\"#DejaVuSans-32\"/>\n     <use x=\"328.328125\" xlink:href=\"#DejaVuSans-72\"/>\n     <use x=\"403.523438\" xlink:href=\"#DejaVuSans-105\"/>\n     <use x=\"431.306641\" xlink:href=\"#DejaVuSans-115\"/>\n     <use x=\"483.40625\" xlink:href=\"#DejaVuSans-116\"/>\n     <use x=\"522.615234\" xlink:href=\"#DejaVuSans-111\"/>\n     <use x=\"583.796875\" xlink:href=\"#DejaVuSans-103\"/>\n     <use x=\"647.273438\" xlink:href=\"#DejaVuSans-114\"/>\n     <use x=\"688.386719\" xlink:href=\"#DejaVuSans-97\"/>\n     <use x=\"749.666016\" xlink:href=\"#DejaVuSans-109\"/>\n    </g>\n   </g>\n  </g>\n </g>\n <defs>\n  <clipPath id=\"p432684e433\">\n   <rect height=\"217.44\" width=\"492.352941\" x=\"39.65\" y=\"22.318125\"/>\n  </clipPath>\n  <clipPath id=\"pd3b094d8e7\">\n   <rect height=\"217.44\" width=\"492.352941\" x=\"630.473529\" y=\"22.318125\"/>\n  </clipPath>\n  <clipPath id=\"p81edd02c71\">\n   <rect height=\"217.44\" width=\"492.352941\" x=\"1221.297059\" y=\"22.318125\"/>\n  </clipPath>\n </defs>\n</svg>\n",
      "image/png": "[encoded data removed]"
     },
     "metadata": {
      "needs_background": "light"
     }
    }
   ],
   "source": [
    "%matplotlib inline\n",
    "import pandas as pd\n",
    "import numpy as np\n",
    "import matplotlib.pyplot as plt\n",
    "from collections import defaultdict\n",
    "from collections import Counter\n",
    "import os\n",
    "\n",
    "print(os.getcwd())\n",
    "\n",
    "\n",
    "try:\n",
    "\n",
    "    wordCounts = defaultdict(int)\n",
    "    characters = defaultdict(int)\n",
    "    inFile = open('alice.txt', 'r')\n",
    "\n",
    "    for line in inFile:\n",
    "\n",
    "        line = line.lower().split()\n",
    "        \n",
    "        for word in line:\n",
    "            wordCounts[word] += 1\n",
    "\n",
    "            for char in word:\n",
    "                characters[char] += 1\n",
    "\n",
    "    inFile.close()\n",
    "\n",
    "    print('Number of unique words: {}'.format(len(wordCounts.keys())))\n",
    "\n",
    "    print('Number of words: {}'.format(sum(wordCounts.values())))\n",
    "\n",
    "    counts = Counter(wordCounts)\n",
    "    #print(counts.most_common(20))\n",
    "\n",
    "    words = []\n",
    "    count = []\n",
    "\n",
    "    charset = [chr(i) for i in range(97, 123)]\n",
    "\n",
    "    #print(charset)\n",
    "\n",
    "    chars = list(characters.keys())\n",
    "    charCount = list(characters.values())\n",
    "    cleanCount =[]\n",
    "\n",
    "    for char in charset:\n",
    "        cleanCount.append(characters[char]) \n",
    "\n",
    "    # print(cleanChars)\n",
    "    # print(cleanCount)\n",
    "\n",
    "    for word in counts.most_common(25):\n",
    "        words.append(word[0])\n",
    "        count.append(word[1])\n",
    "    \n",
    "    frequencies = []\n",
    "\n",
    "    for char in cleanChars:\n",
    "        frequency = characters[char] / sum(cleanCount)\n",
    "        frequencies.append(round(frequency, 4))\n",
    "        #print('Frequency of {}: {:.4f}'.format(char, frequency))\n",
    "\n",
    "    plt.figure().set_figwidth(30)\n",
    "\n",
    "    plt.subplot(1,3,1)\n",
    "    plt.title('Top Words')\n",
    "    plt.bar(words, count)\n",
    "    \n",
    "    plt.subplot(1,3,2)\n",
    "    plt.title('Letter Frequency')\n",
    "    plt.bar(charset, cleanCount)\n",
    "\n",
    "    plt.subplot(1,3,3)\n",
    "    plt.title('Letter Histogram')\n",
    "    _ = plt.hist(frequencies, bins = 15)\n",
    "\n",
    "except:\n",
    "\n",
    "    print('File does not exist!')\n",
    "\n"
   ]
  },
  {
   "source": [
    "## More Natural Language Processing and String Formatting\n",
    "1. Python String methods:\n",
    "- `upper()`: converts to upper\n",
    "- `lower()`: converts to lowercase\n",
    "- `count()`: matches the substring\n",
    "- `find()`: finds the first occurrance\n",
    "- `replace(first sub, second sub)`: find and replace\n",
    "- `startswith()` and `endswith()`: testing for leading or ending characters\n",
    "- `join()`: join strings together "
   ],
   "cell_type": "markdown",
   "metadata": {}
  },
  {
   "cell_type": "code",
   "execution_count": 1,
   "metadata": {},
   "outputs": [
    {
     "output_type": "stream",
     "name": "stdout",
     "text": [
      "This is a string: test\nThis string has been padded: 0010\nThis is precise: 3.14\nThis number has commas: 1,000,000\nFirst occurance of Wonderland: 42\n"
     ]
    }
   ],
   "source": [
    "%matplotlib inline\n",
    "import pandas as pd\n",
    "import numpy as np\n",
    "import matplotlib.pyplot as plt\n",
    "import os\n",
    "from collections import defaultdict\n",
    "from collections import Counter\n",
    "\n",
    "string = 'test'\n",
    "\n",
    "print('This is a string: {}'.format(string))\n",
    "\n",
    "print('This string has been padded: {:04}'.format(10))\n",
    "\n",
    "print('This is precise: {:.2f}'.format(np.pi))\n",
    "\n",
    "print('This number has commas: {:,}'.format(1000000))\n",
    "\n",
    "try:\n",
    "    \n",
    "    inFile = open('alice.txt', 'r')\n",
    "\n",
    "    book = inFile.read()\n",
    "\n",
    "    position = book.find('Wonderland')\n",
    "\n",
    "    print('First occurance of Wonderland: {}'.format(position))\n",
    "\n",
    "    inFile.close()\n",
    "\n",
    "except:\n",
    "    print('Error occurred!')\n",
    "\n",
    "\n",
    "# def findnth(string, substring, n):\n",
    "\n",
    "#     try:\n",
    "        \n",
    "#         counts = []\n",
    "\n",
    "#         counts = string.split(substring, n)\n",
    "\n",
    "#         return len(string) - len(counts) - len(substring)\n",
    "\n",
    "#     except:\n",
    "#         print('Error occurred!')\n",
    "\n",
    "# print(findnth(book, 'Wonderland', 2))\n",
    "\n"
   ]
  },
  {
   "source": [
    "## Text Pre-Processing\n",
    "1. Same case\n",
    "2. Split to single words\n",
    "3. Remove whitespace\n"
   ],
   "cell_type": "markdown",
   "metadata": {}
  },
  {
   "cell_type": "code",
   "execution_count": null,
   "metadata": {},
   "outputs": [],
   "source": []
  },
  {
   "source": [
    "## Misc."
   ],
   "cell_type": "markdown",
   "metadata": {}
  },
  {
   "cell_type": "code",
   "execution_count": null,
   "metadata": {},
   "outputs": [],
   "source": [
    "n = 11\n",
    "\n",
    "for i in range(n):\n",
    "    for j in range(i):\n",
    "        print('*', end = '')\n",
    "    print()\n",
    "for l in range(n, 0, -1):\n",
    "    for k in range(l):\n",
    "        print('*', end = '')\n",
    "    print()\n",
    "    \n",
    "l1 = [1, 2, 3]\n",
    "l2 = [4, 5, 6]\n",
    "l3 = [7, 8, 9]\n",
    "test = zip(l1, l2, l3)\n",
    "print(test)"
   ]
  },
  {
   "cell_type": "code",
   "execution_count": null,
   "metadata": {},
   "outputs": [],
   "source": []
  },
  {
   "cell_type": "code",
   "execution_count": null,
   "metadata": {},
   "outputs": [],
   "source": []
  }
 ],
 "metadata": {
  "celltoolbar": "Attachments",
  "kernelspec": {
   "display_name": "Python 3",
   "language": "python",
   "name": "python3"
  },
  "language_info": {
   "codemirror_mode": {
    "name": "ipython",
    "version": 3
   },
   "file_extension": ".py",
   "mimetype": "text/x-python",
   "name": "python",
   "nbconvert_exporter": "python",
   "pygments_lexer": "ipython3",
   "version": "3.8.6-final"
  },
  "toc": {
   "base_numbering": 1,
   "nav_menu": {},
   "number_sections": true,
   "sideBar": true,
   "skip_h1_title": false,
   "title_cell": "Table of Contents",
   "title_sidebar": "Contents",
   "toc_cell": false,
   "toc_position": {},
   "toc_section_display": true,
   "toc_window_display": false
  },
  "varInspector": {
   "cols": {
    "lenName": 16,
    "lenType": 16,
    "lenVar": 40
   },
   "kernels_config": {
    "python": {
     "delete_cmd_postfix": "",
     "delete_cmd_prefix": "del ",
     "library": "var_list.py",
     "varRefreshCmd": "print(var_dic_list())"
    },
    "r": {
     "delete_cmd_postfix": ") ",
     "delete_cmd_prefix": "rm(",
     "library": "var_list.r",
     "varRefreshCmd": "cat(var_dic_list()) "
    }
   },
   "types_to_exclude": [
    "module",
    "function",
    "builtin_function_or_method",
    "instance",
    "_Feature"
   ],
   "window_display": false
  }
 },
 "nbformat": 4,
 "nbformat_minor": 4
}