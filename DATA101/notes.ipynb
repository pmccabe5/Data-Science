{
 "cells": [
  {
   "cell_type": "markdown",
   "metadata": {},
   "source": [
    "# Notes for 9/2\n",
    "\n",
    "## Basic Operations"
   ]
  },
  {
   "cell_type": "code",
   "execution_count": 1,
   "metadata": {
    "scrolled": true
   },
   "outputs": [
    {
     "name": "stdout",
     "output_type": "stream",
     "text": [
      "String: Hello, world!\n",
      "Addition: 10\n",
      "Subtraction: 8\n",
      "Multiplication: 16\n",
      "Division: 8.0\n",
      "Integer division: 4.0\n",
      "Exponents: 16.0\n",
      "Square Root: 4.0\n"
     ]
    }
   ],
   "source": [
    "import math\n",
    "import random\n",
    "\n",
    "string = 'Hello, world!'\n",
    "print('String: ' + string)\n",
    "test = 5 + 5 # addititon\n",
    "print('Addition: ' + str(test))\n",
    "test -= 2 # subtraction\n",
    "print('Subtraction: ' + str(test))\n",
    "test *= 2 # division\n",
    "print('Multiplication: ' + str(test))\n",
    "test /= 2 # division\n",
    "print('Division: ' + str(test))\n",
    "test //= 2 # division\n",
    "print('Integer division: ' + str(test))\n",
    "test = test ** 2 # exponents\n",
    "print('Exponents: ' + str(test))\n",
    "test = math.sqrt(test) # square root\n",
    "print('Square Root: ' + str(test))\n",
    "\n"
   ]
  },
  {
   "cell_type": "markdown",
   "metadata": {},
   "source": [
    "## Casting"
   ]
  },
  {
   "cell_type": "code",
   "execution_count": 2,
   "metadata": {},
   "outputs": [
    {
     "name": "stdout",
     "output_type": "stream",
     "text": [
      "2\n",
      "<class 'str'>\n",
      "<class 'int'>\n",
      "<class 'str'>\n"
     ]
    }
   ],
   "source": [
    "k = 2.33345676512321 # float\n",
    "\n",
    "k = int(k) # chop off decimal\n",
    "\n",
    "print(k) # full int left\n",
    "\n",
    "x = '2' # string\n",
    "print(type(x)) # type string\n",
    "\n",
    "y = int(x) # convert to int\n",
    "print(type(y)) # type int\n",
    "\n",
    "z = str(y) # convert to string\n",
    "print(type(z)) # type string"
   ]
  },
  {
   "cell_type": "markdown",
   "metadata": {},
   "source": [
    " ## String Operations"
   ]
  },
  {
   "cell_type": "code",
   "execution_count": 3,
   "metadata": {},
   "outputs": [
    {
     "name": "stdout",
     "output_type": "stream",
     "text": [
      "Upper: HELLO, WORLD!\n",
      "Lower: hello, world!\n",
      "Stripped: hello, world!\n",
      "Length: 13\n"
     ]
    }
   ],
   "source": [
    "original = string # copy to another var\n",
    "\n",
    "string = string.upper() # all to uppper case \n",
    "print('Upper: ' + string) # print upper case string\n",
    "\n",
    "string = string.lower() # all to lower\n",
    "print('Lower: ' + string) # print lower case string\n",
    "\n",
    "string = string.strip() # remove witespace or carriage returns\n",
    "print('Stripped: ' + string) # print stripped string\n",
    "\n",
    "strLength = len(string) # length of string \n",
    "print('Length: ' + str(strLength)) # print the length\n"
   ]
  },
  {
   "cell_type": "markdown",
   "metadata": {},
   "source": [
    "## Booleans"
   ]
  },
  {
   "cell_type": "code",
   "execution_count": 4,
   "metadata": {},
   "outputs": [
    {
     "name": "stdout",
     "output_type": "stream",
     "text": [
      "Result: False\n",
      "Result: True\n"
     ]
    }
   ],
   "source": [
    "a = 2 # first val\n",
    "b = 2.001293 # second val\n",
    "\n",
    "boolean = (a == b) # are the values equal?\n",
    "print('Result: ' + str(boolean)) # print boolean\n",
    "\n",
    "str1 = 'test' # string one \n",
    "str2 = 'test' # string two\n",
    "\n",
    "boolean = (str1 == str2) # are the strings equal?\n",
    "print('Result: ' + str(boolean)) # print boolean"
   ]
  },
  {
   "cell_type": "markdown",
   "metadata": {},
   "source": [
    "## Variables and Documentation"
   ]
  },
  {
   "cell_type": "markdown",
   "metadata": {},
   "source": [
    "### Variable conventions\n",
    "1. Naming conventions:\n",
    "    - Legal characters:\n",
    "    - [A-Z]\n",
    "    - [a-z]\n",
    "    - [0-9]\n",
    "    - Underscore (_)\n",
    "2. Can only start with letters and underscores, no numbers\n",
    "3. No spaces\n",
    "4. Cannot use a keyword \n",
    "5. Try to avoid the following\n",
    "    - l (seen as 1)\n",
    "    - O (seen as 0)\n",
    "6. Use camel case:\n",
    "    - lowerCamelCase\n",
    "    - UpperCamelCase\n",
    "7. Constants: UPPER\n",
    "    - ex: PI- 3.14\n",
    "    \n",
    "### Self-Documenting Code\n",
    "1. Good variable names can minimize comments\n",
    "2. Name variables for the data that they store\n",
    "\n",
    "### Whitespaces\n",
    "1. Return key (enter)\n",
    "    - New line: \\n\n",
    "    - Return: \\r\n",
    "    - Tab: \\t\n",
    "    - Space: ' '\n",
    "2. Strip with the `.strip()` method for strings\n",
    "    "
   ]
  },
  {
   "cell_type": "markdown",
   "metadata": {},
   "source": [
    "## Data Structures (Lists) \n",
    "\n",
    "### Lists\n",
    "**Strings are lists of** `chars`\n",
    "1. Ordered\n",
    "2. Mutable\n",
    "    * Changes the object after use\n",
    "    * Non-mutable \n",
    "3. No need for auxiliary data structures\n",
    "4. Negative indexing `myList[-1]`\n",
    "5. Slicing `myList[:upper]` or `myList[lower:]` or `myList[lower:upper]`\n",
    "6. Append: single element\n",
    "7. Extend: add multiple elements **Takes a list as input**\n",
    "\n"
   ]
  },
  {
   "cell_type": "code",
   "execution_count": 5,
   "metadata": {
    "scrolled": false
   },
   "outputs": [
    {
     "name": "stdout",
     "output_type": "stream",
     "text": [
      "a\n",
      "d\n",
      "['a', 'b', 'c', 'd', 'z']\n",
      "['a', 'b', 'c', 'd', 'z', 1, 2, 3, 4]\n",
      "['a', 'b', 'c', 'd', 'z', 1, 2, 3, 4, 99]\n",
      "['a', 'b', 'c', 'd', 'z', 1, 2, 3, 4, 99, 1, 2, 3, 4]\n",
      "[4, 3, 2, 1]\n",
      "['a', 'b', 'c', 'd', 'z', 1, 2, 3, 4, 1, 2, 3, 4]\n",
      "[1, 2, 3, 4]\n",
      "Count: 2\n",
      "Index: 0\n"
     ]
    }
   ],
   "source": [
    "# Lists\n",
    "\n",
    "# lists for testing\n",
    "arr = ['a', 'b', 'c', 'd']\n",
    "arr2 = [1, 2, 3, 4]\n",
    "\n",
    "# indexing\n",
    "print(arr[0])\n",
    "print(arr[-1])\n",
    "\n",
    "# append single element\n",
    "arr.append('z')\n",
    "print(arr)\n",
    "\n",
    "# extend for multiple elements\n",
    "arr.extend(arr2)\n",
    "print(arr)\n",
    "\n",
    "# mutable methods\n",
    "\n",
    "# append\n",
    "arr.append(99)\n",
    "print(arr)\n",
    "\n",
    "# extend\n",
    "arr.extend(arr2)\n",
    "print(arr)\n",
    "\n",
    "# reverse\n",
    "arr2.reverse()\n",
    "print(arr2)\n",
    "\n",
    "# remove first instance of element\n",
    "arr.remove(99)\n",
    "print(arr)\n",
    "\n",
    "# sort the list (quicksort?)\n",
    "arr2.sort()\n",
    "print(arr2)\n",
    "\n",
    "# Non-mutating\n",
    "\n",
    "# count\n",
    "count = arr.count(4)\n",
    "print('Count: ' + str(count))\n",
    "\n",
    "# index of the first occurence\n",
    "index = arr.index('a')\n",
    "print('Index: ' + str(index))"
   ]
  },
  {
   "cell_type": "markdown",
   "metadata": {},
   "source": [
    "### Tuples\n",
    "\n",
    "1. Immutable: once it is constructed, it cannot be changed  \n",
    "    * Date/Time\n",
    "    * Weekdays\n",
    "    * Fixed data    \n",
    "2. Advantages: \n",
    "    * Faster than lists\n",
    "    * Write protected"
   ]
  },
  {
   "cell_type": "code",
   "execution_count": 6,
   "metadata": {
    "scrolled": true
   },
   "outputs": [
    {
     "name": "stdout",
     "output_type": "stream",
     "text": [
      "<class 'list'>\n",
      "<class 'tuple'>\n",
      "<class 'set'>\n",
      "<class 'tuple'>\n"
     ]
    }
   ],
   "source": [
    "listEx = [3, 64.2, 'some list'] # lists have brackets\n",
    "print(type(listEx))\n",
    "\n",
    "tupleEx = (3, 64.2, 'some list') # tuples have parentheses\n",
    "print(type(tupleEx))\n",
    "\n",
    "setEx = {3, 64.2, 'some list'} # sets have braces\n",
    "print(type(setEx))\n",
    "\n",
    "tup = tuple() # empty tuple\n",
    "\n",
    "print(type(tup))\n",
    "\n"
   ]
  },
  {
   "cell_type": "markdown",
   "metadata": {},
   "source": [
    "### Sets\n",
    "\n",
    "1. Distinct: no two identical elements\n",
    "2. Unordered: don't index the same way lists do\n",
    "3. Advantages:\n",
    "    * stored once, no duplicates  \n",
    "4. Disadvantage: no sense of ordering"
   ]
  },
  {
   "cell_type": "code",
   "execution_count": 7,
   "metadata": {},
   "outputs": [
    {
     "name": "stdout",
     "output_type": "stream",
     "text": [
      "{1, 2}\n",
      "{1, 'a', 2, 3, 4, 'd', 'b', 'c', 'z'}\n",
      "True\n",
      "False\n"
     ]
    }
   ],
   "source": [
    "sets = set() # empty set\n",
    "\n",
    "sets.add(1)\n",
    "sets.add(2)\n",
    "sets.add(2)\n",
    "\n",
    "print(sets) # print the set\n",
    "\n",
    "sets = set(arr) # arr to sets\n",
    "print(sets)\n",
    "\n",
    "for i in range(10):\n",
    "    arr.append(i + 1)\n",
    "\n",
    "sets = set(arr) # list in set\n",
    "    \n",
    "print(5 in sets)\n",
    "\n",
    "print(22 in sets)"
   ]
  },
  {
   "cell_type": "markdown",
   "metadata": {},
   "source": [
    "### Dictionaries\n",
    "\n",
    "1. Key:value pair\n",
    "2. Hash maps\n",
    "3. Distinct keys\n",
    "4. Advantages:\n",
    "    * Mutabe\n",
    "    * Unordered\n",
    "    * Keys are distinct, values can be the same"
   ]
  },
  {
   "cell_type": "code",
   "execution_count": 8,
   "metadata": {},
   "outputs": [
    {
     "name": "stdout",
     "output_type": "stream",
     "text": [
      "{1: 'test', 2: [1, 2, 3, 4]}\n",
      "[1, 2, 3, 4]\n",
      "dict_keys([1, 2])\n",
      "dict_values(['test', [1, 2, 3, 4]])\n",
      "dict_items([(1, 'test'), (2, [1, 2, 3, 4])])\n"
     ]
    }
   ],
   "source": [
    "dictionary = {} # empty dictionary\n",
    "\n",
    "dictionary[1] = 'test' # add value\n",
    "dictionary[2] = [1, 2, 3, 4]\n",
    "\n",
    "print(dictionary) # print whole dictionary\n",
    "\n",
    "print(dictionary[2]) # print single element\n",
    "\n",
    "print(dictionary.keys()) # print the keys\n",
    "\n",
    "print(dictionary.values()) # print the values\n",
    "\n",
    "print(dictionary.items()) # print the items as tuples\n",
    "\n"
   ]
  },
  {
   "cell_type": "markdown",
   "metadata": {},
   "source": [
    "## Aliasing\n",
    "\n",
    "1. Same data is in both locations\n",
    "2. Data is not copied to the other variable"
   ]
  },
  {
   "cell_type": "code",
   "execution_count": 9,
   "metadata": {
    "scrolled": false
   },
   "outputs": [
    {
     "name": "stdout",
     "output_type": "stream",
     "text": [
      "{1: 'test', 2: [1, 2, 3, 4]}\n",
      "{1: 'test', 2: [1, 2, 3, 4]}\n",
      "{1: 'test', 2: [1, 2, 3, 4], 'Cole': 'hidden'}\n",
      "{1: 'test', 2: [1, 2, 3, 4], 'Cole': 'hidden'}\n",
      "True\n"
     ]
    }
   ],
   "source": [
    "alias = dictionary\n",
    "\n",
    "print(dictionary)\n",
    "print(alias)\n",
    "\n",
    "alias['Cole'] = 'hidden'\n",
    "print(dictionary)\n",
    "print(alias)\n",
    "\n",
    "print(alias is dictionary)"
   ]
  },
  {
   "cell_type": "markdown",
   "metadata": {},
   "source": [
    "## Iteration\n",
    "\n",
    "1. Why: machines that repeat tasks\n",
    "2. For loop: `for i in range(lower, upper, step):` or `for item in list:`\n",
    "3. Indentation is key for loops and functions"
   ]
  },
  {
   "cell_type": "code",
   "execution_count": 10,
   "metadata": {
    "scrolled": true
   },
   "outputs": [
    {
     "name": "stdout",
     "output_type": "stream",
     "text": [
      "[10, 53, 96, 88, 92, 49, 15, 92]\n",
      "Sum: 424\n",
      "Average Age: 53.0\n"
     ]
    }
   ],
   "source": [
    "ages = []\n",
    "\n",
    "for i in range(8):\n",
    "    ages.append(random.randint(0,120))\n",
    "    \n",
    "print(ages)\n",
    "\n",
    "sumOfAges = 0 \n",
    "\n",
    "for i in range(len(ages)):\n",
    "    sumOfAges += ages[1]\n",
    "\n",
    "print('Sum: ' + str(sumOfAges))\n",
    "\n",
    "avg = sumOfAges / len(ages)\n",
    "print('Average Age: ' + str(avg))\n"
   ]
  },
  {
   "cell_type": "markdown",
   "metadata": {},
   "source": [
    "4. While loop `while <condition>:`"
   ]
  },
  {
   "cell_type": "code",
   "execution_count": 11,
   "metadata": {
    "scrolled": true
   },
   "outputs": [
    {
     "name": "stdout",
     "output_type": "stream",
     "text": [
      "10\n",
      "11\n",
      "12\n",
      "13\n",
      "14\n"
     ]
    }
   ],
   "source": [
    "it = 10\n",
    "\n",
    "while it < 15:\n",
    "    print(it)\n",
    "    it += 1"
   ]
  },
  {
   "cell_type": "markdown",
   "metadata": {},
   "source": [
    "## String formatting"
   ]
  },
  {
   "cell_type": "code",
   "execution_count": 12,
   "metadata": {},
   "outputs": [
    {
     "name": "stdout",
     "output_type": "stream",
     "text": [
      "My name is Patrick, I am 21\n",
      "My name is Patrick, I am 21\n",
      "My name is Patrick, I am 21\n"
     ]
    }
   ],
   "source": [
    "txt = 'My name is {name}, I am {age}'.format(name = 'Patrick', age = 21) # variables\n",
    "print(txt)\n",
    "\n",
    "txt = 'My name is {0}, I am {1}'.format('Patrick', 21) # indices\n",
    "print(txt)\n",
    "\n",
    "txt = 'My name is {}, I am {}'.format('Patrick', 21) # first, second\n",
    "print(txt)"
   ]
  },
  {
   "cell_type": "markdown",
   "metadata": {},
   "source": [
    "## Advanced Data Structures\n",
    "\n",
    "1. For loops: `for i in range(lower, upper, step): or for item in list:`\n",
    "2. While loop `while <condition>:`"
   ]
  },
  {
   "cell_type": "code",
   "execution_count": 13,
   "metadata": {},
   "outputs": [
    {
     "name": "stdout",
     "output_type": "stream",
     "text": [
      "The number of digits is: 3\n"
     ]
    }
   ],
   "source": [
    "num = 839\n",
    "count = 0\n",
    "while num > 0:\n",
    "    num = num // 10\n",
    "    count += 1\n",
    "    \n",
    "print('The number of digits is: ' + str(count))\n"
   ]
  },
  {
   "cell_type": "markdown",
   "metadata": {},
   "source": [
    "## Special Iteration\n",
    "\n",
    "1. `range(lower, upper, step)`\n",
    "2. "
   ]
  },
  {
   "cell_type": "code",
   "execution_count": 14,
   "metadata": {},
   "outputs": [
    {
     "name": "stdout",
     "output_type": "stream",
     "text": [
      "0 1 2 3 4 5 6 7 8 9 \n",
      "5 6 7 8 9 \n",
      "0 5 10 15 20 25 30 35 40 45 \n",
      "50 45 40 35 30 25 20 15 10 5 "
     ]
    }
   ],
   "source": [
    "for i in range(10):\n",
    "    print (i, end = \" \")\n",
    "\n",
    "print()\n",
    "\n",
    "for i in range(5, 10):\n",
    "    print (i, end = \" \")\n",
    "\n",
    "print()\n",
    "\n",
    "for i in range(0, 50, 5):\n",
    "    print (i, end = \" \")\n",
    "\n",
    "print()\n",
    "\n",
    "for i in range(50, 0, -5):\n",
    "    print (i, end = \" \")"
   ]
  },
  {
   "cell_type": "markdown",
   "metadata": {},
   "source": [
    "## List Comprehension\n",
    "\n",
    "1. One liners for lists and for loops"
   ]
  },
  {
   "cell_type": "code",
   "execution_count": 15,
   "metadata": {
    "scrolled": false
   },
   "outputs": [
    {
     "name": "stdout",
     "output_type": "stream",
     "text": [
      "[0, 1, 4, 9, 16, 25, 36, 49, 64, 81]\n",
      "[0, 1, 4, 9, 16, 25, 36, 49, 64, 81]\n",
      "[10, 11, 14, 19, 26, 35, 46, 59, 74, 91]\n"
     ]
    }
   ],
   "source": [
    "squares = []\n",
    "\n",
    "for i in range(10):\n",
    "    squares.append(i ** 2)\n",
    "    \n",
    "print(squares)\n",
    "\n",
    "squares = [i ** 2 for i in range(10)]\n",
    "print(squares)\n",
    "\n",
    "new_count = [10 + element for element in squares]\n",
    "print (new_count)"
   ]
  },
  {
   "cell_type": "markdown",
   "metadata": {},
   "source": [
    "## Conditionals\n",
    "\n",
    "### `if` Statements\n",
    "1. `if`: `if <condition>:`\n",
    "2. `elif`: `elif <condition>:`\n",
    "3. `else`: `else:`"
   ]
  },
  {
   "cell_type": "code",
   "execution_count": 16,
   "metadata": {
    "scrolled": true
   },
   "outputs": [
    {
     "name": "stdout",
     "output_type": "stream",
     "text": [
      "Max: 100\n",
      "Jen B\n",
      "Shannon C\n",
      "Natasha A\n",
      "Benjamin F\n"
     ]
    }
   ],
   "source": [
    "arr = [1, 2, 3, 4, 99, 2, 44, 100]\n",
    "maxVal = 0\n",
    "\n",
    "for i in range(len(arr)):\n",
    "    if arr[i] > maxVal:\n",
    "        maxVal = arr[i]\n",
    "print('Max: ' + str(maxVal))\n",
    "\n",
    "\n",
    "letter = ''\n",
    "\n",
    "tests = {'Jen': 82, 'Shannon': 75, 'Natasha': 94, 'Benjamin': 48}\n",
    "\n",
    "for student, grade in tests.items():\n",
    "    \n",
    "    if grade >= 90:\n",
    "        letter = 'A'\n",
    "        \n",
    "    elif grade >= 80: \n",
    "        letter = 'B'\n",
    "    \n",
    "    elif grade >= 70:\n",
    "        letter = 'C'\n",
    "        \n",
    "    elif grade >= 60:\n",
    "        letter = 'D'\n",
    "    \n",
    "    else: \n",
    "        letter = 'F'\n",
    "    \n",
    "    print(student, letter)"
   ]
  },
  {
   "cell_type": "markdown",
   "metadata": {},
   "source": [
    "## Boolean Logic\n",
    "\n",
    "1. `and` truth table:\n",
    "\n",
    "X   | Y  | Result\n",
    ":-: |:-: | :----:\n",
    "0   | 0  | `False` \n",
    "0   | 1  | `False`\n",
    "1   | 0  | `False`\n",
    "1   | 1  | `True`\n",
    "\n",
    "2. `or` truth table:\n",
    "\n",
    "X   | Y  | Result\n",
    ":-: |:-: | :----:\n",
    "0   | 0  | `False` \n",
    "0   | 1  | `True`\n",
    "1   | 0  | `True`\n",
    "1   | 1  | `True`\n",
    "\n",
    "3. `not` truth table:\n",
    "\n",
    "X   | Result\n",
    ":-: | :----:\n",
    "0   | `True`\n",
    "1   | `False`\n",
    "\n",
    "4. `in`\n",
    "5. `is`"
   ]
  },
  {
   "cell_type": "code",
   "execution_count": 35,
   "metadata": {},
   "outputs": [
    {
     "name": "stdout",
     "output_type": "stream",
     "text": [
      "73\n",
      "\n",
      "[1, 2, 3, 4, 5, 6, 7, 8, 9, 10]\n",
      "2 is even\n",
      "4 is even\n",
      "6 is even\n",
      "8 is even\n",
      "10 is even\n",
      "\n",
      "13 is not in numbers\n",
      "[0, 1, 2, 3, 4, 5, 6, 7, 8, 9]\n",
      "You are allowed to take the exam!\n"
     ]
    }
   ],
   "source": [
    "x = [51, 65, 56, 19, 11, 49, 81, 59, 45, 73]\n",
    "maxVal = 81\n",
    "secondMax = 0\n",
    "\n",
    "length = len(x)\n",
    "it = 0 \n",
    "\n",
    "while it < length:\n",
    "    if secondMax < x[it] and x[it] < maxVal:\n",
    "        secondMax = x[it]\n",
    "    it += 1\n",
    "print(str(secondMax) + '\\n')\n",
    "\n",
    "numbers = [i for i in range (1, 11)]\n",
    "print(numbers)\n",
    "\n",
    "for num in range(len(numbers)):\n",
    "    if numbers[num] % 2 == 0:\n",
    "        print(str(numbers[num]) + ' is even')\n",
    "        \n",
    "numbers = [i for i in range(10)]\n",
    "\n",
    "if(13 not in numbers):\n",
    "    print('\\n13 is not in numbers')\n",
    "    \n",
    "# print(numbers)\n",
    "\n",
    "noh = 25\n",
    "noa = 12\n",
    "\n",
    "attendance = noa / noh\n",
    "medicalDoc = True\n",
    "\n",
    "if attendance < 0.65:\n",
    "    if medicalDoc:\n",
    "        print('You are allowed to take the exam!')\n",
    "    else:\n",
    "        print('You are not able to take the exam!')\n",
    "    \n",
    "else:\n",
    "    print('You are allowed to take the exam!')"
   ]
  },
  {
   "cell_type": "markdown",
   "metadata": {},
   "source": [
    "## Error Handling\n",
    "\n",
    "1. Common Errors:\n",
    "    - `Type`\n",
    "    - `Key`\n",
    "    - `Index`\n",
    "    - `Name`\n",
    "2. Exception: raised when errors occur, solved by catching the error with `try` and `except`\n",
    "3. `try` and `except`"
   ]
  },
  {
   "cell_type": "code",
   "execution_count": 25,
   "metadata": {},
   "outputs": [
    {
     "name": "stdout",
     "output_type": "stream",
     "text": [
      "Error!\n",
      "Debug\n",
      "Result: Error, Zero division!\n",
      "Error present!\n",
      "0\n",
      "Error present!\n",
      "1\n",
      "Error present!\n",
      "Always printed\n",
      "1\n"
     ]
    }
   ],
   "source": [
    "#print(3/'xy') # illegal math operation\n",
    "\n",
    "#print(j) # example of name error\n",
    "\n",
    "#print('Debug') # should be executed when made available\n",
    "\n",
    "try:\n",
    "    \n",
    "    print(z)\n",
    "    \n",
    "except:\n",
    "    \n",
    "    print('Error!')\n",
    "\n",
    "print('Debug')\n",
    "\n",
    "#print(10/0) # Zero division\n",
    "\n",
    "# Function example for division\n",
    "\n",
    "\n",
    "def divide(x, y):\n",
    "    \n",
    "    quotient = 0\n",
    "    \n",
    "    try:\n",
    "        quotient = x / y\n",
    "    \n",
    "    except ZeroDivisionError:\n",
    "        quotient = 'Error, Zero division!'\n",
    "    \n",
    "    return quotient\n",
    "\n",
    "    \n",
    "returnVal = divide(10, 0)\n",
    "\n",
    "print('Result: ' + str(returnVal))\n",
    "\n",
    "\n",
    "import random \n",
    "num = random.randint(0,1)\n",
    "\n",
    "try:\n",
    "    pass # keyword to skip over\n",
    "\n",
    "except (NameError, ValueError):\n",
    "    print('Error present!')\n",
    "\n",
    "\n",
    "num = random.randint(0,1)\n",
    "\n",
    "try:\n",
    "    \n",
    "    if num == 1:\n",
    "        raise NameError('Happens when there is no variable defined')\n",
    "        \n",
    "    else:\n",
    "        raise ValueError('Happens when you multiply by a string')\n",
    "\n",
    "except (NameError, ValueError):\n",
    "    print('Error present!')\n",
    "\n",
    "\n",
    "print(num)\n",
    "\n",
    "num = random.randint(0,1)\n",
    "\n",
    "try:\n",
    "    \n",
    "    if num == 1:\n",
    "        raise NameError('Happens when there is no variable defined')\n",
    "        \n",
    "except (NameError, ValueError):\n",
    "    print('Error present!')\n",
    "\n",
    "else:\n",
    "    print('No errors occurred!')\n",
    "\n",
    "print(num)\n",
    "\n",
    "\n",
    "num = random.randint(0,1)\n",
    "\n",
    "try:\n",
    "    \n",
    "    if num == 1:\n",
    "        raise NameError('Happens when there is no variable defined')\n",
    "        \n",
    "    else:\n",
    "        raise ValueError('Happens when you multiply by a string')\n",
    "\n",
    "except (NameError, ValueError):\n",
    "    print('Error present!')\n",
    "\n",
    "else:\n",
    "    print('No errors occurred!')\n",
    "    \n",
    "finally: \n",
    "    print('Always printed')\n",
    "\n",
    "print(num)\n",
    "\n",
    "num = random.randint(0,1)\n",
    "\n",
    "try:\n",
    "    \n",
    "    if num == 1:\n",
    "        raise NameError('Happens when there is no variable defined')\n",
    "        \n",
    "    else:\n",
    "        raise Exception('Happens when you multiply by a string')\n",
    "\n",
    "except:\n",
    "    print('Error present!')\n",
    "\n",
    "else:\n",
    "    print('No errors occurred!')\n",
    "    \n",
    "finally: \n",
    "    print('Always printed')\n",
    "\n",
    "print(num)"
   ]
  },
  {
   "cell_type": "markdown",
   "metadata": {},
   "source": [
    "## Functions\n",
    "\n",
    "### Function definitions\n",
    "\n",
    "1. Blocks of code and scopes of code blocks\n",
    "2. Defining functions:\n",
    "    - Name\n",
    "    - Arguments\n",
    "    - Return value\n",
    "\n",
    "```\n",
    "def foo(param1, param2):\n",
    "       <Some code>\n",
    "       return value\n",
    "```\n",
    "\n",
    "3. Compartmentalize one thing and do it well\n",
    "4. Methods are in classes\n",
    "5. Functions are not in classes"
   ]
  },
  {
   "cell_type": "code",
   "execution_count": 1,
   "metadata": {},
   "outputs": [],
   "source": [
    "def ourFunction():\n",
    "    pass\n",
    "\n",
    "ourFunction()"
   ]
  },
  {
   "cell_type": "markdown",
   "metadata": {},
   "source": [
    "### Function Arguments (parameters)\n",
    "\n",
    "1. As many args as you want, separated by comma\n",
    "2. Provide the same number of arguments for the function in the function call\n",
    "\n",
    "```\n",
    "def fun1(one):\n",
    "    <some code>    \n",
    "```\n",
    "\n",
    "Sample call: `fun1(5) # works`\n",
    "\n",
    "Sample call: `fun1(5, 55) # error`\n",
    "\n",
    "4. Default Arguments:\n",
    "    - Positional requirements are required"
   ]
  },
  {
   "cell_type": "code",
   "execution_count": 16,
   "metadata": {},
   "outputs": [
    {
     "name": "stdout",
     "output_type": "stream",
     "text": [
      "5\n",
      "5 5\n",
      "test 10\n",
      "test 999\n",
      "User Patrick owns: \n",
      "\tAmong Us\n",
      "\tNBA 2k\n",
      "test\n"
     ]
    }
   ],
   "source": [
    "def oneArg(one):\n",
    "    print(one)\n",
    "    \n",
    "def twoArgs(one, two):\n",
    "    print(one, two)\n",
    "\n",
    "def threeArgs(one, two, three):\n",
    "    print(one, two, three)\n",
    "    \n",
    "oneArg(5) # works\n",
    "\n",
    "# oneArg(5, 55) # fails: too many params\n",
    "\n",
    "twoArgs(5, 5) # works\n",
    "\n",
    "# twoArgs(5, 5, 5) # fails: too many params\n",
    "\n",
    "def funOne(param, default = 10):\n",
    "    print(param, default)\n",
    "    \n",
    "funOne('test') # works\n",
    "\n",
    "funOne('test', default = 999) # works\n",
    "\n",
    "# funOne() # no params does not work\n",
    "\n",
    "def games(user, lib):\n",
    "    \n",
    "    print('User {} owns: '.format(user))\n",
    "    \n",
    "    for game in lib:\n",
    "        print('\\t' + game)\n",
    "        \n",
    "library = ['Among Us', 'NBA 2k']\n",
    "\n",
    "user = 'Patrick'\n",
    "\n",
    "games(user, library)\n",
    "\n",
    "def identity(arg):\n",
    "    return arg\n",
    "\n",
    "\n",
    "returnVal = identity('test')\n",
    "\n",
    "print(returnVal)\n",
    "\n",
    "\n",
    "        "
   ]
  },
  {
   "cell_type": "markdown",
   "metadata": {},
   "source": [
    "### Return Values\n",
    "\n",
    "1. `return` statement returns a value\n",
    "2. Optional statement in a function\n",
    "3. Multiple values can be returned\n",
    "    - Returned as tuples\n",
    "4. Can return dictionaries"
   ]
  },
  {
   "cell_type": "code",
   "execution_count": 4,
   "metadata": {},
   "outputs": [
    {
     "name": "stdout",
     "output_type": "stream",
     "text": [
      "test\n",
      "['O', 'n', 'e', 't', 'w', 'o', 't', 'h', 'r', 'e', 'e']\n",
      "(10, [1, 2, 3])\n",
      "{'1': 1, '2': 2, '3': 3}\n"
     ]
    }
   ],
   "source": [
    "def identity(arg):\n",
    "    return arg\n",
    "\n",
    "\n",
    "returnVal = identity('test')\n",
    "\n",
    "print(returnVal)\n",
    "\n",
    "def explodeString(string):\n",
    "    chars = []\n",
    "    for i in range(len(string)):\n",
    "        chars.append(string[i])\n",
    "    return chars\n",
    "\n",
    "words = 'Onetwothree'\n",
    "\n",
    "result = explodeString(words)\n",
    "\n",
    "print(result)\n",
    "\n",
    "def listToTuples(inlist):\n",
    "    return 10, inlist\n",
    "\n",
    "lst = [1, 2, 3]\n",
    "\n",
    "print(listToTuples(lst))\n",
    "\n",
    "def listToDictionary(inList):\n",
    "    zero = inList[0]\n",
    "    one = inList[1]\n",
    "    two = inList[2]\n",
    "    \n",
    "    return {'1': zero, '2': one, '3': two}\n",
    "\n",
    "print(listToDictionary(lst))\n",
    "\n"
   ]
  },
  {
   "cell_type": "markdown",
   "metadata": {},
   "source": [
    "### Keyword Arguments\n",
    "1. Set the parameters equal to the variable\n",
    "2. Order does not matter as long as the values are assigned correctly\n",
    "3. Positional are always before default arguments"
   ]
  },
  {
   "cell_type": "code",
   "execution_count": 12,
   "metadata": {},
   "outputs": [
    {
     "name": "stdout",
     "output_type": "stream",
     "text": [
      "Pet 1: King\n",
      "Pet 2: Bailey\n",
      "Pet 1: King\n",
      "Pet 2: Bailey\n",
      "Pet 1: King\n",
      "Pet 2: Bailey\n",
      "50\n",
      "[1, 2, 3, 4]\n"
     ]
    }
   ],
   "source": [
    "def petName(name1, name2):\n",
    "    print('Pet 1:', name1)\n",
    "    print('Pet 2:', name2)\n",
    "    \n",
    "pet1 = 'King'\n",
    "pet2 = 'Bailey'\n",
    "\n",
    "petName(pet1, pet2)\n",
    "\n",
    "petName(name1 = pet1, name2 = pet2)\n",
    "\n",
    "petName(name2 = pet2, name1 = pet1)\n",
    "\n",
    "def posDef(x, y = 10):\n",
    "    return x + (2 * y)\n",
    "\n",
    "z = posDef(x = 10, y = 20)\n",
    "print(z)\n",
    "\n",
    "# define a function that takes a list and returns the unique elements of the first list\n",
    "\n",
    "def unique_list(lst):\n",
    "    \n",
    "    unique = {}\n",
    "    length = len(lst)\n",
    "    \n",
    "    for key in lst:\n",
    "        unique[key] = 0\n",
    "        \n",
    "    return list(unique.keys())\n",
    "\n",
    "lst = [1,1,1,2,2,2,2,3,4]\n",
    "\n",
    "result = uniqueList(lst)\n",
    "print(result)\n",
    "    "
   ]
  },
  {
   "cell_type": "markdown",
   "metadata": {},
   "source": [
    "## Function review\n",
    "1. Palindrome function"
   ]
  },
  {
   "cell_type": "code",
   "execution_count": 8,
   "metadata": {},
   "outputs": [
    {
     "name": "stdout",
     "output_type": "stream",
     "text": [
      "True\n"
     ]
    }
   ],
   "source": [
    "def isPalindrome(string):\n",
    "    \n",
    "    left = 0\n",
    "    right = len(string) - 1\n",
    "    \n",
    "    while right >= left:\n",
    "        if string[left] != string[right]:\n",
    "            return False\n",
    "        \n",
    "        left += 1\n",
    "        right -= 1\n",
    "        \n",
    "    return True\n",
    "\n",
    "print(isPalindrome('radar'))    "
   ]
  },
  {
   "cell_type": "markdown",
   "metadata": {},
   "source": [
    "## Libraries\n",
    "1. Import statement: `import library`\n",
    "2. How to import the library: `import numpy as np`\n",
    "3. Levels:\n",
    "    - Built in functions: `len()`, `print()`, `max()`, `min()`\n",
    "    - Default libraries: \n",
    "        - `random`: random numbers\n",
    "        - `os`: Operating System\n",
    "        - `re`: RegEx\n",
    "        - `datetime`: date and time\n",
    "        - `math`: math library\n",
    "        - `xml`: parsing xml files\n",
    "    - Python Package Index (manual):\n",
    "        - `pip3 install [package]`\n",
    "    "
   ]
  },
  {
   "cell_type": "code",
   "execution_count": 11,
   "metadata": {},
   "outputs": [
    {
     "name": "stdout",
     "output_type": "stream",
     "text": [
      "1\n"
     ]
    }
   ],
   "source": [
    "import random as r\n",
    "\n",
    "print(r.randint(0, 1))"
   ]
  },
  {
   "cell_type": "markdown",
   "metadata": {},
   "source": [
    "## Numpy\n",
    "1. Numperical Python\n",
    "2. One of the most popular packages\n",
    "3. Core: ndarray\n",
    "    - n-dimensional array\n",
    "    - matrices"
   ]
  },
  {
   "cell_type": "code",
   "execution_count": 12,
   "metadata": {
    "scrolled": true
   },
   "outputs": [
    {
     "name": "stdout",
     "output_type": "stream",
     "text": [
      "[[1, 2, 3], [4, 5, 6], [7, 8, 9]]\n"
     ]
    }
   ],
   "source": [
    "matrix = [[1,2,3], [4,5,6], [7,8,9]]\n",
    "\n",
    "print(matrix)"
   ]
  },
  {
   "cell_type": "code",
   "execution_count": 18,
   "metadata": {
    "scrolled": true
   },
   "outputs": [
    {
     "name": "stdout",
     "output_type": "stream",
     "text": [
      "[[1 2 3]\n",
      " [4 5 6]\n",
      " [7 8 9]]\n",
      "<class 'numpy.ndarray'>\n",
      "[1 2 3]\n",
      "9\n",
      "9\n"
     ]
    }
   ],
   "source": [
    "import numpy as np\n",
    "\n",
    "matrix = [[1,2,3], [4,5,6], [7,8,9]]\n",
    "\n",
    "arr = np.array(matrix)\n",
    "\n",
    "print(arr)\n",
    "print(type(arr))\n",
    "\n",
    "print(arr[0])\n",
    "print(arr[2][2]) # [row] [column]\n",
    "print(arr[2,2])"
   ]
  },
  {
   "cell_type": "markdown",
   "metadata": {},
   "source": [
    "## More Numpy\n",
    "1. `ndarray`\n",
    "2. Submodules:\n",
    "    - `ndarray`\n",
    "    - `sin`\n",
    "    - `cos`\n",
    "    - `log`\n",
    "    - `exp`\n",
    "    - `max`\n",
    "    - `min`\n",
    "3. Fourier Transform\n",
    "    - `fft`: infinite sum of sine and cosine waves\n",
    "4. Linear Algebra:\n",
    "    - `linalg.norm`\n",
    "    - `linalg.svd`\n",
    "    - `linalg.det`\n",
    "5. Random Numbers:\n",
    "    - `random`\n",
    "6. Testing:\n",
    "    - `testing.assert_allclose()`\n",
    "7. Vectorized Arithmetic:\n",
    "    - Broadcasting: vectorized operations with different shapes\n",
    "    - Compatible same rows and columns\n",
    "    - One Dimensional array"
   ]
  },
  {
   "cell_type": "code",
   "execution_count": 32,
   "metadata": {},
   "outputs": [
    {
     "name": "stdout",
     "output_type": "stream",
     "text": [
      "Min: 1\n",
      "Cos of first element: 0.54\n",
      "5\n",
      "None\n",
      "[25, 100, 225, 400, 625]\n",
      "[ 25 100 225 400 625]\n",
      "[ 2  4  6  8 10]\n",
      "16.76305461424021\n"
     ]
    }
   ],
   "source": [
    "import numpy as np\n",
    "\n",
    "arr = np.array([1, 2, 3, 4, 5, 6, 7, 8, 9])\n",
    "\n",
    "print('Min:', np.min(arr))\n",
    "print('Cos of first element: {:.2f}'.format(np.cos(arr[0])))\n",
    "\n",
    "print(np.random.randint(10)) # non-inclusive end point like range f(x)\n",
    "\n",
    "arr = np.array([1, 2])\n",
    "brr = np.array([3, 4])\n",
    "\n",
    "\n",
    "\n",
    "print(np.testing.assert_allclose(arr, arr))\n",
    "\n",
    "#print(np.testing.assert_allclose(arr, brr))\n",
    "\n",
    "our_list= [5, 10, 15, 20, 25]\n",
    "our_list = [x ** 2 for x in our_list]\n",
    "print(our_list)\n",
    "\n",
    "our_list = [5, 10, 15, 20, 25]\n",
    "\n",
    "nd = np.array(our_list)\n",
    "\n",
    "nd = nd ** 2\n",
    "\n",
    "print(nd)\n",
    "\n",
    "new_list = [10, 21, 30, 42, 54]\n",
    "nd = np.array(new_list)\n",
    "\n",
    "nd = nd // 5\n",
    "\n",
    "print(nd)\n",
    "\n",
    "import numpy as np\n",
    "import numpy.linalg as nla\n",
    "\n",
    "vector = [4.0, 15.0, 6.0, 2.0]\n",
    "\n",
    "npVector = np.array(vector)\n",
    "magnitude = nla.norm(npVector)\n",
    "\n",
    "npVector /= magnitude\n",
    "\n",
    "print(magnitude)\n"
   ]
  },
  {
   "cell_type": "markdown",
   "metadata": {},
   "source": [
    "## Midterm\n",
    "1. Exam will be on Mimir\n",
    "2. Open note\n",
    "3. No collaboration\n",
    "4. Multiple Submissions\n",
    "5. 11:30 - ? (extra hour?)\n",
    "6. Review Wednesday"
   ]
  },
  {
   "cell_type": "code",
   "execution_count": 8,
   "metadata": {
    "scrolled": true
   },
   "outputs": [
    {
     "name": "stdout",
     "output_type": "stream",
     "text": [
      "[5 7 9]\n",
      "[[19 22]\n",
      " [43 50]]\n",
      "(2, 2)\n",
      "[[1 2 3 4]\n",
      " [5 6 7 8]]\n",
      "[[1 2]\n",
      " [1 2]]\n",
      "[1, 2, 3, 4]\n",
      "[2, 3]\n",
      "[3, 4]\n",
      "[1, 2, 3]\n",
      "[1 2 3 4]\n",
      "[2 3]\n",
      "[3 4]\n",
      "[1 2 3]\n"
     ]
    }
   ],
   "source": [
    "import numpy as np\n",
    "\n",
    "x = np.array([1, 2, 3])\n",
    "y = np.array([4, 5, 6])\n",
    "\n",
    "z = x + y\n",
    "\n",
    "print(z)\n",
    "\n",
    "A = np.array([[1, 2], [3, 4]])\n",
    "B = np.array([[5, 6], [7, 8]])\n",
    "\n",
    "C = A @ B\n",
    "\n",
    "print(C)\n",
    "\n",
    "print(C.shape)\n",
    "\n",
    "def multiplyMatrices(A, B):\n",
    "    \n",
    "    C = np.zeros((A.shape[0], B.shape[1]))\n",
    "    \n",
    "    for row in range(len(A)):      \n",
    "        for col in range(len(B[0])):\n",
    "            for k in range(len(B)):\n",
    "                C[row][col] += A[row][k] * B[k][col]\n",
    "    \n",
    "    return C\n",
    "\n",
    "one = np.array([[1,2,3,4], [5,6,7,8]])\n",
    "two = np.array([[1,2], [1,2]])\n",
    "\n",
    "print(one)\n",
    "print(two)\n",
    "\n",
    "# print(multiplyMatrices(one, two))\n",
    "\n",
    "\n",
    "X = np.random.random([100, 100])\n",
    "Y = np.random.random([100, 100])\n",
    "\n",
    "#%timeit multiplyMatrices(X, Y)\n",
    "#%timeit X @ Y\n",
    "\n",
    "\n",
    "\n",
    "# normal list\n",
    "lst = [1, 2, 3, 4]\n",
    "\n",
    "print(lst)\n",
    "print(lst[1:3])\n",
    "print(lst[2:])\n",
    "print(lst[:-1])\n",
    "\n",
    "# numpy equivalent\n",
    "lst = np.array(lst)\n",
    "\n",
    "print(lst)\n",
    "print(lst[1:3])\n",
    "print(lst[2:])\n",
    "print(lst[:-1])\n",
    "\n",
    "\n"
   ]
  },
  {
   "cell_type": "markdown",
   "metadata": {},
   "source": [
    "## Numpy Array Broadcasting\n",
    "1. Sliceing works for printing rows and columns\n",
    "2. Advanced Slicing:\n",
    "    - `[start:stop]`\n",
    "    - `[start:stop:end]`\n",
    "3. Broadcasting: vectorized operations with different shapes\n",
    "    - Compatible same rows and columns\n",
    "    - One Dimensional array"
   ]
  },
  {
   "cell_type": "code",
   "execution_count": 1,
   "metadata": {
    "scrolled": true
   },
   "outputs": [
    {
     "name": "stdout",
     "output_type": "stream",
     "text": [
      "[[1 2 3]\n",
      " [4 5 6]\n",
      " [7 8 9]]\n",
      "[2 5 8]\n",
      "[[2 3]\n",
      " [5 6]]\n",
      "[[7 8 9]]\n",
      "[[1 2]\n",
      " [4 5]\n",
      " [7 8]]\n",
      "[[4 5]]\n",
      "[[ 1  2  3  4]\n",
      " [ 5  6  7  8]\n",
      " [ 9 10 11 12]]\n",
      "[[ 2  4]\n",
      " [ 6  8]\n",
      " [10 12]]\n",
      "[[ 0  1  2  3  4  5]\n",
      " [ 6  7  8  9 10 11]\n",
      " [12 13 14 15 16 17]\n",
      " [18 19 20 21 22 23]\n",
      " [24 25 26 27 28 29]\n",
      " [30 31 32 33 34 35]]\n",
      "[[12 14 16]\n",
      " [24 26 28]]\n",
      "3\n",
      "(3, 5, 9)\n",
      "(5, 9)\n",
      "(9,)\n",
      "[[[0. 0. 0. 0. 0. 0. 0. 0. 0.]\n",
      "  [0. 0. 0. 0. 0. 0. 0. 0. 0.]\n",
      "  [0. 0. 0. 0. 0. 0. 0. 0. 0.]\n",
      "  [0. 0. 0. 0. 0. 0. 0. 0. 0.]\n",
      "  [0. 0. 0. 0. 0. 0. 0. 0. 0.]]\n",
      "\n",
      " [[0. 0. 0. 0. 0. 0. 0. 0. 0.]\n",
      "  [0. 0. 0. 0. 0. 0. 0. 0. 0.]\n",
      "  [0. 0. 0. 0. 0. 0. 0. 0. 0.]\n",
      "  [0. 0. 0. 0. 0. 0. 0. 0. 0.]\n",
      "  [0. 0. 0. 0. 0. 0. 0. 0. 0.]]\n",
      "\n",
      " [[0. 0. 0. 0. 0. 0. 0. 0. 0.]\n",
      "  [0. 0. 0. 0. 0. 0. 0. 0. 0.]\n",
      "  [0. 0. 0. 0. 0. 0. 0. 0. 0.]\n",
      "  [0. 0. 0. 0. 0. 0. 0. 0. 0.]\n",
      "  [0. 0. 0. 0. 0. 0. 0. 0. 0.]]]\n",
      "(5, 9)\n",
      "[11 12 13 14 15]\n",
      "[[1. 1. 1. 1.]\n",
      " [1. 1. 1. 1.]\n",
      " [1. 1. 1. 1.]]\n"
     ]
    }
   ],
   "source": [
    "import numpy as np\n",
    "\n",
    "x = np.array([[1,2,3], [4,5,6], [7,8,9]])\n",
    "\n",
    "print(x)\n",
    "\n",
    "print(x[:, 1])\n",
    "\n",
    "print(x[:2, 1:])\n",
    "\n",
    "print(x[2:, :])\n",
    "\n",
    "print(x[:, :2])\n",
    "\n",
    "print(x[1:2, :2])\n",
    "\n",
    "a = np.array([[1,2,3,4], [5,6,7,8], [9,10,11,12]])\n",
    "\n",
    "print(a)\n",
    "\n",
    "print(a[:, 1::2])\n",
    "\n",
    "matrix = np.arange(0,36)\n",
    "matrix = matrix.reshape(6,6)\n",
    "\n",
    "print(matrix)\n",
    "\n",
    "print(matrix[2::2, 0::2])\n",
    "\n",
    "video = np.empty(shape = (1280, 720, 50))\n",
    "print(video.ndim)\n",
    "\n",
    "del video\n",
    "\n",
    "#tensor = np.empty(shape = (2, 640, 480, 360, 100))\n",
    "#print(tensor.shape)\n",
    "\n",
    "ex = np.empty(shape = (3, 5, 9))\n",
    "print(ex.shape)\n",
    "\n",
    "sliced = ex[0]\n",
    "print(sliced.shape)\n",
    "\n",
    "sliced = ex[0, 0]\n",
    "print(sliced.shape)\n",
    "\n",
    "ex = np.zeros(shape = (3, 5, 9))\n",
    "print(ex)\n",
    "\n",
    "ex = ex[0]\n",
    "print(ex.shape)\n",
    "\n",
    "x = np.array([1,2,3,4,5])\n",
    "\n",
    "x += 10\n",
    "\n",
    "print(x)\n",
    "\n",
    "zeros = np.zeros(shape = (3, 4))\n",
    "\n",
    "zeros += 1\n",
    "\n",
    "print(zeros)"
   ]
  },
  {
   "cell_type": "markdown",
   "metadata": {},
   "source": [
    "## More numpy\n",
    "1. Preprocessing\n",
    "    - AKA cleaning data\n",
    "2. Boolean indexing (masking)\n",
    "    - `and`: &\n",
    "    - `or`: |"
   ]
  },
  {
   "cell_type": "code",
   "execution_count": 5,
   "metadata": {
    "scrolled": true
   },
   "outputs": [
    {
     "name": "stdout",
     "output_type": "stream",
     "text": [
      "[[ 0.52695565 -0.02963544  1.4328452  -2.00719192]\n",
      " [-0.3643898   0.81683406  1.93403711 -1.8244274 ]\n",
      " [ 0.6227351  -0.28187691  0.62220112  1.71825749]\n",
      " [ 2.44725776 -2.27445449  0.82949197 -0.641628  ]\n",
      " [ 1.39735632  0.29008627  0.3129043   0.85414358]\n",
      " [ 2.95312222 -1.36585731  0.80070001  1.16707487]\n",
      " [-0.32170231  0.0102576  -0.15302296 -0.3428753 ]]\n",
      "[[False  True False  True]\n",
      " [ True False False  True]\n",
      " [False  True False False]\n",
      " [False  True False  True]\n",
      " [False False False False]\n",
      " [False  True False False]\n",
      " [ True False  True  True]]\n",
      "[[0.52695565 0.         1.4328452  0.        ]\n",
      " [0.         0.81683406 1.93403711 0.        ]\n",
      " [0.6227351  0.         0.62220112 1.71825749]\n",
      " [2.44725776 0.         0.82949197 0.        ]\n",
      " [1.39735632 0.29008627 0.3129043  0.85414358]\n",
      " [2.95312222 0.         0.80070001 1.16707487]\n",
      " [0.         0.0102576  0.         0.        ]]\n"
     ]
    }
   ],
   "source": [
    "import numpy as np\n",
    "\n",
    "x = np.random.standard_normal(size = (7, 4))\n",
    "\n",
    "print(x)\n",
    "\n",
    "mask = x < 0\n",
    "\n",
    "print(mask)\n",
    "\n",
    "x[mask] = 0\n",
    "print(x)\n",
    "\n"
   ]
  },
  {
   "cell_type": "markdown",
   "metadata": {},
   "source": [
    "## Interacting with the File System\n",
    "### Input\n",
    "1. `input()` grabs user keyboard text\n"
   ]
  },
  {
   "cell_type": "code",
   "execution_count": 5,
   "metadata": {},
   "outputs": [
    {
     "name": "stdout",
     "output_type": "stream",
     "text": [
      "Enter your name: 5\n",
      "<class 'str'>\n"
     ]
    }
   ],
   "source": [
    "test = input('Enter your name: ')\n",
    "print(type(test))\n",
    "\n",
    "age = int(input('Enter your age: '))\n",
    "print(age)\n"
   ]
  },
  {
   "cell_type": "markdown",
   "metadata": {},
   "source": [
    "### File I/O\n",
    "1. `inFile = open('file.ext', 'r/w')`\n",
    "2. Need a data structure to hold the line data\n",
    "3. Need a loop to iterate over the lines"
   ]
  },
  {
   "cell_type": "code",
   "execution_count": 3,
   "metadata": {
    "scrolled": true,
    "tags": []
   },
   "outputs": [
    {
     "output_type": "stream",
     "name": "stdout",
     "text": "Project Gutenberg's Alice's Adventures in Wonderland, by Lewis Carroll\n\nProject Gutenberg's Alice's Adventures in Wonderland, by Lewis Carroll\n\nProject Gutenberg's Alice's Adventures in Wonderland, by Lewis Carroll\n\nThis eBook is for the use of anyone anywhere at no cost and with\nalmost no restrictions whatsoever.  You may copy it, give it away or\nre-use it under the terms of the Project Gutenberg License included\nProject Gutenberg's Alice's Adventures in Wonderland, by Lewis Carroll\n\n"
    }
   ],
   "source": [
    "import numpy as np\n",
    "\n",
    "inFile = open('alice.txt', 'r')\n",
    "\n",
    "content = inFile.read()\n",
    "\n",
    "print(content[:71])\n",
    "\n",
    "inFile.close()\n",
    "\n",
    "with open('alice.txt', 'r') as inFile:\n",
    "    content = inFile.read()\n",
    "    print(content[:71])\n",
    "\n",
    "inFile = open('alice.txt', 'r')\n",
    "    \n",
    "data = []\n",
    "lines = 0\n",
    "\n",
    "for line in inFile:\n",
    "    line = line.strip()\n",
    "    print(line)\n",
    "    lines += 1\n",
    "    if lines == 5: \n",
    "        break\n",
    "inFile.close()\n",
    "\n",
    "inFile = open('alice.txt', 'r')\n",
    "data = inFile.readlines()\n",
    "print(data[0])\n",
    "inFile.close()\n",
    "\n",
    "outFile = open('out.txt', 'w')\n",
    "outFile.write(str(5))\n",
    "outFile.close()"
   ]
  },
  {
   "cell_type": "markdown",
   "metadata": {},
   "source": [
    "## More file I/O and OS library\n",
    "1. OS library\n",
    "2. `import os`\n",
    "    - `os.getcwd()`: absolute path\n",
    "    - `os.chdir('[path]')`: change directory\n",
    "    - `os.listdir('[directory]')`: lists all the files\n",
    "    - `os.mkdir('name')`: make directory\n",
    "    - `os.rmdir('directory')`: delete a directory\n",
    "    - `os.remove('file')`: removes a file\n",
    "    - `os.unlink('file')`: another way to delete\n",
    "    - `os.rename('old', 'new'): rename files or directories\n",
    "3. `import os.path as p`\n",
    "    - `exists('file')`: boolean does or not exists\n",
    "    - `isdir('name')`: is it a file or directory?"
   ]
  },
  {
   "cell_type": "code",
   "execution_count": null,
   "metadata": {},
   "outputs": [],
   "source": [
    "import os \n",
    "import os.path as p\n",
    "\n",
    "os.chdir('/home/pmccabe/Desktop/Github Repositories/Data-Science')\n",
    "\n",
    "print(os.getcwd()) # get current working directory \n",
    "\n",
    "os.chdir('DATA101') # change to the DATA101 folder\n",
    "\n",
    "print(os.getcwd()) # get current working directory\n",
    "\n",
    "os.listdir('.') # list all the files of the current directory\n",
    "\n",
    "os.mkdir('test') # create a directory\n",
    "\n",
    "print(os.listdir('.')) # list new directories\n",
    "\n",
    "os.rmdir('test') # removes the test directory\n",
    "\n",
    "os.mkdir('test') # create a directory\n",
    "\n",
    "os.listdir('.') # list new directories\n",
    "\n",
    "os.rename('test', 'test2') # rename file\n",
    "\n",
    "print(os.listdir('.')) # list new directories\n",
    "\n",
    "p.exists('test2')\n",
    "\n",
    "for file in os.listdir('.'):\n",
    "    if file.endswith('txt'):\n",
    "        print(p.join(os.getcwd(), file))\n",
    "\n",
    "os.rmdir('test2')"
   ]
  },
  {
   "cell_type": "markdown",
   "metadata": {},
   "source": [
    "## Linear Algebra\n",
    "1. Terminology\n",
    "    - scalar: single number\n",
    "    - vector: collection of scalars\n",
    "2. Scalars:\n",
    "    - magnitude \n",
    "    - direction\n",
    "3. Space (vector space):\n",
    "    - All possible vectors we may have\n",
    "    - finite in dimension, infinite in space\n",
    "    - vectors live in space\n",
    "4. Systems of Equations\n",
    "    - Substitution: solve for one and then calculate the other\n",
    "    - Elimination: eliminate one of the variables\n",
    "5. Vectors and Matrices"
   ]
  },
  {
   "cell_type": "code",
   "execution_count": 1,
   "metadata": {},
   "outputs": [
    {
     "name": "stdout",
     "output_type": "stream",
     "text": [
      "[[1.   1.  ]\n",
      " [0.45 0.65]]\n"
     ]
    }
   ],
   "source": [
    "import numpy as np\n",
    "\n",
    "one = [1, 1]\n",
    "two = [0.45, 0.65]\n",
    "\n",
    "A = np.array([one, two])\n",
    "\n",
    "print(A)\n",
    "\n",
    "yVector = [35, 18.55]\n",
    "\n"
   ]
  },
  {
   "cell_type": "markdown",
   "metadata": {},
   "source": [
    "## Statistics\n",
    "1. Def: sumarize the data\n",
    "2. Make predcictions on the whole population based on a sample\n",
    "3. Assumptions:\n",
    "- Simple Random sample\n",
    "- Normal population or large sample\n",
    "- Selection Bias\n",
    "- Confirmation Bias\n",
    "- Inaccuracy\n",
    "4. Phases:\n",
    "- Data Collection\n",
    "- Descriptive Statistics\n",
    "- Exploratory Data analysis\n",
    "- Hypothesis Testing\n",
    "- Estimation\n",
    "### Computing Statistics\n",
    "1. First Order Statistics: summarized version of the data\n",
    "- Ex: number of data points, largest/smallest value, etc.\n",
    "- Mean\n",
    "- Median (sorted)\n",
    "2. Second Order Statistics\n",
    "- Data itself and first order statistics\n",
    "- Variance: data varies from the mean\n",
    "- Standard Deviation: sqrt of the variance\n",
    "- Interquartile Range (IQR): difference between 25% and 75% of the data (sorted)\n",
    "3. Higher Order Statistics\n",
    "- Distributions\n",
    "- Skewness (left/right skewed)\n",
    "- Kurtosis (tailed-ness of the distributions)\n",
    "4. Random Variables and Distributions\n",
    "- Variable that the value is unknown\n",
    "- Represented by capital letters\n",
    "\n"
   ]
  },
  {
   "cell_type": "code",
   "execution_count": 21,
   "metadata": {
    "tags": []
   },
   "outputs": [
    {
     "output_type": "stream",
     "name": "stdout",
     "text": "[797 604 382  58 411 801 424 590 137 139 579 369 755 444  46 708  50 630\n 206  89 468 209 486 563 579 575   9 877 654  65 881 197 395 371  58   0\n 391 477 767 926 530 518  81 917   4 135 293 115   9 250 983 345  93 255\n 668 437 620  93  82 387 135 694 440 240 849 634 305 972 289 802 736 949\n 704 448 838 548 387 897 272 431 633 438 729 680 981 100 762  72 828 962\n 532 535 687 269 649 255 749 175 820 820]\nNumber of data points: 100\nMax: 983\nMin: 0\nAvg: 472.28\nMedian: 458.0\nVariance: 82414.78159999999\nStandard Deviation: 287.079747805379\nIQR: 472.75\n"
    }
   ],
   "source": [
    "import numpy as np\n",
    "import statistics\n",
    "\n",
    "data = np.random.randint(10, size = 100)\n",
    "print(data)\n",
    "\n",
    "print('Number of data points:', data.shape[0]) # number of data points\n",
    "\n",
    "print('Max:', np.max(data)) # max\n",
    "\n",
    "print('Min:', np.min(data)) # min\n",
    "\n",
    "print('Avg:', np.mean(data)) # max\n",
    "\n",
    "print('Median:', np.median(data)) # sorted and need to help with the value if the length is even\n",
    "\n",
    "print('Variance:', np.var(data)) # variance of the data\n",
    "\n",
    "print('Standard Deviation:', np.std(data)) # standard deviation of the data\n",
    "\n",
    "print('IQR:', np.percentile(data, 75) - np.percentile(data, 25))"
   ]
  },
  {
   "cell_type": "code",
   "execution_count": 5,
   "metadata": {
    "tags": []
   },
   "outputs": [
    {
     "output_type": "display_data",
     "data": {
      "text/plain": "<Figure size 432x288 with 1 Axes>",
      "image/svg+xml": "<?xml version=\"1.0\" encoding=\"utf-8\" standalone=\"no\"?>\n<!DOCTYPE svg PUBLIC \"-//W3C//DTD SVG 1.1//EN\"\n  \"http://www.w3.org/Graphics/SVG/1.1/DTD/svg11.dtd\">\n<!-- Created with matplotlib (https://matplotlib.org/) -->\n<svg height=\"248.919426pt\" version=\"1.1\" viewBox=\"0 0 383.726067 248.919426\" width=\"383.726067pt\" xmlns=\"http://www.w3.org/2000/svg\" xmlns:xlink=\"http://www.w3.org/1999/xlink\">\n <metadata>\n  <rdf:RDF xmlns:cc=\"http://creativecommons.org/ns#\" xmlns:dc=\"http://purl.org/dc/elements/1.1/\" xmlns:rdf=\"http://www.w3.org/1999/02/22-rdf-syntax-ns#\">\n   <cc:Work>\n    <dc:type rdf:resource=\"http://purl.org/dc/dcmitype/StillImage\"/>\n    <dc:date>2020-11-06T11:35:01.714661</dc:date>\n    <dc:format>image/svg+xml</dc:format>\n    <dc:creator>\n     <cc:Agent>\n      <dc:title>Matplotlib v3.3.2, https://matplotlib.org/</dc:title>\n     </cc:Agent>\n    </dc:creator>\n   </cc:Work>\n  </rdf:RDF>\n </metadata>\n <defs>\n  <style type=\"text/css\">*{stroke-linecap:butt;stroke-linejoin:round;}</style>\n </defs>\n <g id=\"figure_1\">\n  <g id=\"patch_1\">\n   <path d=\"M -0 248.919426 \nL 383.726067 248.919426 \nL 383.726067 0 \nL -0 0 \nz\n\" style=\"fill:none;\"/>\n  </g>\n  <g id=\"axes_1\">\n   <g id=\"patch_2\">\n    <path d=\"M 39.65 225.041301 \nL 374.45 225.041301 \nL 374.45 7.601301 \nL 39.65 7.601301 \nz\n\" style=\"fill:#ffffff;\"/>\n   </g>\n   <g id=\"patch_3\">\n    <path clip-path=\"url(#p27673463b5)\" d=\"M 54.868182 225.041301 \nL 67.042727 225.041301 \nL 67.042727 224.862932 \nL 54.868182 224.862932 \nz\n\" style=\"fill:#1f77b4;\"/>\n   </g>\n   <g id=\"patch_4\">\n    <path clip-path=\"url(#p27673463b5)\" d=\"M 67.042727 225.041301 \nL 79.217273 225.041301 \nL 79.217273 222.90088 \nL 67.042727 222.90088 \nz\n\" style=\"fill:#1f77b4;\"/>\n   </g>\n   <g id=\"patch_5\">\n    <path clip-path=\"url(#p27673463b5)\" d=\"M 79.217273 225.041301 \nL 91.391818 225.041301 \nL 91.391818 221.830669 \nL 79.217273 221.830669 \nz\n\" style=\"fill:#1f77b4;\"/>\n   </g>\n   <g id=\"patch_6\">\n    <path clip-path=\"url(#p27673463b5)\" d=\"M 91.391818 225.041301 \nL 103.566364 225.041301 \nL 103.566364 220.225354 \nL 91.391818 220.225354 \nz\n\" style=\"fill:#1f77b4;\"/>\n   </g>\n   <g id=\"patch_7\">\n    <path clip-path=\"url(#p27673463b5)\" d=\"M 103.566364 225.041301 \nL 115.740909 225.041301 \nL 115.740909 209.701618 \nL 103.566364 209.701618 \nz\n\" style=\"fill:#1f77b4;\"/>\n   </g>\n   <g id=\"patch_8\">\n    <path clip-path=\"url(#p27673463b5)\" d=\"M 115.740909 225.041301 \nL 127.915455 225.041301 \nL 127.915455 198.821146 \nL 115.740909 198.821146 \nz\n\" style=\"fill:#1f77b4;\"/>\n   </g>\n   <g id=\"patch_9\">\n    <path clip-path=\"url(#p27673463b5)\" d=\"M 127.915455 225.041301 \nL 140.09 225.041301 \nL 140.09 183.481463 \nL 127.915455 183.481463 \nz\n\" style=\"fill:#1f77b4;\"/>\n   </g>\n   <g id=\"patch_10\">\n    <path clip-path=\"url(#p27673463b5)\" d=\"M 140.09 225.041301 \nL 152.264545 225.041301 \nL 152.264545 158.331518 \nL 140.09 158.331518 \nz\n\" style=\"fill:#1f77b4;\"/>\n   </g>\n   <g id=\"patch_11\">\n    <path clip-path=\"url(#p27673463b5)\" d=\"M 152.264545 225.041301 \nL 164.439091 225.041301 \nL 164.439091 121.052523 \nL 152.264545 121.052523 \nz\n\" style=\"fill:#1f77b4;\"/>\n   </g>\n   <g id=\"patch_12\">\n    <path clip-path=\"url(#p27673463b5)\" d=\"M 164.439091 225.041301 \nL 176.613636 225.041301 \nL 176.613636 83.951895 \nL 164.439091 83.951895 \nz\n\" style=\"fill:#1f77b4;\"/>\n   </g>\n   <g id=\"patch_13\">\n    <path clip-path=\"url(#p27673463b5)\" d=\"M 176.613636 225.041301 \nL 188.788182 225.041301 \nL 188.788182 45.602689 \nL 176.613636 45.602689 \nz\n\" style=\"fill:#1f77b4;\"/>\n   </g>\n   <g id=\"patch_14\">\n    <path clip-path=\"url(#p27673463b5)\" d=\"M 188.788182 225.041301 \nL 200.962727 225.041301 \nL 200.962727 33.116901 \nL 188.788182 33.116901 \nz\n\" style=\"fill:#1f77b4;\"/>\n   </g>\n   <g id=\"patch_15\">\n    <path clip-path=\"url(#p27673463b5)\" d=\"M 200.962727 225.041301 \nL 213.137273 225.041301 \nL 213.137273 17.955586 \nL 200.962727 17.955586 \nz\n\" style=\"fill:#1f77b4;\"/>\n   </g>\n   <g id=\"patch_16\">\n    <path clip-path=\"url(#p27673463b5)\" d=\"M 213.137273 225.041301 \nL 225.311818 225.041301 \nL 225.311818 24.733586 \nL 213.137273 24.733586 \nz\n\" style=\"fill:#1f77b4;\"/>\n   </g>\n   <g id=\"patch_17\">\n    <path clip-path=\"url(#p27673463b5)\" d=\"M 225.311818 225.041301 \nL 237.486364 225.041301 \nL 237.486364 51.667214 \nL 225.311818 51.667214 \nz\n\" style=\"fill:#1f77b4;\"/>\n   </g>\n   <g id=\"patch_18\">\n    <path clip-path=\"url(#p27673463b5)\" d=\"M 237.486364 225.041301 \nL 249.660909 225.041301 \nL 249.660909 73.428159 \nL 237.486364 73.428159 \nz\n\" style=\"fill:#1f77b4;\"/>\n   </g>\n   <g id=\"patch_19\">\n    <path clip-path=\"url(#p27673463b5)\" d=\"M 249.660909 225.041301 \nL 261.835455 225.041301 \nL 261.835455 125.868469 \nL 249.660909 125.868469 \nz\n\" style=\"fill:#1f77b4;\"/>\n   </g>\n   <g id=\"patch_20\">\n    <path clip-path=\"url(#p27673463b5)\" d=\"M 261.835455 225.041301 \nL 274.01 225.041301 \nL 274.01 150.840046 \nL 261.835455 150.840046 \nz\n\" style=\"fill:#1f77b4;\"/>\n   </g>\n   <g id=\"patch_21\">\n    <path clip-path=\"url(#p27673463b5)\" d=\"M 274.01 225.041301 \nL 286.184545 225.041301 \nL 286.184545 178.130411 \nL 274.01 178.130411 \nz\n\" style=\"fill:#1f77b4;\"/>\n   </g>\n   <g id=\"patch_22\">\n    <path clip-path=\"url(#p27673463b5)\" d=\"M 286.184545 225.041301 \nL 298.359091 225.041301 \nL 298.359091 198.464409 \nL 286.184545 198.464409 \nz\n\" style=\"fill:#1f77b4;\"/>\n   </g>\n   <g id=\"patch_23\">\n    <path clip-path=\"url(#p27673463b5)\" d=\"M 298.359091 225.041301 \nL 310.533636 225.041301 \nL 310.533636 210.771829 \nL 298.359091 210.771829 \nz\n\" style=\"fill:#1f77b4;\"/>\n   </g>\n   <g id=\"patch_24\">\n    <path clip-path=\"url(#p27673463b5)\" d=\"M 310.533636 225.041301 \nL 322.708182 225.041301 \nL 322.708182 217.549828 \nL 310.533636 217.549828 \nz\n\" style=\"fill:#1f77b4;\"/>\n   </g>\n   <g id=\"patch_25\">\n    <path clip-path=\"url(#p27673463b5)\" d=\"M 322.708182 225.041301 \nL 334.882727 225.041301 \nL 334.882727 222.187406 \nL 322.708182 222.187406 \nz\n\" style=\"fill:#1f77b4;\"/>\n   </g>\n   <g id=\"patch_26\">\n    <path clip-path=\"url(#p27673463b5)\" d=\"M 334.882727 225.041301 \nL 347.057273 225.041301 \nL 347.057273 222.90088 \nL 334.882727 222.90088 \nz\n\" style=\"fill:#1f77b4;\"/>\n   </g>\n   <g id=\"patch_27\">\n    <path clip-path=\"url(#p27673463b5)\" d=\"M 347.057273 225.041301 \nL 359.231818 225.041301 \nL 359.231818 223.97109 \nL 347.057273 223.97109 \nz\n\" style=\"fill:#1f77b4;\"/>\n   </g>\n   <g id=\"matplotlib.axis_1\">\n    <g id=\"xtick_1\">\n     <g id=\"line2d_1\">\n      <defs>\n       <path d=\"M 0 0 \nL 0 3.5 \n\" id=\"m3c5ed1a268\" style=\"stroke:#000000;stroke-width:0.8;\"/>\n      </defs>\n      <g>\n       <use style=\"stroke:#000000;stroke-width:0.8;\" x=\"42.101693\" xlink:href=\"#m3c5ed1a268\" y=\"225.041301\"/>\n      </g>\n     </g>\n     <g id=\"text_1\">\n      <!-- −4 -->\n      <g transform=\"translate(34.7306 239.639738)scale(0.1 -0.1)\">\n       <defs>\n        <path d=\"M 10.59375 35.5 \nL 73.1875 35.5 \nL 73.1875 27.203125 \nL 10.59375 27.203125 \nz\n\" id=\"DejaVuSans-8722\"/>\n        <path d=\"M 37.796875 64.3125 \nL 12.890625 25.390625 \nL 37.796875 25.390625 \nz\nM 35.203125 72.90625 \nL 47.609375 72.90625 \nL 47.609375 25.390625 \nL 58.015625 25.390625 \nL 58.015625 17.1875 \nL 47.609375 17.1875 \nL 47.609375 0 \nL 37.796875 0 \nL 37.796875 17.1875 \nL 4.890625 17.1875 \nL 4.890625 26.703125 \nz\n\" id=\"DejaVuSans-52\"/>\n       </defs>\n       <use xlink:href=\"#DejaVuSans-8722\"/>\n       <use x=\"83.789062\" xlink:href=\"#DejaVuSans-52\"/>\n      </g>\n     </g>\n    </g>\n    <g id=\"xtick_2\">\n     <g id=\"line2d_2\">\n      <g>\n       <use style=\"stroke:#000000;stroke-width:0.8;\" x=\"83.507084\" xlink:href=\"#m3c5ed1a268\" y=\"225.041301\"/>\n      </g>\n     </g>\n     <g id=\"text_2\">\n      <!-- −3 -->\n      <g transform=\"translate(76.13599 239.639738)scale(0.1 -0.1)\">\n       <defs>\n        <path d=\"M 40.578125 39.3125 \nQ 47.65625 37.796875 51.625 33 \nQ 55.609375 28.21875 55.609375 21.1875 \nQ 55.609375 10.40625 48.1875 4.484375 \nQ 40.765625 -1.421875 27.09375 -1.421875 \nQ 22.515625 -1.421875 17.65625 -0.515625 \nQ 12.796875 0.390625 7.625 2.203125 \nL 7.625 11.71875 \nQ 11.71875 9.328125 16.59375 8.109375 \nQ 21.484375 6.890625 26.8125 6.890625 \nQ 36.078125 6.890625 40.9375 10.546875 \nQ 45.796875 14.203125 45.796875 21.1875 \nQ 45.796875 27.640625 41.28125 31.265625 \nQ 36.765625 34.90625 28.71875 34.90625 \nL 20.21875 34.90625 \nL 20.21875 43.015625 \nL 29.109375 43.015625 \nQ 36.375 43.015625 40.234375 45.921875 \nQ 44.09375 48.828125 44.09375 54.296875 \nQ 44.09375 59.90625 40.109375 62.90625 \nQ 36.140625 65.921875 28.71875 65.921875 \nQ 24.65625 65.921875 20.015625 65.03125 \nQ 15.375 64.15625 9.8125 62.3125 \nL 9.8125 71.09375 \nQ 15.4375 72.65625 20.34375 73.4375 \nQ 25.25 74.21875 29.59375 74.21875 \nQ 40.828125 74.21875 47.359375 69.109375 \nQ 53.90625 64.015625 53.90625 55.328125 \nQ 53.90625 49.265625 50.4375 45.09375 \nQ 46.96875 40.921875 40.578125 39.3125 \nz\n\" id=\"DejaVuSans-51\"/>\n       </defs>\n       <use xlink:href=\"#DejaVuSans-8722\"/>\n       <use x=\"83.789062\" xlink:href=\"#DejaVuSans-51\"/>\n      </g>\n     </g>\n    </g>\n    <g id=\"xtick_3\">\n     <g id=\"line2d_3\">\n      <g>\n       <use style=\"stroke:#000000;stroke-width:0.8;\" x=\"124.912474\" xlink:href=\"#m3c5ed1a268\" y=\"225.041301\"/>\n      </g>\n     </g>\n     <g id=\"text_3\">\n      <!-- −2 -->\n      <g transform=\"translate(117.541381 239.639738)scale(0.1 -0.1)\">\n       <defs>\n        <path d=\"M 19.1875 8.296875 \nL 53.609375 8.296875 \nL 53.609375 0 \nL 7.328125 0 \nL 7.328125 8.296875 \nQ 12.9375 14.109375 22.625 23.890625 \nQ 32.328125 33.6875 34.8125 36.53125 \nQ 39.546875 41.84375 41.421875 45.53125 \nQ 43.3125 49.21875 43.3125 52.78125 \nQ 43.3125 58.59375 39.234375 62.25 \nQ 35.15625 65.921875 28.609375 65.921875 \nQ 23.96875 65.921875 18.8125 64.3125 \nQ 13.671875 62.703125 7.8125 59.421875 \nL 7.8125 69.390625 \nQ 13.765625 71.78125 18.9375 73 \nQ 24.125 74.21875 28.421875 74.21875 \nQ 39.75 74.21875 46.484375 68.546875 \nQ 53.21875 62.890625 53.21875 53.421875 \nQ 53.21875 48.921875 51.53125 44.890625 \nQ 49.859375 40.875 45.40625 35.40625 \nQ 44.1875 33.984375 37.640625 27.21875 \nQ 31.109375 20.453125 19.1875 8.296875 \nz\n\" id=\"DejaVuSans-50\"/>\n       </defs>\n       <use xlink:href=\"#DejaVuSans-8722\"/>\n       <use x=\"83.789062\" xlink:href=\"#DejaVuSans-50\"/>\n      </g>\n     </g>\n    </g>\n    <g id=\"xtick_4\">\n     <g id=\"line2d_4\">\n      <g>\n       <use style=\"stroke:#000000;stroke-width:0.8;\" x=\"166.317865\" xlink:href=\"#m3c5ed1a268\" y=\"225.041301\"/>\n      </g>\n     </g>\n     <g id=\"text_4\">\n      <!-- −1 -->\n      <g transform=\"translate(158.946771 239.639738)scale(0.1 -0.1)\">\n       <defs>\n        <path d=\"M 12.40625 8.296875 \nL 28.515625 8.296875 \nL 28.515625 63.921875 \nL 10.984375 60.40625 \nL 10.984375 69.390625 \nL 28.421875 72.90625 \nL 38.28125 72.90625 \nL 38.28125 8.296875 \nL 54.390625 8.296875 \nL 54.390625 0 \nL 12.40625 0 \nz\n\" id=\"DejaVuSans-49\"/>\n       </defs>\n       <use xlink:href=\"#DejaVuSans-8722\"/>\n       <use x=\"83.789062\" xlink:href=\"#DejaVuSans-49\"/>\n      </g>\n     </g>\n    </g>\n    <g id=\"xtick_5\">\n     <g id=\"line2d_5\">\n      <g>\n       <use style=\"stroke:#000000;stroke-width:0.8;\" x=\"207.723255\" xlink:href=\"#m3c5ed1a268\" y=\"225.041301\"/>\n      </g>\n     </g>\n     <g id=\"text_5\">\n      <!-- 0 -->\n      <g transform=\"translate(204.542005 239.639738)scale(0.1 -0.1)\">\n       <defs>\n        <path d=\"M 31.78125 66.40625 \nQ 24.171875 66.40625 20.328125 58.90625 \nQ 16.5 51.421875 16.5 36.375 \nQ 16.5 21.390625 20.328125 13.890625 \nQ 24.171875 6.390625 31.78125 6.390625 \nQ 39.453125 6.390625 43.28125 13.890625 \nQ 47.125 21.390625 47.125 36.375 \nQ 47.125 51.421875 43.28125 58.90625 \nQ 39.453125 66.40625 31.78125 66.40625 \nz\nM 31.78125 74.21875 \nQ 44.046875 74.21875 50.515625 64.515625 \nQ 56.984375 54.828125 56.984375 36.375 \nQ 56.984375 17.96875 50.515625 8.265625 \nQ 44.046875 -1.421875 31.78125 -1.421875 \nQ 19.53125 -1.421875 13.0625 8.265625 \nQ 6.59375 17.96875 6.59375 36.375 \nQ 6.59375 54.828125 13.0625 64.515625 \nQ 19.53125 74.21875 31.78125 74.21875 \nz\n\" id=\"DejaVuSans-48\"/>\n       </defs>\n       <use xlink:href=\"#DejaVuSans-48\"/>\n      </g>\n     </g>\n    </g>\n    <g id=\"xtick_6\">\n     <g id=\"line2d_6\">\n      <g>\n       <use style=\"stroke:#000000;stroke-width:0.8;\" x=\"249.128646\" xlink:href=\"#m3c5ed1a268\" y=\"225.041301\"/>\n      </g>\n     </g>\n     <g id=\"text_6\">\n      <!-- 1 -->\n      <g transform=\"translate(245.947396 239.639738)scale(0.1 -0.1)\">\n       <use xlink:href=\"#DejaVuSans-49\"/>\n      </g>\n     </g>\n    </g>\n    <g id=\"xtick_7\">\n     <g id=\"line2d_7\">\n      <g>\n       <use style=\"stroke:#000000;stroke-width:0.8;\" x=\"290.534036\" xlink:href=\"#m3c5ed1a268\" y=\"225.041301\"/>\n      </g>\n     </g>\n     <g id=\"text_7\">\n      <!-- 2 -->\n      <g transform=\"translate(287.352786 239.639738)scale(0.1 -0.1)\">\n       <use xlink:href=\"#DejaVuSans-50\"/>\n      </g>\n     </g>\n    </g>\n    <g id=\"xtick_8\">\n     <g id=\"line2d_8\">\n      <g>\n       <use style=\"stroke:#000000;stroke-width:0.8;\" x=\"331.939426\" xlink:href=\"#m3c5ed1a268\" y=\"225.041301\"/>\n      </g>\n     </g>\n     <g id=\"text_8\">\n      <!-- 3 -->\n      <g transform=\"translate(328.758176 239.639738)scale(0.1 -0.1)\">\n       <use xlink:href=\"#DejaVuSans-51\"/>\n      </g>\n     </g>\n    </g>\n    <g id=\"xtick_9\">\n     <g id=\"line2d_9\">\n      <g>\n       <use style=\"stroke:#000000;stroke-width:0.8;\" x=\"373.344817\" xlink:href=\"#m3c5ed1a268\" y=\"225.041301\"/>\n      </g>\n     </g>\n     <g id=\"text_9\">\n      <!-- 4 -->\n      <g transform=\"translate(370.163567 239.639738)scale(0.1 -0.1)\">\n       <use xlink:href=\"#DejaVuSans-52\"/>\n      </g>\n     </g>\n    </g>\n   </g>\n   <g id=\"matplotlib.axis_2\">\n    <g id=\"ytick_1\">\n     <g id=\"line2d_10\">\n      <defs>\n       <path d=\"M 0 0 \nL -3.5 0 \n\" id=\"mc5f3033a9a\" style=\"stroke:#000000;stroke-width:0.8;\"/>\n      </defs>\n      <g>\n       <use style=\"stroke:#000000;stroke-width:0.8;\" x=\"39.65\" xlink:href=\"#mc5f3033a9a\" y=\"225.041301\"/>\n      </g>\n     </g>\n     <g id=\"text_10\">\n      <!-- 0 -->\n      <g transform=\"translate(26.2875 228.840519)scale(0.1 -0.1)\">\n       <use xlink:href=\"#DejaVuSans-48\"/>\n      </g>\n     </g>\n    </g>\n    <g id=\"ytick_2\">\n     <g id=\"line2d_11\">\n      <g>\n       <use style=\"stroke:#000000;stroke-width:0.8;\" x=\"39.65\" xlink:href=\"#mc5f3033a9a\" y=\"189.36762\"/>\n      </g>\n     </g>\n     <g id=\"text_11\">\n      <!-- 200 -->\n      <g transform=\"translate(13.5625 193.166839)scale(0.1 -0.1)\">\n       <use xlink:href=\"#DejaVuSans-50\"/>\n       <use x=\"63.623047\" xlink:href=\"#DejaVuSans-48\"/>\n       <use x=\"127.246094\" xlink:href=\"#DejaVuSans-48\"/>\n      </g>\n     </g>\n    </g>\n    <g id=\"ytick_3\">\n     <g id=\"line2d_12\">\n      <g>\n       <use style=\"stroke:#000000;stroke-width:0.8;\" x=\"39.65\" xlink:href=\"#mc5f3033a9a\" y=\"153.69394\"/>\n      </g>\n     </g>\n     <g id=\"text_12\">\n      <!-- 400 -->\n      <g transform=\"translate(13.5625 157.493159)scale(0.1 -0.1)\">\n       <use xlink:href=\"#DejaVuSans-52\"/>\n       <use x=\"63.623047\" xlink:href=\"#DejaVuSans-48\"/>\n       <use x=\"127.246094\" xlink:href=\"#DejaVuSans-48\"/>\n      </g>\n     </g>\n    </g>\n    <g id=\"ytick_4\">\n     <g id=\"line2d_13\">\n      <g>\n       <use style=\"stroke:#000000;stroke-width:0.8;\" x=\"39.65\" xlink:href=\"#mc5f3033a9a\" y=\"118.02026\"/>\n      </g>\n     </g>\n     <g id=\"text_13\">\n      <!-- 600 -->\n      <g transform=\"translate(13.5625 121.819478)scale(0.1 -0.1)\">\n       <defs>\n        <path d=\"M 33.015625 40.375 \nQ 26.375 40.375 22.484375 35.828125 \nQ 18.609375 31.296875 18.609375 23.390625 \nQ 18.609375 15.53125 22.484375 10.953125 \nQ 26.375 6.390625 33.015625 6.390625 \nQ 39.65625 6.390625 43.53125 10.953125 \nQ 47.40625 15.53125 47.40625 23.390625 \nQ 47.40625 31.296875 43.53125 35.828125 \nQ 39.65625 40.375 33.015625 40.375 \nz\nM 52.59375 71.296875 \nL 52.59375 62.3125 \nQ 48.875 64.0625 45.09375 64.984375 \nQ 41.3125 65.921875 37.59375 65.921875 \nQ 27.828125 65.921875 22.671875 59.328125 \nQ 17.53125 52.734375 16.796875 39.40625 \nQ 19.671875 43.65625 24.015625 45.921875 \nQ 28.375 48.1875 33.59375 48.1875 \nQ 44.578125 48.1875 50.953125 41.515625 \nQ 57.328125 34.859375 57.328125 23.390625 \nQ 57.328125 12.15625 50.6875 5.359375 \nQ 44.046875 -1.421875 33.015625 -1.421875 \nQ 20.359375 -1.421875 13.671875 8.265625 \nQ 6.984375 17.96875 6.984375 36.375 \nQ 6.984375 53.65625 15.1875 63.9375 \nQ 23.390625 74.21875 37.203125 74.21875 \nQ 40.921875 74.21875 44.703125 73.484375 \nQ 48.484375 72.75 52.59375 71.296875 \nz\n\" id=\"DejaVuSans-54\"/>\n       </defs>\n       <use xlink:href=\"#DejaVuSans-54\"/>\n       <use x=\"63.623047\" xlink:href=\"#DejaVuSans-48\"/>\n       <use x=\"127.246094\" xlink:href=\"#DejaVuSans-48\"/>\n      </g>\n     </g>\n    </g>\n    <g id=\"ytick_5\">\n     <g id=\"line2d_14\">\n      <g>\n       <use style=\"stroke:#000000;stroke-width:0.8;\" x=\"39.65\" xlink:href=\"#mc5f3033a9a\" y=\"82.346579\"/>\n      </g>\n     </g>\n     <g id=\"text_14\">\n      <!-- 800 -->\n      <g transform=\"translate(13.5625 86.145798)scale(0.1 -0.1)\">\n       <defs>\n        <path d=\"M 31.78125 34.625 \nQ 24.75 34.625 20.71875 30.859375 \nQ 16.703125 27.09375 16.703125 20.515625 \nQ 16.703125 13.921875 20.71875 10.15625 \nQ 24.75 6.390625 31.78125 6.390625 \nQ 38.8125 6.390625 42.859375 10.171875 \nQ 46.921875 13.96875 46.921875 20.515625 \nQ 46.921875 27.09375 42.890625 30.859375 \nQ 38.875 34.625 31.78125 34.625 \nz\nM 21.921875 38.8125 \nQ 15.578125 40.375 12.03125 44.71875 \nQ 8.5 49.078125 8.5 55.328125 \nQ 8.5 64.0625 14.71875 69.140625 \nQ 20.953125 74.21875 31.78125 74.21875 \nQ 42.671875 74.21875 48.875 69.140625 \nQ 55.078125 64.0625 55.078125 55.328125 \nQ 55.078125 49.078125 51.53125 44.71875 \nQ 48 40.375 41.703125 38.8125 \nQ 48.828125 37.15625 52.796875 32.3125 \nQ 56.78125 27.484375 56.78125 20.515625 \nQ 56.78125 9.90625 50.3125 4.234375 \nQ 43.84375 -1.421875 31.78125 -1.421875 \nQ 19.734375 -1.421875 13.25 4.234375 \nQ 6.78125 9.90625 6.78125 20.515625 \nQ 6.78125 27.484375 10.78125 32.3125 \nQ 14.796875 37.15625 21.921875 38.8125 \nz\nM 18.3125 54.390625 \nQ 18.3125 48.734375 21.84375 45.5625 \nQ 25.390625 42.390625 31.78125 42.390625 \nQ 38.140625 42.390625 41.71875 45.5625 \nQ 45.3125 48.734375 45.3125 54.390625 \nQ 45.3125 60.0625 41.71875 63.234375 \nQ 38.140625 66.40625 31.78125 66.40625 \nQ 25.390625 66.40625 21.84375 63.234375 \nQ 18.3125 60.0625 18.3125 54.390625 \nz\n\" id=\"DejaVuSans-56\"/>\n       </defs>\n       <use xlink:href=\"#DejaVuSans-56\"/>\n       <use x=\"63.623047\" xlink:href=\"#DejaVuSans-48\"/>\n       <use x=\"127.246094\" xlink:href=\"#DejaVuSans-48\"/>\n      </g>\n     </g>\n    </g>\n    <g id=\"ytick_6\">\n     <g id=\"line2d_15\">\n      <g>\n       <use style=\"stroke:#000000;stroke-width:0.8;\" x=\"39.65\" xlink:href=\"#mc5f3033a9a\" y=\"46.672899\"/>\n      </g>\n     </g>\n     <g id=\"text_15\">\n      <!-- 1000 -->\n      <g transform=\"translate(7.2 50.472118)scale(0.1 -0.1)\">\n       <use xlink:href=\"#DejaVuSans-49\"/>\n       <use x=\"63.623047\" xlink:href=\"#DejaVuSans-48\"/>\n       <use x=\"127.246094\" xlink:href=\"#DejaVuSans-48\"/>\n       <use x=\"190.869141\" xlink:href=\"#DejaVuSans-48\"/>\n      </g>\n     </g>\n    </g>\n    <g id=\"ytick_7\">\n     <g id=\"line2d_16\">\n      <g>\n       <use style=\"stroke:#000000;stroke-width:0.8;\" x=\"39.65\" xlink:href=\"#mc5f3033a9a\" y=\"10.999219\"/>\n      </g>\n     </g>\n     <g id=\"text_16\">\n      <!-- 1200 -->\n      <g transform=\"translate(7.2 14.798437)scale(0.1 -0.1)\">\n       <use xlink:href=\"#DejaVuSans-49\"/>\n       <use x=\"63.623047\" xlink:href=\"#DejaVuSans-50\"/>\n       <use x=\"127.246094\" xlink:href=\"#DejaVuSans-48\"/>\n       <use x=\"190.869141\" xlink:href=\"#DejaVuSans-48\"/>\n      </g>\n     </g>\n    </g>\n   </g>\n   <g id=\"patch_28\">\n    <path d=\"M 39.65 225.041301 \nL 39.65 7.601301 \n\" style=\"fill:none;stroke:#000000;stroke-linecap:square;stroke-linejoin:miter;stroke-width:0.8;\"/>\n   </g>\n   <g id=\"patch_29\">\n    <path d=\"M 374.45 225.041301 \nL 374.45 7.601301 \n\" style=\"fill:none;stroke:#000000;stroke-linecap:square;stroke-linejoin:miter;stroke-width:0.8;\"/>\n   </g>\n   <g id=\"patch_30\">\n    <path d=\"M 39.65 225.041301 \nL 374.45 225.041301 \n\" style=\"fill:none;stroke:#000000;stroke-linecap:square;stroke-linejoin:miter;stroke-width:0.8;\"/>\n   </g>\n   <g id=\"patch_31\">\n    <path d=\"M 39.65 7.601301 \nL 374.45 7.601301 \n\" style=\"fill:none;stroke:#000000;stroke-linecap:square;stroke-linejoin:miter;stroke-width:0.8;\"/>\n   </g>\n  </g>\n </g>\n <defs>\n  <clipPath id=\"p27673463b5\">\n   <rect height=\"217.44\" width=\"334.8\" x=\"39.65\" y=\"7.601301\"/>\n  </clipPath>\n </defs>\n</svg>\n",
      "image/png": "[encoded data removed]"
     },
     "metadata": {
      "needs_background": "light"
     }
    }
   ],
   "source": [
    "\n",
    "import numpy as np\n",
    "import matplotlib.pyplot as plt\n",
    "import seaborn as sns\n",
    "\n",
    "observations = np.random.normal(size = 10000)\n",
    "#print(observations)\n",
    "histogram = plt.hist(observations, bins = 25)\n",
    "\n",
    "# observations = observations.reshape(10, 10)\n",
    "\n",
    "# mask = (observations < 1) & (observations > -1)\n",
    "\n",
    "# observations[mask] = 0\n",
    "# print(observations)"
   ]
  },
  {
   "source": [
    "## Random Variables, Distributions, and Probability\n",
    "1. Probability: quantifying uncertainty\n",
    "- `X` or capital letters for all possible events\n",
    "- `P(X = x)`\n",
    "- Independent: `P(A, B) = P(A) * P(B)`\n",
    "- Depenent: `P(A, B) = P(A | B) * P(B)`\n",
    "- Depenent: `P(B, A) = P(B | A) * P(A)`\n",
    "2. Bayes' Thm.\n",
    "- `P(A | B) = (P(B | A) * P(A)) / P(B)`\n",
    "- `P(H | E) = (P(E | H) * P(H)) / P(E)`"
   ],
   "cell_type": "markdown",
   "metadata": {}
  },
  {
   "cell_type": "code",
   "execution_count": 7,
   "metadata": {
    "tags": []
   },
   "outputs": [
    {
     "output_type": "stream",
     "name": "stdout",
     "text": "[-1.15562568  0.55629349 -0.7192469  ...  0.57308367 -0.20163843\n -1.18478813]\nMean: 0.00\nVariance: 1.02\n"
    }
   ],
   "source": [
    "print(observations)\n",
    "mean = observations.mean()\n",
    "var = observations.var()\n",
    "print('Mean: {:.2f}'.format(mean))\n",
    "print('Variance: {:.2f}'.format(var))\n",
    "\n",
    "\n"
   ]
  },
  {
   "source": [
    "## Misc."
   ],
   "cell_type": "markdown",
   "metadata": {}
  },
  {
   "cell_type": "code",
   "execution_count": null,
   "metadata": {},
   "outputs": [],
   "source": [
    "n = 11\n",
    "\n",
    "for i in range(n):\n",
    "    for j in range(i):\n",
    "        print('*', end = '')\n",
    "    print()\n",
    "for l in range(n, 0, -1):\n",
    "    for k in range(l):\n",
    "        print('*', end = '')\n",
    "    print()\n",
    "    \n",
    "l1 = [1, 2, 3]\n",
    "l2 = [4, 5, 6]\n",
    "l3 = [7, 8, 9]\n",
    "test = zip(l1, l2, l3)\n",
    "print(test)"
   ]
  },
  {
   "cell_type": "code",
   "execution_count": null,
   "metadata": {},
   "outputs": [],
   "source": []
  },
  {
   "cell_type": "code",
   "execution_count": null,
   "metadata": {},
   "outputs": [],
   "source": []
  }
 ],
 "metadata": {
  "celltoolbar": "Attachments",
  "kernelspec": {
   "display_name": "Python 3",
   "language": "python",
   "name": "python3"
  },
  "language_info": {
   "codemirror_mode": {
    "name": "ipython",
    "version": 3
   },
   "file_extension": ".py",
   "mimetype": "text/x-python",
   "name": "python",
   "nbconvert_exporter": "python",
   "pygments_lexer": "ipython3",
   "version": "3.8.6-final"
  },
  "toc": {
   "base_numbering": 1,
   "nav_menu": {},
   "number_sections": true,
   "sideBar": true,
   "skip_h1_title": false,
   "title_cell": "Table of Contents",
   "title_sidebar": "Contents",
   "toc_cell": false,
   "toc_position": {},
   "toc_section_display": true,
   "toc_window_display": false
  },
  "varInspector": {
   "cols": {
    "lenName": 16,
    "lenType": 16,
    "lenVar": 40
   },
   "kernels_config": {
    "python": {
     "delete_cmd_postfix": "",
     "delete_cmd_prefix": "del ",
     "library": "var_list.py",
     "varRefreshCmd": "print(var_dic_list())"
    },
    "r": {
     "delete_cmd_postfix": ") ",
     "delete_cmd_prefix": "rm(",
     "library": "var_list.r",
     "varRefreshCmd": "cat(var_dic_list()) "
    }
   },
   "types_to_exclude": [
    "module",
    "function",
    "builtin_function_or_method",
    "instance",
    "_Feature"
   ],
   "window_display": false
  }
 },
 "nbformat": 4,
 "nbformat_minor": 4
}