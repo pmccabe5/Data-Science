{
 "cells": [
  {
   "cell_type": "markdown",
   "metadata": {},
   "source": [
    "# Notes for 9/2\n",
    "\n",
    "## Basic Operations"
   ]
  },
  {
   "cell_type": "code",
   "execution_count": 2,
   "metadata": {
    "scrolled": false
   },
   "outputs": [
    {
     "name": "stdout",
     "output_type": "stream",
     "text": [
      "String: Hello, world!\n",
      "Addition: 10\n",
      "Subtraction: 8\n",
      "Multiplication: 16\n",
      "Division: 8.0\n",
      "Integer division: 4.0\n",
      "Exponents: 16.0\n",
      "Square Root: 4.0\n"
     ]
    }
   ],
   "source": [
    "import math\n",
    "def main():\n",
    "    \n",
    "    string = 'Hello, world!'\n",
    "    print('String: ' + string)\n",
    "    test = 5 + 5 # addititon\n",
    "    print('Addition: ' + str(test))\n",
    "    test -= 2 # subtraction\n",
    "    print('Subtraction: ' + str(test))\n",
    "    test *= 2 # division\n",
    "    print('Multiplication: ' + str(test))\n",
    "    test /= 2 # division\n",
    "    print('Division: ' + str(test))\n",
    "    test //= 2 # division\n",
    "    print('Integer division: ' + str(test))\n",
    "    test = test ** 2 # exponents\n",
    "    print('Exponents: ' + str(test))\n",
    "    test = math.sqrt(test) #square root\n",
    "    print('Square Root: ' + str(test))\n",
    "    \n",
    "main()"
   ]
  },
  {
   "cell_type": "markdown",
   "metadata": {},
   "source": [
    "## Generating a Data Set"
   ]
  },
  {
   "cell_type": "code",
   "execution_count": null,
   "metadata": {},
   "outputs": [],
   "source": [
    "\n",
    "import random\n",
    "\n",
    "arr = []\n",
    "n = random.randint(0, 2000)\n",
    "length = 30\n",
    "total = 0\n",
    "\n",
    "for i in range(length):\n",
    "    num = random.randint(i, n)\n",
    "    arr.append(num)\n",
    "\n",
    "length = len(arr)\n",
    "print('Size of the array: ' + str(length))\n",
    "    \n",
    "print('Data Set:', arr)\n"
   ]
  },
  {
   "cell_type": "markdown",
   "metadata": {},
   "source": [
    "## Data Sanitization (Sorting)"
   ]
  },
  {
   "cell_type": "code",
   "execution_count": 18,
   "metadata": {},
   "outputs": [
    {
     "name": "stdout",
     "output_type": "stream",
     "text": [
      "Cleaned: [8, 103, 270, 295, 322, 387, 449, 456, 551, 633, 679, 749, 764, 812, 825, 832, 894, 895, 998, 1038, 1277, 1319, 1325, 1362, 1372, 1436, 1479, 1502, 1542, 1605]\n"
     ]
    }
   ],
   "source": [
    "arr.sort()\n",
    "print('Cleaned:', arr)"
   ]
  },
  {
   "cell_type": "markdown",
   "metadata": {},
   "source": [
    "## Generating Statistics\n",
    "### Minimum, Minimum, and Median "
   ]
  },
  {
   "cell_type": "code",
   "execution_count": 21,
   "metadata": {},
   "outputs": [
    {
     "name": "stdout",
     "output_type": "stream",
     "text": [
      "Min: 8\n",
      "Median: 832\n",
      "Max: 1605\n"
     ]
    }
   ],
   "source": [
    "minimum = arr[0]\n",
    "median = arr[length // 2]\n",
    "maximum = arr[length - 1]\n",
    "\n",
    "print('Min: ' + str(minimum))\n",
    "print('Median: ' + str(median))\n",
    "print('Max: ' + str(maximum))"
   ]
  },
  {
   "cell_type": "markdown",
   "metadata": {},
   "source": [
    "### Data Set Operations\n",
    "#### Mean"
   ]
  },
  {
   "cell_type": "code",
   "execution_count": 7,
   "metadata": {},
   "outputs": [
    {
     "name": "stdout",
     "output_type": "stream",
     "text": [
      "Mean: 326.97\n"
     ]
    }
   ],
   "source": [
    "for val in range(len(arr)):\n",
    "    total += arr[val]\n",
    "    \n",
    "avg = total/len(arr)\n",
    "\n",
    "print('Mean: ' + str(avg))\n"
   ]
  }
 ],
 "metadata": {
  "kernelspec": {
   "display_name": "Python 3",
   "language": "python",
   "name": "python3"
  },
  "language_info": {
   "codemirror_mode": {
    "name": "ipython",
    "version": 3
   },
   "file_extension": ".py",
   "mimetype": "text/x-python",
   "name": "python",
   "nbconvert_exporter": "python",
   "pygments_lexer": "ipython3",
   "version": "3.8.5"
  }
 },
 "nbformat": 4,
 "nbformat_minor": 4
}
