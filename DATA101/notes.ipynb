{
 "cells": [
  {
   "cell_type": "markdown",
   "metadata": {},
   "source": [
    "# Notes for 9/2\n",
    "\n",
    "## Basic Operations"
   ]
  },
  {
   "cell_type": "code",
   "execution_count": 17,
   "metadata": {
    "scrolled": true
   },
   "outputs": [
    {
     "name": "stdout",
     "output_type": "stream",
     "text": [
      "String: Test\n",
      "Addition: 10\n",
      "Subtraction: 8\n",
      "Multiplication: 16\n",
      "Division: 8.0\n",
      "Integer division: 4.0\n",
      "Exponents: 16.0\n"
     ]
    }
   ],
   "source": [
    "\n",
    "def main():\n",
    "    \n",
    "    string = 'Test'\n",
    "    print('String: ' + string)\n",
    "    test = 5 + 5 # addititon\n",
    "    print('Addition: ' + str(test))\n",
    "    test -= 2 # subtraction\n",
    "    print('Subtraction: ' + str(test))\n",
    "    test *= 2 # division\n",
    "    print('Multiplication: ' + str(test))\n",
    "    test /= 2 # division\n",
    "    print('Division: ' + str(test))\n",
    "    test //= 2 # division\n",
    "    print('Integer division: ' + str(test))\n",
    "    test = test ** 2 # exponents\n",
    "    print('Exponents: ' + str(test))\n",
    "    \n",
    "main()"
   ]
  },
  {
   "cell_type": "markdown",
   "metadata": {},
   "source": [
    "## Iteration, Arrays, & Libraries"
   ]
  },
  {
   "cell_type": "code",
   "execution_count": 13,
   "metadata": {},
   "outputs": [
    {
     "name": "stdout",
     "output_type": "stream",
     "text": [
      "[122, 14, 210, 297, 61, 156, 117, 277, 246, 243, 208, 57, 267, 207, 47, 327, 191, 85, 308, 144, 82, 300, 176, 88, 199, 210, 234, 127, 242, 258, 152, 318, 170, 297, 120, 151, 237, 168, 73, 62, 54, 333, 267, 290, 171, 195, 218, 237, 249, 248, 190, 91, 268, 311, 337, 122, 220, 285, 281, 176, 186, 213, 186, 89, 93, 151, 168, 328, 97, 167, 200, 130, 219, 119, 214, 93, 244, 300, 81, 200, 183, 156, 96, 256, 300, 299, 219, 220, 249, 101, 127, 179, 183, 198, 282, 230, 315, 159, 177, 294]\n",
      "Mean: 194.92\n"
     ]
    }
   ],
   "source": [
    "\n",
    "import random\n",
    "\n",
    "arr = []\n",
    "n = random.randint(0, 1024)\n",
    "total = 0\n",
    "\n",
    "for i in range(100):\n",
    "    num = random.randint(i, n)\n",
    "    arr.append(num)\n",
    "    \n",
    "print(arr)\n",
    "\n",
    "for val in range(len(arr)):\n",
    "    total += arr[val]\n",
    "    \n",
    "avg = total/len(arr)\n",
    "\n",
    "print('Mean: ' + str(avg))\n",
    "\n"
   ]
  },
  {
   "cell_type": "code",
   "execution_count": null,
   "metadata": {},
   "outputs": [],
   "source": []
  }
 ],
 "metadata": {
  "kernelspec": {
   "display_name": "Python 3",
   "language": "python",
   "name": "python3"
  },
  "language_info": {
   "codemirror_mode": {
    "name": "ipython",
    "version": 3
   },
   "file_extension": ".py",
   "mimetype": "text/x-python",
   "name": "python",
   "nbconvert_exporter": "python",
   "pygments_lexer": "ipython3",
   "version": "3.8.5"
  }
 },
 "nbformat": 4,
 "nbformat_minor": 4
}
