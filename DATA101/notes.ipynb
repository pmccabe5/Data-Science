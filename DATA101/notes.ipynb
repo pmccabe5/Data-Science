{
 "cells": [
  {
   "cell_type": "markdown",
   "metadata": {},
   "source": [
    "# Notes for 9/2\n",
    "\n",
    "## Basic Operations"
   ]
  },
  {
   "cell_type": "code",
   "execution_count": 1,
   "metadata": {
    "scrolled": true
   },
   "outputs": [
    {
     "name": "stdout",
     "output_type": "stream",
     "text": [
      "String: Hello, world!\n",
      "Addition: 10\n",
      "Subtraction: 8\n",
      "Multiplication: 16\n",
      "Division: 8.0\n",
      "Integer division: 4.0\n",
      "Exponents: 16.0\n",
      "Square Root: 4.0\n"
     ]
    }
   ],
   "source": [
    "import math\n",
    "import random\n",
    "\n",
    "string = 'Hello, world!'\n",
    "print('String: ' + string)\n",
    "test = 5 + 5 # addititon\n",
    "print('Addition: ' + str(test))\n",
    "test -= 2 # subtraction\n",
    "print('Subtraction: ' + str(test))\n",
    "test *= 2 # division\n",
    "print('Multiplication: ' + str(test))\n",
    "test /= 2 # division\n",
    "print('Division: ' + str(test))\n",
    "test //= 2 # division\n",
    "print('Integer division: ' + str(test))\n",
    "test = test ** 2 # exponents\n",
    "print('Exponents: ' + str(test))\n",
    "test = math.sqrt(test) # square root\n",
    "print('Square Root: ' + str(test))\n",
    "\n"
   ]
  },
  {
   "cell_type": "markdown",
   "metadata": {},
   "source": [
    "## Casting"
   ]
  },
  {
   "cell_type": "code",
   "execution_count": 2,
   "metadata": {},
   "outputs": [
    {
     "name": "stdout",
     "output_type": "stream",
     "text": [
      "2\n",
      "<class 'str'>\n",
      "<class 'int'>\n",
      "<class 'str'>\n"
     ]
    }
   ],
   "source": [
    "k = 2.33345676512321 # float\n",
    "\n",
    "k = int(k) # chop off decimal\n",
    "\n",
    "print(k) # full int left\n",
    "\n",
    "x = '2' # string\n",
    "print(type(x)) # type string\n",
    "\n",
    "y = int(x) # convert to int\n",
    "print(type(y)) # type int\n",
    "\n",
    "z = str(y) # convert to string\n",
    "print(type(z)) # type string"
   ]
  },
  {
   "cell_type": "markdown",
   "metadata": {},
   "source": [
    " ## String Operations"
   ]
  },
  {
   "cell_type": "code",
   "execution_count": 3,
   "metadata": {},
   "outputs": [
    {
     "name": "stdout",
     "output_type": "stream",
     "text": [
      "Upper: HELLO, WORLD!\n",
      "Lower: hello, world!\n",
      "Stripped: hello, world!\n",
      "Length: 13\n"
     ]
    }
   ],
   "source": [
    "original = string # copy to another var\n",
    "\n",
    "string = string.upper() # all to uppper case \n",
    "print('Upper: ' + string) # print upper case string\n",
    "\n",
    "string = string.lower() # all to lower\n",
    "print('Lower: ' + string) # print lower case string\n",
    "\n",
    "string = string.strip() # remove witespace or carriage returns\n",
    "print('Stripped: ' + string) # print stripped string\n",
    "\n",
    "strLength = len(string) # length of string \n",
    "print('Length: ' + str(strLength)) # print the length\n"
   ]
  },
  {
   "cell_type": "markdown",
   "metadata": {},
   "source": [
    "## Booleans"
   ]
  },
  {
   "cell_type": "code",
   "execution_count": 4,
   "metadata": {},
   "outputs": [
    {
     "name": "stdout",
     "output_type": "stream",
     "text": [
      "Result: False\n",
      "Result: True\n"
     ]
    }
   ],
   "source": [
    "a = 2 # first val\n",
    "b = 2.001293 # second val\n",
    "\n",
    "boolean = (a == b) # are the values equal?\n",
    "print('Result: ' + str(boolean)) # print boolean\n",
    "\n",
    "str1 = 'test' # string one \n",
    "str2 = 'test' # string two\n",
    "\n",
    "boolean = (str1 == str2) # are the strings equal?\n",
    "print('Result: ' + str(boolean)) # print boolean"
   ]
  },
  {
   "cell_type": "markdown",
   "metadata": {},
   "source": [
    "## Variables and Documentation"
   ]
  },
  {
   "cell_type": "markdown",
   "metadata": {},
   "source": [
    "### Variable conventions\n",
    "1. Naming conventions:\n",
    "    - Legal characters:\n",
    "    - [A-Z]\n",
    "    - [a-z]\n",
    "    - [0-9]\n",
    "    - Underscore (_)\n",
    "2. Can only start with letters and underscores, no numbers\n",
    "3. No spaces\n",
    "4. Cannot use a keyword \n",
    "5. Try to avoid the following\n",
    "    - l (seen as 1)\n",
    "    - O (seen as 0)\n",
    "6. Use camel case:\n",
    "    - lowerCamelCase\n",
    "    - UpperCamelCase\n",
    "7. Constants: UPPER\n",
    "    - ex: PI- 3.14\n",
    "    \n",
    "### Self-Documenting Code\n",
    "1. Good variable names can minimize comments\n",
    "2. Name variables for the data that they store\n",
    "\n",
    "### Whitespaces\n",
    "1. Return key (enter)\n",
    "    - New line: \\n\n",
    "    - Return: \\r\n",
    "    - Tab: \\t\n",
    "    - Space: ' '\n",
    "2. Strip with the `.strip()` method for strings\n",
    "    "
   ]
  },
  {
   "cell_type": "markdown",
   "metadata": {},
   "source": [
    "## Data Structures (Lists) \n",
    "\n",
    "### Lists\n",
    "**Strings are lists of** `chars`\n",
    "1. Ordered\n",
    "2. Mutable\n",
    "    * Changes the object after use\n",
    "    * Non-mutable \n",
    "3. No need for auxiliary data structures\n",
    "4. Negative indexing `myList[-1]`\n",
    "5. Slicing `myList[:upper]` or `myList[lower:]` or `myList[lower:upper]`\n",
    "6. Append: single element\n",
    "7. Extend: add multiple elements **Takes a list as input**\n",
    "\n"
   ]
  },
  {
   "cell_type": "code",
   "execution_count": 5,
   "metadata": {
    "scrolled": false
   },
   "outputs": [
    {
     "name": "stdout",
     "output_type": "stream",
     "text": [
      "a\n",
      "d\n",
      "['a', 'b', 'c', 'd', 'z']\n",
      "['a', 'b', 'c', 'd', 'z', 1, 2, 3, 4]\n",
      "['a', 'b', 'c', 'd', 'z', 1, 2, 3, 4, 99]\n",
      "['a', 'b', 'c', 'd', 'z', 1, 2, 3, 4, 99, 1, 2, 3, 4]\n",
      "[4, 3, 2, 1]\n",
      "['a', 'b', 'c', 'd', 'z', 1, 2, 3, 4, 1, 2, 3, 4]\n",
      "[1, 2, 3, 4]\n",
      "Count: 2\n",
      "Index: 0\n"
     ]
    }
   ],
   "source": [
    "# Lists\n",
    "\n",
    "# lists for testing\n",
    "arr = ['a', 'b', 'c', 'd']\n",
    "arr2 = [1, 2, 3, 4]\n",
    "\n",
    "# indexing\n",
    "print(arr[0])\n",
    "print(arr[-1])\n",
    "\n",
    "# append single element\n",
    "arr.append('z')\n",
    "print(arr)\n",
    "\n",
    "# extend for multiple elements\n",
    "arr.extend(arr2)\n",
    "print(arr)\n",
    "\n",
    "# mutable methods\n",
    "\n",
    "# append\n",
    "arr.append(99)\n",
    "print(arr)\n",
    "\n",
    "# extend\n",
    "arr.extend(arr2)\n",
    "print(arr)\n",
    "\n",
    "# reverse\n",
    "arr2.reverse()\n",
    "print(arr2)\n",
    "\n",
    "# remove first instance of element\n",
    "arr.remove(99)\n",
    "print(arr)\n",
    "\n",
    "# sort the list (quicksort?)\n",
    "arr2.sort()\n",
    "print(arr2)\n",
    "\n",
    "# Non-mutating\n",
    "\n",
    "# count\n",
    "count = arr.count(4)\n",
    "print('Count: ' + str(count))\n",
    "\n",
    "# index of the first occurence\n",
    "index = arr.index('a')\n",
    "print('Index: ' + str(index))"
   ]
  },
  {
   "cell_type": "markdown",
   "metadata": {},
   "source": [
    "### Tuples\n",
    "\n",
    "1. Immutable: once it is constructed, it cannot be changed  \n",
    "    * Date/Time\n",
    "    * Weekdays\n",
    "    * Fixed data    \n",
    "2. Advantages: \n",
    "    * Faster than lists\n",
    "    * Write protected"
   ]
  },
  {
   "cell_type": "code",
   "execution_count": 6,
   "metadata": {
    "scrolled": true
   },
   "outputs": [
    {
     "name": "stdout",
     "output_type": "stream",
     "text": [
      "<class 'list'>\n",
      "<class 'tuple'>\n",
      "<class 'set'>\n",
      "<class 'tuple'>\n"
     ]
    }
   ],
   "source": [
    "listEx = [3, 64.2, 'some list'] # lists have brackets\n",
    "print(type(listEx))\n",
    "\n",
    "tupleEx = (3, 64.2, 'some list') # tuples have parentheses\n",
    "print(type(tupleEx))\n",
    "\n",
    "setEx = {3, 64.2, 'some list'} # sets have braces\n",
    "print(type(setEx))\n",
    "\n",
    "tup = tuple() # empty tuple\n",
    "\n",
    "print(type(tup))\n",
    "\n"
   ]
  },
  {
   "cell_type": "markdown",
   "metadata": {},
   "source": [
    "### Sets\n",
    "\n",
    "1. Distinct: no two identical elements\n",
    "2. Unordered: don't index the same way lists do\n",
    "3. Advantages:\n",
    "    * stored once, no duplicates  \n",
    "4. Disadvantage: no sense of ordering"
   ]
  },
  {
   "cell_type": "code",
   "execution_count": 7,
   "metadata": {},
   "outputs": [
    {
     "name": "stdout",
     "output_type": "stream",
     "text": [
      "{1, 2}\n",
      "{1, 'a', 2, 3, 4, 'd', 'b', 'c', 'z'}\n",
      "True\n",
      "False\n"
     ]
    }
   ],
   "source": [
    "sets = set() # empty set\n",
    "\n",
    "sets.add(1)\n",
    "sets.add(2)\n",
    "sets.add(2)\n",
    "\n",
    "print(sets) # print the set\n",
    "\n",
    "sets = set(arr) # arr to sets\n",
    "print(sets)\n",
    "\n",
    "for i in range(10):\n",
    "    arr.append(i + 1)\n",
    "\n",
    "sets = set(arr) # list in set\n",
    "    \n",
    "print(5 in sets)\n",
    "\n",
    "print(22 in sets)"
   ]
  },
  {
   "cell_type": "markdown",
   "metadata": {},
   "source": [
    "### Dictionaries\n",
    "\n",
    "1. Key:value pair\n",
    "2. Hash maps\n",
    "3. Distinct keys\n",
    "4. Advantages:\n",
    "    * Mutabe\n",
    "    * Unordered\n",
    "    * Keys are distinct, values can be the same"
   ]
  },
  {
   "cell_type": "code",
   "execution_count": 8,
   "metadata": {},
   "outputs": [
    {
     "name": "stdout",
     "output_type": "stream",
     "text": [
      "{1: 'test', 2: [1, 2, 3, 4]}\n",
      "[1, 2, 3, 4]\n",
      "dict_keys([1, 2])\n",
      "dict_values(['test', [1, 2, 3, 4]])\n",
      "dict_items([(1, 'test'), (2, [1, 2, 3, 4])])\n"
     ]
    }
   ],
   "source": [
    "dictionary = {} # empty dictionary\n",
    "\n",
    "dictionary[1] = 'test' # add value\n",
    "dictionary[2] = [1, 2, 3, 4]\n",
    "\n",
    "print(dictionary) # print whole dictionary\n",
    "\n",
    "print(dictionary[2]) # print single element\n",
    "\n",
    "print(dictionary.keys()) # print the keys\n",
    "\n",
    "print(dictionary.values()) # print the values\n",
    "\n",
    "print(dictionary.items()) # print the items as tuples\n",
    "\n"
   ]
  },
  {
   "cell_type": "markdown",
   "metadata": {},
   "source": [
    "## Aliasing\n",
    "\n",
    "1. Same data is in both locations\n",
    "2. Data is not copied to the other variable"
   ]
  },
  {
   "cell_type": "code",
   "execution_count": 9,
   "metadata": {
    "scrolled": false
   },
   "outputs": [
    {
     "name": "stdout",
     "output_type": "stream",
     "text": [
      "{1: 'test', 2: [1, 2, 3, 4]}\n",
      "{1: 'test', 2: [1, 2, 3, 4]}\n",
      "{1: 'test', 2: [1, 2, 3, 4], 'Cole': 'hidden'}\n",
      "{1: 'test', 2: [1, 2, 3, 4], 'Cole': 'hidden'}\n",
      "True\n"
     ]
    }
   ],
   "source": [
    "alias = dictionary\n",
    "\n",
    "print(dictionary)\n",
    "print(alias)\n",
    "\n",
    "alias['Cole'] = 'hidden'\n",
    "print(dictionary)\n",
    "print(alias)\n",
    "\n",
    "print(alias is dictionary)"
   ]
  },
  {
   "cell_type": "markdown",
   "metadata": {},
   "source": [
    "## Iteration\n",
    "\n",
    "1. Why: machines that repeat tasks\n",
    "2. For loop: `for i in range(lower, upper, step):` or `for item in list:`\n",
    "3. Indentation is key for loops and functions"
   ]
  },
  {
   "cell_type": "code",
   "execution_count": 10,
   "metadata": {
    "scrolled": true
   },
   "outputs": [
    {
     "name": "stdout",
     "output_type": "stream",
     "text": [
      "[10, 53, 96, 88, 92, 49, 15, 92]\n",
      "Sum: 424\n",
      "Average Age: 53.0\n"
     ]
    }
   ],
   "source": [
    "ages = []\n",
    "\n",
    "for i in range(8):\n",
    "    ages.append(random.randint(0,120))\n",
    "    \n",
    "print(ages)\n",
    "\n",
    "sumOfAges = 0 \n",
    "\n",
    "for i in range(len(ages)):\n",
    "    sumOfAges += ages[1]\n",
    "\n",
    "print('Sum: ' + str(sumOfAges))\n",
    "\n",
    "avg = sumOfAges / len(ages)\n",
    "print('Average Age: ' + str(avg))\n"
   ]
  },
  {
   "cell_type": "markdown",
   "metadata": {},
   "source": [
    "4. While loop `while <condition>:`"
   ]
  },
  {
   "cell_type": "code",
   "execution_count": 11,
   "metadata": {
    "scrolled": true
   },
   "outputs": [
    {
     "name": "stdout",
     "output_type": "stream",
     "text": [
      "10\n",
      "11\n",
      "12\n",
      "13\n",
      "14\n"
     ]
    }
   ],
   "source": [
    "it = 10\n",
    "\n",
    "while it < 15:\n",
    "    print(it)\n",
    "    it += 1"
   ]
  },
  {
   "cell_type": "markdown",
   "metadata": {},
   "source": [
    "## String formatting"
   ]
  },
  {
   "cell_type": "code",
   "execution_count": 12,
   "metadata": {},
   "outputs": [
    {
     "name": "stdout",
     "output_type": "stream",
     "text": [
      "My name is Patrick, I am 21\n",
      "My name is Patrick, I am 21\n",
      "My name is Patrick, I am 21\n"
     ]
    }
   ],
   "source": [
    "txt = 'My name is {name}, I am {age}'.format(name = 'Patrick', age = 21) # variables\n",
    "print(txt)\n",
    "\n",
    "txt = 'My name is {0}, I am {1}'.format('Patrick', 21) # indices\n",
    "print(txt)\n",
    "\n",
    "txt = 'My name is {}, I am {}'.format('Patrick', 21) # first, second\n",
    "print(txt)"
   ]
  },
  {
   "cell_type": "markdown",
   "metadata": {},
   "source": [
    "## Advanced Data Structures\n",
    "\n",
    "1. For loops: `for i in range(lower, upper, step): or for item in list:`\n",
    "2. While loop `while <condition>:`"
   ]
  },
  {
   "cell_type": "code",
   "execution_count": 13,
   "metadata": {},
   "outputs": [
    {
     "name": "stdout",
     "output_type": "stream",
     "text": [
      "The number of digits is: 3\n"
     ]
    }
   ],
   "source": [
    "num = 839\n",
    "count = 0\n",
    "while num > 0:\n",
    "    num = num // 10\n",
    "    count += 1\n",
    "    \n",
    "print('The number of digits is: ' + str(count))\n"
   ]
  },
  {
   "cell_type": "markdown",
   "metadata": {},
   "source": [
    "## Special Iteration\n",
    "\n",
    "1. `range(lower, upper, step)`\n",
    "2. "
   ]
  },
  {
   "cell_type": "code",
   "execution_count": 14,
   "metadata": {},
   "outputs": [
    {
     "name": "stdout",
     "output_type": "stream",
     "text": [
      "0 1 2 3 4 5 6 7 8 9 \n",
      "5 6 7 8 9 \n",
      "0 5 10 15 20 25 30 35 40 45 \n",
      "50 45 40 35 30 25 20 15 10 5 "
     ]
    }
   ],
   "source": [
    "for i in range(10):\n",
    "    print (i, end = \" \")\n",
    "\n",
    "print()\n",
    "\n",
    "for i in range(5, 10):\n",
    "    print (i, end = \" \")\n",
    "\n",
    "print()\n",
    "\n",
    "for i in range(0, 50, 5):\n",
    "    print (i, end = \" \")\n",
    "\n",
    "print()\n",
    "\n",
    "for i in range(50, 0, -5):\n",
    "    print (i, end = \" \")"
   ]
  },
  {
   "cell_type": "markdown",
   "metadata": {},
   "source": [
    "## List Comprehension\n",
    "\n",
    "1. One liners for lists and for loops"
   ]
  },
  {
   "cell_type": "code",
   "execution_count": 15,
   "metadata": {
    "scrolled": false
   },
   "outputs": [
    {
     "name": "stdout",
     "output_type": "stream",
     "text": [
      "[0, 1, 4, 9, 16, 25, 36, 49, 64, 81]\n",
      "[0, 1, 4, 9, 16, 25, 36, 49, 64, 81]\n",
      "[10, 11, 14, 19, 26, 35, 46, 59, 74, 91]\n"
     ]
    }
   ],
   "source": [
    "squares = []\n",
    "\n",
    "for i in range(10):\n",
    "    squares.append(i ** 2)\n",
    "    \n",
    "print(squares)\n",
    "\n",
    "squares = [i ** 2 for i in range(10)]\n",
    "print(squares)\n",
    "\n",
    "new_count = [10 + element for element in squares]\n",
    "print (new_count)"
   ]
  },
  {
   "cell_type": "markdown",
   "metadata": {},
   "source": [
    "## Conditionals\n",
    "\n",
    "### `if` Statements\n",
    "1. `if`: `if <condition>:`\n",
    "2. `elif`: `elif <condition>:`\n",
    "3. `else`: `else:`"
   ]
  },
  {
   "cell_type": "code",
   "execution_count": 16,
   "metadata": {
    "scrolled": true
   },
   "outputs": [
    {
     "name": "stdout",
     "output_type": "stream",
     "text": [
      "Max: 100\n",
      "Jen B\n",
      "Shannon C\n",
      "Natasha A\n",
      "Benjamin F\n"
     ]
    }
   ],
   "source": [
    "arr = [1, 2, 3, 4, 99, 2, 44, 100]\n",
    "maxVal = 0\n",
    "\n",
    "for i in range(len(arr)):\n",
    "    if arr[i] > maxVal:\n",
    "        maxVal = arr[i]\n",
    "print('Max: ' + str(maxVal))\n",
    "\n",
    "\n",
    "letter = ''\n",
    "\n",
    "tests = {'Jen': 82, 'Shannon': 75, 'Natasha': 94, 'Benjamin': 48}\n",
    "\n",
    "for student, grade in tests.items():\n",
    "    \n",
    "    if grade >= 90:\n",
    "        letter = 'A'\n",
    "        \n",
    "    elif grade >= 80: \n",
    "        letter = 'B'\n",
    "    \n",
    "    elif grade >= 70:\n",
    "        letter = 'C'\n",
    "        \n",
    "    elif grade >= 60:\n",
    "        letter = 'D'\n",
    "    \n",
    "    else: \n",
    "        letter = 'F'\n",
    "    \n",
    "    print(student, letter)"
   ]
  },
  {
   "cell_type": "markdown",
   "metadata": {},
   "source": [
    "## Boolean Logic\n",
    "\n",
    "1. `and` truth table:\n",
    "\n",
    "X   | Y  | Result\n",
    ":-: |:-: | :----:\n",
    "0   | 0  | `False` \n",
    "0   | 1  | `False`\n",
    "1   | 0  | `False`\n",
    "1   | 1  | `True`\n",
    "\n",
    "2. `or` truth table:\n",
    "\n",
    "X   | Y  | Result\n",
    ":-: |:-: | :----:\n",
    "0   | 0  | `False` \n",
    "0   | 1  | `True`\n",
    "1   | 0  | `True`\n",
    "1   | 1  | `True`\n",
    "\n",
    "3. `not` truth table:\n",
    "\n",
    "X   | Result\n",
    ":-: | :----:\n",
    "0   | `True`\n",
    "1   | `False`\n",
    "\n",
    "4. `in`\n",
    "5. `is`"
   ]
  },
  {
   "cell_type": "code",
   "execution_count": 35,
   "metadata": {},
   "outputs": [
    {
     "name": "stdout",
     "output_type": "stream",
     "text": [
      "73\n",
      "\n",
      "[1, 2, 3, 4, 5, 6, 7, 8, 9, 10]\n",
      "2 is even\n",
      "4 is even\n",
      "6 is even\n",
      "8 is even\n",
      "10 is even\n",
      "\n",
      "13 is not in numbers\n",
      "[0, 1, 2, 3, 4, 5, 6, 7, 8, 9]\n",
      "You are allowed to take the exam!\n"
     ]
    }
   ],
   "source": [
    "x = [51, 65, 56, 19, 11, 49, 81, 59, 45, 73]\n",
    "maxVal = 81\n",
    "secondMax = 0\n",
    "\n",
    "length = len(x)\n",
    "it = 0 \n",
    "\n",
    "while it < length:\n",
    "    if secondMax < x[it] and x[it] < maxVal:\n",
    "        secondMax = x[it]\n",
    "    it += 1\n",
    "print(str(secondMax) + '\\n')\n",
    "\n",
    "numbers = [i for i in range (1, 11)]\n",
    "print(numbers)\n",
    "\n",
    "for num in range(len(numbers)):\n",
    "    if numbers[num] % 2 == 0:\n",
    "        print(str(numbers[num]) + ' is even')\n",
    "        \n",
    "numbers = [i for i in range(10)]\n",
    "\n",
    "if(13 not in numbers):\n",
    "    print('\\n13 is not in numbers')\n",
    "    \n",
    "# print(numbers)\n",
    "\n",
    "noh = 25\n",
    "noa = 12\n",
    "\n",
    "attendance = noa / noh\n",
    "medicalDoc = True\n",
    "\n",
    "if attendance < 0.65:\n",
    "    if medicalDoc:\n",
    "        print('You are allowed to take the exam!')\n",
    "    else:\n",
    "        print('You are not able to take the exam!')\n",
    "    \n",
    "else:\n",
    "    print('You are allowed to take the exam!')"
   ]
  },
  {
   "cell_type": "markdown",
   "metadata": {},
   "source": [
    "## Error Handling\n",
    "\n",
    "1. Common Errors:\n",
    "    - `Type`\n",
    "    - `Key`\n",
    "    - `Index`\n",
    "    - `Name`\n",
    "2. Exception: raised when errors occur, solved by catching the error with `try` and `except`\n",
    "3. `try` and `except`"
   ]
  },
  {
   "cell_type": "code",
   "execution_count": 25,
   "metadata": {},
   "outputs": [
    {
     "name": "stdout",
     "output_type": "stream",
     "text": [
      "Error!\n",
      "Debug\n",
      "Result: Error, Zero division!\n",
      "Error present!\n",
      "0\n",
      "Error present!\n",
      "1\n",
      "Error present!\n",
      "Always printed\n",
      "1\n"
     ]
    }
   ],
   "source": [
    "#print(3/'xy') # illegal math operation\n",
    "\n",
    "#print(j) # example of name error\n",
    "\n",
    "#print('Debug') # should be executed when made available\n",
    "\n",
    "try:\n",
    "    \n",
    "    print(z)\n",
    "    \n",
    "except:\n",
    "    \n",
    "    print('Error!')\n",
    "\n",
    "print('Debug')\n",
    "\n",
    "#print(10/0) # Zero division\n",
    "\n",
    "# Function example for division\n",
    "\n",
    "\n",
    "def divide(x, y):\n",
    "    \n",
    "    quotient = 0\n",
    "    \n",
    "    try:\n",
    "        quotient = x / y\n",
    "    \n",
    "    except ZeroDivisionError:\n",
    "        quotient = 'Error, Zero division!'\n",
    "    \n",
    "    return quotient\n",
    "\n",
    "    \n",
    "returnVal = divide(10, 0)\n",
    "\n",
    "print('Result: ' + str(returnVal))\n",
    "\n",
    "\n",
    "import random \n",
    "num = random.randint(0,1)\n",
    "\n",
    "try:\n",
    "    pass # keyword to skip over\n",
    "\n",
    "except (NameError, ValueError):\n",
    "    print('Error present!')\n",
    "\n",
    "\n",
    "num = random.randint(0,1)\n",
    "\n",
    "try:\n",
    "    \n",
    "    if num == 1:\n",
    "        raise NameError('Happens when there is no variable defined')\n",
    "        \n",
    "    else:\n",
    "        raise ValueError('Happens when you multiply by a string')\n",
    "\n",
    "except (NameError, ValueError):\n",
    "    print('Error present!')\n",
    "\n",
    "\n",
    "print(num)\n",
    "\n",
    "num = random.randint(0,1)\n",
    "\n",
    "try:\n",
    "    \n",
    "    if num == 1:\n",
    "        raise NameError('Happens when there is no variable defined')\n",
    "        \n",
    "except (NameError, ValueError):\n",
    "    print('Error present!')\n",
    "\n",
    "else:\n",
    "    print('No errors occurred!')\n",
    "\n",
    "print(num)\n",
    "\n",
    "\n",
    "num = random.randint(0,1)\n",
    "\n",
    "try:\n",
    "    \n",
    "    if num == 1:\n",
    "        raise NameError('Happens when there is no variable defined')\n",
    "        \n",
    "    else:\n",
    "        raise ValueError('Happens when you multiply by a string')\n",
    "\n",
    "except (NameError, ValueError):\n",
    "    print('Error present!')\n",
    "\n",
    "else:\n",
    "    print('No errors occurred!')\n",
    "    \n",
    "finally: \n",
    "    print('Always printed')\n",
    "\n",
    "print(num)\n",
    "\n",
    "num = random.randint(0,1)\n",
    "\n",
    "try:\n",
    "    \n",
    "    if num == 1:\n",
    "        raise NameError('Happens when there is no variable defined')\n",
    "        \n",
    "    else:\n",
    "        raise Exception('Happens when you multiply by a string')\n",
    "\n",
    "except:\n",
    "    print('Error present!')\n",
    "\n",
    "else:\n",
    "    print('No errors occurred!')\n",
    "    \n",
    "finally: \n",
    "    print('Always printed')\n",
    "\n",
    "print(num)"
   ]
  },
  {
   "cell_type": "markdown",
   "metadata": {},
   "source": [
    "## Functions\n",
    "\n",
    "### Function definitions\n",
    "\n",
    "1. Blocks of code and scopes of code blocks\n",
    "2. Defining functions:\n",
    "    - Name\n",
    "    - Arguments\n",
    "    - Return value\n",
    "\n",
    "```\n",
    "def foo(param1, param2):\n",
    "       <Some code>\n",
    "       return value\n",
    "```\n",
    "\n",
    "3. Compartmentalize one thing and do it well\n",
    "4. Methods are in classes\n",
    "5. Functions are not in classes"
   ]
  },
  {
   "cell_type": "code",
   "execution_count": 1,
   "metadata": {},
   "outputs": [],
   "source": [
    "def ourFunction():\n",
    "    pass\n",
    "\n",
    "ourFunction()"
   ]
  },
  {
   "cell_type": "markdown",
   "metadata": {},
   "source": [
    "### Function Arguments (parameters)\n",
    "\n",
    "1. As many args as you want, separated by comma\n",
    "2. Provide the same number of arguments for the function in the function call\n",
    "\n",
    "```\n",
    "def fun1(one):\n",
    "    <some code>    \n",
    "```\n",
    "\n",
    "Sample call: `fun1(5) # works`\n",
    "\n",
    "Sample call: `fun1(5, 55) # error`\n",
    "\n",
    "4. Default Arguments:\n",
    "    - Positional requirements are required"
   ]
  },
  {
   "cell_type": "code",
   "execution_count": 16,
   "metadata": {},
   "outputs": [
    {
     "name": "stdout",
     "output_type": "stream",
     "text": [
      "5\n",
      "5 5\n",
      "test 10\n",
      "test 999\n",
      "User Patrick owns: \n",
      "\tAmong Us\n",
      "\tNBA 2k\n",
      "test\n"
     ]
    }
   ],
   "source": [
    "def oneArg(one):\n",
    "    print(one)\n",
    "    \n",
    "def twoArgs(one, two):\n",
    "    print(one, two)\n",
    "\n",
    "def threeArgs(one, two, three):\n",
    "    print(one, two, three)\n",
    "    \n",
    "oneArg(5) # works\n",
    "\n",
    "# oneArg(5, 55) # fails: too many params\n",
    "\n",
    "twoArgs(5, 5) # works\n",
    "\n",
    "# twoArgs(5, 5, 5) # fails: too many params\n",
    "\n",
    "def funOne(param, default = 10):\n",
    "    print(param, default)\n",
    "    \n",
    "funOne('test') # works\n",
    "\n",
    "funOne('test', default = 999) # works\n",
    "\n",
    "# funOne() # no params does not work\n",
    "\n",
    "def games(user, lib):\n",
    "    \n",
    "    print('User {} owns: '.format(user))\n",
    "    \n",
    "    for game in lib:\n",
    "        print('\\t' + game)\n",
    "        \n",
    "library = ['Among Us', 'NBA 2k']\n",
    "\n",
    "user = 'Patrick'\n",
    "\n",
    "games(user, library)\n",
    "\n",
    "def identity(arg):\n",
    "    return arg\n",
    "\n",
    "\n",
    "returnVal = identity('test')\n",
    "\n",
    "print(returnVal)\n",
    "\n",
    "\n",
    "        "
   ]
  },
  {
   "cell_type": "markdown",
   "metadata": {},
   "source": [
    "### Return Values\n",
    "\n",
    "1. `return` statement returns a value\n",
    "2. Optional statement in a function\n",
    "3. Multiple values can be returned\n",
    "    - Returned as tuples\n",
    "4. Can return dictionaries"
   ]
  },
  {
   "cell_type": "code",
   "execution_count": 4,
   "metadata": {},
   "outputs": [
    {
     "name": "stdout",
     "output_type": "stream",
     "text": [
      "test\n",
      "['O', 'n', 'e', 't', 'w', 'o', 't', 'h', 'r', 'e', 'e']\n",
      "(10, [1, 2, 3])\n",
      "{'1': 1, '2': 2, '3': 3}\n"
     ]
    }
   ],
   "source": [
    "def identity(arg):\n",
    "    return arg\n",
    "\n",
    "\n",
    "returnVal = identity('test')\n",
    "\n",
    "print(returnVal)\n",
    "\n",
    "def explodeString(string):\n",
    "    chars = []\n",
    "    for i in range(len(string)):\n",
    "        chars.append(string[i])\n",
    "    return chars\n",
    "\n",
    "words = 'Onetwothree'\n",
    "\n",
    "result = explodeString(words)\n",
    "\n",
    "print(result)\n",
    "\n",
    "def listToTuples(inlist):\n",
    "    return 10, inlist\n",
    "\n",
    "lst = [1, 2, 3]\n",
    "\n",
    "print(listToTuples(lst))\n",
    "\n",
    "def listToDictionary(inList):\n",
    "    zero = inList[0]\n",
    "    one = inList[1]\n",
    "    two = inList[2]\n",
    "    \n",
    "    return {'1': zero, '2': one, '3': two}\n",
    "\n",
    "print(listToDictionary(lst))\n",
    "\n"
   ]
  },
  {
   "cell_type": "markdown",
   "metadata": {},
   "source": [
    "### Keyword Arguments\n",
    "1. Set the parameters equal to the variable\n",
    "2. Order does not matter as long as the values are assigned correctly\n",
    "3. Positional are always before default arguments"
   ]
  },
  {
   "cell_type": "code",
   "execution_count": 12,
   "metadata": {},
   "outputs": [
    {
     "name": "stdout",
     "output_type": "stream",
     "text": [
      "Pet 1: King\n",
      "Pet 2: Bailey\n",
      "Pet 1: King\n",
      "Pet 2: Bailey\n",
      "Pet 1: King\n",
      "Pet 2: Bailey\n",
      "50\n",
      "[1, 2, 3, 4]\n"
     ]
    }
   ],
   "source": [
    "def petName(name1, name2):\n",
    "    print('Pet 1:', name1)\n",
    "    print('Pet 2:', name2)\n",
    "    \n",
    "pet1 = 'King'\n",
    "pet2 = 'Bailey'\n",
    "\n",
    "petName(pet1, pet2)\n",
    "\n",
    "petName(name1 = pet1, name2 = pet2)\n",
    "\n",
    "petName(name2 = pet2, name1 = pet1)\n",
    "\n",
    "def posDef(x, y = 10):\n",
    "    return x + (2 * y)\n",
    "\n",
    "z = posDef(x = 10, y = 20)\n",
    "print(z)\n",
    "\n",
    "# define a function that takes a list and returns the unique elements of the first list\n",
    "\n",
    "def unique_list(lst):\n",
    "    \n",
    "    unique = {}\n",
    "    length = len(lst)\n",
    "    \n",
    "    for key in lst:\n",
    "        unique[key] = 0\n",
    "        \n",
    "    return list(unique.keys())\n",
    "\n",
    "lst = [1,1,1,2,2,2,2,3,4]\n",
    "\n",
    "result = uniqueList(lst)\n",
    "print(result)\n",
    "    "
   ]
  },
  {
   "cell_type": "markdown",
   "metadata": {},
   "source": [
    "## Function review\n",
    "1. Palindrome function"
   ]
  },
  {
   "cell_type": "code",
   "execution_count": 8,
   "metadata": {},
   "outputs": [
    {
     "name": "stdout",
     "output_type": "stream",
     "text": [
      "True\n"
     ]
    }
   ],
   "source": [
    "def isPalindrome(string):\n",
    "    \n",
    "    left = 0\n",
    "    right = len(string) - 1\n",
    "    \n",
    "    while right >= left:\n",
    "        if string[left] != string[right]:\n",
    "            return False\n",
    "        \n",
    "        left += 1\n",
    "        right -= 1\n",
    "        \n",
    "    return True\n",
    "\n",
    "print(isPalindrome('radar'))    "
   ]
  },
  {
   "cell_type": "markdown",
   "metadata": {},
   "source": [
    "## Libraries\n",
    "1. Import statement: `import library`\n",
    "2. How to import the library: `import numpy as np`\n",
    "3. Levels:\n",
    "    - Built in functions: `len()`, `print()`, `max()`, `min()`\n",
    "    - Default libraries: \n",
    "        - `random`: random numbers\n",
    "        - `os`: Operating System\n",
    "        - `re`: RegEx\n",
    "        - `datetime`: date and time\n",
    "        - `math`: math library\n",
    "        - `xml`: parsing xml files\n",
    "    - Python Package Index (manual):\n",
    "        - `pip3 install [package]`\n",
    "    "
   ]
  },
  {
   "cell_type": "code",
   "execution_count": 11,
   "metadata": {},
   "outputs": [
    {
     "name": "stdout",
     "output_type": "stream",
     "text": [
      "1\n"
     ]
    }
   ],
   "source": [
    "import random as r\n",
    "\n",
    "print(r.randint(0, 1))"
   ]
  },
  {
   "cell_type": "markdown",
   "metadata": {},
   "source": [
    "## Numpy\n",
    "1. Numperical Python\n",
    "2. One of the most popular packages\n",
    "3. Core: ndarray\n",
    "    - n-dimensional array\n",
    "    - matrices"
   ]
  },
  {
   "cell_type": "code",
   "execution_count": 12,
   "metadata": {
    "scrolled": true
   },
   "outputs": [
    {
     "name": "stdout",
     "output_type": "stream",
     "text": [
      "[[1, 2, 3], [4, 5, 6], [7, 8, 9]]\n"
     ]
    }
   ],
   "source": [
    "matrix = [[1,2,3], [4,5,6], [7,8,9]]\n",
    "\n",
    "print(matrix)"
   ]
  },
  {
   "cell_type": "code",
   "execution_count": 18,
   "metadata": {
    "scrolled": true
   },
   "outputs": [
    {
     "name": "stdout",
     "output_type": "stream",
     "text": [
      "[[1 2 3]\n",
      " [4 5 6]\n",
      " [7 8 9]]\n",
      "<class 'numpy.ndarray'>\n",
      "[1 2 3]\n",
      "9\n",
      "9\n"
     ]
    }
   ],
   "source": [
    "import numpy as np\n",
    "\n",
    "matrix = [[1,2,3], [4,5,6], [7,8,9]]\n",
    "\n",
    "arr = np.array(matrix)\n",
    "\n",
    "print(arr)\n",
    "print(type(arr))\n",
    "\n",
    "print(arr[0])\n",
    "print(arr[2][2]) # [row] [column]\n",
    "print(arr[2,2])"
   ]
  },
  {
   "cell_type": "markdown",
   "metadata": {},
   "source": [
    "## More Numpy\n",
    "1. `ndarray`\n",
    "2. Submodules:\n",
    "    - `ndarray`\n",
    "    - `sin`\n",
    "    - `cos`\n",
    "    - `log`\n",
    "    - `exp`\n",
    "    - `max`\n",
    "    - `min`\n",
    "3. Fourier Transform\n",
    "    - `fft`: infinite sum of sine and cosine waves\n",
    "4. Linear Algebra:\n",
    "    - `linalg.norm`\n",
    "    - `linalg.svd`\n",
    "    - `linalg.det`\n",
    "5. Random Numbers:\n",
    "    - `random`\n",
    "6. Testing:\n",
    "    - `testing.assert_allclose()`\n",
    "7. Vectorized Arithmetic:\n",
    "    - Broadcasting: vectorized operations with different shapes\n",
    "    - Compatible same rows and columns\n",
    "    - One Dimensional array"
   ]
  },
  {
   "cell_type": "code",
   "execution_count": 32,
   "metadata": {},
   "outputs": [
    {
     "name": "stdout",
     "output_type": "stream",
     "text": [
      "Min: 1\n",
      "Cos of first element: 0.54\n",
      "5\n",
      "None\n",
      "[25, 100, 225, 400, 625]\n",
      "[ 25 100 225 400 625]\n",
      "[ 2  4  6  8 10]\n",
      "16.76305461424021\n"
     ]
    }
   ],
   "source": [
    "import numpy as np\n",
    "\n",
    "arr = np.array([1, 2, 3, 4, 5, 6, 7, 8, 9])\n",
    "\n",
    "print('Min:', np.min(arr))\n",
    "print('Cos of first element: {:.2f}'.format(np.cos(arr[0])))\n",
    "\n",
    "print(np.random.randint(10)) # non-inclusive end point like range f(x)\n",
    "\n",
    "arr = np.array([1, 2])\n",
    "brr = np.array([3, 4])\n",
    "\n",
    "\n",
    "\n",
    "print(np.testing.assert_allclose(arr, arr))\n",
    "\n",
    "#print(np.testing.assert_allclose(arr, brr))\n",
    "\n",
    "our_list= [5, 10, 15, 20, 25]\n",
    "our_list = [x ** 2 for x in our_list]\n",
    "print(our_list)\n",
    "\n",
    "our_list = [5, 10, 15, 20, 25]\n",
    "\n",
    "nd = np.array(our_list)\n",
    "\n",
    "nd = nd ** 2\n",
    "\n",
    "print(nd)\n",
    "\n",
    "new_list = [10, 21, 30, 42, 54]\n",
    "nd = np.array(new_list)\n",
    "\n",
    "nd = nd // 5\n",
    "\n",
    "print(nd)\n",
    "\n",
    "import numpy as np\n",
    "import numpy.linalg as nla\n",
    "\n",
    "vector = [4.0, 15.0, 6.0, 2.0]\n",
    "\n",
    "npVector = np.array(vector)\n",
    "magnitude = nla.norm(npVector)\n",
    "\n",
    "npVector /= magnitude\n",
    "\n",
    "print(magnitude)\n"
   ]
  },
  {
   "cell_type": "markdown",
   "metadata": {},
   "source": [
    "## Midterm\n",
    "1. Exam will be on Mimir\n",
    "2. Open note\n",
    "3. No collaboration\n",
    "4. Multiple Submissions\n",
    "5. 11:30 - ? (extra hour?)\n",
    "6. Review Wednesday"
   ]
  },
  {
   "cell_type": "code",
   "execution_count": 8,
   "metadata": {
    "scrolled": true
   },
   "outputs": [
    {
     "name": "stdout",
     "output_type": "stream",
     "text": [
      "[5 7 9]\n",
      "[[19 22]\n",
      " [43 50]]\n",
      "(2, 2)\n",
      "[[1 2 3 4]\n",
      " [5 6 7 8]]\n",
      "[[1 2]\n",
      " [1 2]]\n",
      "[1, 2, 3, 4]\n",
      "[2, 3]\n",
      "[3, 4]\n",
      "[1, 2, 3]\n",
      "[1 2 3 4]\n",
      "[2 3]\n",
      "[3 4]\n",
      "[1 2 3]\n"
     ]
    }
   ],
   "source": [
    "import numpy as np\n",
    "\n",
    "x = np.array([1, 2, 3])\n",
    "y = np.array([4, 5, 6])\n",
    "\n",
    "z = x + y\n",
    "\n",
    "print(z)\n",
    "\n",
    "A = np.array([[1, 2], [3, 4]])\n",
    "B = np.array([[5, 6], [7, 8]])\n",
    "\n",
    "C = A @ B\n",
    "\n",
    "print(C)\n",
    "\n",
    "print(C.shape)\n",
    "\n",
    "def multiplyMatrices(A, B):\n",
    "    \n",
    "    C = np.zeros((A.shape[0], B.shape[1]))\n",
    "    \n",
    "    for row in range(len(A)):      \n",
    "        for col in range(len(B[0])):\n",
    "            for k in range(len(B)):\n",
    "                C[row][col] += A[row][k] * B[k][col]\n",
    "    \n",
    "    return C\n",
    "\n",
    "one = np.array([[1,2,3,4], [5,6,7,8]])\n",
    "two = np.array([[1,2], [1,2]])\n",
    "\n",
    "print(one)\n",
    "print(two)\n",
    "\n",
    "# print(multiplyMatrices(one, two))\n",
    "\n",
    "\n",
    "X = np.random.random([100, 100])\n",
    "Y = np.random.random([100, 100])\n",
    "\n",
    "#%timeit multiplyMatrices(X, Y)\n",
    "#%timeit X @ Y\n",
    "\n",
    "\n",
    "\n",
    "# normal list\n",
    "lst = [1, 2, 3, 4]\n",
    "\n",
    "print(lst)\n",
    "print(lst[1:3])\n",
    "print(lst[2:])\n",
    "print(lst[:-1])\n",
    "\n",
    "# numpy equivalent\n",
    "lst = np.array(lst)\n",
    "\n",
    "print(lst)\n",
    "print(lst[1:3])\n",
    "print(lst[2:])\n",
    "print(lst[:-1])\n",
    "\n",
    "\n"
   ]
  },
  {
   "cell_type": "markdown",
   "metadata": {},
   "source": [
    "## Numpy Array Broadcasting\n",
    "1. Sliceing works for printing rows and columns\n",
    "2. Advanced Slicing:\n",
    "    - `[start:stop]`\n",
    "    - `[start:stop:end]`\n",
    "3. Broadcasting: vectorized operations with different shapes\n",
    "    - Compatible same rows and columns\n",
    "    - One Dimensional array"
   ]
  },
  {
   "cell_type": "code",
   "execution_count": 1,
   "metadata": {
    "scrolled": true
   },
   "outputs": [
    {
     "name": "stdout",
     "output_type": "stream",
     "text": [
      "[[1 2 3]\n",
      " [4 5 6]\n",
      " [7 8 9]]\n",
      "[2 5 8]\n",
      "[[2 3]\n",
      " [5 6]]\n",
      "[[7 8 9]]\n",
      "[[1 2]\n",
      " [4 5]\n",
      " [7 8]]\n",
      "[[4 5]]\n",
      "[[ 1  2  3  4]\n",
      " [ 5  6  7  8]\n",
      " [ 9 10 11 12]]\n",
      "[[ 2  4]\n",
      " [ 6  8]\n",
      " [10 12]]\n",
      "[[ 0  1  2  3  4  5]\n",
      " [ 6  7  8  9 10 11]\n",
      " [12 13 14 15 16 17]\n",
      " [18 19 20 21 22 23]\n",
      " [24 25 26 27 28 29]\n",
      " [30 31 32 33 34 35]]\n",
      "[[12 14 16]\n",
      " [24 26 28]]\n",
      "3\n",
      "(3, 5, 9)\n",
      "(5, 9)\n",
      "(9,)\n",
      "[[[0. 0. 0. 0. 0. 0. 0. 0. 0.]\n",
      "  [0. 0. 0. 0. 0. 0. 0. 0. 0.]\n",
      "  [0. 0. 0. 0. 0. 0. 0. 0. 0.]\n",
      "  [0. 0. 0. 0. 0. 0. 0. 0. 0.]\n",
      "  [0. 0. 0. 0. 0. 0. 0. 0. 0.]]\n",
      "\n",
      " [[0. 0. 0. 0. 0. 0. 0. 0. 0.]\n",
      "  [0. 0. 0. 0. 0. 0. 0. 0. 0.]\n",
      "  [0. 0. 0. 0. 0. 0. 0. 0. 0.]\n",
      "  [0. 0. 0. 0. 0. 0. 0. 0. 0.]\n",
      "  [0. 0. 0. 0. 0. 0. 0. 0. 0.]]\n",
      "\n",
      " [[0. 0. 0. 0. 0. 0. 0. 0. 0.]\n",
      "  [0. 0. 0. 0. 0. 0. 0. 0. 0.]\n",
      "  [0. 0. 0. 0. 0. 0. 0. 0. 0.]\n",
      "  [0. 0. 0. 0. 0. 0. 0. 0. 0.]\n",
      "  [0. 0. 0. 0. 0. 0. 0. 0. 0.]]]\n",
      "(5, 9)\n",
      "[11 12 13 14 15]\n",
      "[[1. 1. 1. 1.]\n",
      " [1. 1. 1. 1.]\n",
      " [1. 1. 1. 1.]]\n"
     ]
    }
   ],
   "source": [
    "import numpy as np\n",
    "\n",
    "x = np.array([[1,2,3], [4,5,6], [7,8,9]])\n",
    "\n",
    "print(x)\n",
    "\n",
    "print(x[:, 1])\n",
    "\n",
    "print(x[:2, 1:])\n",
    "\n",
    "print(x[2:, :])\n",
    "\n",
    "print(x[:, :2])\n",
    "\n",
    "print(x[1:2, :2])\n",
    "\n",
    "a = np.array([[1,2,3,4], [5,6,7,8], [9,10,11,12]])\n",
    "\n",
    "print(a)\n",
    "\n",
    "print(a[:, 1::2])\n",
    "\n",
    "matrix = np.arange(0,36)\n",
    "matrix = matrix.reshape(6,6)\n",
    "\n",
    "print(matrix)\n",
    "\n",
    "print(matrix[2::2, 0::2])\n",
    "\n",
    "video = np.empty(shape = (1280, 720, 50))\n",
    "print(video.ndim)\n",
    "\n",
    "del video\n",
    "\n",
    "#tensor = np.empty(shape = (2, 640, 480, 360, 100))\n",
    "#print(tensor.shape)\n",
    "\n",
    "ex = np.empty(shape = (3, 5, 9))\n",
    "print(ex.shape)\n",
    "\n",
    "sliced = ex[0]\n",
    "print(sliced.shape)\n",
    "\n",
    "sliced = ex[0, 0]\n",
    "print(sliced.shape)\n",
    "\n",
    "ex = np.zeros(shape = (3, 5, 9))\n",
    "print(ex)\n",
    "\n",
    "ex = ex[0]\n",
    "print(ex.shape)\n",
    "\n",
    "x = np.array([1,2,3,4,5])\n",
    "\n",
    "x += 10\n",
    "\n",
    "print(x)\n",
    "\n",
    "zeros = np.zeros(shape = (3, 4))\n",
    "\n",
    "zeros += 1\n",
    "\n",
    "print(zeros)"
   ]
  },
  {
   "cell_type": "markdown",
   "metadata": {},
   "source": [
    "## More numpy\n",
    "1. Preprocessing\n",
    "    - AKA cleaning data\n",
    "2. Boolean indexing (masking)\n",
    "    - `and`: &\n",
    "    - `or`: |"
   ]
  },
  {
   "cell_type": "code",
   "execution_count": 5,
   "metadata": {
    "scrolled": true
   },
   "outputs": [
    {
     "name": "stdout",
     "output_type": "stream",
     "text": [
      "[[ 0.52695565 -0.02963544  1.4328452  -2.00719192]\n",
      " [-0.3643898   0.81683406  1.93403711 -1.8244274 ]\n",
      " [ 0.6227351  -0.28187691  0.62220112  1.71825749]\n",
      " [ 2.44725776 -2.27445449  0.82949197 -0.641628  ]\n",
      " [ 1.39735632  0.29008627  0.3129043   0.85414358]\n",
      " [ 2.95312222 -1.36585731  0.80070001  1.16707487]\n",
      " [-0.32170231  0.0102576  -0.15302296 -0.3428753 ]]\n",
      "[[False  True False  True]\n",
      " [ True False False  True]\n",
      " [False  True False False]\n",
      " [False  True False  True]\n",
      " [False False False False]\n",
      " [False  True False False]\n",
      " [ True False  True  True]]\n",
      "[[0.52695565 0.         1.4328452  0.        ]\n",
      " [0.         0.81683406 1.93403711 0.        ]\n",
      " [0.6227351  0.         0.62220112 1.71825749]\n",
      " [2.44725776 0.         0.82949197 0.        ]\n",
      " [1.39735632 0.29008627 0.3129043  0.85414358]\n",
      " [2.95312222 0.         0.80070001 1.16707487]\n",
      " [0.         0.0102576  0.         0.        ]]\n"
     ]
    }
   ],
   "source": [
    "import numpy as np\n",
    "\n",
    "x = np.random.standard_normal(size = (7, 4))\n",
    "\n",
    "print(x)\n",
    "\n",
    "mask = x < 0\n",
    "\n",
    "print(mask)\n",
    "\n",
    "x[mask] = 0\n",
    "print(x)\n",
    "\n"
   ]
  },
  {
   "cell_type": "markdown",
   "metadata": {},
   "source": [
    "## Interacting with the File System\n",
    "### Input\n",
    "1. `input()` grabs user keyboard text\n"
   ]
  },
  {
   "cell_type": "code",
   "execution_count": 5,
   "metadata": {},
   "outputs": [
    {
     "name": "stdout",
     "output_type": "stream",
     "text": [
      "Enter your name: 5\n",
      "<class 'str'>\n"
     ]
    }
   ],
   "source": [
    "test = input('Enter your name: ')\n",
    "print(type(test))\n",
    "\n",
    "age = int(input('Enter your age: '))\n",
    "print(age)\n"
   ]
  },
  {
   "cell_type": "markdown",
   "metadata": {},
   "source": [
    "### File I/O\n",
    "1. `inFile = open('file.ext', 'r/w')`\n",
    "2. Need a data structure to hold the line data\n",
    "3. Need a loop to iterate over the lines"
   ]
  },
  {
   "cell_type": "code",
   "execution_count": 3,
   "metadata": {
    "scrolled": true,
    "tags": []
   },
   "outputs": [
    {
     "output_type": "stream",
     "name": "stdout",
     "text": "Project Gutenberg's Alice's Adventures in Wonderland, by Lewis Carroll\n\nProject Gutenberg's Alice's Adventures in Wonderland, by Lewis Carroll\n\nProject Gutenberg's Alice's Adventures in Wonderland, by Lewis Carroll\n\nThis eBook is for the use of anyone anywhere at no cost and with\nalmost no restrictions whatsoever.  You may copy it, give it away or\nre-use it under the terms of the Project Gutenberg License included\nProject Gutenberg's Alice's Adventures in Wonderland, by Lewis Carroll\n\n"
    }
   ],
   "source": [
    "import numpy as np\n",
    "\n",
    "inFile = open('alice.txt', 'r')\n",
    "\n",
    "content = inFile.read()\n",
    "\n",
    "print(content[:71])\n",
    "\n",
    "inFile.close()\n",
    "\n",
    "with open('alice.txt', 'r') as inFile:\n",
    "    content = inFile.read()\n",
    "    print(content[:71])\n",
    "\n",
    "inFile = open('alice.txt', 'r')\n",
    "    \n",
    "data = []\n",
    "lines = 0\n",
    "\n",
    "for line in inFile:\n",
    "    line = line.strip()\n",
    "    print(line)\n",
    "    lines += 1\n",
    "    if lines == 5: \n",
    "        break\n",
    "inFile.close()\n",
    "\n",
    "inFile = open('alice.txt', 'r')\n",
    "data = inFile.readlines()\n",
    "print(data[0])\n",
    "inFile.close()\n",
    "\n",
    "outFile = open('out.txt', 'w')\n",
    "outFile.write(str(5))\n",
    "outFile.close()"
   ]
  },
  {
   "cell_type": "markdown",
   "metadata": {},
   "source": [
    "## More file I/O and OS library\n",
    "1. OS library\n",
    "2. `import os`\n",
    "    - `os.getcwd()`: absolute path\n",
    "    - `os.chdir('[path]')`: change directory\n",
    "    - `os.listdir('[directory]')`: lists all the files\n",
    "    - `os.mkdir('name')`: make directory\n",
    "    - `os.rmdir('directory')`: delete a directory\n",
    "    - `os.remove('file')`: removes a file\n",
    "    - `os.unlink('file')`: another way to delete\n",
    "    - `os.rename('old', 'new'): rename files or directories\n",
    "3. `import os.path as p`\n",
    "    - `exists('file')`: boolean does or not exists\n",
    "    - `isdir('name')`: is it a file or directory?"
   ]
  },
  {
   "cell_type": "code",
   "execution_count": null,
   "metadata": {},
   "outputs": [],
   "source": [
    "import os \n",
    "import os.path as p\n",
    "\n",
    "os.chdir('/home/pmccabe/Desktop/Github Repositories/Data-Science')\n",
    "\n",
    "print(os.getcwd()) # get current working directory \n",
    "\n",
    "os.chdir('DATA101') # change to the DATA101 folder\n",
    "\n",
    "print(os.getcwd()) # get current working directory\n",
    "\n",
    "os.listdir('.') # list all the files of the current directory\n",
    "\n",
    "os.mkdir('test') # create a directory\n",
    "\n",
    "print(os.listdir('.')) # list new directories\n",
    "\n",
    "os.rmdir('test') # removes the test directory\n",
    "\n",
    "os.mkdir('test') # create a directory\n",
    "\n",
    "os.listdir('.') # list new directories\n",
    "\n",
    "os.rename('test', 'test2') # rename file\n",
    "\n",
    "print(os.listdir('.')) # list new directories\n",
    "\n",
    "p.exists('test2')\n",
    "\n",
    "for file in os.listdir('.'):\n",
    "    if file.endswith('txt'):\n",
    "        print(p.join(os.getcwd(), file))\n",
    "\n",
    "os.rmdir('test2')"
   ]
  },
  {
   "cell_type": "markdown",
   "metadata": {},
   "source": [
    "## Linear Algebra\n",
    "1. Terminology\n",
    "    - scalar: single number\n",
    "    - vector: collection of scalars\n",
    "2. Scalars:\n",
    "    - magnitude \n",
    "    - direction\n",
    "3. Space (vector space):\n",
    "    - All possible vectors we may have\n",
    "    - finite in dimension, infinite in space\n",
    "    - vectors live in space\n",
    "4. Systems of Equations\n",
    "    - Substitution: solve for one and then calculate the other\n",
    "    - Elimination: eliminate one of the variables\n",
    "5. Vectors and Matrices"
   ]
  },
  {
   "cell_type": "code",
   "execution_count": 1,
   "metadata": {},
   "outputs": [
    {
     "name": "stdout",
     "output_type": "stream",
     "text": [
      "[[1.   1.  ]\n",
      " [0.45 0.65]]\n"
     ]
    }
   ],
   "source": [
    "import numpy as np\n",
    "\n",
    "one = [1, 1]\n",
    "two = [0.45, 0.65]\n",
    "\n",
    "A = np.array([one, two])\n",
    "\n",
    "print(A)\n",
    "\n",
    "yVector = [35, 18.55]\n",
    "\n"
   ]
  },
  {
   "cell_type": "markdown",
   "metadata": {},
   "source": [
    "## Statistics\n",
    "1. Def: sumarize the data\n",
    "2. Make predcictions on the whole population based on a sample\n"
   ]
  },
  {
   "cell_type": "code",
   "execution_count": null,
   "metadata": {},
   "outputs": [],
   "source": [
    "import numpy as np\n",
    "import statistics"
   ]
  },
  {
   "cell_type": "markdown",
   "metadata": {},
   "source": [
    "## Misc."
   ]
  },
  {
   "cell_type": "code",
   "execution_count": null,
   "metadata": {},
   "outputs": [],
   "source": [
    "n = 11\n",
    "\n",
    "for i in range(n):\n",
    "    for j in range(i):\n",
    "        print('*', end = '')\n",
    "    print()\n",
    "for l in range(n, 0, -1):\n",
    "    for k in range(l):\n",
    "        print('*', end = '')\n",
    "    print()\n",
    "    \n",
    "l1 = [1, 2, 3]\n",
    "l2 = [4, 5, 6]\n",
    "l3 = [7, 8, 9]\n",
    "test = zip(l1, l2, l3)\n",
    "print(test)"
   ]
  },
  {
   "cell_type": "code",
   "execution_count": null,
   "metadata": {},
   "outputs": [],
   "source": []
  },
  {
   "cell_type": "code",
   "execution_count": null,
   "metadata": {},
   "outputs": [],
   "source": []
  }
 ],
 "metadata": {
  "celltoolbar": "Attachments",
  "kernelspec": {
   "display_name": "Python 3",
   "language": "python",
   "name": "python3"
  },
  "language_info": {
   "codemirror_mode": {
    "name": "ipython",
    "version": 3
   },
   "file_extension": ".py",
   "mimetype": "text/x-python",
   "name": "python",
   "nbconvert_exporter": "python",
   "pygments_lexer": "ipython3",
   "version": "3.8.6-final"
  },
  "toc": {
   "base_numbering": 1,
   "nav_menu": {},
   "number_sections": true,
   "sideBar": true,
   "skip_h1_title": false,
   "title_cell": "Table of Contents",
   "title_sidebar": "Contents",
   "toc_cell": false,
   "toc_position": {},
   "toc_section_display": true,
   "toc_window_display": false
  },
  "varInspector": {
   "cols": {
    "lenName": 16,
    "lenType": 16,
    "lenVar": 40
   },
   "kernels_config": {
    "python": {
     "delete_cmd_postfix": "",
     "delete_cmd_prefix": "del ",
     "library": "var_list.py",
     "varRefreshCmd": "print(var_dic_list())"
    },
    "r": {
     "delete_cmd_postfix": ") ",
     "delete_cmd_prefix": "rm(",
     "library": "var_list.r",
     "varRefreshCmd": "cat(var_dic_list()) "
    }
   },
   "types_to_exclude": [
    "module",
    "function",
    "builtin_function_or_method",
    "instance",
    "_Feature"
   ],
   "window_display": false
  }
 },
 "nbformat": 4,
 "nbformat_minor": 4
}