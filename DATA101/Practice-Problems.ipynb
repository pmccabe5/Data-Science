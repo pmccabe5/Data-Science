{
 "cells": [
  {
   "cell_type": "markdown",
   "metadata": {},
   "source": [
    "# Practice Problems\n",
    "1. Create a calculator function with three parameters"
   ]
  },
  {
   "cell_type": "code",
   "execution_count": 2,
   "metadata": {
    "tags": []
   },
   "outputs": [
    {
     "output_type": "stream",
     "name": "stdout",
     "text": "[4, 4, 0, 0, 4, 4, 1.0, 1.0, 4, 4, 1, 1, 0, 0]\n4\nFunction not defined or keyword has been specified! Please enter in one of the following operations as a string: \n\n+ or add\n- or sub\n* or mul\n** or pow\n/ or div\n// or int-div\n% or mod\nERROR!!!\n"
    }
   ],
   "source": [
    "def calc(operation, par1, par2 ):\n",
    "    \n",
    "    ops = ['+', '-', '*', '**', '/', '//', '%']\n",
    "    \n",
    "    operation = str(operation)\n",
    "    \n",
    "    if operation not in ops:\n",
    "        operation = operation.lower()\n",
    "    \n",
    "    if operation == '+' or operation == 'add':\n",
    "        return par1 + par2\n",
    "    \n",
    "    elif operation == '-' or operation == 'sub':\n",
    "        return par1 - par2\n",
    "    \n",
    "    elif operation == '*' or operation == 'mul':\n",
    "        return par1 * par2\n",
    "    \n",
    "    elif operation == '**' or operation == 'pow':\n",
    "        return par1 ** par2\n",
    "    \n",
    "    elif operation == '/' or operation == 'div':\n",
    "        return par1 / par2\n",
    "    \n",
    "    elif operation == '//' or operation == 'int-div':\n",
    "        return par1 // par2\n",
    "    \n",
    "    elif operation == '%' or operation == 'mod':\n",
    "        return par1 % par2\n",
    "    \n",
    "    else: \n",
    "        \n",
    "        legalOperations = ['+ or add', '- or sub', '* or mul', '** or pow', '/ or div', '// or int-div', '% or mod']\n",
    "        \n",
    "        print('Function not defined or keyword has been specified! Please enter in one of the following operations as a string: \\n')\n",
    "        \n",
    "        for op in legalOperations:\n",
    "            print(op)\n",
    "        \n",
    "        return 'ERROR!!!'\n",
    "    \n",
    "calcResults = []\n",
    "\n",
    "result = calc('add', 2, 2)\n",
    "calcResults.append(result)\n",
    "\n",
    "result = calc('+', 2, 2)\n",
    "calcResults.append(result)\n",
    "\n",
    "result = calc('sub', 2, 2)\n",
    "calcResults.append(result)\n",
    "\n",
    "result = calc('-', 2, 2)\n",
    "calcResults.append(result)\n",
    "\n",
    "result = calc('mul', 2, 2)\n",
    "calcResults.append(result)\n",
    "\n",
    "result = calc('*', 2, 2)\n",
    "calcResults.append(result)\n",
    "\n",
    "result = calc('div', 2, 2)\n",
    "calcResults.append(result)\n",
    "\n",
    "result = calc('/', 2, 2)\n",
    "calcResults.append(result)\n",
    "\n",
    "result = calc('**', 2, 2)\n",
    "calcResults.append(result)\n",
    "\n",
    "result = calc('pow', 2, 2)\n",
    "calcResults.append(result)\n",
    "\n",
    "result = calc('int-div', 2, 2)\n",
    "calcResults.append(result)\n",
    "\n",
    "result = calc('//', 2, 2)\n",
    "calcResults.append(result)\n",
    "\n",
    "result = calc('mod', 2, 2)\n",
    "calcResults.append(result)\n",
    "\n",
    "result = calc('%', 2, 2)\n",
    "calcResults.append(result)\n",
    "\n",
    "print(calcResults)\n",
    "\n",
    "print(calc('ADD', 2, 2))\n",
    "\n",
    "print(calc('sin', 2, 2))"
   ]
  },
  {
   "cell_type": "code",
   "execution_count": null,
   "metadata": {},
   "outputs": [],
   "source": []
  }
 ],
 "metadata": {
  "kernelspec": {
   "display_name": "Python 3.8.6 64-bit",
   "language": "python",
   "name": "python38664bit0d7e88224fc14742b72ba7ab3539c187"
  },
  "language_info": {
   "codemirror_mode": {
    "name": "ipython",
    "version": 3
   },
   "file_extension": ".py",
   "mimetype": "text/x-python",
   "name": "python",
   "nbconvert_exporter": "python",
   "pygments_lexer": "ipython3",
   "version": "3.8.6-final"
  }
 },
 "nbformat": 4,
 "nbformat_minor": 2
}