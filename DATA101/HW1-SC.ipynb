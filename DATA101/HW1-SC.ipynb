{
 "cells": [
  {
   "cell_type": "markdown",
   "metadata": {
    "nbgrader": {
     "grade": false,
     "grade_id": "q1_prompt",
     "locked": true,
     "schema_version": 1,
     "solution": false
    },
    "state": "normal"
   },
   "source": [
    "# Question 1\n",
    "\n",
    "In this question, you'll write some coding that performs string manipulation. This is pretty much your warm-up.\n",
    "\n",
    "The first cell block is where you put your answer. There may already be some code there, in which case **don't remove it**; just add what is asked for.\n",
    "\n",
    "All the cells under the first one are autograder cells; don't edit those! But you can run them (using the Run button at the top) to test your own code! If they don't spit out any error messages, then your code works!"
   ]
  },
  {
   "cell_type": "markdown",
   "metadata": {
    "collapsed": true,
    "nbgrader": {
     "grade": false,
     "grade_id": "q1a_prompt",
     "locked": true,
     "points": 10,
     "schema_version": 1,
     "solution": false
    },
    "state": "normal"
   },
   "source": [
    "### Part A\n",
    "\n",
    "What's your favorite *positive* number? Create a variable named `favorite_number` and assign it to be your favorite *positive* number."
   ]
  },
  {
   "cell_type": "code",
   "execution_count": null,
   "metadata": {
    "deletable": false,
    "id": "1_0_1_G",
    "nbgrader": {
     "grade": false,
     "grade_id": "q1a",
     "locked": false,
     "schema_version": 1,
     "solution": true
    },
    "starter_code": "",
    "state": "graded"
   },
   "outputs": [],
   "source": []
  },
  {
   "cell_type": "code",
   "execution_count": 1,
   "metadata": {
    "deletable": false,
    "editable": false,
    "id": "52cce9fd",
    "nbgrader": {
     "grade": true,
     "grade_id": "q1a_test",
     "locked": true,
     "points": 6,
     "schema_version": 1,
     "solution": false
    },
    "state": "read_only"
   },
   "outputs": [
    {
     "ename": "NameError",
     "evalue": "name 'favorite_number' is not defined",
     "output_type": "error",
     "traceback": [
      "\u001b[0;31m---------------------------------------------------------------------------\u001b[0m",
      "\u001b[0;31mNameError\u001b[0m                                 Traceback (most recent call last)",
      "\u001b[0;32m<ipython-input-1-933f5d1987d3>\u001b[0m in \u001b[0;36m<module>\u001b[0;34m()\u001b[0m\n\u001b[0;32m----> 1\u001b[0;31m \u001b[0mprint\u001b[0m\u001b[0;34m(\u001b[0m\u001b[0;34m\"My favorite number is: \"\u001b[0m \u001b[0;34m+\u001b[0m \u001b[0mstr\u001b[0m\u001b[0;34m(\u001b[0m\u001b[0mfavorite_number\u001b[0m\u001b[0;34m)\u001b[0m\u001b[0;34m)\u001b[0m\u001b[0;34m\u001b[0m\u001b[0;34m\u001b[0m\u001b[0m\n\u001b[0m",
      "\u001b[0;31mNameError\u001b[0m: name 'favorite_number' is not defined"
     ]
    }
   ],
   "source": [
    "print(\"My favorite number is: \" + str(favorite_number))"
   ]
  },
  {
   "cell_type": "markdown",
   "metadata": {
    "nbgrader": {
     "grade": false,
     "grade_id": "q1b_prompt",
     "locked": true,
     "schema_version": 1,
     "solution": false
    },
    "state": "normal"
   },
   "source": [
    "### Part B\n",
    "\n",
    "Print out a famous quote! In the code below, create two variables:\n",
    " - one named `famous_person`,\n",
    " - the other named `their_quote`,\n",
    " \n",
    "and assign them to be the name of some famous person and a quote that they said, respectively. Remember: these are *strings*!"
   ]
  },
  {
   "cell_type": "code",
   "execution_count": null,
   "metadata": {
    "deletable": false,
    "id": "1_0_2_G",
    "nbgrader": {
     "grade": false,
     "grade_id": "q1b",
     "locked": false,
     "schema_version": 1,
     "solution": true
    },
    "state": "graded"
   },
   "outputs": [],
   "source": []
  },
  {
   "cell_type": "code",
   "execution_count": null,
   "metadata": {
    "deletable": false,
    "editable": false,
    "id": "spicy_sol",
    "nbgrader": {
     "grade": true,
     "grade_id": "q1b_test",
     "locked": true,
     "points": 6,
     "schema_version": 1,
     "solution": false
    },
    "state": "read_only"
   },
   "outputs": [],
   "source": [
    "print(\"{}, at age {}, said:\\n\\n\\\"{}\\\"\".format(famous_person, favorite_number, their_quote))\n",
    "\n",
    "assert len(famous_person) > 0\n",
    "assert len(their_quote) > 0"
   ]
  },
  {
   "cell_type": "markdown",
   "metadata": {
    "nbgrader": {
     "grade": false,
     "grade_id": "q1c_prompt",
     "locked": true,
     "schema_version": 1,
     "solution": false
    },
    "state": "normal"
   },
   "source": [
    "### Part C\n",
    "\n",
    "You're working late on a homework assignment and have copied a few lines from a Wikipedia article. In your tired stupor, your copy/paste skills leave something to be desired. Rather than try to force your mouse hand to stop shaking, you figure it's easier to write a small Python program to strip out errant whitespace from your copying-pasting.\n",
    "\n",
    "**Leaving the code below as-is**, **add more code** that strips away whitespace in the variables `line1`, `line2`, and `line3`.\n",
    "\n",
    "In other words, reassign each of the three variables (keeping their names the same, and their respective content otherwise unaltered) so that the leading and trailing whitespace on both ends is removed."
   ]
  },
  {
   "cell_type": "code",
   "execution_count": null,
   "metadata": {
    "deletable": false,
    "editable": false,
    "id": "1_0_3_RO",
    "state": "read_only"
   },
   "outputs": [],
   "source": [
    "line1 = 'Python supports multiple programming paradigms, including object-oriented, imperative\\n'\n",
    "line2 = '  and functional programming or procedural styles. It features a dynamic type\\n'\n",
    "line3 = ' system and automatic memory management and has a large and comprehensive standard library.\\n '"
   ]
  },
  {
   "cell_type": "code",
   "execution_count": null,
   "metadata": {
    "deletable": false,
    "id": "1_0_3_G",
    "nbgrader": {
     "grade": false,
     "grade_id": "q1c",
     "locked": false,
     "schema_version": 1,
     "solution": true
    },
    "state": "graded"
   },
   "outputs": [],
   "source": []
  },
  {
   "cell_type": "code",
   "execution_count": null,
   "metadata": {
    "deletable": false,
    "editable": false,
    "id": "aged_sif",
    "nbgrader": {
     "grade": true,
     "grade_id": "q1c_test",
     "locked": true,
     "points": 6,
     "schema_version": 1,
     "solution": false
    },
    "state": "read_only"
   },
   "outputs": [],
   "source": [
    "assert line1[-1] != '\\n'\n",
    "assert line2[0] != line2[1] != ' '\n",
    "assert line2[-1] != '\\n'\n",
    "assert line3[0] != ' '\n",
    "assert line3[-1] != '\\n'"
   ]
  },
  {
   "cell_type": "markdown",
   "metadata": {
    "nbgrader": {
     "grade": false,
     "grade_id": "q1d_prompt",
     "locked": true,
     "schema_version": 1,
     "solution": false
    },
    "state": "normal"
   },
   "source": [
    "### Part D\n",
    "\n",
    "You discover that there are numbers in the text you'd like to be able to parse out for some math down the road. After stripping out the trailing whitespace, convert the numbers to their proper numerical form.\n",
    "\n",
    "Assign them to the variables `num1`, `num2`, and `num3` respectively."
   ]
  },
  {
   "cell_type": "code",
   "execution_count": null,
   "metadata": {
    "deletable": false,
    "editable": false,
    "id": "1_0_4_RO",
    "state": "read_only"
   },
   "outputs": [],
   "source": [
    "line1n = ' 495.59863 \\n'\n",
    "line2n = '\\t134  '\n",
    "line3n = '\\n\\t -5.4 \\t'"
   ]
  },
  {
   "cell_type": "code",
   "execution_count": null,
   "metadata": {
    "deletable": false,
    "id": "1_0_4_G",
    "nbgrader": {
     "grade": false,
     "grade_id": "q1d",
     "locked": false,
     "schema_version": 1,
     "solution": true
    },
    "state": "graded"
   },
   "outputs": [],
   "source": []
  },
  {
   "cell_type": "code",
   "execution_count": null,
   "metadata": {
    "deletable": false,
    "editable": false,
    "id": "gray_loki",
    "nbgrader": {
     "grade": true,
     "grade_id": "q1d_test",
     "locked": true,
     "points": 6,
     "schema_version": 1,
     "solution": false
    },
    "state": "read_only"
   },
   "outputs": [],
   "source": [
    "assert num1 > 495 and num1 < 496\n",
    "assert num2 == 134\n",
    "assert num3 > -6 and num3 < -5"
   ]
  },
  {
   "cell_type": "markdown",
   "metadata": {
    "nbgrader": {
     "grade": false,
     "grade_id": "q1e_prompt",
     "locked": true,
     "schema_version": 1,
     "solution": false
    },
    "state": "normal"
   },
   "source": [
    "### Part E\n",
    "\n",
    "Take the `number` below, find its square root, convert it to a string, and then assign it to a variable named `str_version`.\n",
    "\n",
    "You **must use the correct arithmetic operator for the square root, as well as the correct casting function for the string conversion**.\n",
    "\n",
    "**No imports allowed!**"
   ]
  },
  {
   "cell_type": "code",
   "execution_count": null,
   "metadata": {
    "deletable": false,
    "editable": false,
    "id": "1_0_5_RO",
    "nbgrader": {
     "grade": false,
     "grade_id": "q1e",
     "locked": false,
     "schema_version": 1,
     "solution": true
    },
    "state": "read_only"
   },
   "outputs": [],
   "source": [
    "number = 3.14159265359"
   ]
  },
  {
   "cell_type": "code",
   "execution_count": null,
   "metadata": {
    "deletable": false,
    "id": "1_0_5_G",
    "state": "graded"
   },
   "outputs": [],
   "source": []
  },
  {
   "cell_type": "code",
   "execution_count": null,
   "metadata": {
    "deletable": false,
    "editable": false,
    "id": "blue_vali",
    "nbgrader": {
     "grade": true,
     "grade_id": "q1e_test",
     "locked": true,
     "points": 6,
     "schema_version": 1,
     "solution": false
    },
    "state": "read_only"
   },
   "outputs": [],
   "source": [
    "assert str_version == \"1.7724538509055743\""
   ]
  },
  {
   "cell_type": "markdown",
   "metadata": {
    "state": "normal"
   },
   "source": [
    "# Question 2\n",
    "\n",
    "In this question, we'll dive a bit deeper into some arithmetic operations.\n",
    "\n",
    "### Part A\n",
    "\n",
    "Five numbers are given below. Keeping them in that same order, compute a single result with Python addition, multiplication, subtraction, and division, respectively.\n",
    "\n",
    "Put another way--add the first and second numbers, multiply the second and third numbers, subtract the third and fourth numbers, and divide the fourth and fifth numbers. Don't use any parentheses; let order of operations take care of things. Do this in a single statement, and store the result in the `result` variable below."
   ]
  },
  {
   "cell_type": "code",
   "execution_count": null,
   "metadata": {
    "deletable": false,
    "editable": false,
    "id": "2_0_1_RO",
    "state": "read_only"
   },
   "outputs": [],
   "source": [
    "n1 = 0.4589\n",
    "n2 = 13\n",
    "n3 = -59\n",
    "n4 = 8.43333333\n",
    "n5 = 2.1\n",
    "\n",
    "result = -1"
   ]
  },
  {
   "cell_type": "code",
   "execution_count": null,
   "metadata": {
    "deletable": false,
    "id": "2_0_1_G",
    "state": "graded"
   },
   "outputs": [],
   "source": []
  },
  {
   "cell_type": "code",
   "execution_count": null,
   "metadata": {
    "deletable": false,
    "editable": false,
    "id": "spicy_nott",
    "state": "read_only"
   },
   "outputs": [],
   "source": [
    "import numpy as np\n",
    "np.testing.assert_allclose(result, -770.5569730142857)"
   ]
  },
  {
   "cell_type": "markdown",
   "metadata": {
    "state": "normal"
   },
   "source": [
    "### Part B\n",
    "\n",
    "Using the same five numbers as before, this time use parentheses around your arithmetic operation to enforce that the *addition* and *subtraction* operations should happen before the others. Again, store your result in the variable `result`."
   ]
  },
  {
   "cell_type": "code",
   "execution_count": null,
   "metadata": {
    "deletable": false,
    "editable": false,
    "id": "2_0_2_RO",
    "state": "read_only"
   },
   "outputs": [],
   "source": [
    "n1 = 0.4589\n",
    "n2 = 13\n",
    "n3 = -59\n",
    "n4 = 8.43333333\n",
    "n5 = 2.1\n",
    "\n",
    "result = -1\n"
   ]
  },
  {
   "cell_type": "code",
   "execution_count": null,
   "metadata": {
    "deletable": false,
    "id": "2_0_2_G",
    "state": "graded"
   },
   "outputs": [],
   "source": []
  },
  {
   "cell_type": "code",
   "execution_count": null,
   "metadata": {
    "state": "normal"
   },
   "outputs": [],
   "source": [
    "import numpy as np\n",
    "np.testing.assert_allclose(result, -432.1802333119699)"
   ]
  },
  {
   "cell_type": "markdown",
   "metadata": {
    "state": "normal"
   },
   "source": [
    "### Part C\n",
    "\n",
    "Repeat the steps you took in Part B, this time casting each variable to an integer data type before performing any computation. Store your answer in the variable `result`."
   ]
  },
  {
   "cell_type": "code",
   "execution_count": null,
   "metadata": {
    "deletable": false,
    "editable": false,
    "id": "2_0_3_RO",
    "state": "read_only"
   },
   "outputs": [],
   "source": [
    "n1 = 0.4589\n",
    "n2 = 13\n",
    "n3 = -59\n",
    "n4 = 8.43333333\n",
    "n5 = 2.1\n",
    "\n",
    "result = -1\n"
   ]
  },
  {
   "cell_type": "code",
   "execution_count": null,
   "metadata": {
    "deletable": false,
    "id": "2_0_3_G",
    "state": "graded"
   },
   "outputs": [],
   "source": []
  },
  {
   "cell_type": "code",
   "execution_count": null,
   "metadata": {
    "deletable": false,
    "editable": false,
    "id": "eager_ullr",
    "state": "read_only"
   },
   "outputs": [],
   "source": [
    "assert result == -435.5"
   ]
  },
  {
   "cell_type": "markdown",
   "metadata": {
    "state": "normal"
   },
   "source": [
    "### Part D\n",
    "\n",
    "Two numbers are given below. When you perform the operation `n1 / n2`, what is the quotient? Store this quantity in the variable named `quotient`."
   ]
  },
  {
   "cell_type": "code",
   "execution_count": null,
   "metadata": {
    "deletable": false,
    "editable": false,
    "id": "2_0_4_RO",
    "state": "read_only"
   },
   "outputs": [],
   "source": [
    "n1 = 20344983945038.48374839\n",
    "n2 = 984374.783894273\n",
    "\n",
    "quotient = -1\n"
   ]
  },
  {
   "cell_type": "code",
   "execution_count": null,
   "metadata": {
    "deletable": false,
    "id": "2_0_4_G",
    "state": "graded"
   },
   "outputs": [],
   "source": []
  },
  {
   "cell_type": "code",
   "execution_count": null,
   "metadata": {
    "deletable": false,
    "editable": false,
    "id": "aged_oor",
    "state": "read_only"
   },
   "outputs": [],
   "source": [
    "import numpy as np\n",
    "np.testing.assert_allclose(quotient, 20667924.735487375)"
   ]
  },
  {
   "cell_type": "markdown",
   "metadata": {
    "state": "normal"
   },
   "source": [
    "### Part E\n",
    "\n",
    "You've seen in lecture how, when two numbers in Python are divided, their result is a float. What if you *really* wanted the output of division to be an integer? See if you can make that happen by modifying the following single line of code.\n",
    "\n",
    "(You are **not** allowed to add any numbers or additional lines of code!)"
   ]
  },
  {
   "cell_type": "code",
   "execution_count": null,
   "metadata": {
    "deletable": false,
    "editable": false,
    "id": "2_0_5_RO",
    "state": "read_only"
   },
   "outputs": [],
   "source": [
    "integer_quotient = 32 / 16"
   ]
  },
  {
   "cell_type": "code",
   "execution_count": null,
   "metadata": {
    "deletable": false,
    "id": "2_0_5_G",
    "state": "graded"
   },
   "outputs": [],
   "source": []
  },
  {
   "cell_type": "code",
   "execution_count": null,
   "metadata": {
    "deletable": false,
    "editable": false,
    "id": "sharp_boi",
    "state": "read_only"
   },
   "outputs": [],
   "source": [
    "assert type(integer_quotient) == int"
   ]
  },
  {
   "cell_type": "markdown",
   "metadata": {
    "state": "normal"
   },
   "source": [
    "# Question 3\n",
    "\n",
    "In this question, we'll focus on looping.\n",
    "\n",
    "### Part A\n",
    "\n",
    "In the question below, you'll write code that generates a new list, `reverse`, that is the same as the input list except with its elements backwards relative to the original.\n",
    "\n",
    "As an example, if the input list is `[1, 2, 3]`, the output list `reverse` should be `[3, 2, 1]`.\n",
    "\n",
    "**You have to use loops** to answer this question! `[::-1]` is a neat trick that you should definitely use, and `reversed` is a great function you should also definitely use, but you just can't use them here."
   ]
  },
  {
   "cell_type": "code",
   "execution_count": null,
   "metadata": {
    "deletable": false,
    "id": "3_0_1_G",
    "starter_code": "def reverse_list(inlist):\n    reverse = []\n    \n    ### BEGIN SOLUTION\n    \n    \n    \n    ### END SOLUTION    \n    \n    return reverse",
    "state": "graded"
   },
   "outputs": [],
   "source": [
    "def reverse_list(inlist):\n",
    "    reverse = []\n",
    "    \n",
    "    ### BEGIN SOLUTION\n",
    "    \n",
    "    iterator = len(inlist) - 1 \n",
    "    \n",
    "    while iterator >= 0:\n",
    "        \n",
    "    \n",
    "    ### END SOLUTION    \n",
    "    \n",
    "    return reverse"
   ]
  },
  {
   "cell_type": "code",
   "execution_count": null,
   "metadata": {
    "deletable": false,
    "editable": false,
    "id": "sly_sol",
    "state": "read_only"
   },
   "outputs": [],
   "source": [
    "t1 = [1, 2, 3]\n",
    "t2 = [3, 2, 1]\n",
    "assert t2 == reverse_list(t1)"
   ]
  },
  {
   "cell_type": "code",
   "execution_count": null,
   "metadata": {
    "deletable": false,
    "editable": false,
    "id": "able_var",
    "state": "read_only"
   },
   "outputs": [],
   "source": [
    "t1 = [2, 6, 52, 64, 3.4, \"something\", 3, 6.2]\n",
    "t2 = [6.2, 3, \"something\", 3.4, 64, 52, 6, 2]\n",
    "assert t1 == reverse_list(t2)"
   ]
  },
  {
   "cell_type": "markdown",
   "metadata": {
    "state": "normal"
   },
   "source": [
    "### Part B\n",
    "\n",
    "This time, you'll implement a method for computing the average value of a list of numbers. Remember how to compute an average: add up all the values, then divide that sum by the number of values you initially added together.\n",
    "\n",
    "Example Input: [2, 1, 4, 3]\n",
    "\n",
    "Example Output: 2.5\n",
    "\n",
    "Aside from `len()`, you **cannot** use built-in functions like `sum()` or import any packages to help you out. You have to write this on your own!"
   ]
  },
  {
   "cell_type": "code",
   "execution_count": null,
   "metadata": {
    "deletable": false,
    "id": "3_0_2_G",
    "starter_code": "def average(numbers):\n    avg_val = 0.0\n    \n    ### BEGIN SOLUTION\n   \n\n\n\n\n    ### END SOLUTION\n    \n    return avg_val",
    "state": "graded"
   },
   "outputs": [],
   "source": [
    "def average(numbers):\n",
    "    avg_val = 0.0\n",
    "    \n",
    "    ### BEGIN SOLUTION\n",
    "    \n",
    "    ### END SOLUTION\n",
    "    \n",
    "    return avg_val"
   ]
  },
  {
   "cell_type": "code",
   "execution_count": null,
   "metadata": {
    "deletable": false,
    "editable": false,
    "id": "big_tyr",
    "state": "read_only"
   },
   "outputs": [],
   "source": [
    "import numpy as np\n",
    "\n",
    "inlist = np.random.randint(10, 100, 10).tolist()\n",
    "np.testing.assert_allclose(average(inlist), np.mean(inlist))"
   ]
  },
  {
   "cell_type": "code",
   "execution_count": null,
   "metadata": {
    "deletable": false,
    "editable": false,
    "id": "calm_hel",
    "state": "read_only"
   },
   "outputs": [],
   "source": [
    "inlist = np.random.randint(10, 1000, 10).tolist()\n",
    "np.testing.assert_allclose(average(inlist), np.mean(inlist))"
   ]
  },
  {
   "cell_type": "markdown",
   "metadata": {
    "state": "normal"
   },
   "source": [
    "### Part C\n",
    "\n",
    "In this question, the function below `first_negative` takes a list of numbers (creatively-named `numbers`). Your goal is to write a `while` loop that searches for the **first negative number** in the list.\n",
    "\n",
    "You should set the variable `num` equal to that negative number.\n",
    "\n",
    "In this question the `numbers` list will always contain at least one negative number."
   ]
  },
  {
   "cell_type": "code",
   "execution_count": 2,
   "metadata": {
    "deletable": false,
    "id": "3_0_3_G",
    "starter_code": "def first_negative(numbers):\n    num= numbers[0]\n    ### BEGIN SOLUTION\n    \n    \n    \n    \n            \n    ### END SOLUTION\n\n    return num",
    "state": "graded"
   },
   "outputs": [],
   "source": [
    "def first_negative(numbers):\n",
    "    num= numbers[0]\n",
    "    \n",
    "    ### BEGIN SOLUTION\n",
    "            \n",
    "    ### END SOLUTION\n",
    "\n",
    "    return num"
   ]
  },
  {
   "cell_type": "code",
   "execution_count": 3,
   "metadata": {
    "deletable": false,
    "editable": false,
    "id": "tiny_vali",
    "state": "read_only"
   },
   "outputs": [],
   "source": [
    "inlist1 = [1, 4, -22, -39, 1, 8, 27, 6, 27, -12]\n",
    "a1 = -22\n",
    "assert a1 == first_negative(inlist1)"
   ]
  },
  {
   "cell_type": "code",
   "execution_count": 4,
   "metadata": {
    "deletable": false,
    "editable": false,
    "id": "sly_ran",
    "state": "read_only"
   },
   "outputs": [],
   "source": [
    "inlist2 = [-29, -1, 49, -33, 49, -40, -7, 33, 36, 41]\n",
    "a2 = -29\n",
    "assert a2 == first_negative(inlist2)"
   ]
  },
  {
   "cell_type": "code",
   "execution_count": null,
   "metadata": {},
   "outputs": [],
   "source": []
  }
 ],
 "metadata": {
  "anaconda-cloud": {},
  "celltoolbar": "Create Assignment",
  "kernelspec": {
   "display_name": "Python 3",
   "language": "python",
   "name": "python3"
  },
  "language_info": {
   "codemirror_mode": {
    "name": "ipython",
    "version": 3
   },
   "file_extension": ".py",
   "mimetype": "text/x-python",
   "name": "python",
   "nbconvert_exporter": "python",
   "pygments_lexer": "ipython3",
   "version": "3.7.3"
  },
  "mimir": {
   "data": {},
   "last_submission_id": "",
   "project_id": "00c43517-dcb1-4896-86f6-e85ba1ea3a9e"
  },
  "toc": {
   "base_numbering": 1,
   "nav_menu": {},
   "number_sections": true,
   "sideBar": true,
   "skip_h1_title": false,
   "title_cell": "Table of Contents",
   "title_sidebar": "Contents",
   "toc_cell": false,
   "toc_position": {},
   "toc_section_display": true,
   "toc_window_display": false
  },
  "varInspector": {
   "cols": {
    "lenName": 16,
    "lenType": 16,
    "lenVar": 40
   },
   "kernels_config": {
    "python": {
     "delete_cmd_postfix": "",
     "delete_cmd_prefix": "del ",
     "library": "var_list.py",
     "varRefreshCmd": "print(var_dic_list())"
    },
    "r": {
     "delete_cmd_postfix": ") ",
     "delete_cmd_prefix": "rm(",
     "library": "var_list.r",
     "varRefreshCmd": "cat(var_dic_list()) "
    }
   },
   "types_to_exclude": [
    "module",
    "function",
    "builtin_function_or_method",
    "instance",
    "_Feature"
   ],
   "window_display": false
  }
 },
 "nbformat": 4,
 "nbformat_minor": 1
}
